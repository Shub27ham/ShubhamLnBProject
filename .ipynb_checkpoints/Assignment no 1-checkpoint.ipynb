{
 "cells": [
  {
   "cell_type": "markdown",
   "id": "c183c8ca",
   "metadata": {},
   "source": [
    "# Calculator"
   ]
  },
  {
   "cell_type": "code",
   "execution_count": 1,
   "id": "1fc6939d",
   "metadata": {},
   "outputs": [
    {
     "name": "stdout",
     "output_type": "stream",
     "text": [
      "enter the number to add: 52\n"
     ]
    }
   ],
   "source": [
    "p =int(input(\"enter the number to add: \"))"
   ]
  },
  {
   "cell_type": "code",
   "execution_count": 2,
   "id": "c9ee5b07",
   "metadata": {},
   "outputs": [
    {
     "name": "stdout",
     "output_type": "stream",
     "text": [
      "second no is:4\n"
     ]
    }
   ],
   "source": [
    "q =int(input(\"second no is:\"))"
   ]
  },
  {
   "cell_type": "code",
   "execution_count": 3,
   "id": "596bf867",
   "metadata": {},
   "outputs": [
    {
     "name": "stdout",
     "output_type": "stream",
     "text": [
      "third no is:15.6\n"
     ]
    }
   ],
   "source": [
    "r = float(input(\"third no is:\"))"
   ]
  },
  {
   "cell_type": "markdown",
   "id": "3dc8dbc7",
   "metadata": {},
   "source": [
    "### 1. Summation"
   ]
  },
  {
   "cell_type": "code",
   "execution_count": 4,
   "id": "0b73284d",
   "metadata": {},
   "outputs": [
    {
     "name": "stdout",
     "output_type": "stream",
     "text": [
      "sum of the number is: 56\n"
     ]
    }
   ],
   "source": [
    "print(\"sum of the number is:\", p+q)"
   ]
  },
  {
   "cell_type": "code",
   "execution_count": 5,
   "id": "aeb646b5",
   "metadata": {},
   "outputs": [
    {
     "name": "stdout",
     "output_type": "stream",
     "text": [
      "sum of the number is: 67.6\n"
     ]
    }
   ],
   "source": [
    "print(\"sum of the number is:\", p+r)"
   ]
  },
  {
   "cell_type": "code",
   "execution_count": 6,
   "id": "b67dd3b4",
   "metadata": {},
   "outputs": [
    {
     "name": "stdout",
     "output_type": "stream",
     "text": [
      "sum of the number is: 19.6\n"
     ]
    }
   ],
   "source": [
    "print(\"sum of the number is:\", r+q)"
   ]
  },
  {
   "cell_type": "markdown",
   "id": "6af8247c",
   "metadata": {},
   "source": [
    "### 2. Subtraction"
   ]
  },
  {
   "cell_type": "code",
   "execution_count": 7,
   "id": "c20ccdb6",
   "metadata": {},
   "outputs": [
    {
     "name": "stdout",
     "output_type": "stream",
     "text": [
      "subtraction of the number is: 48\n"
     ]
    }
   ],
   "source": [
    "print(\"subtraction of the number is:\", p-q)"
   ]
  },
  {
   "cell_type": "code",
   "execution_count": 8,
   "id": "299b9573",
   "metadata": {},
   "outputs": [
    {
     "name": "stdout",
     "output_type": "stream",
     "text": [
      "subtraction of the number is: 36.4\n"
     ]
    }
   ],
   "source": [
    "print(\"subtraction of the number is:\", p-r)"
   ]
  },
  {
   "cell_type": "code",
   "execution_count": 9,
   "id": "e88a004d",
   "metadata": {},
   "outputs": [
    {
     "name": "stdout",
     "output_type": "stream",
     "text": [
      "subtraction of the number is: -11.6\n"
     ]
    }
   ],
   "source": [
    "print(\"subtraction of the number is:\", q-r)"
   ]
  },
  {
   "cell_type": "markdown",
   "id": "b12f23ff",
   "metadata": {},
   "source": [
    "### 3. Multiplication"
   ]
  },
  {
   "cell_type": "code",
   "execution_count": 10,
   "id": "0321e4d6",
   "metadata": {},
   "outputs": [
    {
     "name": "stdout",
     "output_type": "stream",
     "text": [
      "multiplication of the number is: 208\n"
     ]
    }
   ],
   "source": [
    "print(\"multiplication of the number is:\", p*q)"
   ]
  },
  {
   "cell_type": "code",
   "execution_count": 11,
   "id": "6c7cd938",
   "metadata": {},
   "outputs": [
    {
     "name": "stdout",
     "output_type": "stream",
     "text": [
      "multiplication of the number is: 811.1999999999999\n"
     ]
    }
   ],
   "source": [
    "print(\"multiplication of the number is:\", p*r)"
   ]
  },
  {
   "cell_type": "code",
   "execution_count": 12,
   "id": "1b6d3ec2",
   "metadata": {},
   "outputs": [
    {
     "name": "stdout",
     "output_type": "stream",
     "text": [
      "multiplication of the number is: 62.4\n"
     ]
    }
   ],
   "source": [
    "print(\"multiplication of the number is:\", r*q)"
   ]
  },
  {
   "cell_type": "markdown",
   "id": "1a61db37",
   "metadata": {},
   "source": [
    "### 4. Division"
   ]
  },
  {
   "cell_type": "code",
   "execution_count": 13,
   "id": "270d18ee",
   "metadata": {},
   "outputs": [
    {
     "name": "stdout",
     "output_type": "stream",
     "text": [
      "devision of the number is: 13.0\n"
     ]
    }
   ],
   "source": [
    "print(\"devision of the number is:\", p/q)"
   ]
  },
  {
   "cell_type": "code",
   "execution_count": 14,
   "id": "f49461f7",
   "metadata": {},
   "outputs": [
    {
     "name": "stdout",
     "output_type": "stream",
     "text": [
      "devision of the number is: 0.25641025641025644\n"
     ]
    }
   ],
   "source": [
    "print(\"devision of the number is:\", q/r)"
   ]
  },
  {
   "cell_type": "code",
   "execution_count": 15,
   "id": "244862cc",
   "metadata": {},
   "outputs": [
    {
     "name": "stdout",
     "output_type": "stream",
     "text": [
      "devision of the number is: 3.3333333333333335\n"
     ]
    }
   ],
   "source": [
    "print(\"devision of the number is:\", p/r)"
   ]
  },
  {
   "cell_type": "markdown",
   "id": "98d7bf0d",
   "metadata": {},
   "source": [
    "### 5. Average"
   ]
  },
  {
   "cell_type": "code",
   "execution_count": 16,
   "id": "6bf6bd7c",
   "metadata": {},
   "outputs": [
    {
     "name": "stdout",
     "output_type": "stream",
     "text": [
      "average of three number is: 23.866666666666664\n"
     ]
    }
   ],
   "source": [
    "print(\"average of three number is:\", (p+q+r)/3)"
   ]
  },
  {
   "cell_type": "code",
   "execution_count": 17,
   "id": "e84b4560",
   "metadata": {},
   "outputs": [
    {
     "name": "stdout",
     "output_type": "stream",
     "text": [
      "average of three number is: 24\n"
     ]
    }
   ],
   "source": [
    "print(\"average of three number is:\", round((p+q+r)/3))"
   ]
  },
  {
   "cell_type": "markdown",
   "id": "404f3c9d",
   "metadata": {},
   "source": [
    "### 6. Remainder"
   ]
  },
  {
   "cell_type": "code",
   "execution_count": 18,
   "id": "6007257d",
   "metadata": {},
   "outputs": [
    {
     "name": "stdout",
     "output_type": "stream",
     "text": [
      "remainder of the number is: 0\n"
     ]
    }
   ],
   "source": [
    "print(\"remainder of the number is:\", p%q)"
   ]
  },
  {
   "cell_type": "code",
   "execution_count": 19,
   "id": "87db3789",
   "metadata": {},
   "outputs": [
    {
     "name": "stdout",
     "output_type": "stream",
     "text": [
      "remainder of the number is: 5.200000000000001\n"
     ]
    }
   ],
   "source": [
    "print(\"remainder of the number is:\", p%r)"
   ]
  },
  {
   "cell_type": "code",
   "execution_count": 20,
   "id": "069bae1e",
   "metadata": {},
   "outputs": [
    {
     "name": "stdout",
     "output_type": "stream",
     "text": [
      "remainder of the number is: 4.0\n"
     ]
    }
   ],
   "source": [
    "print(\"remainder of the number is:\", q%r)"
   ]
  },
  {
   "cell_type": "markdown",
   "id": "49b65b11",
   "metadata": {},
   "source": [
    "### 7. Ceil calculation"
   ]
  },
  {
   "cell_type": "code",
   "execution_count": 21,
   "id": "fbe580cc",
   "metadata": {},
   "outputs": [
    {
     "name": "stdout",
     "output_type": "stream",
     "text": [
      "ceil value of the number is: 13\n"
     ]
    }
   ],
   "source": [
    "print(\"ceil value of the number is:\", -(-p//q))"
   ]
  },
  {
   "cell_type": "code",
   "execution_count": 22,
   "id": "6cd0b014",
   "metadata": {},
   "outputs": [
    {
     "name": "stdout",
     "output_type": "stream",
     "text": [
      "ceil value of the number is: 4.0\n"
     ]
    }
   ],
   "source": [
    "print(\"ceil value of the number is:\", -(-p//r))"
   ]
  },
  {
   "cell_type": "code",
   "execution_count": 23,
   "id": "041e7331",
   "metadata": {},
   "outputs": [
    {
     "name": "stdout",
     "output_type": "stream",
     "text": [
      "ceil value of the number is: 1.0\n"
     ]
    }
   ],
   "source": [
    "print(\"ceil value of the number is:\", -(-q//r))"
   ]
  },
  {
   "cell_type": "code",
   "execution_count": 24,
   "id": "6d829816",
   "metadata": {},
   "outputs": [
    {
     "name": "stdout",
     "output_type": "stream",
     "text": [
      "ceil value of the number is: 1.0\n"
     ]
    }
   ],
   "source": [
    "print(\"ceil value of the number is:\", -(-r//p))"
   ]
  },
  {
   "cell_type": "code",
   "execution_count": 25,
   "id": "75dcc034",
   "metadata": {},
   "outputs": [
    {
     "name": "stdout",
     "output_type": "stream",
     "text": [
      "ceil value of the number is: 1\n"
     ]
    }
   ],
   "source": [
    "print(\"ceil value of the number is:\", -(-q//p))"
   ]
  },
  {
   "cell_type": "markdown",
   "id": "f2c0c42d",
   "metadata": {},
   "source": [
    "### Floor Calculation"
   ]
  },
  {
   "cell_type": "code",
   "execution_count": 27,
   "id": "a674e7a8",
   "metadata": {},
   "outputs": [
    {
     "name": "stdout",
     "output_type": "stream",
     "text": [
      "Floor value of the number is: 13\n"
     ]
    }
   ],
   "source": [
    "print(\"Floor value of the number is:\", p//q)"
   ]
  },
  {
   "cell_type": "code",
   "execution_count": 28,
   "id": "30796205",
   "metadata": {},
   "outputs": [
    {
     "name": "stdout",
     "output_type": "stream",
     "text": [
      "Floor value of the number is: 3.0\n"
     ]
    }
   ],
   "source": [
    "print(\"Floor value of the number is:\", p//r)"
   ]
  },
  {
   "cell_type": "code",
   "execution_count": 29,
   "id": "ba0a8424",
   "metadata": {},
   "outputs": [
    {
     "name": "stdout",
     "output_type": "stream",
     "text": [
      "Floor value of the number is: 0.0\n"
     ]
    }
   ],
   "source": [
    "print(\"Floor value of the number is:\", q//r)"
   ]
  },
  {
   "cell_type": "code",
   "execution_count": 30,
   "id": "5f8fcf6d",
   "metadata": {},
   "outputs": [
    {
     "name": "stdout",
     "output_type": "stream",
     "text": [
      "Floor value of the number is: 0.0\n"
     ]
    }
   ],
   "source": [
    "print(\"Floor value of the number is:\", r//p)"
   ]
  },
  {
   "cell_type": "code",
   "execution_count": 31,
   "id": "18b25920",
   "metadata": {},
   "outputs": [
    {
     "name": "stdout",
     "output_type": "stream",
     "text": [
      "Floor value of the number is: 0\n"
     ]
    }
   ],
   "source": [
    "print(\"Floor value of the number is:\", q//p)"
   ]
  },
  {
   "cell_type": "code",
   "execution_count": null,
   "id": "94a81fd4",
   "metadata": {},
   "outputs": [],
   "source": []
  }
 ],
 "metadata": {
  "kernelspec": {
   "display_name": "Python 3",
   "language": "python",
   "name": "python3"
  },
  "language_info": {
   "codemirror_mode": {
    "name": "ipython",
    "version": 3
   },
   "file_extension": ".py",
   "mimetype": "text/x-python",
   "name": "python",
   "nbconvert_exporter": "python",
   "pygments_lexer": "ipython3",
   "version": "3.8.8"
  }
 },
 "nbformat": 4,
 "nbformat_minor": 5
}
