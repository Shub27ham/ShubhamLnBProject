{
 "cells": [
  {
   "cell_type": "code",
   "execution_count": 1,
   "id": "9dc4327a",
   "metadata": {},
   "outputs": [],
   "source": [
    "import csv"
   ]
  },
  {
   "cell_type": "code",
   "execution_count": 2,
   "id": "332f75d8",
   "metadata": {},
   "outputs": [],
   "source": [
    "import numpy as np"
   ]
  },
  {
   "cell_type": "code",
   "execution_count": 3,
   "id": "6d5028e2",
   "metadata": {},
   "outputs": [],
   "source": [
    "data = []"
   ]
  },
  {
   "cell_type": "code",
   "execution_count": 4,
   "id": "af16510e",
   "metadata": {},
   "outputs": [],
   "source": [
    "with open(\"SampleTemperature Sheet - Sheet1.csv\", 'r') as x:\n",
    "    data = list(csv.reader(x, delimiter=\",\"))"
   ]
  },
  {
   "cell_type": "markdown",
   "id": "970bf805",
   "metadata": {},
   "source": [
    "### 1. Data representation in appropriate Numpy"
   ]
  },
  {
   "cell_type": "code",
   "execution_count": 5,
   "id": "7150abf7",
   "metadata": {},
   "outputs": [],
   "source": [
    "#Filling the missing values with suitable terms using masking"
   ]
  },
  {
   "cell_type": "code",
   "execution_count": 6,
   "id": "178006c1",
   "metadata": {},
   "outputs": [
    {
     "data": {
      "text/plain": [
       "array([['Month', 'Week', 'Monday', '', 'Tuesday', '', 'Wednesday', '',\n",
       "        'Thursday', '', 'Friday', '', 'Saturday', '', 'Sunday', ''],\n",
       "       ['', '', 'Min Temp', 'Max Temp', 'Min Temp', 'Max Temp',\n",
       "        'Min Temp', 'Max Temp', 'Min Temp', 'Max Temp', 'Min Temp',\n",
       "        'Max Temp', 'Min Temp', 'Max Temp', 'Min Temp', 'Max Temp'],\n",
       "       ['November', 'Week 1', '8', '21', '11', '20', '12', '30', '15',\n",
       "        '20', '11', '31', '14', '20', '8', '26'],\n",
       "       ['', 'Week 2', '9', '21', '9', '23', '14', '21', '-13', '23',\n",
       "        '11', '23', '10', '26', '6', '27'],\n",
       "       ['', 'Week 3', '9', '32', '15', '22', '13', '21', '13', '28', '6',\n",
       "        '26', '15', '24', '12', '29'],\n",
       "       ['', 'Week 4', '13', '26', '6', '28', '15', '20', '9', '30', '13',\n",
       "        '31', '7', '32', '15', '27'],\n",
       "       ['December', 'Week 1', '7', '32', '11', '31', '8', '27', '11',\n",
       "        '25', '10', '31', '6', '24', '6', '31'],\n",
       "       ['', 'Week 2', '11', '28', '11', '25', '12', '23', '13', '23',\n",
       "        '6', '25', '14', '25', '14', '26'],\n",
       "       ['', 'Week 3', '8', '30', '12', '32', '6', '30', '11', '28', '11',\n",
       "        '27', '15', '26', '8', '20'],\n",
       "       ['', 'Week 4', '11', '29', '11', '27', '12', '28', '10', '22',\n",
       "        '11', '21', '12', '27', '10', '28'],\n",
       "       ['January', 'Week 1', '3', '19', '8', '22', '7', '18', '7', '22',\n",
       "        '3', '19', '6', '8', '20', '7'],\n",
       "       ['', 'Week 2', '5', '18', '8', '19', '7', '18', '6', '19', '5',\n",
       "        '18', '7', '6', '20', '5'],\n",
       "       ['', 'Week 3', '2', '22', '7', '19', '4', '22', '2', '21', '8',\n",
       "        '22', '4', '2', '21', '2'],\n",
       "       ['', 'Week 4', '4', '22', '6', '18', '8', '22', '5', '18', '3',\n",
       "        '22', '4', '8', '18', '7'],\n",
       "       ['February', 'Week 1', '10', '18', '9', '20', '-10', '21', '11',\n",
       "        '20', '12', '19', '12', '71', '22', '7'],\n",
       "       ['', 'Week 2', '11', '18', '8', '21', '11', '22', '7', '19', '12',\n",
       "        '19', '11', '8', '20', '8'],\n",
       "       ['', 'Week 3', '12', '21', '10', '22', '7', '18', '8', '19', '9',\n",
       "        '22', '7', '11', '18', '11'],\n",
       "       ['', 'Week 4', '10', '22', '9', '18', '7', '19', '11', '18', '7',\n",
       "        '21', '11', '7', '18', '12']], dtype='<U9')"
      ]
     },
     "metadata": {},
     "output_type": "display_data"
    }
   ],
   "source": [
    "data = np.array(data)\n",
    "display(data)"
   ]
  },
  {
   "cell_type": "code",
   "execution_count": 7,
   "id": "01a7fdbd",
   "metadata": {},
   "outputs": [],
   "source": [
    "Index = data[0:2,:]"
   ]
  },
  {
   "cell_type": "code",
   "execution_count": 8,
   "id": "1f54732e",
   "metadata": {},
   "outputs": [
    {
     "data": {
      "text/plain": [
       "array([['Month', 'Week', 'Monday', '', 'Tuesday', '', 'Wednesday', '',\n",
       "        'Thursday', '', 'Friday', '', 'Saturday', '', 'Sunday', ''],\n",
       "       ['', '', 'Min Temp', 'Max Temp', 'Min Temp', 'Max Temp',\n",
       "        'Min Temp', 'Max Temp', 'Min Temp', 'Max Temp', 'Min Temp',\n",
       "        'Max Temp', 'Min Temp', 'Max Temp', 'Min Temp', 'Max Temp']],\n",
       "      dtype='<U9')"
      ]
     },
     "execution_count": 8,
     "metadata": {},
     "output_type": "execute_result"
    }
   ],
   "source": [
    "Index"
   ]
  },
  {
   "cell_type": "code",
   "execution_count": 9,
   "id": "e0599b44",
   "metadata": {},
   "outputs": [
    {
     "data": {
      "text/plain": [
       "array([['Month', 'Week', 'Monday', 'Monday', 'Tuesday', 'Tuesday',\n",
       "        'Wednesday', 'Wednesday', 'Thursday', 'Thursday', 'Friday',\n",
       "        'Friday', 'Saturday', 'Saturday', 'Sunday', 'Sunday'],\n",
       "       ['Month', 'Week', 'Min Temp', 'Max Temp', 'Min Temp', 'Max Temp',\n",
       "        'Min Temp', 'Max Temp', 'Min Temp', 'Max Temp', 'Min Temp',\n",
       "        'Max Temp', 'Min Temp', 'Max Temp', 'Min Temp', 'Max Temp']],\n",
       "      dtype='<U9')"
      ]
     },
     "execution_count": 9,
     "metadata": {},
     "output_type": "execute_result"
    }
   ],
   "source": [
    "Index[0,3] = 'Monday'\n",
    "Index[0,5] = 'Tuesday'\n",
    "Index[0,7] = 'Wednesday'\n",
    "Index[0,9] = 'Thursday'\n",
    "Index[0,11] = 'Friday'\n",
    "Index[0,13] = 'Saturday'\n",
    "Index[0,15] = 'Sunday'\n",
    "Index[1,0] = 'Month'\n",
    "Index[1,1] = 'Week'\n",
    "Index"
   ]
  },
  {
   "cell_type": "code",
   "execution_count": 10,
   "id": "7448df1e",
   "metadata": {},
   "outputs": [
    {
     "data": {
      "text/plain": [
       "array([['November', 'Week 1', '8', '21', '11', '20', '12', '30', '15',\n",
       "        '20', '11', '31', '14', '20', '8', '26'],\n",
       "       ['', 'Week 2', '9', '21', '9', '23', '14', '21', '-13', '23',\n",
       "        '11', '23', '10', '26', '6', '27'],\n",
       "       ['', 'Week 3', '9', '32', '15', '22', '13', '21', '13', '28', '6',\n",
       "        '26', '15', '24', '12', '29'],\n",
       "       ['', 'Week 4', '13', '26', '6', '28', '15', '20', '9', '30', '13',\n",
       "        '31', '7', '32', '15', '27']], dtype='<U9')"
      ]
     },
     "execution_count": 10,
     "metadata": {},
     "output_type": "execute_result"
    }
   ],
   "source": [
    "Nov_data = data[2:6,0:]\n",
    "Nov_data"
   ]
  },
  {
   "cell_type": "code",
   "execution_count": 11,
   "id": "22c91efe",
   "metadata": {},
   "outputs": [
    {
     "data": {
      "text/plain": [
       "(4, 16)"
      ]
     },
     "execution_count": 11,
     "metadata": {},
     "output_type": "execute_result"
    }
   ],
   "source": [
    "Nov_data.shape"
   ]
  },
  {
   "cell_type": "code",
   "execution_count": 12,
   "id": "8326111a",
   "metadata": {},
   "outputs": [],
   "source": [
    "Nov_data[1:4,0] = 'November'"
   ]
  },
  {
   "cell_type": "code",
   "execution_count": 13,
   "id": "9ac44398",
   "metadata": {},
   "outputs": [
    {
     "data": {
      "text/plain": [
       "array([['November', 'Week 1', '8', '21', '11', '20', '12', '30', '15',\n",
       "        '20', '11', '31', '14', '20', '8', '26'],\n",
       "       ['November', 'Week 2', '9', '21', '9', '23', '14', '21', '-13',\n",
       "        '23', '11', '23', '10', '26', '6', '27'],\n",
       "       ['November', 'Week 3', '9', '32', '15', '22', '13', '21', '13',\n",
       "        '28', '6', '26', '15', '24', '12', '29'],\n",
       "       ['November', 'Week 4', '13', '26', '6', '28', '15', '20', '9',\n",
       "        '30', '13', '31', '7', '32', '15', '27']], dtype='<U9')"
      ]
     },
     "execution_count": 13,
     "metadata": {},
     "output_type": "execute_result"
    }
   ],
   "source": [
    "Nov_data"
   ]
  },
  {
   "cell_type": "code",
   "execution_count": 14,
   "id": "bd5ad6e2",
   "metadata": {},
   "outputs": [
    {
     "data": {
      "text/plain": [
       "array([['December', 'Week 1', '7', '32', '11', '31', '8', '27', '11',\n",
       "        '25', '10', '31', '6', '24', '6', '31'],\n",
       "       ['', 'Week 2', '11', '28', '11', '25', '12', '23', '13', '23',\n",
       "        '6', '25', '14', '25', '14', '26'],\n",
       "       ['', 'Week 3', '8', '30', '12', '32', '6', '30', '11', '28', '11',\n",
       "        '27', '15', '26', '8', '20'],\n",
       "       ['', 'Week 4', '11', '29', '11', '27', '12', '28', '10', '22',\n",
       "        '11', '21', '12', '27', '10', '28']], dtype='<U9')"
      ]
     },
     "execution_count": 14,
     "metadata": {},
     "output_type": "execute_result"
    }
   ],
   "source": [
    "Dec_data = data[6:10,0:]\n",
    "Dec_data"
   ]
  },
  {
   "cell_type": "code",
   "execution_count": 15,
   "id": "dcdeaa6c",
   "metadata": {},
   "outputs": [],
   "source": [
    "Dec_data[1:4,0] = 'December'"
   ]
  },
  {
   "cell_type": "code",
   "execution_count": 16,
   "id": "41e18383",
   "metadata": {},
   "outputs": [
    {
     "data": {
      "text/plain": [
       "array([['December', 'Week 1', '7', '32', '11', '31', '8', '27', '11',\n",
       "        '25', '10', '31', '6', '24', '6', '31'],\n",
       "       ['December', 'Week 2', '11', '28', '11', '25', '12', '23', '13',\n",
       "        '23', '6', '25', '14', '25', '14', '26'],\n",
       "       ['December', 'Week 3', '8', '30', '12', '32', '6', '30', '11',\n",
       "        '28', '11', '27', '15', '26', '8', '20'],\n",
       "       ['December', 'Week 4', '11', '29', '11', '27', '12', '28', '10',\n",
       "        '22', '11', '21', '12', '27', '10', '28']], dtype='<U9')"
      ]
     },
     "execution_count": 16,
     "metadata": {},
     "output_type": "execute_result"
    }
   ],
   "source": [
    "Dec_data"
   ]
  },
  {
   "cell_type": "code",
   "execution_count": 17,
   "id": "24203e0d",
   "metadata": {},
   "outputs": [
    {
     "data": {
      "text/plain": [
       "array([['January', 'Week 1', '3', '19', '8', '22', '7', '18', '7', '22',\n",
       "        '3', '19', '6', '8', '20', '7'],\n",
       "       ['', 'Week 2', '5', '18', '8', '19', '7', '18', '6', '19', '5',\n",
       "        '18', '7', '6', '20', '5'],\n",
       "       ['', 'Week 3', '2', '22', '7', '19', '4', '22', '2', '21', '8',\n",
       "        '22', '4', '2', '21', '2'],\n",
       "       ['', 'Week 4', '4', '22', '6', '18', '8', '22', '5', '18', '3',\n",
       "        '22', '4', '8', '18', '7']], dtype='<U9')"
      ]
     },
     "execution_count": 17,
     "metadata": {},
     "output_type": "execute_result"
    }
   ],
   "source": [
    "Jan_data = data[10:14,0:]\n",
    "Jan_data"
   ]
  },
  {
   "cell_type": "code",
   "execution_count": 18,
   "id": "6631fc8b",
   "metadata": {},
   "outputs": [
    {
     "data": {
      "text/plain": [
       "array([['January', 'Week 1', '3', '19', '8', '22', '7', '18', '7', '22',\n",
       "        '3', '19', '6', '8', '20', '7'],\n",
       "       ['January', 'Week 2', '5', '18', '8', '19', '7', '18', '6', '19',\n",
       "        '5', '18', '7', '6', '20', '5'],\n",
       "       ['January', 'Week 3', '2', '22', '7', '19', '4', '22', '2', '21',\n",
       "        '8', '22', '4', '2', '21', '2'],\n",
       "       ['January', 'Week 4', '4', '22', '6', '18', '8', '22', '5', '18',\n",
       "        '3', '22', '4', '8', '18', '7']], dtype='<U9')"
      ]
     },
     "execution_count": 18,
     "metadata": {},
     "output_type": "execute_result"
    }
   ],
   "source": [
    "Jan_data[1:4,0] = 'January'\n",
    "Jan_data"
   ]
  },
  {
   "cell_type": "code",
   "execution_count": 19,
   "id": "2118d070",
   "metadata": {},
   "outputs": [
    {
     "data": {
      "text/plain": [
       "array([['February', 'Week 1', '10', '18', '9', '20', '-10', '21', '11',\n",
       "        '20', '12', '19', '12', '71', '22', '7'],\n",
       "       ['', 'Week 2', '11', '18', '8', '21', '11', '22', '7', '19', '12',\n",
       "        '19', '11', '8', '20', '8'],\n",
       "       ['', 'Week 3', '12', '21', '10', '22', '7', '18', '8', '19', '9',\n",
       "        '22', '7', '11', '18', '11'],\n",
       "       ['', 'Week 4', '10', '22', '9', '18', '7', '19', '11', '18', '7',\n",
       "        '21', '11', '7', '18', '12']], dtype='<U9')"
      ]
     },
     "execution_count": 19,
     "metadata": {},
     "output_type": "execute_result"
    }
   ],
   "source": [
    "Feb_data = data[14:18,0:]\n",
    "Feb_data"
   ]
  },
  {
   "cell_type": "code",
   "execution_count": 20,
   "id": "69cff0ff",
   "metadata": {},
   "outputs": [
    {
     "data": {
      "text/plain": [
       "array([['February', 'Week 1', '10', '18', '9', '20', '-10', '21', '11',\n",
       "        '20', '12', '19', '12', '71', '22', '7'],\n",
       "       ['Febuary', 'Week 2', '11', '18', '8', '21', '11', '22', '7',\n",
       "        '19', '12', '19', '11', '8', '20', '8'],\n",
       "       ['Febuary', 'Week 3', '12', '21', '10', '22', '7', '18', '8',\n",
       "        '19', '9', '22', '7', '11', '18', '11'],\n",
       "       ['Febuary', 'Week 4', '10', '22', '9', '18', '7', '19', '11',\n",
       "        '18', '7', '21', '11', '7', '18', '12']], dtype='<U9')"
      ]
     },
     "execution_count": 20,
     "metadata": {},
     "output_type": "execute_result"
    }
   ],
   "source": [
    "Feb_data[1:4,0] = 'Febuary'\n",
    "Feb_data"
   ]
  },
  {
   "cell_type": "code",
   "execution_count": 21,
   "id": "ea715ac9",
   "metadata": {},
   "outputs": [],
   "source": [
    "final_data = np.vstack(((((Index,Nov_data,Dec_data,Jan_data,Feb_data)))))"
   ]
  },
  {
   "cell_type": "code",
   "execution_count": 22,
   "id": "da540b76",
   "metadata": {},
   "outputs": [
    {
     "data": {
      "text/plain": [
       "array([['Month', 'Week', 'Monday', 'Monday', 'Tuesday', 'Tuesday',\n",
       "        'Wednesday', 'Wednesday', 'Thursday', 'Thursday', 'Friday',\n",
       "        'Friday', 'Saturday', 'Saturday', 'Sunday', 'Sunday'],\n",
       "       ['Month', 'Week', 'Min Temp', 'Max Temp', 'Min Temp', 'Max Temp',\n",
       "        'Min Temp', 'Max Temp', 'Min Temp', 'Max Temp', 'Min Temp',\n",
       "        'Max Temp', 'Min Temp', 'Max Temp', 'Min Temp', 'Max Temp'],\n",
       "       ['November', 'Week 1', '8', '21', '11', '20', '12', '30', '15',\n",
       "        '20', '11', '31', '14', '20', '8', '26'],\n",
       "       ['November', 'Week 2', '9', '21', '9', '23', '14', '21', '-13',\n",
       "        '23', '11', '23', '10', '26', '6', '27'],\n",
       "       ['November', 'Week 3', '9', '32', '15', '22', '13', '21', '13',\n",
       "        '28', '6', '26', '15', '24', '12', '29'],\n",
       "       ['November', 'Week 4', '13', '26', '6', '28', '15', '20', '9',\n",
       "        '30', '13', '31', '7', '32', '15', '27'],\n",
       "       ['December', 'Week 1', '7', '32', '11', '31', '8', '27', '11',\n",
       "        '25', '10', '31', '6', '24', '6', '31'],\n",
       "       ['December', 'Week 2', '11', '28', '11', '25', '12', '23', '13',\n",
       "        '23', '6', '25', '14', '25', '14', '26'],\n",
       "       ['December', 'Week 3', '8', '30', '12', '32', '6', '30', '11',\n",
       "        '28', '11', '27', '15', '26', '8', '20'],\n",
       "       ['December', 'Week 4', '11', '29', '11', '27', '12', '28', '10',\n",
       "        '22', '11', '21', '12', '27', '10', '28'],\n",
       "       ['January', 'Week 1', '3', '19', '8', '22', '7', '18', '7', '22',\n",
       "        '3', '19', '6', '8', '20', '7'],\n",
       "       ['January', 'Week 2', '5', '18', '8', '19', '7', '18', '6', '19',\n",
       "        '5', '18', '7', '6', '20', '5'],\n",
       "       ['January', 'Week 3', '2', '22', '7', '19', '4', '22', '2', '21',\n",
       "        '8', '22', '4', '2', '21', '2'],\n",
       "       ['January', 'Week 4', '4', '22', '6', '18', '8', '22', '5', '18',\n",
       "        '3', '22', '4', '8', '18', '7'],\n",
       "       ['February', 'Week 1', '10', '18', '9', '20', '-10', '21', '11',\n",
       "        '20', '12', '19', '12', '71', '22', '7'],\n",
       "       ['Febuary', 'Week 2', '11', '18', '8', '21', '11', '22', '7',\n",
       "        '19', '12', '19', '11', '8', '20', '8'],\n",
       "       ['Febuary', 'Week 3', '12', '21', '10', '22', '7', '18', '8',\n",
       "        '19', '9', '22', '7', '11', '18', '11'],\n",
       "       ['Febuary', 'Week 4', '10', '22', '9', '18', '7', '19', '11',\n",
       "        '18', '7', '21', '11', '7', '18', '12']], dtype='<U9')"
      ]
     },
     "execution_count": 22,
     "metadata": {},
     "output_type": "execute_result"
    }
   ],
   "source": [
    "final_data"
   ]
  },
  {
   "cell_type": "markdown",
   "id": "08611a78",
   "metadata": {},
   "source": [
    "### 2. Dimensions and shape of the array"
   ]
  },
  {
   "cell_type": "code",
   "execution_count": 23,
   "id": "ca0264cf",
   "metadata": {},
   "outputs": [
    {
     "data": {
      "text/plain": [
       "(18, 16)"
      ]
     },
     "execution_count": 23,
     "metadata": {},
     "output_type": "execute_result"
    }
   ],
   "source": [
    "data.shape #shape of array"
   ]
  },
  {
   "cell_type": "code",
   "execution_count": 24,
   "id": "48ec38b4",
   "metadata": {},
   "outputs": [
    {
     "data": {
      "text/plain": [
       "numpy.str_"
      ]
     },
     "execution_count": 24,
     "metadata": {},
     "output_type": "execute_result"
    }
   ],
   "source": [
    "data.dtype.type"
   ]
  },
  {
   "cell_type": "code",
   "execution_count": 25,
   "id": "c88469f8",
   "metadata": {},
   "outputs": [
    {
     "data": {
      "text/plain": [
       "2"
      ]
     },
     "execution_count": 25,
     "metadata": {},
     "output_type": "execute_result"
    }
   ],
   "source": [
    "data.ndim #dimension of array"
   ]
  },
  {
   "cell_type": "markdown",
   "id": "a041b022",
   "metadata": {},
   "source": [
    "### 3. The daily temperatures for the first week of each month"
   ]
  },
  {
   "cell_type": "code",
   "execution_count": 26,
   "id": "f02f403d",
   "metadata": {},
   "outputs": [
    {
     "data": {
      "text/plain": [
       "array([['November', 'Week 1', '8', '21', '11', '20', '12', '30', '15',\n",
       "        '20', '11', '31', '14', '20', '8', '26'],\n",
       "       ['November', 'Week 2', '9', '21', '9', '23', '14', '21', '-13',\n",
       "        '23', '11', '23', '10', '26', '6', '27'],\n",
       "       ['November', 'Week 3', '9', '32', '15', '22', '13', '21', '13',\n",
       "        '28', '6', '26', '15', '24', '12', '29'],\n",
       "       ['November', 'Week 4', '13', '26', '6', '28', '15', '20', '9',\n",
       "        '30', '13', '31', '7', '32', '15', '27']], dtype='<U9')"
      ]
     },
     "execution_count": 26,
     "metadata": {},
     "output_type": "execute_result"
    }
   ],
   "source": [
    "Nov_data #first print the nov month data"
   ]
  },
  {
   "cell_type": "code",
   "execution_count": 27,
   "id": "e0a991db",
   "metadata": {},
   "outputs": [],
   "source": [
    "Nov_Week1_max = Nov_data[0,2:].astype(int) #then select the first week on nov month"
   ]
  },
  {
   "cell_type": "code",
   "execution_count": 28,
   "id": "7d112325",
   "metadata": {},
   "outputs": [
    {
     "data": {
      "text/plain": [
       "array([ 8, 21, 11, 20, 12, 30, 15, 20, 11, 31, 14, 20,  8, 26])"
      ]
     },
     "execution_count": 28,
     "metadata": {},
     "output_type": "execute_result"
    }
   ],
   "source": [
    "Nov_Week1_max"
   ]
  },
  {
   "cell_type": "code",
   "execution_count": 29,
   "id": "15be1dc6",
   "metadata": {},
   "outputs": [
    {
     "data": {
      "text/plain": [
       "31"
      ]
     },
     "execution_count": 29,
     "metadata": {},
     "output_type": "execute_result"
    }
   ],
   "source": [
    "np.max(Nov_Week1_max) #then calculate max of that"
   ]
  },
  {
   "cell_type": "code",
   "execution_count": 30,
   "id": "258f6bab",
   "metadata": {},
   "outputs": [
    {
     "data": {
      "text/plain": [
       "array([['December', 'Week 1', '7', '32', '11', '31', '8', '27', '11',\n",
       "        '25', '10', '31', '6', '24', '6', '31'],\n",
       "       ['December', 'Week 2', '11', '28', '11', '25', '12', '23', '13',\n",
       "        '23', '6', '25', '14', '25', '14', '26'],\n",
       "       ['December', 'Week 3', '8', '30', '12', '32', '6', '30', '11',\n",
       "        '28', '11', '27', '15', '26', '8', '20'],\n",
       "       ['December', 'Week 4', '11', '29', '11', '27', '12', '28', '10',\n",
       "        '22', '11', '21', '12', '27', '10', '28']], dtype='<U9')"
      ]
     },
     "execution_count": 30,
     "metadata": {},
     "output_type": "execute_result"
    }
   ],
   "source": [
    "Dec_data"
   ]
  },
  {
   "cell_type": "code",
   "execution_count": 31,
   "id": "3228daa5",
   "metadata": {},
   "outputs": [
    {
     "data": {
      "text/plain": [
       "array([ 7, 32, 11, 31,  8, 27, 11, 25, 10, 31,  6, 24,  6, 31])"
      ]
     },
     "execution_count": 31,
     "metadata": {},
     "output_type": "execute_result"
    }
   ],
   "source": [
    "Dec_Week1_max = Dec_data[0,2:].astype(int) #then select the first week on nov month\n",
    "Dec_Week1_max"
   ]
  },
  {
   "cell_type": "code",
   "execution_count": 32,
   "id": "350939b7",
   "metadata": {},
   "outputs": [
    {
     "data": {
      "text/plain": [
       "32"
      ]
     },
     "execution_count": 32,
     "metadata": {},
     "output_type": "execute_result"
    }
   ],
   "source": [
    "np.max(Dec_Week1_max) #then calculate max of that"
   ]
  },
  {
   "cell_type": "code",
   "execution_count": 33,
   "id": "a2318c59",
   "metadata": {},
   "outputs": [
    {
     "data": {
      "text/plain": [
       "array([['January', 'Week 1', '3', '19', '8', '22', '7', '18', '7', '22',\n",
       "        '3', '19', '6', '8', '20', '7'],\n",
       "       ['January', 'Week 2', '5', '18', '8', '19', '7', '18', '6', '19',\n",
       "        '5', '18', '7', '6', '20', '5'],\n",
       "       ['January', 'Week 3', '2', '22', '7', '19', '4', '22', '2', '21',\n",
       "        '8', '22', '4', '2', '21', '2'],\n",
       "       ['January', 'Week 4', '4', '22', '6', '18', '8', '22', '5', '18',\n",
       "        '3', '22', '4', '8', '18', '7']], dtype='<U9')"
      ]
     },
     "execution_count": 33,
     "metadata": {},
     "output_type": "execute_result"
    }
   ],
   "source": [
    "Jan_data"
   ]
  },
  {
   "cell_type": "code",
   "execution_count": 34,
   "id": "738bff50",
   "metadata": {},
   "outputs": [
    {
     "data": {
      "text/plain": [
       "array([ 3, 19,  8, 22,  7, 18,  7, 22,  3, 19,  6,  8, 20,  7])"
      ]
     },
     "execution_count": 34,
     "metadata": {},
     "output_type": "execute_result"
    }
   ],
   "source": [
    "Jan_Week1_max = Jan_data[0,2:].astype(int) #then select the first week on nov month\n",
    "Jan_Week1_max"
   ]
  },
  {
   "cell_type": "code",
   "execution_count": 35,
   "id": "f083f01b",
   "metadata": {},
   "outputs": [
    {
     "data": {
      "text/plain": [
       "22"
      ]
     },
     "execution_count": 35,
     "metadata": {},
     "output_type": "execute_result"
    }
   ],
   "source": [
    "np.max(Jan_Week1_max) #then calculate max of that"
   ]
  },
  {
   "cell_type": "code",
   "execution_count": 36,
   "id": "863c776d",
   "metadata": {},
   "outputs": [
    {
     "data": {
      "text/plain": [
       "array([['February', 'Week 1', '10', '18', '9', '20', '-10', '21', '11',\n",
       "        '20', '12', '19', '12', '71', '22', '7'],\n",
       "       ['Febuary', 'Week 2', '11', '18', '8', '21', '11', '22', '7',\n",
       "        '19', '12', '19', '11', '8', '20', '8'],\n",
       "       ['Febuary', 'Week 3', '12', '21', '10', '22', '7', '18', '8',\n",
       "        '19', '9', '22', '7', '11', '18', '11'],\n",
       "       ['Febuary', 'Week 4', '10', '22', '9', '18', '7', '19', '11',\n",
       "        '18', '7', '21', '11', '7', '18', '12']], dtype='<U9')"
      ]
     },
     "execution_count": 36,
     "metadata": {},
     "output_type": "execute_result"
    }
   ],
   "source": [
    "Feb_data"
   ]
  },
  {
   "cell_type": "code",
   "execution_count": 37,
   "id": "c5bb49ab",
   "metadata": {},
   "outputs": [
    {
     "data": {
      "text/plain": [
       "array([ 10,  18,   9,  20, -10,  21,  11,  20,  12,  19,  12,  71,  22,\n",
       "         7])"
      ]
     },
     "execution_count": 37,
     "metadata": {},
     "output_type": "execute_result"
    }
   ],
   "source": [
    "Feb_Week1_max = Feb_data[0,2:].astype(int) #then select the first week on nov month\n",
    "Feb_Week1_max"
   ]
  },
  {
   "cell_type": "code",
   "execution_count": 38,
   "id": "5e3a9777",
   "metadata": {},
   "outputs": [
    {
     "data": {
      "text/plain": [
       "71"
      ]
     },
     "execution_count": 38,
     "metadata": {},
     "output_type": "execute_result"
    }
   ],
   "source": [
    "np.max(Feb_Week1_max) #then calculate max of that"
   ]
  },
  {
   "cell_type": "markdown",
   "id": "c9409f74",
   "metadata": {},
   "source": [
    "### 4. Print the temperatures for Tuesday of each month"
   ]
  },
  {
   "cell_type": "code",
   "execution_count": 39,
   "id": "99f478ac",
   "metadata": {},
   "outputs": [],
   "source": [
    "Tues_temp = data[2:,4:6] "
   ]
  },
  {
   "cell_type": "code",
   "execution_count": 40,
   "id": "f514bd72",
   "metadata": {},
   "outputs": [
    {
     "data": {
      "text/plain": [
       "array([['11', '20'],\n",
       "       ['9', '23'],\n",
       "       ['15', '22'],\n",
       "       ['6', '28'],\n",
       "       ['11', '31'],\n",
       "       ['11', '25'],\n",
       "       ['12', '32'],\n",
       "       ['11', '27'],\n",
       "       ['8', '22'],\n",
       "       ['8', '19'],\n",
       "       ['7', '19'],\n",
       "       ['6', '18'],\n",
       "       ['9', '20'],\n",
       "       ['8', '21'],\n",
       "       ['10', '22'],\n",
       "       ['9', '18']], dtype='<U9')"
      ]
     },
     "execution_count": 40,
     "metadata": {},
     "output_type": "execute_result"
    }
   ],
   "source": [
    "Tues_temp"
   ]
  },
  {
   "cell_type": "code",
   "execution_count": 41,
   "id": "f458d6a6",
   "metadata": {},
   "outputs": [],
   "source": [
    "Months = data[2:,0:2]"
   ]
  },
  {
   "cell_type": "code",
   "execution_count": 42,
   "id": "361fee3e",
   "metadata": {},
   "outputs": [
    {
     "data": {
      "text/plain": [
       "array([['November', 'Week 1', '11', '20'],\n",
       "       ['November', 'Week 2', '9', '23'],\n",
       "       ['November', 'Week 3', '15', '22'],\n",
       "       ['November', 'Week 4', '6', '28'],\n",
       "       ['December', 'Week 1', '11', '31'],\n",
       "       ['December', 'Week 2', '11', '25'],\n",
       "       ['December', 'Week 3', '12', '32'],\n",
       "       ['December', 'Week 4', '11', '27'],\n",
       "       ['January', 'Week 1', '8', '22'],\n",
       "       ['January', 'Week 2', '8', '19'],\n",
       "       ['January', 'Week 3', '7', '19'],\n",
       "       ['January', 'Week 4', '6', '18'],\n",
       "       ['February', 'Week 1', '9', '20'],\n",
       "       ['Febuary', 'Week 2', '8', '21'],\n",
       "       ['Febuary', 'Week 3', '10', '22'],\n",
       "       ['Febuary', 'Week 4', '9', '18']], dtype='<U9')"
      ]
     },
     "execution_count": 42,
     "metadata": {},
     "output_type": "execute_result"
    }
   ],
   "source": [
    "Tuesday_temp = np.hstack((Months,Tues_temp))\n",
    "Tuesday_temp"
   ]
  },
  {
   "cell_type": "markdown",
   "id": "1ac5e7d1",
   "metadata": {},
   "source": [
    "### 5 .Print only the maximum temperature for all the weekdays of Dec and Feb."
   ]
  },
  {
   "cell_type": "code",
   "execution_count": 43,
   "id": "4b1a78f5",
   "metadata": {},
   "outputs": [
    {
     "data": {
      "text/plain": [
       "array([['December', 'Week 1', '7', '32', '11', '31', '8', '27', '11',\n",
       "        '25', '10', '31', '6', '24', '6', '31'],\n",
       "       ['December', 'Week 2', '11', '28', '11', '25', '12', '23', '13',\n",
       "        '23', '6', '25', '14', '25', '14', '26'],\n",
       "       ['December', 'Week 3', '8', '30', '12', '32', '6', '30', '11',\n",
       "        '28', '11', '27', '15', '26', '8', '20'],\n",
       "       ['December', 'Week 4', '11', '29', '11', '27', '12', '28', '10',\n",
       "        '22', '11', '21', '12', '27', '10', '28']], dtype='<U9')"
      ]
     },
     "execution_count": 43,
     "metadata": {},
     "output_type": "execute_result"
    }
   ],
   "source": [
    "Dec_data"
   ]
  },
  {
   "cell_type": "code",
   "execution_count": 44,
   "id": "fcccd52b",
   "metadata": {},
   "outputs": [
    {
     "data": {
      "text/plain": [
       "array([['February', 'Week 1', '10', '18', '9', '20', '-10', '21', '11',\n",
       "        '20', '12', '19', '12', '71', '22', '7'],\n",
       "       ['Febuary', 'Week 2', '11', '18', '8', '21', '11', '22', '7',\n",
       "        '19', '12', '19', '11', '8', '20', '8'],\n",
       "       ['Febuary', 'Week 3', '12', '21', '10', '22', '7', '18', '8',\n",
       "        '19', '9', '22', '7', '11', '18', '11'],\n",
       "       ['Febuary', 'Week 4', '10', '22', '9', '18', '7', '19', '11',\n",
       "        '18', '7', '21', '11', '7', '18', '12']], dtype='<U9')"
      ]
     },
     "execution_count": 44,
     "metadata": {},
     "output_type": "execute_result"
    }
   ],
   "source": [
    "Feb_data"
   ]
  },
  {
   "cell_type": "code",
   "execution_count": 45,
   "id": "c22d5bb5",
   "metadata": {},
   "outputs": [
    {
     "data": {
      "text/plain": [
       "array([['Month', 'Week', 'Monday', 'Monday', 'Tuesday', 'Tuesday',\n",
       "        'Wednesday', 'Wednesday', 'Thursday', 'Thursday', 'Friday',\n",
       "        'Friday', 'Saturday', 'Saturday', 'Sunday', 'Sunday'],\n",
       "       ['Month', 'Week', 'Min Temp', 'Max Temp', 'Min Temp', 'Max Temp',\n",
       "        'Min Temp', 'Max Temp', 'Min Temp', 'Max Temp', 'Min Temp',\n",
       "        'Max Temp', 'Min Temp', 'Max Temp', 'Min Temp', 'Max Temp']],\n",
       "      dtype='<U9')"
      ]
     },
     "execution_count": 45,
     "metadata": {},
     "output_type": "execute_result"
    }
   ],
   "source": [
    "Index"
   ]
  },
  {
   "cell_type": "code",
   "execution_count": 46,
   "id": "281b01db",
   "metadata": {},
   "outputs": [
    {
     "data": {
      "text/plain": [
       "array([['Month', 'Week', 'Monday', 'Monday', 'Tuesday', 'Tuesday',\n",
       "        'Wednesday', 'Wednesday', 'Thursday', 'Thursday', 'Friday',\n",
       "        'Friday', 'Saturday', 'Saturday', 'Sunday', 'Sunday'],\n",
       "       ['Month', 'Week', 'Min Temp', 'Max Temp', 'Min Temp', 'Max Temp',\n",
       "        'Min Temp', 'Max Temp', 'Min Temp', 'Max Temp', 'Min Temp',\n",
       "        'Max Temp', 'Min Temp', 'Max Temp', 'Min Temp', 'Max Temp'],\n",
       "       ['December', 'Week 1', '7', '32', '11', '31', '8', '27', '11',\n",
       "        '25', '10', '31', '6', '24', '6', '31'],\n",
       "       ['December', 'Week 2', '11', '28', '11', '25', '12', '23', '13',\n",
       "        '23', '6', '25', '14', '25', '14', '26'],\n",
       "       ['December', 'Week 3', '8', '30', '12', '32', '6', '30', '11',\n",
       "        '28', '11', '27', '15', '26', '8', '20'],\n",
       "       ['December', 'Week 4', '11', '29', '11', '27', '12', '28', '10',\n",
       "        '22', '11', '21', '12', '27', '10', '28'],\n",
       "       ['February', 'Week 1', '10', '18', '9', '20', '-10', '21', '11',\n",
       "        '20', '12', '19', '12', '71', '22', '7'],\n",
       "       ['Febuary', 'Week 2', '11', '18', '8', '21', '11', '22', '7',\n",
       "        '19', '12', '19', '11', '8', '20', '8'],\n",
       "       ['Febuary', 'Week 3', '12', '21', '10', '22', '7', '18', '8',\n",
       "        '19', '9', '22', '7', '11', '18', '11'],\n",
       "       ['Febuary', 'Week 4', '10', '22', '9', '18', '7', '19', '11',\n",
       "        '18', '7', '21', '11', '7', '18', '12']], dtype='<U9')"
      ]
     },
     "execution_count": 46,
     "metadata": {},
     "output_type": "execute_result"
    }
   ],
   "source": [
    "max_weekdays = np.vstack(((Index,Dec_data,Feb_data)))\n",
    "max_weekdays"
   ]
  },
  {
   "cell_type": "code",
   "execution_count": 47,
   "id": "a7973805",
   "metadata": {},
   "outputs": [
    {
     "data": {
      "text/plain": [
       "array([['Monday', 'Tuesday', 'Wednesday', 'Thursday', 'Friday',\n",
       "        'Saturday', 'Sunday'],\n",
       "       ['Max Temp', 'Max Temp', 'Max Temp', 'Max Temp', 'Max Temp',\n",
       "        'Max Temp', 'Max Temp'],\n",
       "       ['32', '31', '27', '25', '31', '24', '31'],\n",
       "       ['28', '25', '23', '23', '25', '25', '26'],\n",
       "       ['30', '32', '30', '28', '27', '26', '20'],\n",
       "       ['29', '27', '28', '22', '21', '27', '28'],\n",
       "       ['18', '20', '21', '20', '19', '71', '7'],\n",
       "       ['18', '21', '22', '19', '19', '8', '8'],\n",
       "       ['21', '22', '18', '19', '22', '11', '11'],\n",
       "       ['22', '18', '19', '18', '21', '7', '12']], dtype='<U9')"
      ]
     },
     "execution_count": 47,
     "metadata": {},
     "output_type": "execute_result"
    }
   ],
   "source": [
    "max_temp_weekdays = max_weekdays[:,3::2]\n",
    "max_temp_weekdays"
   ]
  },
  {
   "cell_type": "markdown",
   "id": "c14cd96b",
   "metadata": {},
   "source": [
    "### 6. Print all the days along with the week number in November when the minimum temperature was less than 8 degrees."
   ]
  },
  {
   "cell_type": "code",
   "execution_count": 48,
   "id": "1d5921af",
   "metadata": {},
   "outputs": [
    {
     "data": {
      "text/plain": [
       "array([['November', 'Week 1', '8', '21', '11', '20', '12', '30', '15',\n",
       "        '20', '11', '31', '14', '20', '8', '26'],\n",
       "       ['November', 'Week 2', '9', '21', '9', '23', '14', '21', '-13',\n",
       "        '23', '11', '23', '10', '26', '6', '27'],\n",
       "       ['November', 'Week 3', '9', '32', '15', '22', '13', '21', '13',\n",
       "        '28', '6', '26', '15', '24', '12', '29'],\n",
       "       ['November', 'Week 4', '13', '26', '6', '28', '15', '20', '9',\n",
       "        '30', '13', '31', '7', '32', '15', '27']], dtype='<U9')"
      ]
     },
     "execution_count": 48,
     "metadata": {},
     "output_type": "execute_result"
    }
   ],
   "source": [
    "Nov_data"
   ]
  },
  {
   "cell_type": "code",
   "execution_count": 49,
   "id": "ed727d23",
   "metadata": {},
   "outputs": [],
   "source": [
    "Nov_temp_con1 = Nov_data[0,2:].astype(int)\n",
    "Nov_temp_week1 = Nov_temp_con1<=8"
   ]
  },
  {
   "cell_type": "code",
   "execution_count": 50,
   "id": "a58bdb8d",
   "metadata": {},
   "outputs": [
    {
     "data": {
      "text/plain": [
       "array([ 8, 21, 11, 20, 12, 30, 15, 20, 11, 31, 14, 20,  8, 26])"
      ]
     },
     "execution_count": 50,
     "metadata": {},
     "output_type": "execute_result"
    }
   ],
   "source": [
    "Nov_temp_con1"
   ]
  },
  {
   "cell_type": "code",
   "execution_count": 51,
   "id": "9024eb86",
   "metadata": {},
   "outputs": [
    {
     "data": {
      "text/plain": [
       "array([ True, False, False, False, False, False, False, False, False,\n",
       "       False, False, False,  True, False])"
      ]
     },
     "execution_count": 51,
     "metadata": {},
     "output_type": "execute_result"
    }
   ],
   "source": [
    "Nov_temp_week1 #only two condition"
   ]
  },
  {
   "cell_type": "code",
   "execution_count": 52,
   "id": "18b55c7d",
   "metadata": {},
   "outputs": [],
   "source": [
    "Nov_temp_con2 = Nov_data[1,2:].astype(int)\n",
    "Nov_temp_week2 = Nov_temp_con2<=8"
   ]
  },
  {
   "cell_type": "code",
   "execution_count": 53,
   "id": "e88aef4f",
   "metadata": {},
   "outputs": [
    {
     "name": "stdout",
     "output_type": "stream",
     "text": [
      "For week 2 on temp value: [  9  21   9  23  14  21 -13  23  11  23  10  26   6  27]\n"
     ]
    }
   ],
   "source": [
    "print(\"For week 2 on temp value:\" ,Nov_temp_con2)"
   ]
  },
  {
   "cell_type": "code",
   "execution_count": 54,
   "id": "97b36ce9",
   "metadata": {},
   "outputs": [
    {
     "name": "stdout",
     "output_type": "stream",
     "text": [
      "For week 2 on temp less than 8 cond: [False False False False False False  True False False False False False\n",
      "  True False]\n"
     ]
    }
   ],
   "source": [
    "print(\"For week 2 on temp less than 8 cond:\" ,Nov_temp_week2)"
   ]
  },
  {
   "cell_type": "code",
   "execution_count": 55,
   "id": "d8813456",
   "metadata": {},
   "outputs": [],
   "source": [
    "Nov_temp_con3 = Nov_data[2,2:].astype(int)\n",
    "Nov_temp_week3 = Nov_temp_con3<=8"
   ]
  },
  {
   "cell_type": "code",
   "execution_count": 56,
   "id": "151c819f",
   "metadata": {},
   "outputs": [
    {
     "name": "stdout",
     "output_type": "stream",
     "text": [
      "For week 3 on temp value: [ 9 32 15 22 13 21 13 28  6 26 15 24 12 29]\n",
      "For week 3 on temp less than 8 cond: [False False False False False False False False  True False False False\n",
      " False False]\n"
     ]
    }
   ],
   "source": [
    "print(\"For week 3 on temp value:\" ,Nov_temp_con3)\n",
    "print(\"For week 3 on temp less than 8 cond:\" ,Nov_temp_week3)"
   ]
  },
  {
   "cell_type": "code",
   "execution_count": 57,
   "id": "d6c3c9da",
   "metadata": {},
   "outputs": [],
   "source": [
    "Nov_temp_con4 = Nov_data[3,2:].astype(int)\n",
    "Nov_temp_week4 = Nov_temp_con4<=8"
   ]
  },
  {
   "cell_type": "code",
   "execution_count": 58,
   "id": "19b22e0b",
   "metadata": {},
   "outputs": [
    {
     "name": "stdout",
     "output_type": "stream",
     "text": [
      "For week 4 on temp value: [13 26  6 28 15 20  9 30 13 31  7 32 15 27]\n",
      "For week 4 on temp less than 8 cond: [False False  True False False False False False False False  True False\n",
      " False False]\n"
     ]
    }
   ],
   "source": [
    "print(\"For week 4 on temp value:\" ,Nov_temp_con4)\n",
    "print(\"For week 4 on temp less than 8 cond:\" ,Nov_temp_week4)"
   ]
  },
  {
   "cell_type": "markdown",
   "id": "3f3ede82",
   "metadata": {},
   "source": [
    "### 7. Print all the weeks in Dec and Jan where the maximum temperature has crossed a threshold of 20 degrees."
   ]
  },
  {
   "cell_type": "code",
   "execution_count": 59,
   "id": "a2e4ac40",
   "metadata": {},
   "outputs": [
    {
     "data": {
      "text/plain": [
       "array([['Month', 'Week', 'Monday', 'Monday', 'Tuesday', 'Tuesday',\n",
       "        'Wednesday', 'Wednesday', 'Thursday', 'Thursday', 'Friday',\n",
       "        'Friday', 'Saturday', 'Saturday', 'Sunday', 'Sunday'],\n",
       "       ['Month', 'Week', 'Min Temp', 'Max Temp', 'Min Temp', 'Max Temp',\n",
       "        'Min Temp', 'Max Temp', 'Min Temp', 'Max Temp', 'Min Temp',\n",
       "        'Max Temp', 'Min Temp', 'Max Temp', 'Min Temp', 'Max Temp'],\n",
       "       ['December', 'Week 1', '7', '32', '11', '31', '8', '27', '11',\n",
       "        '25', '10', '31', '6', '24', '6', '31'],\n",
       "       ['December', 'Week 2', '11', '28', '11', '25', '12', '23', '13',\n",
       "        '23', '6', '25', '14', '25', '14', '26'],\n",
       "       ['December', 'Week 3', '8', '30', '12', '32', '6', '30', '11',\n",
       "        '28', '11', '27', '15', '26', '8', '20'],\n",
       "       ['December', 'Week 4', '11', '29', '11', '27', '12', '28', '10',\n",
       "        '22', '11', '21', '12', '27', '10', '28'],\n",
       "       ['January', 'Week 1', '3', '19', '8', '22', '7', '18', '7', '22',\n",
       "        '3', '19', '6', '8', '20', '7'],\n",
       "       ['January', 'Week 2', '5', '18', '8', '19', '7', '18', '6', '19',\n",
       "        '5', '18', '7', '6', '20', '5'],\n",
       "       ['January', 'Week 3', '2', '22', '7', '19', '4', '22', '2', '21',\n",
       "        '8', '22', '4', '2', '21', '2'],\n",
       "       ['January', 'Week 4', '4', '22', '6', '18', '8', '22', '5', '18',\n",
       "        '3', '22', '4', '8', '18', '7']], dtype='<U9')"
      ]
     },
     "execution_count": 59,
     "metadata": {},
     "output_type": "execute_result"
    }
   ],
   "source": [
    "New_con = np.vstack(((Index,Dec_data,Jan_data)))\n",
    "New_con "
   ]
  },
  {
   "cell_type": "code",
   "execution_count": 60,
   "id": "29544423",
   "metadata": {},
   "outputs": [
    {
     "data": {
      "text/plain": [
       "array([['32', '31', '27', '25', '31', '24', '31'],\n",
       "       ['28', '25', '23', '23', '25', '25', '26'],\n",
       "       ['30', '32', '30', '28', '27', '26', '20'],\n",
       "       ['29', '27', '28', '22', '21', '27', '28'],\n",
       "       ['19', '22', '18', '22', '19', '8', '7'],\n",
       "       ['18', '19', '18', '19', '18', '6', '5'],\n",
       "       ['22', '19', '22', '21', '22', '2', '2'],\n",
       "       ['22', '18', '22', '18', '22', '8', '7']], dtype='<U9')"
      ]
     },
     "execution_count": 60,
     "metadata": {},
     "output_type": "execute_result"
    }
   ],
   "source": [
    "New_con1 = New_con[2:,3::2]\n",
    "New_con1"
   ]
  },
  {
   "cell_type": "code",
   "execution_count": 61,
   "id": "a4f29d93",
   "metadata": {},
   "outputs": [],
   "source": [
    "New_con1 = New_con1[:,:].reshape(7*8,)"
   ]
  },
  {
   "cell_type": "code",
   "execution_count": 62,
   "id": "2d3f8166",
   "metadata": {},
   "outputs": [
    {
     "data": {
      "text/plain": [
       "array([32, 31, 27, 25, 31, 24, 31, 28, 25, 23, 23, 25, 25, 26, 30, 32, 30,\n",
       "       28, 27, 26, 20, 29, 27, 28, 22, 21, 27, 28, 19, 22, 18, 22, 19,  8,\n",
       "        7, 18, 19, 18, 19, 18,  6,  5, 22, 19, 22, 21, 22,  2,  2, 22, 18,\n",
       "       22, 18, 22,  8,  7])"
      ]
     },
     "execution_count": 62,
     "metadata": {},
     "output_type": "execute_result"
    }
   ],
   "source": [
    "New_con1.astype(int)"
   ]
  },
  {
   "cell_type": "code",
   "execution_count": 63,
   "id": "a3510462",
   "metadata": {},
   "outputs": [
    {
     "data": {
      "text/plain": [
       "array([ True,  True,  True,  True,  True,  True,  True,  True,  True,\n",
       "        True,  True,  True,  True,  True,  True,  True,  True,  True,\n",
       "        True,  True,  True,  True,  True,  True,  True,  True,  True,\n",
       "        True, False,  True, False,  True, False, False, False, False,\n",
       "       False, False, False, False, False, False,  True, False,  True,\n",
       "        True,  True, False, False,  True, False,  True, False,  True,\n",
       "       False, False])"
      ]
     },
     "execution_count": 63,
     "metadata": {},
     "output_type": "execute_result"
    }
   ],
   "source": [
    "Max_temp = New_con1.astype(int)>=20\n",
    "Max_temp "
   ]
  },
  {
   "cell_type": "markdown",
   "id": "059c4f7c",
   "metadata": {},
   "source": [
    "### 8. Check if there are any absurd values present in the dataset(like some temp which should not be present in the data)"
   ]
  },
  {
   "cell_type": "code",
   "execution_count": 64,
   "id": "80ae498b",
   "metadata": {},
   "outputs": [
    {
     "data": {
      "text/plain": [
       "array([['Month', 'Week', 'Monday', 'Monday', 'Tuesday', 'Tuesday',\n",
       "        'Wednesday', 'Wednesday', 'Thursday', 'Thursday', 'Friday',\n",
       "        'Friday', 'Saturday', 'Saturday', 'Sunday', 'Sunday'],\n",
       "       ['Month', 'Week', 'Min Temp', 'Max Temp', 'Min Temp', 'Max Temp',\n",
       "        'Min Temp', 'Max Temp', 'Min Temp', 'Max Temp', 'Min Temp',\n",
       "        'Max Temp', 'Min Temp', 'Max Temp', 'Min Temp', 'Max Temp'],\n",
       "       ['November', 'Week 1', '8', '21', '11', '20', '12', '30', '15',\n",
       "        '20', '11', '31', '14', '20', '8', '26'],\n",
       "       ['November', 'Week 2', '9', '21', '9', '23', '14', '21', '-13',\n",
       "        '23', '11', '23', '10', '26', '6', '27'],\n",
       "       ['November', 'Week 3', '9', '32', '15', '22', '13', '21', '13',\n",
       "        '28', '6', '26', '15', '24', '12', '29'],\n",
       "       ['November', 'Week 4', '13', '26', '6', '28', '15', '20', '9',\n",
       "        '30', '13', '31', '7', '32', '15', '27'],\n",
       "       ['December', 'Week 1', '7', '32', '11', '31', '8', '27', '11',\n",
       "        '25', '10', '31', '6', '24', '6', '31'],\n",
       "       ['December', 'Week 2', '11', '28', '11', '25', '12', '23', '13',\n",
       "        '23', '6', '25', '14', '25', '14', '26'],\n",
       "       ['December', 'Week 3', '8', '30', '12', '32', '6', '30', '11',\n",
       "        '28', '11', '27', '15', '26', '8', '20'],\n",
       "       ['December', 'Week 4', '11', '29', '11', '27', '12', '28', '10',\n",
       "        '22', '11', '21', '12', '27', '10', '28'],\n",
       "       ['January', 'Week 1', '3', '19', '8', '22', '7', '18', '7', '22',\n",
       "        '3', '19', '6', '8', '20', '7'],\n",
       "       ['January', 'Week 2', '5', '18', '8', '19', '7', '18', '6', '19',\n",
       "        '5', '18', '7', '6', '20', '5'],\n",
       "       ['January', 'Week 3', '2', '22', '7', '19', '4', '22', '2', '21',\n",
       "        '8', '22', '4', '2', '21', '2'],\n",
       "       ['January', 'Week 4', '4', '22', '6', '18', '8', '22', '5', '18',\n",
       "        '3', '22', '4', '8', '18', '7'],\n",
       "       ['February', 'Week 1', '10', '18', '9', '20', '-10', '21', '11',\n",
       "        '20', '12', '19', '12', '71', '22', '7'],\n",
       "       ['Febuary', 'Week 2', '11', '18', '8', '21', '11', '22', '7',\n",
       "        '19', '12', '19', '11', '8', '20', '8'],\n",
       "       ['Febuary', 'Week 3', '12', '21', '10', '22', '7', '18', '8',\n",
       "        '19', '9', '22', '7', '11', '18', '11'],\n",
       "       ['Febuary', 'Week 4', '10', '22', '9', '18', '7', '19', '11',\n",
       "        '18', '7', '21', '11', '7', '18', '12']], dtype='<U9')"
      ]
     },
     "execution_count": 64,
     "metadata": {},
     "output_type": "execute_result"
    }
   ],
   "source": [
    "data"
   ]
  },
  {
   "cell_type": "code",
   "execution_count": 65,
   "id": "b583d87a",
   "metadata": {},
   "outputs": [],
   "source": [
    "#missing values or outlier"
   ]
  },
  {
   "cell_type": "code",
   "execution_count": 66,
   "id": "e884b161",
   "metadata": {},
   "outputs": [],
   "source": [
    "#there is not any missing values but some outliers like -13,-10"
   ]
  },
  {
   "cell_type": "markdown",
   "id": "24760d6c",
   "metadata": {},
   "source": [
    "### 9.What strategy would you use to handle such data points?"
   ]
  },
  {
   "cell_type": "code",
   "execution_count": 67,
   "id": "3f94aea2",
   "metadata": {},
   "outputs": [],
   "source": [
    "#to handle outliers we calculate the inter qurtile range and then find the outliers and then fill that value with median"
   ]
  },
  {
   "cell_type": "markdown",
   "id": "5899aafd",
   "metadata": {},
   "source": [
    "### 10. Find and print the indexes of all the outlier(unusual) values present in the above dataset."
   ]
  },
  {
   "cell_type": "code",
   "execution_count": 68,
   "id": "a87f0bb6",
   "metadata": {},
   "outputs": [
    {
     "data": {
      "text/plain": [
       "array([['Month', 'Week', 'Monday', 'Monday', 'Tuesday', 'Tuesday',\n",
       "        'Wednesday', 'Wednesday', 'Thursday', 'Thursday', 'Friday',\n",
       "        'Friday', 'Saturday', 'Saturday', 'Sunday', 'Sunday'],\n",
       "       ['Month', 'Week', 'Min Temp', 'Max Temp', 'Min Temp', 'Max Temp',\n",
       "        'Min Temp', 'Max Temp', 'Min Temp', 'Max Temp', 'Min Temp',\n",
       "        'Max Temp', 'Min Temp', 'Max Temp', 'Min Temp', 'Max Temp'],\n",
       "       ['November', 'Week 1', '8', '21', '11', '20', '12', '30', '15',\n",
       "        '20', '11', '31', '14', '20', '8', '26'],\n",
       "       ['November', 'Week 2', '9', '21', '9', '23', '14', '21', '-13',\n",
       "        '23', '11', '23', '10', '26', '6', '27'],\n",
       "       ['November', 'Week 3', '9', '32', '15', '22', '13', '21', '13',\n",
       "        '28', '6', '26', '15', '24', '12', '29'],\n",
       "       ['November', 'Week 4', '13', '26', '6', '28', '15', '20', '9',\n",
       "        '30', '13', '31', '7', '32', '15', '27'],\n",
       "       ['December', 'Week 1', '7', '32', '11', '31', '8', '27', '11',\n",
       "        '25', '10', '31', '6', '24', '6', '31'],\n",
       "       ['December', 'Week 2', '11', '28', '11', '25', '12', '23', '13',\n",
       "        '23', '6', '25', '14', '25', '14', '26'],\n",
       "       ['December', 'Week 3', '8', '30', '12', '32', '6', '30', '11',\n",
       "        '28', '11', '27', '15', '26', '8', '20'],\n",
       "       ['December', 'Week 4', '11', '29', '11', '27', '12', '28', '10',\n",
       "        '22', '11', '21', '12', '27', '10', '28'],\n",
       "       ['January', 'Week 1', '3', '19', '8', '22', '7', '18', '7', '22',\n",
       "        '3', '19', '6', '8', '20', '7'],\n",
       "       ['January', 'Week 2', '5', '18', '8', '19', '7', '18', '6', '19',\n",
       "        '5', '18', '7', '6', '20', '5'],\n",
       "       ['January', 'Week 3', '2', '22', '7', '19', '4', '22', '2', '21',\n",
       "        '8', '22', '4', '2', '21', '2'],\n",
       "       ['January', 'Week 4', '4', '22', '6', '18', '8', '22', '5', '18',\n",
       "        '3', '22', '4', '8', '18', '7'],\n",
       "       ['February', 'Week 1', '10', '18', '9', '20', '-10', '21', '11',\n",
       "        '20', '12', '19', '12', '71', '22', '7'],\n",
       "       ['Febuary', 'Week 2', '11', '18', '8', '21', '11', '22', '7',\n",
       "        '19', '12', '19', '11', '8', '20', '8'],\n",
       "       ['Febuary', 'Week 3', '12', '21', '10', '22', '7', '18', '8',\n",
       "        '19', '9', '22', '7', '11', '18', '11'],\n",
       "       ['Febuary', 'Week 4', '10', '22', '9', '18', '7', '19', '11',\n",
       "        '18', '7', '21', '11', '7', '18', '12']], dtype='<U9')"
      ]
     },
     "execution_count": 68,
     "metadata": {},
     "output_type": "execute_result"
    }
   ],
   "source": [
    "data"
   ]
  },
  {
   "cell_type": "code",
   "execution_count": 69,
   "id": "f31e0bce",
   "metadata": {},
   "outputs": [
    {
     "data": {
      "text/plain": [
       "array([[  8,  21,  11,  20,  12,  30,  15,  20,  11,  31,  14,  20,   8,\n",
       "         26],\n",
       "       [  9,  21,   9,  23,  14,  21, -13,  23,  11,  23,  10,  26,   6,\n",
       "         27],\n",
       "       [  9,  32,  15,  22,  13,  21,  13,  28,   6,  26,  15,  24,  12,\n",
       "         29],\n",
       "       [ 13,  26,   6,  28,  15,  20,   9,  30,  13,  31,   7,  32,  15,\n",
       "         27],\n",
       "       [  7,  32,  11,  31,   8,  27,  11,  25,  10,  31,   6,  24,   6,\n",
       "         31],\n",
       "       [ 11,  28,  11,  25,  12,  23,  13,  23,   6,  25,  14,  25,  14,\n",
       "         26],\n",
       "       [  8,  30,  12,  32,   6,  30,  11,  28,  11,  27,  15,  26,   8,\n",
       "         20],\n",
       "       [ 11,  29,  11,  27,  12,  28,  10,  22,  11,  21,  12,  27,  10,\n",
       "         28],\n",
       "       [  3,  19,   8,  22,   7,  18,   7,  22,   3,  19,   6,   8,  20,\n",
       "          7],\n",
       "       [  5,  18,   8,  19,   7,  18,   6,  19,   5,  18,   7,   6,  20,\n",
       "          5],\n",
       "       [  2,  22,   7,  19,   4,  22,   2,  21,   8,  22,   4,   2,  21,\n",
       "          2],\n",
       "       [  4,  22,   6,  18,   8,  22,   5,  18,   3,  22,   4,   8,  18,\n",
       "          7],\n",
       "       [ 10,  18,   9,  20, -10,  21,  11,  20,  12,  19,  12,  71,  22,\n",
       "          7],\n",
       "       [ 11,  18,   8,  21,  11,  22,   7,  19,  12,  19,  11,   8,  20,\n",
       "          8],\n",
       "       [ 12,  21,  10,  22,   7,  18,   8,  19,   9,  22,   7,  11,  18,\n",
       "         11],\n",
       "       [ 10,  22,   9,  18,   7,  19,  11,  18,   7,  21,  11,   7,  18,\n",
       "         12]])"
      ]
     },
     "execution_count": 69,
     "metadata": {},
     "output_type": "execute_result"
    }
   ],
   "source": [
    "outliers = data[2:,2:].astype(int)\n",
    "outliers"
   ]
  },
  {
   "cell_type": "code",
   "execution_count": 70,
   "id": "610c9670",
   "metadata": {},
   "outputs": [
    {
     "data": {
      "text/plain": [
       "(16, 14)"
      ]
     },
     "execution_count": 70,
     "metadata": {},
     "output_type": "execute_result"
    }
   ],
   "source": [
    "outliers.shape"
   ]
  },
  {
   "cell_type": "code",
   "execution_count": 71,
   "id": "abede705",
   "metadata": {},
   "outputs": [
    {
     "data": {
      "text/plain": [
       "array([  8,  21,  11,  20,  12,  30,  15,  20,  11,  31,  14,  20,   8,\n",
       "        26,   9,  21,   9,  23,  14,  21, -13,  23,  11,  23,  10,  26,\n",
       "         6,  27,   9,  32,  15,  22,  13,  21,  13,  28,   6,  26,  15,\n",
       "        24,  12,  29,  13,  26,   6,  28,  15,  20,   9,  30,  13,  31,\n",
       "         7,  32,  15,  27,   7,  32,  11,  31,   8,  27,  11,  25,  10,\n",
       "        31,   6,  24,   6,  31,  11,  28,  11,  25,  12,  23,  13,  23,\n",
       "         6,  25,  14,  25,  14,  26,   8,  30,  12,  32,   6,  30,  11,\n",
       "        28,  11,  27,  15,  26,   8,  20,  11,  29,  11,  27,  12,  28,\n",
       "        10,  22,  11,  21,  12,  27,  10,  28,   3,  19,   8,  22,   7,\n",
       "        18,   7,  22,   3,  19,   6,   8,  20,   7,   5,  18,   8,  19,\n",
       "         7,  18,   6,  19,   5,  18,   7,   6,  20,   5,   2,  22,   7,\n",
       "        19,   4,  22,   2,  21,   8,  22,   4,   2,  21,   2,   4,  22,\n",
       "         6,  18,   8,  22,   5,  18,   3,  22,   4,   8,  18,   7,  10,\n",
       "        18,   9,  20, -10,  21,  11,  20,  12,  19,  12,  71,  22,   7,\n",
       "        11,  18,   8,  21,  11,  22,   7,  19,  12,  19,  11,   8,  20,\n",
       "         8,  12,  21,  10,  22,   7,  18,   8,  19,   9,  22,   7,  11,\n",
       "        18,  11,  10,  22,   9,  18,   7,  19,  11,  18,   7,  21,  11,\n",
       "         7,  18,  12])"
      ]
     },
     "execution_count": 71,
     "metadata": {},
     "output_type": "execute_result"
    }
   ],
   "source": [
    "outliers.reshape(16*14,)"
   ]
  },
  {
   "cell_type": "code",
   "execution_count": 72,
   "id": "f79357ec",
   "metadata": {},
   "outputs": [
    {
     "data": {
      "text/plain": [
       "array([-13, -10,   2,   2,   2,   2,   3,   3,   3,   4,   4,   4,   4,\n",
       "         5,   5,   5,   5,   6,   6,   6,   6,   6,   6,   6,   6,   6,\n",
       "         6,   6,   7,   7,   7,   7,   7,   7,   7,   7,   7,   7,   7,\n",
       "         7,   7,   7,   7,   7,   8,   8,   8,   8,   8,   8,   8,   8,\n",
       "         8,   8,   8,   8,   8,   8,   8,   9,   9,   9,   9,   9,   9,\n",
       "         9,  10,  10,  10,  10,  10,  10,  10,  11,  11,  11,  11,  11,\n",
       "        11,  11,  11,  11,  11,  11,  11,  11,  11,  11,  11,  11,  11,\n",
       "        11,  11,  12,  12,  12,  12,  12,  12,  12,  12,  12,  12,  12,\n",
       "        13,  13,  13,  13,  13,  14,  14,  14,  14,  15,  15,  15,  15,\n",
       "        15,  15,  18,  18,  18,  18,  18,  18,  18,  18,  18,  18,  18,\n",
       "        18,  18,  18,  19,  19,  19,  19,  19,  19,  19,  19,  19,  19,\n",
       "        20,  20,  20,  20,  20,  20,  20,  20,  20,  20,  21,  21,  21,\n",
       "        21,  21,  21,  21,  21,  21,  21,  21,  22,  22,  22,  22,  22,\n",
       "        22,  22,  22,  22,  22,  22,  22,  22,  22,  22,  23,  23,  23,\n",
       "        23,  23,  24,  24,  25,  25,  25,  25,  26,  26,  26,  26,  26,\n",
       "        26,  27,  27,  27,  27,  27,  27,  28,  28,  28,  28,  28,  28,\n",
       "        29,  29,  30,  30,  30,  30,  31,  31,  31,  31,  31,  32,  32,\n",
       "        32,  32,  71])"
      ]
     },
     "execution_count": 72,
     "metadata": {},
     "output_type": "execute_result"
    }
   ],
   "source": [
    "out_sort = np.sort(outliers.reshape(16*14,))\n",
    "out_sort "
   ]
  },
  {
   "cell_type": "code",
   "execution_count": 73,
   "id": "17229327",
   "metadata": {},
   "outputs": [],
   "source": [
    "Q1 = np.percentile(out_sort,25)"
   ]
  },
  {
   "cell_type": "code",
   "execution_count": 74,
   "id": "b76d7840",
   "metadata": {},
   "outputs": [],
   "source": [
    "Q3 = np.percentile(out_sort,75)"
   ]
  },
  {
   "cell_type": "code",
   "execution_count": 75,
   "id": "2cd8ced4",
   "metadata": {},
   "outputs": [],
   "source": [
    "IQR = Q3 -Q1"
   ]
  },
  {
   "cell_type": "code",
   "execution_count": 76,
   "id": "35074b0d",
   "metadata": {},
   "outputs": [
    {
     "data": {
      "text/plain": [
       "14.0"
      ]
     },
     "execution_count": 76,
     "metadata": {},
     "output_type": "execute_result"
    }
   ],
   "source": [
    "IQR"
   ]
  },
  {
   "cell_type": "code",
   "execution_count": 77,
   "id": "8a797fd0",
   "metadata": {},
   "outputs": [],
   "source": [
    " lower_range = Q1 - (1.5 * IQR)\n",
    " upper_range = Q3 + (1.5 * IQR)"
   ]
  },
  {
   "cell_type": "code",
   "execution_count": 78,
   "id": "2a11a9ed",
   "metadata": {},
   "outputs": [
    {
     "name": "stdout",
     "output_type": "stream",
     "text": [
      "the value of lower range: -13.0\n",
      "the value of upper range: 43.0\n"
     ]
    }
   ],
   "source": [
    "print(\"the value of lower range:\",lower_range)\n",
    "print(\"the value of upper range:\",upper_range)"
   ]
  },
  {
   "cell_type": "code",
   "execution_count": 79,
   "id": "bbe071f1",
   "metadata": {},
   "outputs": [
    {
     "name": "stdout",
     "output_type": "stream",
     "text": [
      " outlier in the dataset is [71]\n"
     ]
    }
   ],
   "source": [
    "outlier =[]\n",
    "for x in out_sort:\n",
    "    if ((x> upper_range) or (x<lower_range)):\n",
    "         outlier.append(x)\n",
    "print(' outlier in the dataset is', outlier)"
   ]
  },
  {
   "cell_type": "markdown",
   "id": "b4f9070d",
   "metadata": {},
   "source": [
    "### 11.Replace the outliers with an appropriate value."
   ]
  },
  {
   "cell_type": "code",
   "execution_count": 80,
   "id": "4368e0c3",
   "metadata": {},
   "outputs": [],
   "source": [
    "App_value = outliers.reshape(16*14,)"
   ]
  },
  {
   "cell_type": "code",
   "execution_count": 81,
   "id": "08088f75",
   "metadata": {},
   "outputs": [
    {
     "data": {
      "text/plain": [
       "71"
      ]
     },
     "execution_count": 81,
     "metadata": {},
     "output_type": "execute_result"
    }
   ],
   "source": [
    "x"
   ]
  },
  {
   "cell_type": "code",
   "execution_count": 82,
   "id": "8a6ab066",
   "metadata": {},
   "outputs": [
    {
     "name": "stdout",
     "output_type": "stream",
     "text": [
      "7.0\n"
     ]
    }
   ],
   "source": [
    "mad = np.median(abs(App_value-np.median(App_value)))\n",
    "print(mad)"
   ]
  },
  {
   "cell_type": "code",
   "execution_count": null,
   "id": "fa650b24",
   "metadata": {},
   "outputs": [],
   "source": []
  },
  {
   "cell_type": "markdown",
   "id": "926aeb67",
   "metadata": {},
   "source": [
    "### 12. Find the average max temperature for the winter months in Jaipur."
   ]
  },
  {
   "cell_type": "code",
   "execution_count": 83,
   "id": "2a47aa59",
   "metadata": {},
   "outputs": [
    {
     "data": {
      "text/plain": [
       "array([['Month', 'Week', 'Monday', 'Monday', 'Tuesday', 'Tuesday',\n",
       "        'Wednesday', 'Wednesday', 'Thursday', 'Thursday', 'Friday',\n",
       "        'Friday', 'Saturday', 'Saturday', 'Sunday', 'Sunday'],\n",
       "       ['Month', 'Week', 'Min Temp', 'Max Temp', 'Min Temp', 'Max Temp',\n",
       "        'Min Temp', 'Max Temp', 'Min Temp', 'Max Temp', 'Min Temp',\n",
       "        'Max Temp', 'Min Temp', 'Max Temp', 'Min Temp', 'Max Temp'],\n",
       "       ['November', 'Week 1', '8', '21', '11', '20', '12', '30', '15',\n",
       "        '20', '11', '31', '14', '20', '8', '26'],\n",
       "       ['November', 'Week 2', '9', '21', '9', '23', '14', '21', '-13',\n",
       "        '23', '11', '23', '10', '26', '6', '27'],\n",
       "       ['November', 'Week 3', '9', '32', '15', '22', '13', '21', '13',\n",
       "        '28', '6', '26', '15', '24', '12', '29'],\n",
       "       ['November', 'Week 4', '13', '26', '6', '28', '15', '20', '9',\n",
       "        '30', '13', '31', '7', '32', '15', '27'],\n",
       "       ['December', 'Week 1', '7', '32', '11', '31', '8', '27', '11',\n",
       "        '25', '10', '31', '6', '24', '6', '31'],\n",
       "       ['December', 'Week 2', '11', '28', '11', '25', '12', '23', '13',\n",
       "        '23', '6', '25', '14', '25', '14', '26'],\n",
       "       ['December', 'Week 3', '8', '30', '12', '32', '6', '30', '11',\n",
       "        '28', '11', '27', '15', '26', '8', '20'],\n",
       "       ['December', 'Week 4', '11', '29', '11', '27', '12', '28', '10',\n",
       "        '22', '11', '21', '12', '27', '10', '28'],\n",
       "       ['January', 'Week 1', '3', '19', '8', '22', '7', '18', '7', '22',\n",
       "        '3', '19', '6', '8', '20', '7'],\n",
       "       ['January', 'Week 2', '5', '18', '8', '19', '7', '18', '6', '19',\n",
       "        '5', '18', '7', '6', '20', '5'],\n",
       "       ['January', 'Week 3', '2', '22', '7', '19', '4', '22', '2', '21',\n",
       "        '8', '22', '4', '2', '21', '2'],\n",
       "       ['January', 'Week 4', '4', '22', '6', '18', '8', '22', '5', '18',\n",
       "        '3', '22', '4', '8', '18', '7']], dtype='<U9')"
      ]
     },
     "execution_count": 83,
     "metadata": {},
     "output_type": "execute_result"
    }
   ],
   "source": [
    "avg_max = np.vstack(((Index, Nov_data, Dec_data, Jan_data)))\n",
    "avg_max"
   ]
  },
  {
   "cell_type": "code",
   "execution_count": 84,
   "id": "bf1e8345",
   "metadata": {},
   "outputs": [
    {
     "data": {
      "text/plain": [
       "array([[21, 20, 30, 20, 31, 20, 26],\n",
       "       [21, 23, 21, 23, 23, 26, 27],\n",
       "       [32, 22, 21, 28, 26, 24, 29],\n",
       "       [26, 28, 20, 30, 31, 32, 27],\n",
       "       [32, 31, 27, 25, 31, 24, 31],\n",
       "       [28, 25, 23, 23, 25, 25, 26],\n",
       "       [30, 32, 30, 28, 27, 26, 20],\n",
       "       [29, 27, 28, 22, 21, 27, 28],\n",
       "       [19, 22, 18, 22, 19,  8,  7],\n",
       "       [18, 19, 18, 19, 18,  6,  5],\n",
       "       [22, 19, 22, 21, 22,  2,  2],\n",
       "       [22, 18, 22, 18, 22,  8,  7]])"
      ]
     },
     "execution_count": 84,
     "metadata": {},
     "output_type": "execute_result"
    }
   ],
   "source": [
    "Avg_Temp = avg_max[2:,3::2].astype(int)\n",
    "Avg_Temp"
   ]
  },
  {
   "cell_type": "code",
   "execution_count": 85,
   "id": "f5ae3491",
   "metadata": {},
   "outputs": [
    {
     "data": {
      "text/plain": [
       "22.666666666666668"
      ]
     },
     "execution_count": 85,
     "metadata": {},
     "output_type": "execute_result"
    }
   ],
   "source": [
    "np.mean(Avg_Temp)"
   ]
  },
  {
   "cell_type": "code",
   "execution_count": 86,
   "id": "73b7ee43",
   "metadata": {},
   "outputs": [
    {
     "data": {
      "text/plain": [
       "32"
      ]
     },
     "execution_count": 86,
     "metadata": {},
     "output_type": "execute_result"
    }
   ],
   "source": [
    "np.max(Avg_Temp)"
   ]
  },
  {
   "cell_type": "markdown",
   "id": "b251cf54",
   "metadata": {},
   "source": [
    "### 13. Find the weekly min avg temp for the month of Dec in Jaipur"
   ]
  },
  {
   "cell_type": "code",
   "execution_count": 87,
   "id": "a2010543",
   "metadata": {},
   "outputs": [
    {
     "data": {
      "text/plain": [
       "array([['December', 'Week 1', '7', '32', '11', '31', '8', '27', '11',\n",
       "        '25', '10', '31', '6', '24', '6', '31'],\n",
       "       ['December', 'Week 2', '11', '28', '11', '25', '12', '23', '13',\n",
       "        '23', '6', '25', '14', '25', '14', '26'],\n",
       "       ['December', 'Week 3', '8', '30', '12', '32', '6', '30', '11',\n",
       "        '28', '11', '27', '15', '26', '8', '20'],\n",
       "       ['December', 'Week 4', '11', '29', '11', '27', '12', '28', '10',\n",
       "        '22', '11', '21', '12', '27', '10', '28']], dtype='<U9')"
      ]
     },
     "execution_count": 87,
     "metadata": {},
     "output_type": "execute_result"
    }
   ],
   "source": [
    "Dec_data"
   ]
  },
  {
   "cell_type": "code",
   "execution_count": 88,
   "id": "a0ef9a86",
   "metadata": {},
   "outputs": [
    {
     "data": {
      "text/plain": [
       "array([[ 7, 11,  8, 11, 10,  6,  6],\n",
       "       [11, 11, 12, 13,  6, 14, 14],\n",
       "       [ 8, 12,  6, 11, 11, 15,  8],\n",
       "       [11, 11, 12, 10, 11, 12, 10]])"
      ]
     },
     "execution_count": 88,
     "metadata": {},
     "output_type": "execute_result"
    }
   ],
   "source": [
    "Dec_min_temp = Dec_data[:,2::2].astype(int)\n",
    "Dec_min_temp"
   ]
  },
  {
   "cell_type": "code",
   "execution_count": 89,
   "id": "bcd82f83",
   "metadata": {},
   "outputs": [
    {
     "data": {
      "text/plain": [
       "10.285714285714286"
      ]
     },
     "execution_count": 89,
     "metadata": {},
     "output_type": "execute_result"
    }
   ],
   "source": [
    "np.mean(Dec_min_temp)"
   ]
  },
  {
   "cell_type": "markdown",
   "id": "7c83ca26",
   "metadata": {},
   "source": [
    "### 14. Find the overall avg temp for the months Dec and Jan"
   ]
  },
  {
   "cell_type": "code",
   "execution_count": 90,
   "id": "2c13d642",
   "metadata": {},
   "outputs": [
    {
     "data": {
      "text/plain": [
       "array([['Month', 'Week', 'Monday', 'Monday', 'Tuesday', 'Tuesday',\n",
       "        'Wednesday', 'Wednesday', 'Thursday', 'Thursday', 'Friday',\n",
       "        'Friday', 'Saturday', 'Saturday', 'Sunday', 'Sunday'],\n",
       "       ['Month', 'Week', 'Min Temp', 'Max Temp', 'Min Temp', 'Max Temp',\n",
       "        'Min Temp', 'Max Temp', 'Min Temp', 'Max Temp', 'Min Temp',\n",
       "        'Max Temp', 'Min Temp', 'Max Temp', 'Min Temp', 'Max Temp'],\n",
       "       ['December', 'Week 1', '7', '32', '11', '31', '8', '27', '11',\n",
       "        '25', '10', '31', '6', '24', '6', '31'],\n",
       "       ['December', 'Week 2', '11', '28', '11', '25', '12', '23', '13',\n",
       "        '23', '6', '25', '14', '25', '14', '26'],\n",
       "       ['December', 'Week 3', '8', '30', '12', '32', '6', '30', '11',\n",
       "        '28', '11', '27', '15', '26', '8', '20'],\n",
       "       ['December', 'Week 4', '11', '29', '11', '27', '12', '28', '10',\n",
       "        '22', '11', '21', '12', '27', '10', '28'],\n",
       "       ['January', 'Week 1', '3', '19', '8', '22', '7', '18', '7', '22',\n",
       "        '3', '19', '6', '8', '20', '7'],\n",
       "       ['January', 'Week 2', '5', '18', '8', '19', '7', '18', '6', '19',\n",
       "        '5', '18', '7', '6', '20', '5'],\n",
       "       ['January', 'Week 3', '2', '22', '7', '19', '4', '22', '2', '21',\n",
       "        '8', '22', '4', '2', '21', '2'],\n",
       "       ['January', 'Week 4', '4', '22', '6', '18', '8', '22', '5', '18',\n",
       "        '3', '22', '4', '8', '18', '7']], dtype='<U9')"
      ]
     },
     "execution_count": 90,
     "metadata": {},
     "output_type": "execute_result"
    }
   ],
   "source": [
    "Ovr_avg = np.vstack(((Index,Dec_data,Jan_data)))\n",
    "Ovr_avg"
   ]
  },
  {
   "cell_type": "code",
   "execution_count": 91,
   "id": "49c42982",
   "metadata": {},
   "outputs": [
    {
     "data": {
      "text/plain": [
       "array([[ 7, 32, 11, 31,  8, 27, 11, 25, 10, 31,  6, 24,  6, 31],\n",
       "       [11, 28, 11, 25, 12, 23, 13, 23,  6, 25, 14, 25, 14, 26],\n",
       "       [ 8, 30, 12, 32,  6, 30, 11, 28, 11, 27, 15, 26,  8, 20],\n",
       "       [11, 29, 11, 27, 12, 28, 10, 22, 11, 21, 12, 27, 10, 28],\n",
       "       [ 3, 19,  8, 22,  7, 18,  7, 22,  3, 19,  6,  8, 20,  7],\n",
       "       [ 5, 18,  8, 19,  7, 18,  6, 19,  5, 18,  7,  6, 20,  5],\n",
       "       [ 2, 22,  7, 19,  4, 22,  2, 21,  8, 22,  4,  2, 21,  2],\n",
       "       [ 4, 22,  6, 18,  8, 22,  5, 18,  3, 22,  4,  8, 18,  7]])"
      ]
     },
     "execution_count": 91,
     "metadata": {},
     "output_type": "execute_result"
    }
   ],
   "source": [
    "Ovr_Avg = Ovr_avg[2:,2:].astype(int)\n",
    "Ovr_Avg"
   ]
  },
  {
   "cell_type": "code",
   "execution_count": 92,
   "id": "c43372c6",
   "metadata": {},
   "outputs": [
    {
     "data": {
      "text/plain": [
       "15.107142857142858"
      ]
     },
     "execution_count": 92,
     "metadata": {},
     "output_type": "execute_result"
    }
   ],
   "source": [
    "np.mean(Ovr_Avg)"
   ]
  },
  {
   "cell_type": "markdown",
   "id": "faad6a12",
   "metadata": {},
   "source": [
    "### 15. Find the least temp experienced by the city in the month of Dec and Jan. Also print the exact date( Day/Week/Month) for the same."
   ]
  },
  {
   "cell_type": "code",
   "execution_count": 93,
   "id": "5f9e6a22",
   "metadata": {},
   "outputs": [
    {
     "data": {
      "text/plain": [
       "array([ 7, 32, 11, 31,  8, 27, 11, 25, 10, 31,  6, 24,  6, 31, 11, 28, 11,\n",
       "       25, 12, 23, 13, 23,  6, 25, 14, 25, 14, 26,  8, 30, 12, 32,  6, 30,\n",
       "       11, 28, 11, 27, 15, 26,  8, 20, 11, 29, 11, 27, 12, 28, 10, 22, 11,\n",
       "       21, 12, 27, 10, 28,  3, 19,  8, 22,  7, 18,  7, 22,  3, 19,  6,  8,\n",
       "       20,  7,  5, 18,  8, 19,  7, 18,  6, 19,  5, 18,  7,  6, 20,  5,  2,\n",
       "       22,  7, 19,  4, 22,  2, 21,  8, 22,  4,  2, 21,  2,  4, 22,  6, 18,\n",
       "        8, 22,  5, 18,  3, 22,  4,  8, 18,  7])"
      ]
     },
     "execution_count": 93,
     "metadata": {},
     "output_type": "execute_result"
    }
   ],
   "source": [
    "Ovr_Avg = Ovr_avg[2:,2:].astype(int).reshape(14*8,)\n",
    "Ovr_Avg"
   ]
  },
  {
   "cell_type": "code",
   "execution_count": 94,
   "id": "0011b0ed",
   "metadata": {},
   "outputs": [
    {
     "data": {
      "text/plain": [
       "2"
      ]
     },
     "execution_count": 94,
     "metadata": {},
     "output_type": "execute_result"
    }
   ],
   "source": [
    "np.min(Ovr_Avg)"
   ]
  },
  {
   "cell_type": "code",
   "execution_count": 95,
   "id": "be76dda4",
   "metadata": {},
   "outputs": [
    {
     "data": {
      "text/plain": [
       "84"
      ]
     },
     "execution_count": 95,
     "metadata": {},
     "output_type": "execute_result"
    }
   ],
   "source": [
    "np.argmin(Ovr_Avg)"
   ]
  },
  {
   "cell_type": "markdown",
   "id": "9593f9a2",
   "metadata": {},
   "source": [
    "### 16. Find the max temp in the month of Feb and return its date(Day/Week/Month)"
   ]
  },
  {
   "cell_type": "code",
   "execution_count": 96,
   "id": "edc75852",
   "metadata": {},
   "outputs": [
    {
     "data": {
      "text/plain": [
       "array([['February', 'Week 1', '10', '18', '9', '20', '-10', '21', '11',\n",
       "        '20', '12', '19', '12', '71', '22', '7'],\n",
       "       ['Febuary', 'Week 2', '11', '18', '8', '21', '11', '22', '7',\n",
       "        '19', '12', '19', '11', '8', '20', '8'],\n",
       "       ['Febuary', 'Week 3', '12', '21', '10', '22', '7', '18', '8',\n",
       "        '19', '9', '22', '7', '11', '18', '11'],\n",
       "       ['Febuary', 'Week 4', '10', '22', '9', '18', '7', '19', '11',\n",
       "        '18', '7', '21', '11', '7', '18', '12']], dtype='<U9')"
      ]
     },
     "execution_count": 96,
     "metadata": {},
     "output_type": "execute_result"
    }
   ],
   "source": [
    "Feb_data"
   ]
  },
  {
   "cell_type": "code",
   "execution_count": 97,
   "id": "73b7a604",
   "metadata": {},
   "outputs": [
    {
     "data": {
      "text/plain": [
       "array([ 10,  18,   9,  20, -10,  21,  11,  20,  12,  19,  12,  71,  22,\n",
       "         7,  11,  18,   8,  21,  11,  22,   7,  19,  12,  19,  11,   8,\n",
       "        20,   8,  12,  21,  10,  22,   7,  18,   8,  19,   9,  22,   7,\n",
       "        11,  18,  11,  10,  22,   9,  18,   7,  19,  11,  18,   7,  21,\n",
       "        11,   7,  18,  12])"
      ]
     },
     "execution_count": 97,
     "metadata": {},
     "output_type": "execute_result"
    }
   ],
   "source": [
    "Feb_max = Feb_data[:,2:].astype(int).reshape(14*4,)\n",
    "Feb_max "
   ]
  },
  {
   "cell_type": "code",
   "execution_count": 98,
   "id": "04116718",
   "metadata": {},
   "outputs": [
    {
     "data": {
      "text/plain": [
       "71"
      ]
     },
     "execution_count": 98,
     "metadata": {},
     "output_type": "execute_result"
    }
   ],
   "source": [
    "np.max(Feb_max )"
   ]
  },
  {
   "cell_type": "code",
   "execution_count": 99,
   "id": "3f9c8129",
   "metadata": {},
   "outputs": [
    {
     "data": {
      "text/plain": [
       "11"
      ]
     },
     "execution_count": 99,
     "metadata": {},
     "output_type": "execute_result"
    }
   ],
   "source": [
    "np.argmax(Feb_max )"
   ]
  },
  {
   "cell_type": "markdown",
   "id": "dc014e6f",
   "metadata": {},
   "source": [
    "### 17. Find the days in the month of Nov where the max temp of the day dropped below the avg temp of the month."
   ]
  },
  {
   "cell_type": "code",
   "execution_count": 100,
   "id": "c093b8b7",
   "metadata": {},
   "outputs": [
    {
     "data": {
      "text/plain": [
       "array([['Month', 'Week', 'Monday', 'Monday', 'Tuesday', 'Tuesday',\n",
       "        'Wednesday', 'Wednesday', 'Thursday', 'Thursday', 'Friday',\n",
       "        'Friday', 'Saturday', 'Saturday', 'Sunday', 'Sunday'],\n",
       "       ['Month', 'Week', 'Min Temp', 'Max Temp', 'Min Temp', 'Max Temp',\n",
       "        'Min Temp', 'Max Temp', 'Min Temp', 'Max Temp', 'Min Temp',\n",
       "        'Max Temp', 'Min Temp', 'Max Temp', 'Min Temp', 'Max Temp'],\n",
       "       ['November', 'Week 1', '8', '21', '11', '20', '12', '30', '15',\n",
       "        '20', '11', '31', '14', '20', '8', '26'],\n",
       "       ['November', 'Week 2', '9', '21', '9', '23', '14', '21', '-13',\n",
       "        '23', '11', '23', '10', '26', '6', '27'],\n",
       "       ['November', 'Week 3', '9', '32', '15', '22', '13', '21', '13',\n",
       "        '28', '6', '26', '15', '24', '12', '29'],\n",
       "       ['November', 'Week 4', '13', '26', '6', '28', '15', '20', '9',\n",
       "        '30', '13', '31', '7', '32', '15', '27']], dtype='<U9')"
      ]
     },
     "execution_count": 100,
     "metadata": {},
     "output_type": "execute_result"
    }
   ],
   "source": [
    "Nov_con = np.vstack((Index,Nov_data))\n",
    "Nov_con"
   ]
  },
  {
   "cell_type": "code",
   "execution_count": 101,
   "id": "6287b59f",
   "metadata": {},
   "outputs": [
    {
     "data": {
      "text/plain": [
       "array([['Monday', 'Tuesday', 'Wednesday', 'Thursday', 'Friday',\n",
       "        'Saturday', 'Sunday'],\n",
       "       ['Max Temp', 'Max Temp', 'Max Temp', 'Max Temp', 'Max Temp',\n",
       "        'Max Temp', 'Max Temp'],\n",
       "       ['21', '20', '30', '20', '31', '20', '26'],\n",
       "       ['21', '23', '21', '23', '23', '26', '27'],\n",
       "       ['32', '22', '21', '28', '26', '24', '29'],\n",
       "       ['26', '28', '20', '30', '31', '32', '27']], dtype='<U9')"
      ]
     },
     "execution_count": 101,
     "metadata": {},
     "output_type": "execute_result"
    }
   ],
   "source": [
    "Nov_con1 = Nov_con[0:6,3::2]\n",
    "Nov_con1"
   ]
  },
  {
   "cell_type": "code",
   "execution_count": 102,
   "id": "33a650bd",
   "metadata": {},
   "outputs": [
    {
     "data": {
      "text/plain": [
       "array([21, 20, 30, 20, 31, 20, 26, 21, 23, 21, 23, 23, 26, 27, 32, 22, 21,\n",
       "       28, 26, 24, 29, 26, 28, 20, 30, 31, 32, 27])"
      ]
     },
     "execution_count": 102,
     "metadata": {},
     "output_type": "execute_result"
    }
   ],
   "source": [
    "Nov_con2 = Nov_con1[2:,].astype(int).reshape(7*4,)\n",
    "Nov_con2 "
   ]
  },
  {
   "cell_type": "code",
   "execution_count": 103,
   "id": "84800f3c",
   "metadata": {},
   "outputs": [
    {
     "data": {
      "text/plain": [
       "25.285714285714285"
      ]
     },
     "execution_count": 103,
     "metadata": {},
     "output_type": "execute_result"
    }
   ],
   "source": [
    "np.mean(Nov_con2 )"
   ]
  },
  {
   "cell_type": "code",
   "execution_count": 104,
   "id": "0f064960",
   "metadata": {},
   "outputs": [
    {
     "data": {
      "text/plain": [
       "array([ True,  True, False,  True, False,  True, False,  True,  True,\n",
       "        True,  True,  True, False, False, False,  True,  True, False,\n",
       "       False,  True, False, False, False,  True, False, False, False,\n",
       "       False])"
      ]
     },
     "execution_count": 104,
     "metadata": {},
     "output_type": "execute_result"
    }
   ],
   "source": [
    "Nov_con3 = Nov_con2 < np.mean(Nov_con2 )\n",
    "Nov_con3"
   ]
  },
  {
   "cell_type": "markdown",
   "id": "13b40db6",
   "metadata": {},
   "source": [
    "### 18. Convert the above dataset into an array where the weeks of the same month must be present in the same row, but belonging to different months should come in a row either below or above the selected month."
   ]
  },
  {
   "cell_type": "code",
   "execution_count": 105,
   "id": "2a2dbf89",
   "metadata": {},
   "outputs": [
    {
     "data": {
      "text/plain": [
       "array([['Month', 'Week', 'Monday', 'Monday', 'Tuesday', 'Tuesday',\n",
       "        'Wednesday', 'Wednesday', 'Thursday', 'Thursday', 'Friday',\n",
       "        'Friday', 'Saturday', 'Saturday', 'Sunday', 'Sunday'],\n",
       "       ['Month', 'Week', 'Min Temp', 'Max Temp', 'Min Temp', 'Max Temp',\n",
       "        'Min Temp', 'Max Temp', 'Min Temp', 'Max Temp', 'Min Temp',\n",
       "        'Max Temp', 'Min Temp', 'Max Temp', 'Min Temp', 'Max Temp'],\n",
       "       ['November', 'Week 1', '8', '21', '11', '20', '12', '30', '15',\n",
       "        '20', '11', '31', '14', '20', '8', '26'],\n",
       "       ['November', 'Week 2', '9', '21', '9', '23', '14', '21', '-13',\n",
       "        '23', '11', '23', '10', '26', '6', '27'],\n",
       "       ['November', 'Week 3', '9', '32', '15', '22', '13', '21', '13',\n",
       "        '28', '6', '26', '15', '24', '12', '29'],\n",
       "       ['November', 'Week 4', '13', '26', '6', '28', '15', '20', '9',\n",
       "        '30', '13', '31', '7', '32', '15', '27'],\n",
       "       ['December', 'Week 1', '7', '32', '11', '31', '8', '27', '11',\n",
       "        '25', '10', '31', '6', '24', '6', '31'],\n",
       "       ['December', 'Week 2', '11', '28', '11', '25', '12', '23', '13',\n",
       "        '23', '6', '25', '14', '25', '14', '26'],\n",
       "       ['December', 'Week 3', '8', '30', '12', '32', '6', '30', '11',\n",
       "        '28', '11', '27', '15', '26', '8', '20'],\n",
       "       ['December', 'Week 4', '11', '29', '11', '27', '12', '28', '10',\n",
       "        '22', '11', '21', '12', '27', '10', '28'],\n",
       "       ['January', 'Week 1', '3', '19', '8', '22', '7', '18', '7', '22',\n",
       "        '3', '19', '6', '8', '20', '7'],\n",
       "       ['January', 'Week 2', '5', '18', '8', '19', '7', '18', '6', '19',\n",
       "        '5', '18', '7', '6', '20', '5'],\n",
       "       ['January', 'Week 3', '2', '22', '7', '19', '4', '22', '2', '21',\n",
       "        '8', '22', '4', '2', '21', '2'],\n",
       "       ['January', 'Week 4', '4', '22', '6', '18', '8', '22', '5', '18',\n",
       "        '3', '22', '4', '8', '18', '7'],\n",
       "       ['February', 'Week 1', '10', '18', '9', '20', '-10', '21', '11',\n",
       "        '20', '12', '19', '12', '71', '22', '7'],\n",
       "       ['Febuary', 'Week 2', '11', '18', '8', '21', '11', '22', '7',\n",
       "        '19', '12', '19', '11', '8', '20', '8'],\n",
       "       ['Febuary', 'Week 3', '12', '21', '10', '22', '7', '18', '8',\n",
       "        '19', '9', '22', '7', '11', '18', '11'],\n",
       "       ['Febuary', 'Week 4', '10', '22', '9', '18', '7', '19', '11',\n",
       "        '18', '7', '21', '11', '7', '18', '12']], dtype='<U9')"
      ]
     },
     "execution_count": 105,
     "metadata": {},
     "output_type": "execute_result"
    }
   ],
   "source": [
    "data"
   ]
  },
  {
   "cell_type": "code",
   "execution_count": 106,
   "id": "af1e1d29",
   "metadata": {},
   "outputs": [
    {
     "data": {
      "text/plain": [
       "array([['November', 'Week 1', '8', '21', '11', '20', '12', '30', '15',\n",
       "        '20', '11', '31', '14', '20', '8', '26'],\n",
       "       ['November', 'Week 2', '9', '21', '9', '23', '14', '21', '-13',\n",
       "        '23', '11', '23', '10', '26', '6', '27'],\n",
       "       ['November', 'Week 3', '9', '32', '15', '22', '13', '21', '13',\n",
       "        '28', '6', '26', '15', '24', '12', '29'],\n",
       "       ['November', 'Week 4', '13', '26', '6', '28', '15', '20', '9',\n",
       "        '30', '13', '31', '7', '32', '15', '27']], dtype='<U9')"
      ]
     },
     "execution_count": 106,
     "metadata": {},
     "output_type": "execute_result"
    }
   ],
   "source": [
    "Nov_data"
   ]
  },
  {
   "cell_type": "code",
   "execution_count": 107,
   "id": "5862a094",
   "metadata": {},
   "outputs": [],
   "source": [
    "Nov_Week1 = Nov_data[0,:]\n",
    "Nov_Week2 = Nov_data[1,:]\n",
    "Nov_Week3 = Nov_data[2,:]\n",
    "Nov_Week4 = Nov_data[3,:]"
   ]
  },
  {
   "cell_type": "code",
   "execution_count": 108,
   "id": "392de9df",
   "metadata": {},
   "outputs": [
    {
     "data": {
      "text/plain": [
       "array(['November', 'Week 1', '8', '21', '11', '20', '12', '30', '15',\n",
       "       '20', '11', '31', '14', '20', '8', '26', 'November', 'Week 2', '9',\n",
       "       '21', '9', '23', '14', '21', '-13', '23', '11', '23', '10', '26',\n",
       "       '6', '27', 'November', 'Week 3', '9', '32', '15', '22', '13', '21',\n",
       "       '13', '28', '6', '26', '15', '24', '12', '29', 'November',\n",
       "       'Week 4', '13', '26', '6', '28', '15', '20', '9', '30', '13', '31',\n",
       "       '7', '32', '15', '27'], dtype='<U9')"
      ]
     },
     "execution_count": 108,
     "metadata": {},
     "output_type": "execute_result"
    }
   ],
   "source": [
    "Nov_Week = np.hstack((((Nov_Week1,Nov_Week2,Nov_Week3,Nov_Week4))))\n",
    "Nov_Week"
   ]
  },
  {
   "cell_type": "code",
   "execution_count": 109,
   "id": "a7735a66",
   "metadata": {},
   "outputs": [],
   "source": [
    "Dec_Week1 = Dec_data[0,:]\n",
    "Dec_Week2 = Dec_data[1,:]\n",
    "Dec_Week3 = Dec_data[2,:]\n",
    "Dec_Week4 = Dec_data[3,:]"
   ]
  },
  {
   "cell_type": "code",
   "execution_count": 110,
   "id": "78df8a08",
   "metadata": {},
   "outputs": [
    {
     "data": {
      "text/plain": [
       "array(['December', 'Week 1', '7', '32', '11', '31', '8', '27', '11', '25',\n",
       "       '10', '31', '6', '24', '6', '31', 'December', 'Week 2', '11', '28',\n",
       "       '11', '25', '12', '23', '13', '23', '6', '25', '14', '25', '14',\n",
       "       '26', 'December', 'Week 3', '8', '30', '12', '32', '6', '30', '11',\n",
       "       '28', '11', '27', '15', '26', '8', '20', 'December', 'Week 4',\n",
       "       '11', '29', '11', '27', '12', '28', '10', '22', '11', '21', '12',\n",
       "       '27', '10', '28'], dtype='<U9')"
      ]
     },
     "execution_count": 110,
     "metadata": {},
     "output_type": "execute_result"
    }
   ],
   "source": [
    "Dec_Week = np.hstack((((Dec_Week1,Dec_Week2,Dec_Week3,Dec_Week4))))\n",
    "Dec_Week"
   ]
  },
  {
   "cell_type": "code",
   "execution_count": 111,
   "id": "0d707cd7",
   "metadata": {},
   "outputs": [],
   "source": [
    "Jan_Week1 = Jan_data[0,:]\n",
    "Jan_Week2 = Jan_data[1,:]\n",
    "Jan_Week3 = Jan_data[2,:]\n",
    "Jan_Week4 = Jan_data[3,:]"
   ]
  },
  {
   "cell_type": "code",
   "execution_count": 112,
   "id": "f70aaa07",
   "metadata": {},
   "outputs": [
    {
     "data": {
      "text/plain": [
       "array(['January', 'Week 1', '3', '19', '8', '22', '7', '18', '7', '22',\n",
       "       '3', '19', '6', '8', '20', '7', 'January', 'Week 2', '5', '18',\n",
       "       '8', '19', '7', '18', '6', '19', '5', '18', '7', '6', '20', '5',\n",
       "       'January', 'Week 3', '2', '22', '7', '19', '4', '22', '2', '21',\n",
       "       '8', '22', '4', '2', '21', '2', 'January', 'Week 4', '4', '22',\n",
       "       '6', '18', '8', '22', '5', '18', '3', '22', '4', '8', '18', '7'],\n",
       "      dtype='<U9')"
      ]
     },
     "execution_count": 112,
     "metadata": {},
     "output_type": "execute_result"
    }
   ],
   "source": [
    "Jan_Week = np.hstack((((Jan_Week1,Jan_Week2,Jan_Week3,Jan_Week4))))\n",
    "Jan_Week"
   ]
  },
  {
   "cell_type": "code",
   "execution_count": 113,
   "id": "f8cd8a36",
   "metadata": {},
   "outputs": [],
   "source": [
    "Feb_Week1 = Feb_data[0,:]\n",
    "Feb_Week2 = Feb_data[1,:]\n",
    "Feb_Week3 = Feb_data[2,:]\n",
    "Feb_Week4 = Feb_data[3,:]"
   ]
  },
  {
   "cell_type": "code",
   "execution_count": 114,
   "id": "3f123581",
   "metadata": {},
   "outputs": [
    {
     "data": {
      "text/plain": [
       "array(['February', 'Week 1', '10', '18', '9', '20', '-10', '21', '11',\n",
       "       '20', '12', '19', '12', '71', '22', '7', 'Febuary', 'Week 2', '11',\n",
       "       '18', '8', '21', '11', '22', '7', '19', '12', '19', '11', '8',\n",
       "       '20', '8', 'Febuary', 'Week 3', '12', '21', '10', '22', '7', '18',\n",
       "       '8', '19', '9', '22', '7', '11', '18', '11', 'Febuary', 'Week 4',\n",
       "       '10', '22', '9', '18', '7', '19', '11', '18', '7', '21', '11', '7',\n",
       "       '18', '12'], dtype='<U9')"
      ]
     },
     "execution_count": 114,
     "metadata": {},
     "output_type": "execute_result"
    }
   ],
   "source": [
    "Feb_Week = np.hstack((((Feb_Week1,Feb_Week2,Feb_Week3,Feb_Week4))))\n",
    "Feb_Week"
   ]
  },
  {
   "cell_type": "code",
   "execution_count": 115,
   "id": "8653051d",
   "metadata": {},
   "outputs": [
    {
     "data": {
      "text/plain": [
       "array([['November', 'Week 1', '8', '21', '11', '20', '12', '30', '15',\n",
       "        '20', '11', '31', '14', '20', '8', '26', 'November', 'Week 2',\n",
       "        '9', '21', '9', '23', '14', '21', '-13', '23', '11', '23', '10',\n",
       "        '26', '6', '27', 'November', 'Week 3', '9', '32', '15', '22',\n",
       "        '13', '21', '13', '28', '6', '26', '15', '24', '12', '29',\n",
       "        'November', 'Week 4', '13', '26', '6', '28', '15', '20', '9',\n",
       "        '30', '13', '31', '7', '32', '15', '27'],\n",
       "       ['December', 'Week 1', '7', '32', '11', '31', '8', '27', '11',\n",
       "        '25', '10', '31', '6', '24', '6', '31', 'December', 'Week 2',\n",
       "        '11', '28', '11', '25', '12', '23', '13', '23', '6', '25', '14',\n",
       "        '25', '14', '26', 'December', 'Week 3', '8', '30', '12', '32',\n",
       "        '6', '30', '11', '28', '11', '27', '15', '26', '8', '20',\n",
       "        'December', 'Week 4', '11', '29', '11', '27', '12', '28', '10',\n",
       "        '22', '11', '21', '12', '27', '10', '28'],\n",
       "       ['January', 'Week 1', '3', '19', '8', '22', '7', '18', '7', '22',\n",
       "        '3', '19', '6', '8', '20', '7', 'January', 'Week 2', '5', '18',\n",
       "        '8', '19', '7', '18', '6', '19', '5', '18', '7', '6', '20', '5',\n",
       "        'January', 'Week 3', '2', '22', '7', '19', '4', '22', '2', '21',\n",
       "        '8', '22', '4', '2', '21', '2', 'January', 'Week 4', '4', '22',\n",
       "        '6', '18', '8', '22', '5', '18', '3', '22', '4', '8', '18', '7'],\n",
       "       ['February', 'Week 1', '10', '18', '9', '20', '-10', '21', '11',\n",
       "        '20', '12', '19', '12', '71', '22', '7', 'Febuary', 'Week 2',\n",
       "        '11', '18', '8', '21', '11', '22', '7', '19', '12', '19', '11',\n",
       "        '8', '20', '8', 'Febuary', 'Week 3', '12', '21', '10', '22', '7',\n",
       "        '18', '8', '19', '9', '22', '7', '11', '18', '11', 'Febuary',\n",
       "        'Week 4', '10', '22', '9', '18', '7', '19', '11', '18', '7',\n",
       "        '21', '11', '7', '18', '12']], dtype='<U9')"
      ]
     },
     "execution_count": 115,
     "metadata": {},
     "output_type": "execute_result"
    }
   ],
   "source": [
    "same_row = np.vstack((((Nov_Week,Dec_Week,Jan_Week,Feb_Week))))\n",
    "same_row "
   ]
  },
  {
   "cell_type": "markdown",
   "id": "f60697cd",
   "metadata": {},
   "source": [
    "### 19. The above data is appropriate for an audience who follow the metric system of measurement. Create an array that holds the same data but presented in Fahrenheit."
   ]
  },
  {
   "cell_type": "code",
   "execution_count": 116,
   "id": "72fa9152",
   "metadata": {},
   "outputs": [
    {
     "data": {
      "text/plain": [
       "array([['Month', 'Week', 'Monday', 'Monday', 'Tuesday', 'Tuesday',\n",
       "        'Wednesday', 'Wednesday', 'Thursday', 'Thursday', 'Friday',\n",
       "        'Friday', 'Saturday', 'Saturday', 'Sunday', 'Sunday'],\n",
       "       ['Month', 'Week', 'Min Temp', 'Max Temp', 'Min Temp', 'Max Temp',\n",
       "        'Min Temp', 'Max Temp', 'Min Temp', 'Max Temp', 'Min Temp',\n",
       "        'Max Temp', 'Min Temp', 'Max Temp', 'Min Temp', 'Max Temp'],\n",
       "       ['November', 'Week 1', '8', '21', '11', '20', '12', '30', '15',\n",
       "        '20', '11', '31', '14', '20', '8', '26'],\n",
       "       ['November', 'Week 2', '9', '21', '9', '23', '14', '21', '-13',\n",
       "        '23', '11', '23', '10', '26', '6', '27'],\n",
       "       ['November', 'Week 3', '9', '32', '15', '22', '13', '21', '13',\n",
       "        '28', '6', '26', '15', '24', '12', '29'],\n",
       "       ['November', 'Week 4', '13', '26', '6', '28', '15', '20', '9',\n",
       "        '30', '13', '31', '7', '32', '15', '27'],\n",
       "       ['December', 'Week 1', '7', '32', '11', '31', '8', '27', '11',\n",
       "        '25', '10', '31', '6', '24', '6', '31'],\n",
       "       ['December', 'Week 2', '11', '28', '11', '25', '12', '23', '13',\n",
       "        '23', '6', '25', '14', '25', '14', '26'],\n",
       "       ['December', 'Week 3', '8', '30', '12', '32', '6', '30', '11',\n",
       "        '28', '11', '27', '15', '26', '8', '20'],\n",
       "       ['December', 'Week 4', '11', '29', '11', '27', '12', '28', '10',\n",
       "        '22', '11', '21', '12', '27', '10', '28'],\n",
       "       ['January', 'Week 1', '3', '19', '8', '22', '7', '18', '7', '22',\n",
       "        '3', '19', '6', '8', '20', '7'],\n",
       "       ['January', 'Week 2', '5', '18', '8', '19', '7', '18', '6', '19',\n",
       "        '5', '18', '7', '6', '20', '5'],\n",
       "       ['January', 'Week 3', '2', '22', '7', '19', '4', '22', '2', '21',\n",
       "        '8', '22', '4', '2', '21', '2'],\n",
       "       ['January', 'Week 4', '4', '22', '6', '18', '8', '22', '5', '18',\n",
       "        '3', '22', '4', '8', '18', '7'],\n",
       "       ['February', 'Week 1', '10', '18', '9', '20', '-10', '21', '11',\n",
       "        '20', '12', '19', '12', '71', '22', '7'],\n",
       "       ['Febuary', 'Week 2', '11', '18', '8', '21', '11', '22', '7',\n",
       "        '19', '12', '19', '11', '8', '20', '8'],\n",
       "       ['Febuary', 'Week 3', '12', '21', '10', '22', '7', '18', '8',\n",
       "        '19', '9', '22', '7', '11', '18', '11'],\n",
       "       ['Febuary', 'Week 4', '10', '22', '9', '18', '7', '19', '11',\n",
       "        '18', '7', '21', '11', '7', '18', '12']], dtype='<U9')"
      ]
     },
     "execution_count": 116,
     "metadata": {},
     "output_type": "execute_result"
    }
   ],
   "source": [
    "data"
   ]
  },
  {
   "cell_type": "code",
   "execution_count": 117,
   "id": "bc4db41b",
   "metadata": {},
   "outputs": [
    {
     "data": {
      "text/plain": [
       "array([  8,  21,  11,  20,  12,  30,  15,  20,  11,  31,  14,  20,   8,\n",
       "        26,   9,  21,   9,  23,  14,  21, -13,  23,  11,  23,  10,  26,\n",
       "         6,  27,   9,  32,  15,  22,  13,  21,  13,  28,   6,  26,  15,\n",
       "        24,  12,  29,  13,  26,   6,  28,  15,  20,   9,  30,  13,  31,\n",
       "         7,  32,  15,  27,   7,  32,  11,  31,   8,  27,  11,  25,  10,\n",
       "        31,   6,  24,   6,  31,  11,  28,  11,  25,  12,  23,  13,  23,\n",
       "         6,  25,  14,  25,  14,  26,   8,  30,  12,  32,   6,  30,  11,\n",
       "        28,  11,  27,  15,  26,   8,  20,  11,  29,  11,  27,  12,  28,\n",
       "        10,  22,  11,  21,  12,  27,  10,  28,   3,  19,   8,  22,   7,\n",
       "        18,   7,  22,   3,  19,   6,   8,  20,   7,   5,  18,   8,  19,\n",
       "         7,  18,   6,  19,   5,  18,   7,   6,  20,   5,   2,  22,   7,\n",
       "        19,   4,  22,   2,  21,   8,  22,   4,   2,  21,   2,   4,  22,\n",
       "         6,  18,   8,  22,   5,  18,   3,  22,   4,   8,  18,   7,  10,\n",
       "        18,   9,  20, -10,  21,  11,  20,  12,  19,  12,  71,  22,   7,\n",
       "        11,  18,   8,  21,  11,  22,   7,  19,  12,  19,  11,   8,  20,\n",
       "         8,  12,  21,  10,  22,   7,  18,   8,  19,   9,  22,   7,  11,\n",
       "        18,  11,  10,  22,   9,  18,   7,  19,  11,  18,   7,  21,  11,\n",
       "         7,  18,  12])"
      ]
     },
     "execution_count": 117,
     "metadata": {},
     "output_type": "execute_result"
    }
   ],
   "source": [
    "Celcius = data[2:,2:].astype(int).reshape(16*14,)\n",
    "Celcius"
   ]
  },
  {
   "cell_type": "code",
   "execution_count": 118,
   "id": "5d75d428",
   "metadata": {},
   "outputs": [
    {
     "name": "stdout",
     "output_type": "stream",
     "text": [
      "Values in Centigrade degrees:\n",
      "[  8  21  11  20  12  30  15  20  11  31  14  20   8  26   9  21   9  23\n",
      "  14  21 -13  23  11  23  10  26   6  27   9  32  15  22  13  21  13  28\n",
      "   6  26  15  24  12  29  13  26   6  28  15  20   9  30  13  31   7  32\n",
      "  15  27   7  32  11  31   8  27  11  25  10  31   6  24   6  31  11  28\n",
      "  11  25  12  23  13  23   6  25  14  25  14  26   8  30  12  32   6  30\n",
      "  11  28  11  27  15  26   8  20  11  29  11  27  12  28  10  22  11  21\n",
      "  12  27  10  28   3  19   8  22   7  18   7  22   3  19   6   8  20   7\n",
      "   5  18   8  19   7  18   6  19   5  18   7   6  20   5   2  22   7  19\n",
      "   4  22   2  21   8  22   4   2  21   2   4  22   6  18   8  22   5  18\n",
      "   3  22   4   8  18   7  10  18   9  20 -10  21  11  20  12  19  12  71\n",
      "  22   7  11  18   8  21  11  22   7  19  12  19  11   8  20   8  12  21\n",
      "  10  22   7  18   8  19   9  22   7  11  18  11  10  22   9  18   7  19\n",
      "  11  18   7  21  11   7  18  12]\n",
      "Values in  Fahrenheit degrees:\n",
      "[ 46.4  69.8  51.8  68.   53.6  86.   59.   68.   51.8  87.8  57.2  68.\n",
      "  46.4  78.8  48.2  69.8  48.2  73.4  57.2  69.8   8.6  73.4  51.8  73.4\n",
      "  50.   78.8  42.8  80.6  48.2  89.6  59.   71.6  55.4  69.8  55.4  82.4\n",
      "  42.8  78.8  59.   75.2  53.6  84.2  55.4  78.8  42.8  82.4  59.   68.\n",
      "  48.2  86.   55.4  87.8  44.6  89.6  59.   80.6  44.6  89.6  51.8  87.8\n",
      "  46.4  80.6  51.8  77.   50.   87.8  42.8  75.2  42.8  87.8  51.8  82.4\n",
      "  51.8  77.   53.6  73.4  55.4  73.4  42.8  77.   57.2  77.   57.2  78.8\n",
      "  46.4  86.   53.6  89.6  42.8  86.   51.8  82.4  51.8  80.6  59.   78.8\n",
      "  46.4  68.   51.8  84.2  51.8  80.6  53.6  82.4  50.   71.6  51.8  69.8\n",
      "  53.6  80.6  50.   82.4  37.4  66.2  46.4  71.6  44.6  64.4  44.6  71.6\n",
      "  37.4  66.2  42.8  46.4  68.   44.6  41.   64.4  46.4  66.2  44.6  64.4\n",
      "  42.8  66.2  41.   64.4  44.6  42.8  68.   41.   35.6  71.6  44.6  66.2\n",
      "  39.2  71.6  35.6  69.8  46.4  71.6  39.2  35.6  69.8  35.6  39.2  71.6\n",
      "  42.8  64.4  46.4  71.6  41.   64.4  37.4  71.6  39.2  46.4  64.4  44.6\n",
      "  50.   64.4  48.2  68.   14.   69.8  51.8  68.   53.6  66.2  53.6 159.8\n",
      "  71.6  44.6  51.8  64.4  46.4  69.8  51.8  71.6  44.6  66.2  53.6  66.2\n",
      "  51.8  46.4  68.   46.4  53.6  69.8  50.   71.6  44.6  64.4  46.4  66.2\n",
      "  48.2  71.6  44.6  51.8  64.4  51.8  50.   71.6  48.2  64.4  44.6  66.2\n",
      "  51.8  64.4  44.6  69.8  51.8  44.6  64.4  53.6]\n"
     ]
    }
   ],
   "source": [
    "print(\"Values in Centigrade degrees:\")\n",
    "print(Celcius)\n",
    "print(\"Values in  Fahrenheit degrees:\")\n",
    "print(np.round((9*(Celcius)/5 + 32),2))"
   ]
  },
  {
   "cell_type": "code",
   "execution_count": 119,
   "id": "71fe066f",
   "metadata": {},
   "outputs": [
    {
     "data": {
      "text/plain": [
       "array([[ 46.4,  69.8,  51.8,  68. ,  53.6,  86. ,  59. ,  68. ,  51.8,\n",
       "         87.8,  57.2,  68. ,  46.4,  78.8],\n",
       "       [ 48.2,  69.8,  48.2,  73.4,  57.2,  69.8,   8.6,  73.4,  51.8,\n",
       "         73.4,  50. ,  78.8,  42.8,  80.6],\n",
       "       [ 48.2,  89.6,  59. ,  71.6,  55.4,  69.8,  55.4,  82.4,  42.8,\n",
       "         78.8,  59. ,  75.2,  53.6,  84.2],\n",
       "       [ 55.4,  78.8,  42.8,  82.4,  59. ,  68. ,  48.2,  86. ,  55.4,\n",
       "         87.8,  44.6,  89.6,  59. ,  80.6],\n",
       "       [ 44.6,  89.6,  51.8,  87.8,  46.4,  80.6,  51.8,  77. ,  50. ,\n",
       "         87.8,  42.8,  75.2,  42.8,  87.8],\n",
       "       [ 51.8,  82.4,  51.8,  77. ,  53.6,  73.4,  55.4,  73.4,  42.8,\n",
       "         77. ,  57.2,  77. ,  57.2,  78.8],\n",
       "       [ 46.4,  86. ,  53.6,  89.6,  42.8,  86. ,  51.8,  82.4,  51.8,\n",
       "         80.6,  59. ,  78.8,  46.4,  68. ],\n",
       "       [ 51.8,  84.2,  51.8,  80.6,  53.6,  82.4,  50. ,  71.6,  51.8,\n",
       "         69.8,  53.6,  80.6,  50. ,  82.4],\n",
       "       [ 37.4,  66.2,  46.4,  71.6,  44.6,  64.4,  44.6,  71.6,  37.4,\n",
       "         66.2,  42.8,  46.4,  68. ,  44.6],\n",
       "       [ 41. ,  64.4,  46.4,  66.2,  44.6,  64.4,  42.8,  66.2,  41. ,\n",
       "         64.4,  44.6,  42.8,  68. ,  41. ],\n",
       "       [ 35.6,  71.6,  44.6,  66.2,  39.2,  71.6,  35.6,  69.8,  46.4,\n",
       "         71.6,  39.2,  35.6,  69.8,  35.6],\n",
       "       [ 39.2,  71.6,  42.8,  64.4,  46.4,  71.6,  41. ,  64.4,  37.4,\n",
       "         71.6,  39.2,  46.4,  64.4,  44.6],\n",
       "       [ 50. ,  64.4,  48.2,  68. ,  14. ,  69.8,  51.8,  68. ,  53.6,\n",
       "         66.2,  53.6, 159.8,  71.6,  44.6],\n",
       "       [ 51.8,  64.4,  46.4,  69.8,  51.8,  71.6,  44.6,  66.2,  53.6,\n",
       "         66.2,  51.8,  46.4,  68. ,  46.4],\n",
       "       [ 53.6,  69.8,  50. ,  71.6,  44.6,  64.4,  46.4,  66.2,  48.2,\n",
       "         71.6,  44.6,  51.8,  64.4,  51.8],\n",
       "       [ 50. ,  71.6,  48.2,  64.4,  44.6,  66.2,  51.8,  64.4,  44.6,\n",
       "         69.8,  51.8,  44.6,  64.4,  53.6]])"
      ]
     },
     "execution_count": 119,
     "metadata": {},
     "output_type": "execute_result"
    }
   ],
   "source": [
    "Fahrenheit = np.round((9*(Celcius)/5 + 32),2).reshape(16,14)\n",
    "Fahrenheit"
   ]
  },
  {
   "cell_type": "markdown",
   "id": "64eef748",
   "metadata": {},
   "source": [
    "### 20.Sort the above data in descending order on the basis of weekly average for the month of Dec."
   ]
  },
  {
   "cell_type": "code",
   "execution_count": 120,
   "id": "c2a9d9ce",
   "metadata": {},
   "outputs": [
    {
     "data": {
      "text/plain": [
       "array([['December', 'Week 1', '7', '32', '11', '31', '8', '27', '11',\n",
       "        '25', '10', '31', '6', '24', '6', '31'],\n",
       "       ['December', 'Week 2', '11', '28', '11', '25', '12', '23', '13',\n",
       "        '23', '6', '25', '14', '25', '14', '26'],\n",
       "       ['December', 'Week 3', '8', '30', '12', '32', '6', '30', '11',\n",
       "        '28', '11', '27', '15', '26', '8', '20'],\n",
       "       ['December', 'Week 4', '11', '29', '11', '27', '12', '28', '10',\n",
       "        '22', '11', '21', '12', '27', '10', '28']], dtype='<U9')"
      ]
     },
     "execution_count": 120,
     "metadata": {},
     "output_type": "execute_result"
    }
   ],
   "source": [
    "Dec_data"
   ]
  },
  {
   "cell_type": "code",
   "execution_count": 121,
   "id": "e019dc17",
   "metadata": {},
   "outputs": [
    {
     "name": "stdout",
     "output_type": "stream",
     "text": [
      "the value of week one: [[ 7 32 11 31  8 27 11 25 10 31  6 24  6 31]]\n",
      "the mean value of week one: 18.571428571428573\n"
     ]
    }
   ],
   "source": [
    "Dec_week1 = Dec_data[0:1,2:].astype(int)\n",
    "print(\"the value of week one:\",Dec_week1)\n",
    "Dec_week1_ase = np.mean(Dec_week1)\n",
    "print(\"the mean value of week one:\",np.mean(Dec_week1))"
   ]
  },
  {
   "cell_type": "code",
   "execution_count": 122,
   "id": "a56926bf",
   "metadata": {},
   "outputs": [
    {
     "name": "stdout",
     "output_type": "stream",
     "text": [
      "the value of week two: [11 28 11 25 12 23 13 23  6 25 14 25 14 26]\n",
      "the mean value of week two: 18.285714285714285\n"
     ]
    }
   ],
   "source": [
    "Dec_week2 = Dec_data[1,2:].astype(int)\n",
    "print(\"the value of week two:\",Dec_week2)\n",
    "Dec_week2_ase = np.mean(Dec_week2)\n",
    "print(\"the mean value of week two:\",np.mean(Dec_week2))"
   ]
  },
  {
   "cell_type": "code",
   "execution_count": 123,
   "id": "f0d44fa2",
   "metadata": {},
   "outputs": [
    {
     "name": "stdout",
     "output_type": "stream",
     "text": [
      "the value of week three: [ 8 30 12 32  6 30 11 28 11 27 15 26  8 20]\n",
      "the mean value of week three: 18.857142857142858\n"
     ]
    }
   ],
   "source": [
    "Dec_week3 = Dec_data[2,2:].astype(int)\n",
    "print(\"the value of week three:\",Dec_week3)\n",
    "Dec_week3_ase = np.mean(Dec_week3)\n",
    "print(\"the mean value of week three:\",np.mean(Dec_week3))"
   ]
  },
  {
   "cell_type": "code",
   "execution_count": 124,
   "id": "79047941",
   "metadata": {},
   "outputs": [
    {
     "name": "stdout",
     "output_type": "stream",
     "text": [
      "the value of week four: [11 29 11 27 12 28 10 22 11 21 12 27 10 28]\n",
      "the mean value of week four: 18.5\n"
     ]
    }
   ],
   "source": [
    "Dec_week4 = Dec_data[3,2:].astype(int)\n",
    "print(\"the value of week four:\",Dec_week4)\n",
    "Dec_week4_ase = np.mean(Dec_week4)\n",
    "print(\"the mean value of week four:\",np.mean(Dec_week4))"
   ]
  },
  {
   "cell_type": "code",
   "execution_count": 125,
   "id": "bedd009f",
   "metadata": {},
   "outputs": [
    {
     "data": {
      "text/plain": [
       "array([18.57142857, 18.28571429, 18.85714286, 18.5       ])"
      ]
     },
     "execution_count": 125,
     "metadata": {},
     "output_type": "execute_result"
    }
   ],
   "source": [
    "Dec_week_ase = np.array((((Dec_week1_ase,Dec_week2_ase,Dec_week3_ase,Dec_week4_ase))))\n",
    "Dec_week_ase"
   ]
  },
  {
   "cell_type": "code",
   "execution_count": 126,
   "id": "b71e11bd",
   "metadata": {},
   "outputs": [
    {
     "data": {
      "text/plain": [
       "array([18.85714286, 18.57142857, 18.5       , 18.28571429])"
      ]
     },
     "execution_count": 126,
     "metadata": {},
     "output_type": "execute_result"
    }
   ],
   "source": [
    "Dec_week_des = np.sort(Dec_week_ase)[::-1]\n",
    "Dec_week_des"
   ]
  },
  {
   "cell_type": "markdown",
   "id": "46b25a9e",
   "metadata": {},
   "source": [
    "### 21. Sort the temp of the first three days of each month in descending order on the basis of overall average for the whole winter."
   ]
  },
  {
   "cell_type": "code",
   "execution_count": null,
   "id": "1219fb25",
   "metadata": {},
   "outputs": [],
   "source": []
  }
 ],
 "metadata": {
  "kernelspec": {
   "display_name": "Python 3",
   "language": "python",
   "name": "python3"
  },
  "language_info": {
   "codemirror_mode": {
    "name": "ipython",
    "version": 3
   },
   "file_extension": ".py",
   "mimetype": "text/x-python",
   "name": "python",
   "nbconvert_exporter": "python",
   "pygments_lexer": "ipython3",
   "version": "3.8.8"
  }
 },
 "nbformat": 4,
 "nbformat_minor": 5
}
