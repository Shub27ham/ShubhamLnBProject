{
 "cells": [
  {
   "cell_type": "code",
   "execution_count": 1,
   "id": "bbe7721e",
   "metadata": {},
   "outputs": [
    {
     "data": {
      "text/plain": [
       "3.2e-12"
      ]
     },
     "execution_count": 1,
     "metadata": {},
     "output_type": "execute_result"
    }
   ],
   "source": [
    "3.2e-12"
   ]
  },
  {
   "cell_type": "code",
   "execution_count": 2,
   "id": "d382ebfc",
   "metadata": {},
   "outputs": [],
   "source": [
    "name = 'shubham'"
   ]
  },
  {
   "cell_type": "code",
   "execution_count": 3,
   "id": "f4bb16a4",
   "metadata": {},
   "outputs": [
    {
     "name": "stdout",
     "output_type": "stream",
     "text": [
      "s\n",
      "h\n",
      "u\n",
      "b\n",
      "h\n",
      "a\n",
      "m\n"
     ]
    }
   ],
   "source": [
    "for i in name:\n",
    "    print(i)"
   ]
  },
  {
   "cell_type": "code",
   "execution_count": 4,
   "id": "f6263709",
   "metadata": {},
   "outputs": [],
   "source": [
    "value = range(10)"
   ]
  },
  {
   "cell_type": "code",
   "execution_count": 5,
   "id": "62f35aff",
   "metadata": {},
   "outputs": [
    {
     "name": "stdout",
     "output_type": "stream",
     "text": [
      "hello\n",
      "hello\n"
     ]
    }
   ],
   "source": [
    "for i in value:\n",
    "    if i == 2:\n",
    "        break\n",
    "    print('hello')"
   ]
  },
  {
   "cell_type": "code",
   "execution_count": 6,
   "id": "95deb776",
   "metadata": {},
   "outputs": [
    {
     "name": "stdout",
     "output_type": "stream",
     "text": [
      "0\n",
      "1\n",
      "2\n",
      "3\n",
      "5\n",
      "6\n",
      "7\n"
     ]
    }
   ],
   "source": [
    "for i in range(8):\n",
    "    if i==4:\n",
    "        continue\n",
    "    print(i)"
   ]
  },
  {
   "cell_type": "code",
   "execution_count": 7,
   "id": "e797602a",
   "metadata": {},
   "outputs": [],
   "source": [
    "a = 45\n",
    "b = 49\n",
    "c = 98"
   ]
  },
  {
   "cell_type": "code",
   "execution_count": 8,
   "id": "8b7ed205",
   "metadata": {},
   "outputs": [
    {
     "name": "stdout",
     "output_type": "stream",
     "text": [
      "c is greatest: True\n"
     ]
    }
   ],
   "source": [
    "if a>b:\n",
    "    print(\"a is greater:\", a>b)\n",
    "elif b>c:\n",
    "    print(\"b is greater:\", b>c)\n",
    "else: \n",
    "    print(\"c is greatest:\", c>a)"
   ]
  },
  {
   "cell_type": "code",
   "execution_count": 9,
   "id": "ef6e1b55",
   "metadata": {},
   "outputs": [
    {
     "name": "stdout",
     "output_type": "stream",
     "text": [
      "enter the value: 55\n"
     ]
    }
   ],
   "source": [
    "a = int(input(\"enter the value: \"))"
   ]
  },
  {
   "cell_type": "code",
   "execution_count": 10,
   "id": "6fa6db94",
   "metadata": {},
   "outputs": [
    {
     "name": "stdout",
     "output_type": "stream",
     "text": [
      "second devision\n"
     ]
    }
   ],
   "source": [
    "if a>=60:\n",
    "    print(\"first devision\")\n",
    "elif a<60 and a>=45:\n",
    "    print(\"second devision\")   \n",
    "elif a<45 and a>=30:\n",
    "    print(\"third devision\")\n",
    "else:\n",
    "    print(\"fail\")"
   ]
  },
  {
   "cell_type": "markdown",
   "id": "bbf9ed9a",
   "metadata": {},
   "source": [
    "# functions"
   ]
  },
  {
   "cell_type": "code",
   "execution_count": 11,
   "id": "603ad247",
   "metadata": {},
   "outputs": [],
   "source": [
    "def greetings():\n",
    "    print(\"hello\")"
   ]
  },
  {
   "cell_type": "code",
   "execution_count": 12,
   "id": "2e8d1473",
   "metadata": {},
   "outputs": [
    {
     "name": "stdout",
     "output_type": "stream",
     "text": [
      "hello\n"
     ]
    }
   ],
   "source": [
    "greetings()"
   ]
  },
  {
   "cell_type": "code",
   "execution_count": 13,
   "id": "1eb3f46c",
   "metadata": {},
   "outputs": [],
   "source": [
    "def addition(a,b):\n",
    "    s = a+b\n",
    "    print(s)\n",
    "    "
   ]
  },
  {
   "cell_type": "code",
   "execution_count": 14,
   "id": "f04fe55d",
   "metadata": {},
   "outputs": [
    {
     "name": "stdout",
     "output_type": "stream",
     "text": [
      "13\n"
     ]
    }
   ],
   "source": [
    "addition(5,8)"
   ]
  },
  {
   "cell_type": "code",
   "execution_count": 15,
   "id": "b68542cc",
   "metadata": {},
   "outputs": [],
   "source": [
    "def summation(*num):\n",
    "    r = 0\n",
    "    for n in num:\n",
    "        r = r+n\n",
    "    print(\"sum of no is:\", r)"
   ]
  },
  {
   "cell_type": "code",
   "execution_count": 16,
   "id": "2141b349",
   "metadata": {},
   "outputs": [
    {
     "name": "stdout",
     "output_type": "stream",
     "text": [
      "sum of no is: 1\n"
     ]
    }
   ],
   "source": [
    "summation(1)"
   ]
  },
  {
   "cell_type": "code",
   "execution_count": 17,
   "id": "1587a4ce",
   "metadata": {},
   "outputs": [
    {
     "name": "stdout",
     "output_type": "stream",
     "text": [
      "sum of no is: 9\n"
     ]
    }
   ],
   "source": [
    "summation(2,3,4)"
   ]
  },
  {
   "cell_type": "code",
   "execution_count": 18,
   "id": "859c4d84",
   "metadata": {},
   "outputs": [],
   "source": [
    "g = lambda name: print(\"hello\", name)"
   ]
  },
  {
   "cell_type": "code",
   "execution_count": 19,
   "id": "6ae94fe1",
   "metadata": {},
   "outputs": [
    {
     "name": "stdout",
     "output_type": "stream",
     "text": [
      "hello shubh\n"
     ]
    }
   ],
   "source": [
    "g(\"shubh\")"
   ]
  },
  {
   "cell_type": "code",
   "execution_count": 20,
   "id": "68bf2960",
   "metadata": {},
   "outputs": [],
   "source": [
    "l = [2,5,7,8,9,15,16]"
   ]
  },
  {
   "cell_type": "code",
   "execution_count": 21,
   "id": "262dabe9",
   "metadata": {},
   "outputs": [],
   "source": [
    "new_list = list(filter(lambda x:(x%2!=0),l))"
   ]
  },
  {
   "cell_type": "code",
   "execution_count": 22,
   "id": "0bb39622",
   "metadata": {},
   "outputs": [
    {
     "data": {
      "text/plain": [
       "[5, 7, 9, 15]"
      ]
     },
     "execution_count": 22,
     "metadata": {},
     "output_type": "execute_result"
    }
   ],
   "source": [
    "new_list"
   ]
  },
  {
   "cell_type": "code",
   "execution_count": 23,
   "id": "506c2110",
   "metadata": {},
   "outputs": [],
   "source": [
    "new_list = list(filter(lambda x:(x%2==0),l))"
   ]
  },
  {
   "cell_type": "code",
   "execution_count": 24,
   "id": "fedf6e3b",
   "metadata": {},
   "outputs": [
    {
     "data": {
      "text/plain": [
       "[2, 8, 16]"
      ]
     },
     "execution_count": 24,
     "metadata": {},
     "output_type": "execute_result"
    }
   ],
   "source": [
    "new_list"
   ]
  },
  {
   "cell_type": "code",
   "execution_count": 25,
   "id": "a01b2fb6",
   "metadata": {},
   "outputs": [
    {
     "name": "stdout",
     "output_type": "stream",
     "text": [
      "Input a string5\n",
      "Letters 0\n",
      "Digits 1\n"
     ]
    }
   ],
   "source": [
    "s = input(\"Input a string\")\n",
    "d=l=0\n",
    "for c in s:\n",
    "    if c.isdigit():\n",
    "        d=d+1\n",
    "    elif c.isalpha():\n",
    "        l=l+1\n",
    "    else:\n",
    "        pass\n",
    "print(\"Letters\", l)\n",
    "print(\"Digits\", d)"
   ]
  },
  {
   "cell_type": "code",
   "execution_count": 26,
   "id": "7ae7bda1",
   "metadata": {},
   "outputs": [
    {
     "name": "stdout",
     "output_type": "stream",
     "text": [
      "Input a word to reverse: 8\n",
      "8\n",
      "\n"
     ]
    }
   ],
   "source": [
    "word = input(\"Input a word to reverse: \")\n",
    " \n",
    "for char in range(len(word) - 1, -1, -1):\n",
    "  print(word[char], end=\"\")\n",
    "print(\"\\n\")"
   ]
  },
  {
   "cell_type": "code",
   "execution_count": 27,
   "id": "061071e7",
   "metadata": {},
   "outputs": [
    {
     "name": "stdout",
     "output_type": "stream",
     "text": [
      "7\n"
     ]
    }
   ],
   "source": [
    "print(4+3%5)"
   ]
  },
  {
   "cell_type": "code",
   "execution_count": 28,
   "id": "d7e11317",
   "metadata": {},
   "outputs": [
    {
     "name": "stdout",
     "output_type": "stream",
     "text": [
      "3\n"
     ]
    }
   ],
   "source": [
    "a = 10\n",
    "b = 3\n",
    "print(a//b)"
   ]
  },
  {
   "cell_type": "code",
   "execution_count": 29,
   "id": "c66e816a",
   "metadata": {},
   "outputs": [
    {
     "name": "stdout",
     "output_type": "stream",
     "text": [
      "Enter the number6\n"
     ]
    }
   ],
   "source": [
    "a = input(\"Enter the number\")"
   ]
  },
  {
   "cell_type": "code",
   "execution_count": 30,
   "id": "19098603",
   "metadata": {},
   "outputs": [
    {
     "name": "stdout",
     "output_type": "stream",
     "text": [
      "Twice of the number is:  66\n"
     ]
    }
   ],
   "source": [
    "print(\"Twice of the number is: \", a*2 )"
   ]
  },
  {
   "cell_type": "code",
   "execution_count": 31,
   "id": "8a88d11e",
   "metadata": {},
   "outputs": [
    {
     "name": "stdout",
     "output_type": "stream",
     "text": [
      "[1, 2, 3, 4, 5]\n"
     ]
    }
   ],
   "source": [
    "a = [1,2,3,4,5,6,7,8,9,0]\n",
    "print(a[0:5])"
   ]
  },
  {
   "cell_type": "code",
   "execution_count": 32,
   "id": "6f291b35",
   "metadata": {},
   "outputs": [
    {
     "name": "stdout",
     "output_type": "stream",
     "text": [
      "(2, 3, 4, 5)\n"
     ]
    }
   ],
   "source": [
    "b = (1,2,3,4,5)\n",
    "print(b[1::1])"
   ]
  },
  {
   "cell_type": "code",
   "execution_count": 33,
   "id": "32978e30",
   "metadata": {},
   "outputs": [
    {
     "name": "stdout",
     "output_type": "stream",
     "text": [
      "True\n"
     ]
    }
   ],
   "source": [
    "c = (23,88,99,101)\n",
    "print(23 in c)"
   ]
  },
  {
   "cell_type": "code",
   "execution_count": 34,
   "id": "9d149c22",
   "metadata": {},
   "outputs": [
    {
     "name": "stdout",
     "output_type": "stream",
     "text": [
      "21\n"
     ]
    }
   ],
   "source": [
    " d = [0,10,21,53,4]\n",
    "print(d[-3])"
   ]
  },
  {
   "cell_type": "code",
   "execution_count": 35,
   "id": "9f646426",
   "metadata": {},
   "outputs": [
    {
     "name": "stdout",
     "output_type": "stream",
     "text": [
      "{1, 2, 3, 4, 5, 6}\n"
     ]
    }
   ],
   "source": [
    "a = {1,2,3}\n",
    "b = {4,5,6}\n",
    "print(a | b)"
   ]
  },
  {
   "cell_type": "code",
   "execution_count": 36,
   "id": "f5e7ea73",
   "metadata": {},
   "outputs": [
    {
     "name": "stdout",
     "output_type": "stream",
     "text": [
      "lnB\n"
     ]
    }
   ],
   "source": [
    "a = \"lnB\"\n",
    "a.capitalize()\n",
    "print(a)"
   ]
  },
  {
   "cell_type": "code",
   "execution_count": 37,
   "id": "465e4117",
   "metadata": {},
   "outputs": [
    {
     "name": "stdout",
     "output_type": "stream",
     "text": [
      "2\n",
      "4\n",
      "5\n"
     ]
    }
   ],
   "source": [
    "for i in [1,3,4]:\n",
    "    print(i+1)"
   ]
  },
  {
   "cell_type": "code",
   "execution_count": 38,
   "id": "e9c07dd2",
   "metadata": {},
   "outputs": [
    {
     "name": "stdout",
     "output_type": "stream",
     "text": [
      "The result is 600\n",
      "The result is 70\n"
     ]
    }
   ],
   "source": [
    "def multiplication_or_sum(num1, num2):\n",
    "    # calculate product of two number\n",
    "    product = num1 * num2\n",
    "    # check if product is less then 1000\n",
    "    if product <= 1000:\n",
    "        return product\n",
    "    else:\n",
    "        # product is greater than 1000 calculate sum\n",
    "        return num1 + num2\n",
    "\n",
    "# first condition\n",
    "result = multiplication_or_sum(20, 30)\n",
    "print(\"The result is\", result)\n",
    "\n",
    "# Second condition\n",
    "result = multiplication_or_sum(40, 30)\n",
    "print(\"The result is\", result)"
   ]
  },
  {
   "cell_type": "code",
   "execution_count": 51,
   "id": "cdf868de",
   "metadata": {},
   "outputs": [],
   "source": [
    "def multiplication_or_sum(a, b):\n",
    "    product = a*b\n",
    "    sum = a+b\n",
    "    if a*b > 1000:\n",
    "        return product\n",
    "        print( \"product:\" ,product)\n",
    "    else:\n",
    "        return sum\n",
    "        print( \"sum:\", a+b)"
   ]
  },
  {
   "cell_type": "code",
   "execution_count": 53,
   "id": "9cdd8201",
   "metadata": {},
   "outputs": [
    {
     "name": "stdout",
     "output_type": "stream",
     "text": [
      "sum: 35\n"
     ]
    }
   ],
   "source": [
    "a=12\n",
    "b=23\n",
    "product = a*b\n",
    "sum = a+b\n",
    "if product>1000:\n",
    "       print( \"product:\" ,product)\n",
    "else :\n",
    "       print( \"sum:\", a+b)"
   ]
  },
  {
   "cell_type": "code",
   "execution_count": 54,
   "id": "ba4a4f81",
   "metadata": {},
   "outputs": [
    {
     "name": "stdout",
     "output_type": "stream",
     "text": [
      "Ben 25\n"
     ]
    }
   ],
   "source": [
    "# demo is the function name\n",
    "def demo(name, age):\n",
    "    # print value\n",
    "    print(name, age)\n",
    "\n",
    "# call function\n",
    "demo(\"Ben\", 25)"
   ]
  },
  {
   "cell_type": "code",
   "execution_count": 61,
   "id": "f122cc66",
   "metadata": {},
   "outputs": [
    {
     "name": "stdout",
     "output_type": "stream",
     "text": [
      "* *\n",
      "* * *\n",
      "* * * *\n",
      "* * * * *\n",
      "* * * * * *\n",
      "* * * * *\n",
      "* * * *\n",
      "* * *\n",
      "* *\n",
      "*\n"
     ]
    }
   ],
   "source": [
    "rows = 5\n",
    "for x in range(0, rows):\n",
    "    for y in range(0, x + 1):\n",
    "        print(\"*\", end=' ')\n",
    "    print(\"*\")\n",
    "\n",
    "rows = 5\n",
    "for x in range(rows, 0, -1):\n",
    "    for y in range(0, x - 1):\n",
    "        print(\"*\", end=' ')\n",
    "    print(\"*\")"
   ]
  },
  {
   "cell_type": "code",
   "execution_count": 66,
   "id": "22e5cd5c",
   "metadata": {},
   "outputs": [
    {
     "name": "stdout",
     "output_type": "stream",
     "text": [
      "String: HimaNShu\n"
     ]
    }
   ],
   "source": [
    "str1 = \"HimaNShu\"\n",
    "print('String:', str1)\n",
    "lower = []\n",
    "upper = []\n",
    "for x in str1:\n",
    "    if x.islower():\n",
    "        lower.append(char)\n",
    "    else:\n",
    "        upper.append(char)"
   ]
  },
  {
   "cell_type": "code",
   "execution_count": 64,
   "id": "7e9b904c",
   "metadata": {},
   "outputs": [
    {
     "name": "stdout",
     "output_type": "stream",
     "text": [
      "Result: ntivPYAE\n"
     ]
    }
   ],
   "source": [
    "sorted_str = ''.join(lower + upper)\n",
    "print('Result:', sorted_str)"
   ]
  },
  {
   "cell_type": "code",
   "execution_count": 69,
   "id": "d956f4de",
   "metadata": {},
   "outputs": [
    {
     "name": "stdout",
     "output_type": "stream",
     "text": [
      "Original list  [34, 54, 67, 89, 11, 43, 94]\n",
      "List After removing element at index 4  [34, 54, 67, 89, 43, 94]\n",
      "List after Adding element at index 2  [34, 54, 11, 67, 89, 43, 94]\n",
      "List after Adding element at last  [34, 54, 11, 67, 89, 43, 94, 11]\n"
     ]
    }
   ],
   "source": [
    "sample_list = [34, 54, 67, 89, 11, 43, 94]\n",
    "\n",
    "print(\"Original list \", sample_list)\n",
    "element = sample_list.pop(4)\n",
    "print(\"List After removing element at index 4 \", sample_list)\n",
    "\n",
    "sample_list.insert(2, element)\n",
    "print(\"List after Adding element at index 2 \", sample_list)\n",
    "\n",
    "sample_list.append(element)\n",
    "print(\"List after Adding element at last \", sample_list)"
   ]
  },
  {
   "cell_type": "code",
   "execution_count": 70,
   "id": "bfffc241",
   "metadata": {},
   "outputs": [
    {
     "name": "stdout",
     "output_type": "stream",
     "text": [
      "[5]\n"
     ]
    }
   ],
   "source": [
    "x= [1,2,3,4,5,]\n",
    "\n",
    "slicing_x = x[-1:]\n",
    "\n",
    "print(slicing_x)"
   ]
  },
  {
   "cell_type": "code",
   "execution_count": 75,
   "id": "3f1db5f1",
   "metadata": {},
   "outputs": [
    {
     "name": "stdout",
     "output_type": "stream",
     "text": [
      "Please enter your name.Hello\n",
      "Hello!, Hello\n"
     ]
    }
   ],
   "source": [
    "name=input(\"Please enter your name.\")\n",
    "str = \"Hello!, {}\".format(name)\n",
    "print(str)"
   ]
  },
  {
   "cell_type": "code",
   "execution_count": 77,
   "id": "e44236e0",
   "metadata": {},
   "outputs": [
    {
     "name": "stdout",
     "output_type": "stream",
     "text": [
      "[1, 2, 3, 4, 5]\n"
     ]
    }
   ],
   "source": [
    "lst1=[1,2,3,4,5]\n",
    "lst2 = [i for i in lst1]\n",
    "print(lst2)"
   ]
  },
  {
   "cell_type": "code",
   "execution_count": 78,
   "id": "2f0a4268",
   "metadata": {},
   "outputs": [
    {
     "name": "stdout",
     "output_type": "stream",
     "text": [
      "{100: 1.0, 110: 1.1, 120: 1.2, 130: 1.3, 140: 1.4, 150: 1.5}\n"
     ]
    }
   ],
   "source": [
    "rng = range(100, 160, 10)\n",
    "dict = {i:i/100 for i in rng}\n",
    "print(dict)"
   ]
  },
  {
   "cell_type": "code",
   "execution_count": 79,
   "id": "eee95efd",
   "metadata": {},
   "outputs": [
    {
     "name": "stdout",
     "output_type": "stream",
     "text": [
      "[(4887871, 'Alabama'), (39865590, 'California'), (1420491, 'Hawaii'), (19542209, 'New York'), (626299, 'Vermont'), (1805832, 'West Virginia')]\n"
     ]
    }
   ],
   "source": [
    "lst=[(19542209, \"New York\") ,(4887871, \"Alabama\"), (1420491, \"Hawaii\"), (626299, \"Vermont\"), (1805832, \"West Virginia\"), (39865590, \"California\")]\n",
    "lst = sorted(lst, key=lambda x: x[1])\n",
    "print(lst)"
   ]
  },
  {
   "cell_type": "code",
   "execution_count": 80,
   "id": "9d777471",
   "metadata": {},
   "outputs": [
    {
     "name": "stdout",
     "output_type": "stream",
     "text": [
      "[10000, 999, 100, 99, 10, 9, 1]\n"
     ]
    }
   ],
   "source": [
    "lst=[100, 10, 10000, 1, 9, 999, 99]\n",
    "lst.sort(key=lambda x: 100/x)\n",
    "print(lst)"
   ]
  },
  {
   "cell_type": "code",
   "execution_count": 81,
   "id": "459f4fd5",
   "metadata": {},
   "outputs": [
    {
     "name": "stdout",
     "output_type": "stream",
     "text": [
      "0\n",
      "1\n",
      "2\n",
      "3\n",
      "4\n",
      "5\n",
      "6\n",
      "7\n"
     ]
    }
   ],
   "source": [
    "for i in range(100):\n",
    "    print(i)\n",
    "    if i == 7:\n",
    "        break"
   ]
  },
  {
   "cell_type": "code",
   "execution_count": 82,
   "id": "1e982333",
   "metadata": {},
   "outputs": [
    {
     "name": "stdout",
     "output_type": "stream",
     "text": [
      "[[100 110]\n",
      " [120 130]\n",
      " [140 150]\n",
      " [160 170]\n",
      " [180 190]]\n"
     ]
    }
   ],
   "source": [
    "import numpy as np\n",
    "x = np.arange(100, 200, 10).reshape(5,2)\n",
    "print (x)"
   ]
  },
  {
   "cell_type": "code",
   "execution_count": 83,
   "id": "1bb277f0",
   "metadata": {},
   "outputs": [
    {
     "ename": "SyntaxError",
     "evalue": "invalid syntax (<ipython-input-83-996a70081bde>, line 2)",
     "output_type": "error",
     "traceback": [
      "\u001b[1;36m  File \u001b[1;32m\"<ipython-input-83-996a70081bde>\"\u001b[1;36m, line \u001b[1;32m2\u001b[0m\n\u001b[1;33m    Expression:\u001b[0m\n\u001b[1;37m               ^\u001b[0m\n\u001b[1;31mSyntaxError\u001b[0m\u001b[1;31m:\u001b[0m invalid syntax\n"
     ]
    }
   ],
   "source": [
    "What is the result of the following expression?\n",
    "Expression:\n",
    "0 * np.nan\n",
    "np.nan == np.nan\n",
    "np.inf > np.nan\n",
    "np.nan - np.nan\n",
    "np.nan in set([np.nan])\n",
    "0.3 == 3 * 0.1"
   ]
  },
  {
   "cell_type": "code",
   "execution_count": 86,
   "id": "caa867ce",
   "metadata": {},
   "outputs": [
    {
     "ename": "SyntaxError",
     "evalue": "invalid syntax (<ipython-input-86-61bd636f21c4>, line 2)",
     "output_type": "error",
     "traceback": [
      "\u001b[1;36m  File \u001b[1;32m\"<ipython-input-86-61bd636f21c4>\"\u001b[1;36m, line \u001b[1;32m2\u001b[0m\n\u001b[1;33m    for i= 1:endof(A)\u001b[0m\n\u001b[1;37m         ^\u001b[0m\n\u001b[1;31mSyntaxError\u001b[0m\u001b[1;31m:\u001b[0m invalid syntax\n"
     ]
    }
   ],
   "source": [
    "A = [1,2,0,0,4,0]\n",
    "for i= 1:endof(A)\n",
    "   if A[i] != 0\n",
    "      []\n",
    "   end\n",
    "end"
   ]
  },
  {
   "cell_type": "code",
   "execution_count": 87,
   "id": "42f381b3",
   "metadata": {},
   "outputs": [
    {
     "name": "stdout",
     "output_type": "stream",
     "text": [
      "['A', 'B', 'C', 'D', 'E', 'F', 'G', 'H', 'I', 'J', 'K', 'L', 'M', 'N', 'O', 'P', 'Q', 'R', 'S', 'T', 'U', 'V', 'W', 'X', 'Y', 'Z']\n"
     ]
    }
   ],
   "source": [
    "import string\n",
    "alphabet = list(string.ascii_uppercase)\n",
    "print(alphabet)"
   ]
  },
  {
   "cell_type": "code",
   "execution_count": null,
   "id": "46c08260",
   "metadata": {},
   "outputs": [],
   "source": []
  }
 ],
 "metadata": {
  "kernelspec": {
   "display_name": "Python 3",
   "language": "python",
   "name": "python3"
  },
  "language_info": {
   "codemirror_mode": {
    "name": "ipython",
    "version": 3
   },
   "file_extension": ".py",
   "mimetype": "text/x-python",
   "name": "python",
   "nbconvert_exporter": "python",
   "pygments_lexer": "ipython3",
   "version": "3.8.8"
  }
 },
 "nbformat": 4,
 "nbformat_minor": 5
}
