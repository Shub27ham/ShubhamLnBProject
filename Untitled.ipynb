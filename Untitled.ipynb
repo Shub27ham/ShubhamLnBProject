{
 "cells": [
  {
   "cell_type": "code",
   "execution_count": 1,
   "id": "bbe7721e",
   "metadata": {},
   "outputs": [
    {
     "data": {
      "text/plain": [
       "3.2e-12"
      ]
     },
     "execution_count": 1,
     "metadata": {},
     "output_type": "execute_result"
    }
   ],
   "source": [
    "3.2e-12"
   ]
  },
  {
   "cell_type": "code",
   "execution_count": 2,
   "id": "d382ebfc",
   "metadata": {},
   "outputs": [],
   "source": [
    "name = 'shubham'"
   ]
  },
  {
   "cell_type": "code",
   "execution_count": 3,
   "id": "f4bb16a4",
   "metadata": {},
   "outputs": [
    {
     "name": "stdout",
     "output_type": "stream",
     "text": [
      "s\n",
      "h\n",
      "u\n",
      "b\n",
      "h\n",
      "a\n",
      "m\n"
     ]
    }
   ],
   "source": [
    "for i in name:\n",
    "    print(i)"
   ]
  },
  {
   "cell_type": "code",
   "execution_count": 4,
   "id": "f6263709",
   "metadata": {},
   "outputs": [],
   "source": [
    "value = range(10)"
   ]
  },
  {
   "cell_type": "code",
   "execution_count": 5,
   "id": "62f35aff",
   "metadata": {},
   "outputs": [
    {
     "name": "stdout",
     "output_type": "stream",
     "text": [
      "hello\n",
      "hello\n"
     ]
    }
   ],
   "source": [
    "for i in value:\n",
    "    if i == 2:\n",
    "        break\n",
    "    print('hello')"
   ]
  },
  {
   "cell_type": "code",
   "execution_count": 6,
   "id": "95deb776",
   "metadata": {},
   "outputs": [
    {
     "name": "stdout",
     "output_type": "stream",
     "text": [
      "0\n",
      "1\n",
      "2\n",
      "3\n",
      "5\n",
      "6\n",
      "7\n"
     ]
    }
   ],
   "source": [
    "for i in range(8):\n",
    "    if i==4:\n",
    "        continue\n",
    "    print(i)"
   ]
  },
  {
   "cell_type": "code",
   "execution_count": 7,
   "id": "e797602a",
   "metadata": {},
   "outputs": [],
   "source": [
    "a = 45\n",
    "b = 49\n",
    "c = 98"
   ]
  },
  {
   "cell_type": "code",
   "execution_count": 8,
   "id": "8b7ed205",
   "metadata": {},
   "outputs": [
    {
     "name": "stdout",
     "output_type": "stream",
     "text": [
      "c is greatest: True\n"
     ]
    }
   ],
   "source": [
    "if a>b:\n",
    "    print(\"a is greater:\", a>b)\n",
    "elif b>c:\n",
    "    print(\"b is greater:\", b>c)\n",
    "else: \n",
    "    print(\"c is greatest:\", c>a)"
   ]
  },
  {
   "cell_type": "code",
   "execution_count": 9,
   "id": "ef6e1b55",
   "metadata": {},
   "outputs": [
    {
     "name": "stdout",
     "output_type": "stream",
     "text": [
      "enter the value: 55\n"
     ]
    }
   ],
   "source": [
    "a = int(input(\"enter the value: \"))"
   ]
  },
  {
   "cell_type": "code",
   "execution_count": 10,
   "id": "6fa6db94",
   "metadata": {},
   "outputs": [
    {
     "name": "stdout",
     "output_type": "stream",
     "text": [
      "second devision\n"
     ]
    }
   ],
   "source": [
    "if a>=60:\n",
    "    print(\"first devision\")\n",
    "elif a<60 and a>=45:\n",
    "    print(\"second devision\")   \n",
    "elif a<45 and a>=30:\n",
    "    print(\"third devision\")\n",
    "else:\n",
    "    print(\"fail\")"
   ]
  },
  {
   "cell_type": "markdown",
   "id": "bbf9ed9a",
   "metadata": {},
   "source": [
    "# functions"
   ]
  },
  {
   "cell_type": "code",
   "execution_count": 11,
   "id": "603ad247",
   "metadata": {},
   "outputs": [],
   "source": [
    "def greetings():\n",
    "    print(\"hello\")"
   ]
  },
  {
   "cell_type": "code",
   "execution_count": 12,
   "id": "2e8d1473",
   "metadata": {},
   "outputs": [
    {
     "name": "stdout",
     "output_type": "stream",
     "text": [
      "hello\n"
     ]
    }
   ],
   "source": [
    "greetings()"
   ]
  },
  {
   "cell_type": "code",
   "execution_count": 13,
   "id": "1eb3f46c",
   "metadata": {},
   "outputs": [],
   "source": [
    "def addition(a,b):\n",
    "    s = a+b\n",
    "    print(s)\n",
    "    "
   ]
  },
  {
   "cell_type": "code",
   "execution_count": 14,
   "id": "f04fe55d",
   "metadata": {},
   "outputs": [
    {
     "name": "stdout",
     "output_type": "stream",
     "text": [
      "13\n"
     ]
    }
   ],
   "source": [
    "addition(5,8)"
   ]
  },
  {
   "cell_type": "code",
   "execution_count": 15,
   "id": "b68542cc",
   "metadata": {},
   "outputs": [],
   "source": [
    "def summation(*num):\n",
    "    r = 0\n",
    "    for n in num:\n",
    "        r = r+n\n",
    "    print(\"sum of no is:\", r)"
   ]
  },
  {
   "cell_type": "code",
   "execution_count": 16,
   "id": "2141b349",
   "metadata": {},
   "outputs": [
    {
     "name": "stdout",
     "output_type": "stream",
     "text": [
      "sum of no is: 1\n"
     ]
    }
   ],
   "source": [
    "summation(1)"
   ]
  },
  {
   "cell_type": "code",
   "execution_count": 17,
   "id": "1587a4ce",
   "metadata": {},
   "outputs": [
    {
     "name": "stdout",
     "output_type": "stream",
     "text": [
      "sum of no is: 9\n"
     ]
    }
   ],
   "source": [
    "summation(2,3,4)"
   ]
  },
  {
   "cell_type": "code",
   "execution_count": 18,
   "id": "859c4d84",
   "metadata": {},
   "outputs": [],
   "source": [
    "g = lambda name: print(\"hello\", name)"
   ]
  },
  {
   "cell_type": "code",
   "execution_count": 19,
   "id": "6ae94fe1",
   "metadata": {},
   "outputs": [
    {
     "name": "stdout",
     "output_type": "stream",
     "text": [
      "hello shubh\n"
     ]
    }
   ],
   "source": [
    "g(\"shubh\")"
   ]
  },
  {
   "cell_type": "code",
   "execution_count": 20,
   "id": "68bf2960",
   "metadata": {},
   "outputs": [],
   "source": [
    "l = [2,5,7,8,9,15,16]"
   ]
  },
  {
   "cell_type": "code",
   "execution_count": 21,
   "id": "262dabe9",
   "metadata": {},
   "outputs": [],
   "source": [
    "new_list = list(filter(lambda x:(x%2!=0),l))"
   ]
  },
  {
   "cell_type": "code",
   "execution_count": 22,
   "id": "0bb39622",
   "metadata": {},
   "outputs": [
    {
     "data": {
      "text/plain": [
       "[5, 7, 9, 15]"
      ]
     },
     "execution_count": 22,
     "metadata": {},
     "output_type": "execute_result"
    }
   ],
   "source": [
    "new_list"
   ]
  },
  {
   "cell_type": "code",
   "execution_count": 23,
   "id": "506c2110",
   "metadata": {},
   "outputs": [],
   "source": [
    "new_list = list(filter(lambda x:(x%2==0),l))"
   ]
  },
  {
   "cell_type": "code",
   "execution_count": 24,
   "id": "fedf6e3b",
   "metadata": {},
   "outputs": [
    {
     "data": {
      "text/plain": [
       "[2, 8, 16]"
      ]
     },
     "execution_count": 24,
     "metadata": {},
     "output_type": "execute_result"
    }
   ],
   "source": [
    "new_list"
   ]
  },
  {
   "cell_type": "code",
   "execution_count": 25,
   "id": "a01b2fb6",
   "metadata": {},
   "outputs": [
    {
     "name": "stdout",
     "output_type": "stream",
     "text": [
      "Input a stringjgfkjfg6\n",
      "Letters 7\n",
      "Digits 1\n"
     ]
    }
   ],
   "source": [
    "s = input(\"Input a string\")\n",
    "d=l=0\n",
    "for c in s:\n",
    "    if c.isdigit():\n",
    "        d=d+1\n",
    "    elif c.isalpha():\n",
    "        l=l+1\n",
    "    else:\n",
    "        pass\n",
    "print(\"Letters\", l)\n",
    "print(\"Digits\", d)"
   ]
  },
  {
   "cell_type": "code",
   "execution_count": 26,
   "id": "7ae7bda1",
   "metadata": {},
   "outputs": [
    {
     "name": "stdout",
     "output_type": "stream",
     "text": [
      "Input a word to reverse: 56\n",
      "65\n",
      "\n"
     ]
    }
   ],
   "source": [
    "word = input(\"Input a word to reverse: \")\n",
    " \n",
    "for char in range(len(word) - 1, -1, -1):\n",
    "  print(word[char], end=\"\")\n",
    "print(\"\\n\")"
   ]
  },
  {
   "cell_type": "code",
   "execution_count": 27,
   "id": "061071e7",
   "metadata": {},
   "outputs": [
    {
     "name": "stdout",
     "output_type": "stream",
     "text": [
      "7\n"
     ]
    }
   ],
   "source": [
    "print(4+3%5)"
   ]
  },
  {
   "cell_type": "code",
   "execution_count": 30,
   "id": "d7e11317",
   "metadata": {},
   "outputs": [
    {
     "name": "stdout",
     "output_type": "stream",
     "text": [
      "3\n"
     ]
    }
   ],
   "source": [
    "a = 10\n",
    "b = 3\n",
    "print(a//b)"
   ]
  },
  {
   "cell_type": "code",
   "execution_count": 31,
   "id": "c66e816a",
   "metadata": {},
   "outputs": [
    {
     "name": "stdout",
     "output_type": "stream",
     "text": [
      "Enter the number\n"
     ]
    }
   ],
   "source": [
    "a = input(\"Enter the number\")"
   ]
  },
  {
   "cell_type": "code",
   "execution_count": 32,
   "id": "19098603",
   "metadata": {},
   "outputs": [
    {
     "name": "stdout",
     "output_type": "stream",
     "text": [
      "Twice of the number is:  \n"
     ]
    }
   ],
   "source": [
    "print(\"Twice of the number is: \", a*2 )"
   ]
  },
  {
   "cell_type": "code",
   "execution_count": 33,
   "id": "8a88d11e",
   "metadata": {},
   "outputs": [
    {
     "name": "stdout",
     "output_type": "stream",
     "text": [
      "[1, 2, 3, 4, 5]\n"
     ]
    }
   ],
   "source": [
    "a = [1,2,3,4,5,6,7,8,9,0]\n",
    "print(a[0:5])"
   ]
  },
  {
   "cell_type": "code",
   "execution_count": 34,
   "id": "6f291b35",
   "metadata": {},
   "outputs": [
    {
     "name": "stdout",
     "output_type": "stream",
     "text": [
      "(2, 3, 4, 5)\n"
     ]
    }
   ],
   "source": [
    "b = (1,2,3,4,5)\n",
    "print(b[1::1])"
   ]
  },
  {
   "cell_type": "code",
   "execution_count": 35,
   "id": "32978e30",
   "metadata": {},
   "outputs": [
    {
     "name": "stdout",
     "output_type": "stream",
     "text": [
      "True\n"
     ]
    }
   ],
   "source": [
    "c = (23,88,99,101)\n",
    "print(23 in c)"
   ]
  },
  {
   "cell_type": "code",
   "execution_count": 36,
   "id": "9d149c22",
   "metadata": {},
   "outputs": [
    {
     "name": "stdout",
     "output_type": "stream",
     "text": [
      "21\n"
     ]
    }
   ],
   "source": [
    " d = [0,10,21,53,4]\n",
    "print(d[-3])"
   ]
  },
  {
   "cell_type": "code",
   "execution_count": 37,
   "id": "8e51a741",
   "metadata": {},
   "outputs": [
    {
     "ename": "NameError",
     "evalue": "name 'discard' is not defined",
     "output_type": "error",
     "traceback": [
      "\u001b[1;31m---------------------------------------------------------------------------\u001b[0m",
      "\u001b[1;31mNameError\u001b[0m                                 Traceback (most recent call last)",
      "\u001b[1;32m<ipython-input-37-f7177ef244ae>\u001b[0m in \u001b[0;36m<module>\u001b[1;34m\u001b[0m\n\u001b[0;32m      1\u001b[0m \u001b[0ma\u001b[0m \u001b[1;33m=\u001b[0m \u001b[1;33m{\u001b[0m\u001b[1;36m1\u001b[0m\u001b[1;33m,\u001b[0m\u001b[1;36m2\u001b[0m\u001b[1;33m,\u001b[0m\u001b[1;36m3\u001b[0m\u001b[1;33m,\u001b[0m\u001b[1;36m4.5\u001b[0m\u001b[1;33m}\u001b[0m\u001b[1;33m\u001b[0m\u001b[1;33m\u001b[0m\u001b[0m\n\u001b[1;32m----> 2\u001b[1;33m \u001b[0mdiscard\u001b[0m\u001b[1;33m(\u001b[0m\u001b[1;36m0\u001b[0m\u001b[1;33m)\u001b[0m\u001b[1;33m\u001b[0m\u001b[1;33m\u001b[0m\u001b[0m\n\u001b[0m",
      "\u001b[1;31mNameError\u001b[0m: name 'discard' is not defined"
     ]
    }
   ],
   "source": [
    "a = {1,2,3,4.5}\n",
    "discard(0)"
   ]
  },
  {
   "cell_type": "code",
   "execution_count": 43,
   "id": "9f646426",
   "metadata": {},
   "outputs": [
    {
     "name": "stdout",
     "output_type": "stream",
     "text": [
      "{1, 2, 3, 4, 5, 6}\n"
     ]
    }
   ],
   "source": [
    "a = {1,2,3}\n",
    "b = {4,5,6}\n",
    "print(a | b)"
   ]
  },
  {
   "cell_type": "code",
   "execution_count": 44,
   "id": "f5e7ea73",
   "metadata": {},
   "outputs": [
    {
     "name": "stdout",
     "output_type": "stream",
     "text": [
      "lnB\n"
     ]
    }
   ],
   "source": [
    "a = \"lnB\"\n",
    "a.capitalize()\n",
    "print(a)"
   ]
  },
  {
   "cell_type": "code",
   "execution_count": 45,
   "id": "78b7f200",
   "metadata": {},
   "outputs": [
    {
     "ename": "NameError",
     "evalue": "name 'remove' is not defined",
     "output_type": "error",
     "traceback": [
      "\u001b[1;31m---------------------------------------------------------------------------\u001b[0m",
      "\u001b[1;31mNameError\u001b[0m                                 Traceback (most recent call last)",
      "\u001b[1;32m<ipython-input-45-67c6ac2bdcb7>\u001b[0m in \u001b[0;36m<module>\u001b[1;34m\u001b[0m\n\u001b[0;32m      1\u001b[0m \u001b[0ma\u001b[0m \u001b[1;33m=\u001b[0m \u001b[1;33m[\u001b[0m\u001b[1;36m1\u001b[0m\u001b[1;33m,\u001b[0m\u001b[1;36m2\u001b[0m\u001b[1;33m,\u001b[0m\u001b[1;36m3\u001b[0m\u001b[1;33m]\u001b[0m\u001b[1;33m\u001b[0m\u001b[1;33m\u001b[0m\u001b[0m\n\u001b[1;32m----> 2\u001b[1;33m \u001b[0mremove\u001b[0m\u001b[1;33m(\u001b[0m\u001b[1;36m2\u001b[0m\u001b[1;33m)\u001b[0m\u001b[1;33m\u001b[0m\u001b[1;33m\u001b[0m\u001b[0m\n\u001b[0m\u001b[0;32m      3\u001b[0m \u001b[0mprint\u001b[0m\u001b[1;33m(\u001b[0m\u001b[0ma\u001b[0m\u001b[1;33m)\u001b[0m\u001b[1;33m\u001b[0m\u001b[1;33m\u001b[0m\u001b[0m\n",
      "\u001b[1;31mNameError\u001b[0m: name 'remove' is not defined"
     ]
    }
   ],
   "source": [
    "a = [1,2,3]\n",
    "remove(2)\n",
    "print(a)"
   ]
  },
  {
   "cell_type": "code",
   "execution_count": 46,
   "id": "465e4117",
   "metadata": {},
   "outputs": [
    {
     "name": "stdout",
     "output_type": "stream",
     "text": [
      "2\n",
      "4\n",
      "5\n"
     ]
    }
   ],
   "source": [
    "for i in [1,3,4]:\n",
    "    print(i+1)"
   ]
  },
  {
   "cell_type": "code",
   "execution_count": 47,
   "id": "2f342c57",
   "metadata": {},
   "outputs": [
    {
     "ename": "TypeError",
     "evalue": "unsupported operand type(s) for +: 'int' and 'set'",
     "output_type": "error",
     "traceback": [
      "\u001b[1;31m---------------------------------------------------------------------------\u001b[0m",
      "\u001b[1;31mTypeError\u001b[0m                                 Traceback (most recent call last)",
      "\u001b[1;32m<ipython-input-47-c14aad4f7942>\u001b[0m in \u001b[0;36m<module>\u001b[1;34m\u001b[0m\n\u001b[0;32m      1\u001b[0m \u001b[0ma\u001b[0m \u001b[1;33m=\u001b[0m \u001b[1;36m10\u001b[0m\u001b[1;33m\u001b[0m\u001b[1;33m\u001b[0m\u001b[0m\n\u001b[1;32m----> 2\u001b[1;33m \u001b[0mprint\u001b[0m\u001b[1;33m(\u001b[0m\u001b[0ma\u001b[0m\u001b[1;33m+\u001b[0m\u001b[0mb\u001b[0m\u001b[1;33m)\u001b[0m\u001b[1;33m\u001b[0m\u001b[1;33m\u001b[0m\u001b[0m\n\u001b[0m\u001b[0;32m      3\u001b[0m \u001b[0mb\u001b[0m \u001b[1;33m=\u001b[0m \u001b[1;36m5\u001b[0m\u001b[1;33m\u001b[0m\u001b[1;33m\u001b[0m\u001b[0m\n",
      "\u001b[1;31mTypeError\u001b[0m: unsupported operand type(s) for +: 'int' and 'set'"
     ]
    }
   ],
   "source": [
    "a = 10\n",
    "print(a+b)\n",
    "b = 5"
   ]
  },
  {
   "cell_type": "code",
   "execution_count": 48,
   "id": "7eec501c",
   "metadata": {},
   "outputs": [],
   "source": [
    "f = open(\"Lnb.txt\", 'a+')"
   ]
  },
  {
   "cell_type": "code",
   "execution_count": 49,
   "id": "a59d6142",
   "metadata": {},
   "outputs": [
    {
     "ename": "SyntaxError",
     "evalue": "invalid syntax (<ipython-input-49-92e470c2823a>, line 4)",
     "output_type": "error",
     "traceback": [
      "\u001b[1;36m  File \u001b[1;32m\"<ipython-input-49-92e470c2823a>\"\u001b[1;36m, line \u001b[1;32m4\u001b[0m\n\u001b[1;33m    a-=\u001b[0m\n\u001b[1;37m       ^\u001b[0m\n\u001b[1;31mSyntaxError\u001b[0m\u001b[1;31m:\u001b[0m invalid syntax\n"
     ]
    }
   ],
   "source": [
    "a = 3\n",
    "while a>0:\n",
    "    print(a*2)\n",
    "    a-="
   ]
  },
  {
   "cell_type": "code",
   "execution_count": null,
   "id": "86284689",
   "metadata": {},
   "outputs": [],
   "source": []
  },
  {
   "cell_type": "code",
   "execution_count": null,
   "id": "5f1e55db",
   "metadata": {},
   "outputs": [],
   "source": []
  }
 ],
 "metadata": {
  "kernelspec": {
   "display_name": "Python 3",
   "language": "python",
   "name": "python3"
  },
  "language_info": {
   "codemirror_mode": {
    "name": "ipython",
    "version": 3
   },
   "file_extension": ".py",
   "mimetype": "text/x-python",
   "name": "python",
   "nbconvert_exporter": "python",
   "pygments_lexer": "ipython3",
   "version": "3.8.8"
  }
 },
 "nbformat": 4,
 "nbformat_minor": 5
}
