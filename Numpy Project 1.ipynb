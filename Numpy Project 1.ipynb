{
 "cells": [
  {
   "cell_type": "code",
   "execution_count": 1,
   "id": "9dc4327a",
   "metadata": {},
   "outputs": [],
   "source": [
    "import csv"
   ]
  },
  {
   "cell_type": "code",
   "execution_count": 2,
   "id": "332f75d8",
   "metadata": {},
   "outputs": [],
   "source": [
    "import numpy as np"
   ]
  },
  {
   "cell_type": "code",
   "execution_count": 3,
   "id": "6d5028e2",
   "metadata": {},
   "outputs": [],
   "source": [
    "data = []"
   ]
  },
  {
   "cell_type": "code",
   "execution_count": 4,
   "id": "af16510e",
   "metadata": {},
   "outputs": [],
   "source": [
    "with open(\"SampleTemperature Sheet - Sheet1.csv\", 'r') as x:\n",
    "    data = list(csv.reader(x, delimiter=\",\"))"
   ]
  },
  {
   "cell_type": "markdown",
   "id": "ccb1d153",
   "metadata": {},
   "source": [
    "### 1. Data representation in appropriate Numpy"
   ]
  },
  {
   "cell_type": "code",
   "execution_count": 5,
   "id": "2f483916",
   "metadata": {},
   "outputs": [
    {
     "data": {
      "text/plain": [
       "array([['Temprature Sheet', '', '', '', '', '', '', '', '', '', '', '',\n",
       "        '', '', '', ''],\n",
       "       ['', '', '', '', '', '', '', '', '', '', '', '', '', '', '', ''],\n",
       "       ['Month', 'Week', 'Monday', '', 'Tuesday', '', 'Wednesday', '',\n",
       "        'Thursday', '', 'Friday', '', 'Saturday', '', 'Sunday', ''],\n",
       "       ['November', '', 'Min Temp', 'Max Temp', 'Min Temp', 'Max Temp',\n",
       "        'Min Temp', 'Max Temp', 'Min Temp', 'Max Temp', 'Min Temp',\n",
       "        'Max Temp', 'Min Temp', 'Max Temp', 'Min Temp', 'Max Temp'],\n",
       "       ['', 'Week 1', '8', '21', '11', '20', '12', '30', '15', '20',\n",
       "        '11', '31', '14', '20', '8', '26'],\n",
       "       ['', 'Week 2', '9', '21', '9', '23', '14', '21', '-13', '23',\n",
       "        '11', '23', '10', '26', '6', '27'],\n",
       "       ['', 'Week 3', '9', '32', '15', '22', '13', '21', '13', '28', '6',\n",
       "        '26', '15', '24', '12', '29'],\n",
       "       ['', 'Week 4', '13', '26', '6', '28', '15', '20', '9', '30', '13',\n",
       "        '31', '7', '32', '15', '27'],\n",
       "       ['December', 'Week 1', '7', '32', '11', '31', '8', '27', '11',\n",
       "        '25', '10', '31', '6', '24', '6', '31'],\n",
       "       ['', 'Week 2', '11', '28', '11', '25', '12', '23', '13', '23',\n",
       "        '6', '25', '14', '25', '14', '26'],\n",
       "       ['', 'Week 3', '8', '30', '12', '32', '6', '30', '11', '28', '11',\n",
       "        '27', '15', '26', '8', '20'],\n",
       "       ['', 'Week 4', '11', '29', '11', '27', '12', '28', '10', '22',\n",
       "        '11', '21', '12', '27', '10', '28'],\n",
       "       ['January', 'Week 1', '3', '19', '8', '22', '7', '18', '7', '22',\n",
       "        '3', '19', '6', '8', '20', '7'],\n",
       "       ['', 'Week 2', '5', '18', '8', '19', '7', '18', '6', '19', '5',\n",
       "        '18', '7', '6', '20', '5'],\n",
       "       ['', 'Week 3', '2', '22', '7', '19', '4', '22', '2', '21', '8',\n",
       "        '22', '4', '2', '21', '2'],\n",
       "       ['', 'Week 4', '4', '22', '6', '18', '8', '22', '5', '18', '3',\n",
       "        '22', '4', '8', '18', '7'],\n",
       "       ['February', 'Week 1', '10', '18', '9', '20', '-10', '21', '11',\n",
       "        '20', '12', '19', '12', '71', '22', '7'],\n",
       "       ['', 'Week 2', '11', '18', '8', '21', '11', '22', '7', '19', '12',\n",
       "        '19', '11', '8', '20', '8'],\n",
       "       ['', 'Week 3', '12', '21', '10', '22', '7', '18', '8', '19', '9',\n",
       "        '22', '7', '11', '18', '11'],\n",
       "       ['', 'Week 4', '10', '22', '9', '18', '7', '19', '11', '18', '7',\n",
       "        '21', '11', '7', '18', '12']], dtype='<U16')"
      ]
     },
     "metadata": {},
     "output_type": "display_data"
    }
   ],
   "source": [
    "data = np.array(data)\n",
    "display(data)"
   ]
  },
  {
   "cell_type": "markdown",
   "id": "c31b23dc",
   "metadata": {},
   "source": [
    "### 2. Dimensions and shape of the array"
   ]
  },
  {
   "cell_type": "code",
   "execution_count": 6,
   "id": "5be5830e",
   "metadata": {},
   "outputs": [
    {
     "data": {
      "text/plain": [
       "(20, 16)"
      ]
     },
     "execution_count": 6,
     "metadata": {},
     "output_type": "execute_result"
    }
   ],
   "source": [
    "data.shape #shape of array"
   ]
  },
  {
   "cell_type": "code",
   "execution_count": 7,
   "id": "0f48048e",
   "metadata": {},
   "outputs": [
    {
     "data": {
      "text/plain": [
       "numpy.str_"
      ]
     },
     "execution_count": 7,
     "metadata": {},
     "output_type": "execute_result"
    }
   ],
   "source": [
    "data.dtype.type"
   ]
  },
  {
   "cell_type": "code",
   "execution_count": 8,
   "id": "a1b99138",
   "metadata": {},
   "outputs": [
    {
     "data": {
      "text/plain": [
       "2"
      ]
     },
     "execution_count": 8,
     "metadata": {},
     "output_type": "execute_result"
    }
   ],
   "source": [
    "data.ndim #dimension of array"
   ]
  },
  {
   "cell_type": "markdown",
   "id": "a7df8050",
   "metadata": {},
   "source": [
    "### 3. The daily temperatures for the first week of each month"
   ]
  },
  {
   "cell_type": "code",
   "execution_count": 9,
   "id": "0aeb23f5",
   "metadata": {},
   "outputs": [],
   "source": [
    "a = data[2:5,0:]"
   ]
  },
  {
   "cell_type": "code",
   "execution_count": 10,
   "id": "ebdf5cf4",
   "metadata": {},
   "outputs": [
    {
     "data": {
      "text/plain": [
       "array([['Month', 'Week', 'Monday', '', 'Tuesday', '', 'Wednesday', '',\n",
       "        'Thursday', '', 'Friday', '', 'Saturday', '', 'Sunday', ''],\n",
       "       ['November', '', 'Min Temp', 'Max Temp', 'Min Temp', 'Max Temp',\n",
       "        'Min Temp', 'Max Temp', 'Min Temp', 'Max Temp', 'Min Temp',\n",
       "        'Max Temp', 'Min Temp', 'Max Temp', 'Min Temp', 'Max Temp'],\n",
       "       ['', 'Week 1', '8', '21', '11', '20', '12', '30', '15', '20',\n",
       "        '11', '31', '14', '20', '8', '26']], dtype='<U16')"
      ]
     },
     "execution_count": 10,
     "metadata": {},
     "output_type": "execute_result"
    }
   ],
   "source": [
    "a"
   ]
  },
  {
   "cell_type": "code",
   "execution_count": 11,
   "id": "79435d48",
   "metadata": {},
   "outputs": [],
   "source": [
    "b = data[8,0:]"
   ]
  },
  {
   "cell_type": "code",
   "execution_count": 12,
   "id": "4854e9be",
   "metadata": {},
   "outputs": [
    {
     "data": {
      "text/plain": [
       "array(['December', 'Week 1', '7', '32', '11', '31', '8', '27', '11', '25',\n",
       "       '10', '31', '6', '24', '6', '31'], dtype='<U16')"
      ]
     },
     "execution_count": 12,
     "metadata": {},
     "output_type": "execute_result"
    }
   ],
   "source": [
    "b"
   ]
  },
  {
   "cell_type": "code",
   "execution_count": 13,
   "id": "043fd210",
   "metadata": {},
   "outputs": [],
   "source": [
    "c = data[12,0:]"
   ]
  },
  {
   "cell_type": "code",
   "execution_count": 14,
   "id": "aeac7b05",
   "metadata": {},
   "outputs": [],
   "source": [
    "d= data[16, 0:]"
   ]
  },
  {
   "cell_type": "code",
   "execution_count": 15,
   "id": "f3b14662",
   "metadata": {},
   "outputs": [],
   "source": [
    "p = np.vstack((((a,b,c,d))))"
   ]
  },
  {
   "cell_type": "code",
   "execution_count": 16,
   "id": "a06c6823",
   "metadata": {},
   "outputs": [
    {
     "data": {
      "text/plain": [
       "array([['Month', 'Week', 'Monday', '', 'Tuesday', '', 'Wednesday', '',\n",
       "        'Thursday', '', 'Friday', '', 'Saturday', '', 'Sunday', ''],\n",
       "       ['November', '', 'Min Temp', 'Max Temp', 'Min Temp', 'Max Temp',\n",
       "        'Min Temp', 'Max Temp', 'Min Temp', 'Max Temp', 'Min Temp',\n",
       "        'Max Temp', 'Min Temp', 'Max Temp', 'Min Temp', 'Max Temp'],\n",
       "       ['', 'Week 1', '8', '21', '11', '20', '12', '30', '15', '20',\n",
       "        '11', '31', '14', '20', '8', '26'],\n",
       "       ['December', 'Week 1', '7', '32', '11', '31', '8', '27', '11',\n",
       "        '25', '10', '31', '6', '24', '6', '31'],\n",
       "       ['January', 'Week 1', '3', '19', '8', '22', '7', '18', '7', '22',\n",
       "        '3', '19', '6', '8', '20', '7'],\n",
       "       ['February', 'Week 1', '10', '18', '9', '20', '-10', '21', '11',\n",
       "        '20', '12', '19', '12', '71', '22', '7']], dtype='<U16')"
      ]
     },
     "execution_count": 16,
     "metadata": {},
     "output_type": "execute_result"
    }
   ],
   "source": [
    "p"
   ]
  },
  {
   "cell_type": "code",
   "execution_count": 17,
   "id": "e3b33c25",
   "metadata": {},
   "outputs": [
    {
     "data": {
      "text/plain": [
       "(6, 16)"
      ]
     },
     "execution_count": 17,
     "metadata": {},
     "output_type": "execute_result"
    }
   ],
   "source": [
    "p.shape"
   ]
  },
  {
   "cell_type": "markdown",
   "id": "394a52a5",
   "metadata": {},
   "source": [
    "### 4. Print the temperatures for Tuesday of each month"
   ]
  },
  {
   "cell_type": "code",
   "execution_count": 18,
   "id": "88bb7da7",
   "metadata": {},
   "outputs": [],
   "source": [
    "Tuesday_temp = data[2: ,0:5]"
   ]
  },
  {
   "cell_type": "code",
   "execution_count": 19,
   "id": "c0055bc5",
   "metadata": {},
   "outputs": [
    {
     "data": {
      "text/plain": [
       "array([['Month', 'Week', 'Monday', '', 'Tuesday'],\n",
       "       ['November', '', 'Min Temp', 'Max Temp', 'Min Temp'],\n",
       "       ['', 'Week 1', '8', '21', '11'],\n",
       "       ['', 'Week 2', '9', '21', '9'],\n",
       "       ['', 'Week 3', '9', '32', '15'],\n",
       "       ['', 'Week 4', '13', '26', '6'],\n",
       "       ['December', 'Week 1', '7', '32', '11'],\n",
       "       ['', 'Week 2', '11', '28', '11'],\n",
       "       ['', 'Week 3', '8', '30', '12'],\n",
       "       ['', 'Week 4', '11', '29', '11'],\n",
       "       ['January', 'Week 1', '3', '19', '8'],\n",
       "       ['', 'Week 2', '5', '18', '8'],\n",
       "       ['', 'Week 3', '2', '22', '7'],\n",
       "       ['', 'Week 4', '4', '22', '6'],\n",
       "       ['February', 'Week 1', '10', '18', '9'],\n",
       "       ['', 'Week 2', '11', '18', '8'],\n",
       "       ['', 'Week 3', '12', '21', '10'],\n",
       "       ['', 'Week 4', '10', '22', '9']], dtype='<U16')"
      ]
     },
     "execution_count": 19,
     "metadata": {},
     "output_type": "execute_result"
    }
   ],
   "source": [
    "Tuesday_temp"
   ]
  },
  {
   "cell_type": "code",
   "execution_count": 20,
   "id": "d264e365",
   "metadata": {},
   "outputs": [],
   "source": [
    "l = np.delete(Tuesday_temp,2)"
   ]
  },
  {
   "cell_type": "code",
   "execution_count": 21,
   "id": "8c1080d6",
   "metadata": {},
   "outputs": [
    {
     "data": {
      "text/plain": [
       "array(['Month', 'Week', '', 'Tuesday', 'November', '', 'Min Temp',\n",
       "       'Max Temp', 'Min Temp', '', 'Week 1', '8', '21', '11', '',\n",
       "       'Week 2', '9', '21', '9', '', 'Week 3', '9', '32', '15', '',\n",
       "       'Week 4', '13', '26', '6', 'December', 'Week 1', '7', '32', '11',\n",
       "       '', 'Week 2', '11', '28', '11', '', 'Week 3', '8', '30', '12', '',\n",
       "       'Week 4', '11', '29', '11', 'January', 'Week 1', '3', '19', '8',\n",
       "       '', 'Week 2', '5', '18', '8', '', 'Week 3', '2', '22', '7', '',\n",
       "       'Week 4', '4', '22', '6', 'February', 'Week 1', '10', '18', '9',\n",
       "       '', 'Week 2', '11', '18', '8', '', 'Week 3', '12', '21', '10', '',\n",
       "       'Week 4', '10', '22', '9'], dtype='<U16')"
      ]
     },
     "execution_count": 21,
     "metadata": {},
     "output_type": "execute_result"
    }
   ],
   "source": [
    "l"
   ]
  },
  {
   "cell_type": "code",
   "execution_count": 22,
   "id": "8ed794e1",
   "metadata": {},
   "outputs": [
    {
     "data": {
      "text/plain": [
       "array(['Month', 'Week', 'Tuesday', 'November', '', 'Min Temp', 'Max Temp',\n",
       "       'Min Temp', '', 'Week 1', '8', '21', '11', '', 'Week 2', '9', '21',\n",
       "       '9', '', 'Week 3', '9', '32', '15', '', 'Week 4', '13', '26', '6',\n",
       "       'December', 'Week 1', '7', '32', '11', '', 'Week 2', '11', '28',\n",
       "       '11', '', 'Week 3', '8', '30', '12', '', 'Week 4', '11', '29',\n",
       "       '11', 'January', 'Week 1', '3', '19', '8', '', 'Week 2', '5', '18',\n",
       "       '8', '', 'Week 3', '2', '22', '7', '', 'Week 4', '4', '22', '6',\n",
       "       'February', 'Week 1', '10', '18', '9', '', 'Week 2', '11', '18',\n",
       "       '8', '', 'Week 3', '12', '21', '10', '', 'Week 4', '10', '22', '9'],\n",
       "      dtype='<U16')"
      ]
     },
     "execution_count": 22,
     "metadata": {},
     "output_type": "execute_result"
    }
   ],
   "source": [
    "np.delete(l,2)"
   ]
  },
  {
   "cell_type": "code",
   "execution_count": null,
   "id": "ad96a550",
   "metadata": {},
   "outputs": [],
   "source": []
  },
  {
   "cell_type": "code",
   "execution_count": null,
   "id": "157a625d",
   "metadata": {},
   "outputs": [],
   "source": []
  }
 ],
 "metadata": {
  "kernelspec": {
   "display_name": "Python 3",
   "language": "python",
   "name": "python3"
  },
  "language_info": {
   "codemirror_mode": {
    "name": "ipython",
    "version": 3
   },
   "file_extension": ".py",
   "mimetype": "text/x-python",
   "name": "python",
   "nbconvert_exporter": "python",
   "pygments_lexer": "ipython3",
   "version": "3.8.8"
  }
 },
 "nbformat": 4,
 "nbformat_minor": 5
}
