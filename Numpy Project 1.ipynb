{
 "cells": [
  {
   "cell_type": "code",
   "execution_count": 1,
   "id": "9dc4327a",
   "metadata": {},
   "outputs": [],
   "source": [
    "import csv"
   ]
  },
  {
   "cell_type": "code",
   "execution_count": 2,
   "id": "332f75d8",
   "metadata": {},
   "outputs": [],
   "source": [
    "import numpy as np"
   ]
  },
  {
   "cell_type": "code",
   "execution_count": 3,
   "id": "6d5028e2",
   "metadata": {},
   "outputs": [],
   "source": [
    "data = []"
   ]
  },
  {
   "cell_type": "code",
   "execution_count": 4,
   "id": "af16510e",
   "metadata": {},
   "outputs": [],
   "source": [
    "with open(\"SampleTemperature Sheet - Sheet1.csv\", 'r') as x:\n",
    "    data = list(csv.reader(x, delimiter=\",\"))"
   ]
  },
  {
   "cell_type": "markdown",
   "id": "c4bf0909",
   "metadata": {},
   "source": [
    "### 1. Data representation in appropriate Numpy"
   ]
  },
  {
   "cell_type": "code",
   "execution_count": 5,
   "id": "b77dd7aa",
   "metadata": {},
   "outputs": [],
   "source": [
    "#Filling the missing values with suitable terms using masking"
   ]
  },
  {
   "cell_type": "code",
   "execution_count": 6,
   "id": "9151ba13",
   "metadata": {},
   "outputs": [
    {
     "data": {
      "text/plain": [
       "array([['Month', 'Week', 'Monday', '', 'Tuesday', '', 'Wednesday', '',\n",
       "        'Thursday', '', 'Friday', '', 'Saturday', '', 'Sunday', ''],\n",
       "       ['', '', 'Min Temp', 'Max Temp', 'Min Temp', 'Max Temp',\n",
       "        'Min Temp', 'Max Temp', 'Min Temp', 'Max Temp', 'Min Temp',\n",
       "        'Max Temp', 'Min Temp', 'Max Temp', 'Min Temp', 'Max Temp'],\n",
       "       ['November', 'Week 1', '8', '21', '11', '20', '12', '30', '15',\n",
       "        '20', '11', '31', '14', '20', '8', '26'],\n",
       "       ['', 'Week 2', '9', '21', '9', '23', '14', '21', '-13', '23',\n",
       "        '11', '23', '10', '26', '6', '27'],\n",
       "       ['', 'Week 3', '9', '32', '15', '22', '13', '21', '13', '28', '6',\n",
       "        '26', '15', '24', '12', '29'],\n",
       "       ['', 'Week 4', '13', '26', '6', '28', '15', '20', '9', '30', '13',\n",
       "        '31', '7', '32', '15', '27'],\n",
       "       ['December', 'Week 1', '7', '32', '11', '31', '8', '27', '11',\n",
       "        '25', '10', '31', '6', '24', '6', '31'],\n",
       "       ['', 'Week 2', '11', '28', '11', '25', '12', '23', '13', '23',\n",
       "        '6', '25', '14', '25', '14', '26'],\n",
       "       ['', 'Week 3', '8', '30', '12', '32', '6', '30', '11', '28', '11',\n",
       "        '27', '15', '26', '8', '20'],\n",
       "       ['', 'Week 4', '11', '29', '11', '27', '12', '28', '10', '22',\n",
       "        '11', '21', '12', '27', '10', '28'],\n",
       "       ['January', 'Week 1', '3', '19', '8', '22', '7', '18', '7', '22',\n",
       "        '3', '19', '6', '8', '20', '7'],\n",
       "       ['', 'Week 2', '5', '18', '8', '19', '7', '18', '6', '19', '5',\n",
       "        '18', '7', '6', '20', '5'],\n",
       "       ['', 'Week 3', '2', '22', '7', '19', '4', '22', '2', '21', '8',\n",
       "        '22', '4', '2', '21', '2'],\n",
       "       ['', 'Week 4', '4', '22', '6', '18', '8', '22', '5', '18', '3',\n",
       "        '22', '4', '8', '18', '7'],\n",
       "       ['February', 'Week 1', '10', '18', '9', '20', '-10', '21', '11',\n",
       "        '20', '12', '19', '12', '71', '22', '7'],\n",
       "       ['', 'Week 2', '11', '18', '8', '21', '11', '22', '7', '19', '12',\n",
       "        '19', '11', '8', '20', '8'],\n",
       "       ['', 'Week 3', '12', '21', '10', '22', '7', '18', '8', '19', '9',\n",
       "        '22', '7', '11', '18', '11'],\n",
       "       ['', 'Week 4', '10', '22', '9', '18', '7', '19', '11', '18', '7',\n",
       "        '21', '11', '7', '18', '12']], dtype='<U9')"
      ]
     },
     "metadata": {},
     "output_type": "display_data"
    }
   ],
   "source": [
    "data = np.array(data)\n",
    "display(data)"
   ]
  },
  {
   "cell_type": "code",
   "execution_count": 7,
   "id": "71a393a9",
   "metadata": {},
   "outputs": [],
   "source": [
    "Index = data[0:2,:] #make a array wich contains all index values"
   ]
  },
  {
   "cell_type": "code",
   "execution_count": 8,
   "id": "12a62ffd",
   "metadata": {},
   "outputs": [
    {
     "data": {
      "text/plain": [
       "array([['Month', 'Week', 'Monday', '', 'Tuesday', '', 'Wednesday', '',\n",
       "        'Thursday', '', 'Friday', '', 'Saturday', '', 'Sunday', ''],\n",
       "       ['', '', 'Min Temp', 'Max Temp', 'Min Temp', 'Max Temp',\n",
       "        'Min Temp', 'Max Temp', 'Min Temp', 'Max Temp', 'Min Temp',\n",
       "        'Max Temp', 'Min Temp', 'Max Temp', 'Min Temp', 'Max Temp']],\n",
       "      dtype='<U9')"
      ]
     },
     "execution_count": 8,
     "metadata": {},
     "output_type": "execute_result"
    }
   ],
   "source": [
    "Index"
   ]
  },
  {
   "cell_type": "code",
   "execution_count": 9,
   "id": "aae26e0c",
   "metadata": {},
   "outputs": [
    {
     "data": {
      "text/plain": [
       "array([['Month', 'Week', 'Monday', 'Monday', 'Tuesday', 'Tuesday',\n",
       "        'Wednesday', 'Wednesday', 'Thursday', 'Thursday', 'Friday',\n",
       "        'Friday', 'Saturday', 'Saturday', 'Sunday', 'Sunday'],\n",
       "       ['Month', 'Week', 'Min Temp', 'Max Temp', 'Min Temp', 'Max Temp',\n",
       "        'Min Temp', 'Max Temp', 'Min Temp', 'Max Temp', 'Min Temp',\n",
       "        'Max Temp', 'Min Temp', 'Max Temp', 'Min Temp', 'Max Temp']],\n",
       "      dtype='<U9')"
      ]
     },
     "execution_count": 9,
     "metadata": {},
     "output_type": "execute_result"
    }
   ],
   "source": [
    "Index[0,3] = 'Monday'\n",
    "Index[0,5] = 'Tuesday'\n",
    "Index[0,7] = 'Wednesday'\n",
    "Index[0,9] = 'Thursday'\n",
    "Index[0,11] = 'Friday'\n",
    "Index[0,13] = 'Saturday'\n",
    "Index[0,15] = 'Sunday'\n",
    "Index[1,0] = 'Month'\n",
    "Index[1,1] = 'Week'\n",
    "Index \n",
    "#filling all missing values of index with suitable ones"
   ]
  },
  {
   "cell_type": "code",
   "execution_count": 10,
   "id": "fc7f2bfc",
   "metadata": {},
   "outputs": [
    {
     "data": {
      "text/plain": [
       "array([['November', 'Week 1', '8', '21', '11', '20', '12', '30', '15',\n",
       "        '20', '11', '31', '14', '20', '8', '26'],\n",
       "       ['', 'Week 2', '9', '21', '9', '23', '14', '21', '-13', '23',\n",
       "        '11', '23', '10', '26', '6', '27'],\n",
       "       ['', 'Week 3', '9', '32', '15', '22', '13', '21', '13', '28', '6',\n",
       "        '26', '15', '24', '12', '29'],\n",
       "       ['', 'Week 4', '13', '26', '6', '28', '15', '20', '9', '30', '13',\n",
       "        '31', '7', '32', '15', '27']], dtype='<U9')"
      ]
     },
     "execution_count": 10,
     "metadata": {},
     "output_type": "execute_result"
    }
   ],
   "source": [
    "Nov_data = data[2:6,0:]\n",
    "Nov_data #make a array of data set contains only november month data"
   ]
  },
  {
   "cell_type": "code",
   "execution_count": 11,
   "id": "6076513b",
   "metadata": {},
   "outputs": [
    {
     "data": {
      "text/plain": [
       "(4, 16)"
      ]
     },
     "execution_count": 11,
     "metadata": {},
     "output_type": "execute_result"
    }
   ],
   "source": [
    "Nov_data.shape"
   ]
  },
  {
   "cell_type": "code",
   "execution_count": 12,
   "id": "2a8f55f6",
   "metadata": {},
   "outputs": [],
   "source": [
    "Nov_data[1:4,0] = 'November' #fiiling the missing value with November value"
   ]
  },
  {
   "cell_type": "code",
   "execution_count": 13,
   "id": "e1f3307a",
   "metadata": {},
   "outputs": [
    {
     "data": {
      "text/plain": [
       "array([['November', 'Week 1', '8', '21', '11', '20', '12', '30', '15',\n",
       "        '20', '11', '31', '14', '20', '8', '26'],\n",
       "       ['November', 'Week 2', '9', '21', '9', '23', '14', '21', '-13',\n",
       "        '23', '11', '23', '10', '26', '6', '27'],\n",
       "       ['November', 'Week 3', '9', '32', '15', '22', '13', '21', '13',\n",
       "        '28', '6', '26', '15', '24', '12', '29'],\n",
       "       ['November', 'Week 4', '13', '26', '6', '28', '15', '20', '9',\n",
       "        '30', '13', '31', '7', '32', '15', '27']], dtype='<U9')"
      ]
     },
     "execution_count": 13,
     "metadata": {},
     "output_type": "execute_result"
    }
   ],
   "source": [
    "Nov_data"
   ]
  },
  {
   "cell_type": "code",
   "execution_count": 14,
   "id": "7083bdaf",
   "metadata": {},
   "outputs": [
    {
     "data": {
      "text/plain": [
       "array([['December', 'Week 1', '7', '32', '11', '31', '8', '27', '11',\n",
       "        '25', '10', '31', '6', '24', '6', '31'],\n",
       "       ['', 'Week 2', '11', '28', '11', '25', '12', '23', '13', '23',\n",
       "        '6', '25', '14', '25', '14', '26'],\n",
       "       ['', 'Week 3', '8', '30', '12', '32', '6', '30', '11', '28', '11',\n",
       "        '27', '15', '26', '8', '20'],\n",
       "       ['', 'Week 4', '11', '29', '11', '27', '12', '28', '10', '22',\n",
       "        '11', '21', '12', '27', '10', '28']], dtype='<U9')"
      ]
     },
     "execution_count": 14,
     "metadata": {},
     "output_type": "execute_result"
    }
   ],
   "source": [
    "Dec_data = data[6:10,0:]\n",
    "Dec_data #make a array of data set contains only december month data"
   ]
  },
  {
   "cell_type": "code",
   "execution_count": 15,
   "id": "57323caa",
   "metadata": {},
   "outputs": [],
   "source": [
    "Dec_data[1:4,0] = 'December' #fiiling the missing value with december value"
   ]
  },
  {
   "cell_type": "code",
   "execution_count": 16,
   "id": "9c80ace4",
   "metadata": {},
   "outputs": [
    {
     "data": {
      "text/plain": [
       "array([['December', 'Week 1', '7', '32', '11', '31', '8', '27', '11',\n",
       "        '25', '10', '31', '6', '24', '6', '31'],\n",
       "       ['December', 'Week 2', '11', '28', '11', '25', '12', '23', '13',\n",
       "        '23', '6', '25', '14', '25', '14', '26'],\n",
       "       ['December', 'Week 3', '8', '30', '12', '32', '6', '30', '11',\n",
       "        '28', '11', '27', '15', '26', '8', '20'],\n",
       "       ['December', 'Week 4', '11', '29', '11', '27', '12', '28', '10',\n",
       "        '22', '11', '21', '12', '27', '10', '28']], dtype='<U9')"
      ]
     },
     "execution_count": 16,
     "metadata": {},
     "output_type": "execute_result"
    }
   ],
   "source": [
    "Dec_data"
   ]
  },
  {
   "cell_type": "code",
   "execution_count": 17,
   "id": "e52abc68",
   "metadata": {},
   "outputs": [
    {
     "data": {
      "text/plain": [
       "array([['January', 'Week 1', '3', '19', '8', '22', '7', '18', '7', '22',\n",
       "        '3', '19', '6', '8', '20', '7'],\n",
       "       ['', 'Week 2', '5', '18', '8', '19', '7', '18', '6', '19', '5',\n",
       "        '18', '7', '6', '20', '5'],\n",
       "       ['', 'Week 3', '2', '22', '7', '19', '4', '22', '2', '21', '8',\n",
       "        '22', '4', '2', '21', '2'],\n",
       "       ['', 'Week 4', '4', '22', '6', '18', '8', '22', '5', '18', '3',\n",
       "        '22', '4', '8', '18', '7']], dtype='<U9')"
      ]
     },
     "execution_count": 17,
     "metadata": {},
     "output_type": "execute_result"
    }
   ],
   "source": [
    "Jan_data = data[10:14,0:]\n",
    "Jan_data #make a array of data set contains only january month data"
   ]
  },
  {
   "cell_type": "code",
   "execution_count": 18,
   "id": "6584b347",
   "metadata": {},
   "outputs": [
    {
     "data": {
      "text/plain": [
       "array([['January', 'Week 1', '3', '19', '8', '22', '7', '18', '7', '22',\n",
       "        '3', '19', '6', '8', '20', '7'],\n",
       "       ['January', 'Week 2', '5', '18', '8', '19', '7', '18', '6', '19',\n",
       "        '5', '18', '7', '6', '20', '5'],\n",
       "       ['January', 'Week 3', '2', '22', '7', '19', '4', '22', '2', '21',\n",
       "        '8', '22', '4', '2', '21', '2'],\n",
       "       ['January', 'Week 4', '4', '22', '6', '18', '8', '22', '5', '18',\n",
       "        '3', '22', '4', '8', '18', '7']], dtype='<U9')"
      ]
     },
     "execution_count": 18,
     "metadata": {},
     "output_type": "execute_result"
    }
   ],
   "source": [
    "Jan_data[1:4,0] = 'January'\n",
    "Jan_data                        #fiiling the missing value with january value"
   ]
  },
  {
   "cell_type": "code",
   "execution_count": 19,
   "id": "94f4d31e",
   "metadata": {},
   "outputs": [
    {
     "data": {
      "text/plain": [
       "array([['February', 'Week 1', '10', '18', '9', '20', '-10', '21', '11',\n",
       "        '20', '12', '19', '12', '71', '22', '7'],\n",
       "       ['', 'Week 2', '11', '18', '8', '21', '11', '22', '7', '19', '12',\n",
       "        '19', '11', '8', '20', '8'],\n",
       "       ['', 'Week 3', '12', '21', '10', '22', '7', '18', '8', '19', '9',\n",
       "        '22', '7', '11', '18', '11'],\n",
       "       ['', 'Week 4', '10', '22', '9', '18', '7', '19', '11', '18', '7',\n",
       "        '21', '11', '7', '18', '12']], dtype='<U9')"
      ]
     },
     "execution_count": 19,
     "metadata": {},
     "output_type": "execute_result"
    }
   ],
   "source": [
    "Feb_data = data[14:18,0:]\n",
    "Feb_data #make a array of data set contains only feburary month data"
   ]
  },
  {
   "cell_type": "code",
   "execution_count": 20,
   "id": "3eed1092",
   "metadata": {},
   "outputs": [
    {
     "data": {
      "text/plain": [
       "array([['February', 'Week 1', '10', '18', '9', '20', '-10', '21', '11',\n",
       "        '20', '12', '19', '12', '71', '22', '7'],\n",
       "       ['Febuary', 'Week 2', '11', '18', '8', '21', '11', '22', '7',\n",
       "        '19', '12', '19', '11', '8', '20', '8'],\n",
       "       ['Febuary', 'Week 3', '12', '21', '10', '22', '7', '18', '8',\n",
       "        '19', '9', '22', '7', '11', '18', '11'],\n",
       "       ['Febuary', 'Week 4', '10', '22', '9', '18', '7', '19', '11',\n",
       "        '18', '7', '21', '11', '7', '18', '12']], dtype='<U9')"
      ]
     },
     "execution_count": 20,
     "metadata": {},
     "output_type": "execute_result"
    }
   ],
   "source": [
    "Feb_data[1:4,0] = 'Febuary' #fiiling the missing value with feburary value\n",
    "Feb_data"
   ]
  },
  {
   "cell_type": "code",
   "execution_count": 21,
   "id": "5abc3afa",
   "metadata": {},
   "outputs": [],
   "source": [
    "data = np.vstack(((((Index,Nov_data,Dec_data,Jan_data,Feb_data)))))"
   ]
  },
  {
   "cell_type": "code",
   "execution_count": 22,
   "id": "bd1edc61",
   "metadata": {},
   "outputs": [
    {
     "data": {
      "text/plain": [
       "array([['Month', 'Week', 'Monday', 'Monday', 'Tuesday', 'Tuesday',\n",
       "        'Wednesday', 'Wednesday', 'Thursday', 'Thursday', 'Friday',\n",
       "        'Friday', 'Saturday', 'Saturday', 'Sunday', 'Sunday'],\n",
       "       ['Month', 'Week', 'Min Temp', 'Max Temp', 'Min Temp', 'Max Temp',\n",
       "        'Min Temp', 'Max Temp', 'Min Temp', 'Max Temp', 'Min Temp',\n",
       "        'Max Temp', 'Min Temp', 'Max Temp', 'Min Temp', 'Max Temp'],\n",
       "       ['November', 'Week 1', '8', '21', '11', '20', '12', '30', '15',\n",
       "        '20', '11', '31', '14', '20', '8', '26'],\n",
       "       ['November', 'Week 2', '9', '21', '9', '23', '14', '21', '-13',\n",
       "        '23', '11', '23', '10', '26', '6', '27'],\n",
       "       ['November', 'Week 3', '9', '32', '15', '22', '13', '21', '13',\n",
       "        '28', '6', '26', '15', '24', '12', '29'],\n",
       "       ['November', 'Week 4', '13', '26', '6', '28', '15', '20', '9',\n",
       "        '30', '13', '31', '7', '32', '15', '27'],\n",
       "       ['December', 'Week 1', '7', '32', '11', '31', '8', '27', '11',\n",
       "        '25', '10', '31', '6', '24', '6', '31'],\n",
       "       ['December', 'Week 2', '11', '28', '11', '25', '12', '23', '13',\n",
       "        '23', '6', '25', '14', '25', '14', '26'],\n",
       "       ['December', 'Week 3', '8', '30', '12', '32', '6', '30', '11',\n",
       "        '28', '11', '27', '15', '26', '8', '20'],\n",
       "       ['December', 'Week 4', '11', '29', '11', '27', '12', '28', '10',\n",
       "        '22', '11', '21', '12', '27', '10', '28'],\n",
       "       ['January', 'Week 1', '3', '19', '8', '22', '7', '18', '7', '22',\n",
       "        '3', '19', '6', '8', '20', '7'],\n",
       "       ['January', 'Week 2', '5', '18', '8', '19', '7', '18', '6', '19',\n",
       "        '5', '18', '7', '6', '20', '5'],\n",
       "       ['January', 'Week 3', '2', '22', '7', '19', '4', '22', '2', '21',\n",
       "        '8', '22', '4', '2', '21', '2'],\n",
       "       ['January', 'Week 4', '4', '22', '6', '18', '8', '22', '5', '18',\n",
       "        '3', '22', '4', '8', '18', '7'],\n",
       "       ['February', 'Week 1', '10', '18', '9', '20', '-10', '21', '11',\n",
       "        '20', '12', '19', '12', '71', '22', '7'],\n",
       "       ['Febuary', 'Week 2', '11', '18', '8', '21', '11', '22', '7',\n",
       "        '19', '12', '19', '11', '8', '20', '8'],\n",
       "       ['Febuary', 'Week 3', '12', '21', '10', '22', '7', '18', '8',\n",
       "        '19', '9', '22', '7', '11', '18', '11'],\n",
       "       ['Febuary', 'Week 4', '10', '22', '9', '18', '7', '19', '11',\n",
       "        '18', '7', '21', '11', '7', '18', '12']], dtype='<U9')"
      ]
     },
     "execution_count": 22,
     "metadata": {},
     "output_type": "execute_result"
    }
   ],
   "source": [
    "data #make a final dataset contains all values with all values"
   ]
  },
  {
   "cell_type": "markdown",
   "id": "bfd40772",
   "metadata": {},
   "source": [
    "### 2. Dimensions and shape of the array"
   ]
  },
  {
   "cell_type": "code",
   "execution_count": 23,
   "id": "5716dbf7",
   "metadata": {},
   "outputs": [
    {
     "data": {
      "text/plain": [
       "(18, 16)"
      ]
     },
     "execution_count": 23,
     "metadata": {},
     "output_type": "execute_result"
    }
   ],
   "source": [
    "data.shape #shape of array"
   ]
  },
  {
   "cell_type": "code",
   "execution_count": 24,
   "id": "9b967872",
   "metadata": {},
   "outputs": [
    {
     "data": {
      "text/plain": [
       "numpy.str_"
      ]
     },
     "execution_count": 24,
     "metadata": {},
     "output_type": "execute_result"
    }
   ],
   "source": [
    "data.dtype.type"
   ]
  },
  {
   "cell_type": "code",
   "execution_count": 25,
   "id": "e6102f64",
   "metadata": {},
   "outputs": [
    {
     "data": {
      "text/plain": [
       "2"
      ]
     },
     "execution_count": 25,
     "metadata": {},
     "output_type": "execute_result"
    }
   ],
   "source": [
    "data.ndim #dimension of array"
   ]
  },
  {
   "cell_type": "markdown",
   "id": "a6300350",
   "metadata": {},
   "source": [
    "### 3. The daily temperatures for the first week of each month"
   ]
  },
  {
   "cell_type": "code",
   "execution_count": 26,
   "id": "f581f0e8",
   "metadata": {},
   "outputs": [
    {
     "data": {
      "text/plain": [
       "array([['November', 'Week 1', '8', '21', '11', '20', '12', '30', '15',\n",
       "        '20', '11', '31', '14', '20', '8', '26'],\n",
       "       ['November', 'Week 2', '9', '21', '9', '23', '14', '21', '-13',\n",
       "        '23', '11', '23', '10', '26', '6', '27'],\n",
       "       ['November', 'Week 3', '9', '32', '15', '22', '13', '21', '13',\n",
       "        '28', '6', '26', '15', '24', '12', '29'],\n",
       "       ['November', 'Week 4', '13', '26', '6', '28', '15', '20', '9',\n",
       "        '30', '13', '31', '7', '32', '15', '27']], dtype='<U9')"
      ]
     },
     "execution_count": 26,
     "metadata": {},
     "output_type": "execute_result"
    }
   ],
   "source": [
    "Nov_data #first print the nov month data"
   ]
  },
  {
   "cell_type": "code",
   "execution_count": 27,
   "id": "a397dc6b",
   "metadata": {},
   "outputs": [],
   "source": [
    "Nov_Week1_max = Nov_data[0,2:].astype(int) #then select the first week on nov month"
   ]
  },
  {
   "cell_type": "code",
   "execution_count": 28,
   "id": "cf8d32e7",
   "metadata": {},
   "outputs": [
    {
     "data": {
      "text/plain": [
       "array([ 8, 21, 11, 20, 12, 30, 15, 20, 11, 31, 14, 20,  8, 26])"
      ]
     },
     "execution_count": 28,
     "metadata": {},
     "output_type": "execute_result"
    }
   ],
   "source": [
    "Nov_Week1_max"
   ]
  },
  {
   "cell_type": "code",
   "execution_count": 29,
   "id": "98d14d8c",
   "metadata": {},
   "outputs": [
    {
     "data": {
      "text/plain": [
       "31"
      ]
     },
     "execution_count": 29,
     "metadata": {},
     "output_type": "execute_result"
    }
   ],
   "source": [
    "np.max(Nov_Week1_max) #then calculate max of that"
   ]
  },
  {
   "cell_type": "code",
   "execution_count": 30,
   "id": "d4892f5f",
   "metadata": {},
   "outputs": [
    {
     "data": {
      "text/plain": [
       "array([['December', 'Week 1', '7', '32', '11', '31', '8', '27', '11',\n",
       "        '25', '10', '31', '6', '24', '6', '31'],\n",
       "       ['December', 'Week 2', '11', '28', '11', '25', '12', '23', '13',\n",
       "        '23', '6', '25', '14', '25', '14', '26'],\n",
       "       ['December', 'Week 3', '8', '30', '12', '32', '6', '30', '11',\n",
       "        '28', '11', '27', '15', '26', '8', '20'],\n",
       "       ['December', 'Week 4', '11', '29', '11', '27', '12', '28', '10',\n",
       "        '22', '11', '21', '12', '27', '10', '28']], dtype='<U9')"
      ]
     },
     "execution_count": 30,
     "metadata": {},
     "output_type": "execute_result"
    }
   ],
   "source": [
    "Dec_data"
   ]
  },
  {
   "cell_type": "code",
   "execution_count": 31,
   "id": "b2c63c76",
   "metadata": {},
   "outputs": [
    {
     "data": {
      "text/plain": [
       "array([ 7, 32, 11, 31,  8, 27, 11, 25, 10, 31,  6, 24,  6, 31])"
      ]
     },
     "execution_count": 31,
     "metadata": {},
     "output_type": "execute_result"
    }
   ],
   "source": [
    "Dec_Week1_max = Dec_data[0,2:].astype(int) #then select the first week on dec month\n",
    "Dec_Week1_max"
   ]
  },
  {
   "cell_type": "code",
   "execution_count": 32,
   "id": "b40247be",
   "metadata": {},
   "outputs": [
    {
     "data": {
      "text/plain": [
       "32"
      ]
     },
     "execution_count": 32,
     "metadata": {},
     "output_type": "execute_result"
    }
   ],
   "source": [
    "np.max(Dec_Week1_max) #then calculate max of that"
   ]
  },
  {
   "cell_type": "code",
   "execution_count": 33,
   "id": "31157642",
   "metadata": {},
   "outputs": [
    {
     "data": {
      "text/plain": [
       "array([['January', 'Week 1', '3', '19', '8', '22', '7', '18', '7', '22',\n",
       "        '3', '19', '6', '8', '20', '7'],\n",
       "       ['January', 'Week 2', '5', '18', '8', '19', '7', '18', '6', '19',\n",
       "        '5', '18', '7', '6', '20', '5'],\n",
       "       ['January', 'Week 3', '2', '22', '7', '19', '4', '22', '2', '21',\n",
       "        '8', '22', '4', '2', '21', '2'],\n",
       "       ['January', 'Week 4', '4', '22', '6', '18', '8', '22', '5', '18',\n",
       "        '3', '22', '4', '8', '18', '7']], dtype='<U9')"
      ]
     },
     "execution_count": 33,
     "metadata": {},
     "output_type": "execute_result"
    }
   ],
   "source": [
    "Jan_data"
   ]
  },
  {
   "cell_type": "code",
   "execution_count": 34,
   "id": "8c52fca2",
   "metadata": {},
   "outputs": [
    {
     "data": {
      "text/plain": [
       "array([ 3, 19,  8, 22,  7, 18,  7, 22,  3, 19,  6,  8, 20,  7])"
      ]
     },
     "execution_count": 34,
     "metadata": {},
     "output_type": "execute_result"
    }
   ],
   "source": [
    "Jan_Week1_max = Jan_data[0,2:].astype(int) #then select the first week on jan month\n",
    "Jan_Week1_max"
   ]
  },
  {
   "cell_type": "code",
   "execution_count": 35,
   "id": "6c8f8f5f",
   "metadata": {},
   "outputs": [
    {
     "data": {
      "text/plain": [
       "22"
      ]
     },
     "execution_count": 35,
     "metadata": {},
     "output_type": "execute_result"
    }
   ],
   "source": [
    "np.max(Jan_Week1_max) #then calculate max of that"
   ]
  },
  {
   "cell_type": "code",
   "execution_count": 36,
   "id": "2acdd40c",
   "metadata": {},
   "outputs": [
    {
     "data": {
      "text/plain": [
       "array([['February', 'Week 1', '10', '18', '9', '20', '-10', '21', '11',\n",
       "        '20', '12', '19', '12', '71', '22', '7'],\n",
       "       ['Febuary', 'Week 2', '11', '18', '8', '21', '11', '22', '7',\n",
       "        '19', '12', '19', '11', '8', '20', '8'],\n",
       "       ['Febuary', 'Week 3', '12', '21', '10', '22', '7', '18', '8',\n",
       "        '19', '9', '22', '7', '11', '18', '11'],\n",
       "       ['Febuary', 'Week 4', '10', '22', '9', '18', '7', '19', '11',\n",
       "        '18', '7', '21', '11', '7', '18', '12']], dtype='<U9')"
      ]
     },
     "execution_count": 36,
     "metadata": {},
     "output_type": "execute_result"
    }
   ],
   "source": [
    "Feb_data"
   ]
  },
  {
   "cell_type": "code",
   "execution_count": 37,
   "id": "a5192a67",
   "metadata": {},
   "outputs": [
    {
     "data": {
      "text/plain": [
       "array([ 10,  18,   9,  20, -10,  21,  11,  20,  12,  19,  12,  71,  22,\n",
       "         7])"
      ]
     },
     "execution_count": 37,
     "metadata": {},
     "output_type": "execute_result"
    }
   ],
   "source": [
    "Feb_Week1_max = Feb_data[0,2:].astype(int) #then select the first week on feb month\n",
    "Feb_Week1_max"
   ]
  },
  {
   "cell_type": "code",
   "execution_count": 38,
   "id": "0573fb1a",
   "metadata": {},
   "outputs": [
    {
     "data": {
      "text/plain": [
       "71"
      ]
     },
     "execution_count": 38,
     "metadata": {},
     "output_type": "execute_result"
    }
   ],
   "source": [
    "np.max(Feb_Week1_max) #then calculate max of that"
   ]
  },
  {
   "cell_type": "markdown",
   "id": "36685300",
   "metadata": {},
   "source": [
    "### 4. Print the temperatures for Tuesday of each month"
   ]
  },
  {
   "cell_type": "code",
   "execution_count": 39,
   "id": "6f87b4a0",
   "metadata": {},
   "outputs": [],
   "source": [
    "Tues_temp = data[2:,4:6]  #select tuesday value for all months"
   ]
  },
  {
   "cell_type": "code",
   "execution_count": 40,
   "id": "d57fe9df",
   "metadata": {},
   "outputs": [
    {
     "data": {
      "text/plain": [
       "array([['11', '20'],\n",
       "       ['9', '23'],\n",
       "       ['15', '22'],\n",
       "       ['6', '28'],\n",
       "       ['11', '31'],\n",
       "       ['11', '25'],\n",
       "       ['12', '32'],\n",
       "       ['11', '27'],\n",
       "       ['8', '22'],\n",
       "       ['8', '19'],\n",
       "       ['7', '19'],\n",
       "       ['6', '18'],\n",
       "       ['9', '20'],\n",
       "       ['8', '21'],\n",
       "       ['10', '22'],\n",
       "       ['9', '18']], dtype='<U9')"
      ]
     },
     "execution_count": 40,
     "metadata": {},
     "output_type": "execute_result"
    }
   ],
   "source": [
    "Tues_temp"
   ]
  },
  {
   "cell_type": "code",
   "execution_count": 41,
   "id": "2bb3dcb6",
   "metadata": {},
   "outputs": [],
   "source": [
    "Months = data[2:,0:2]"
   ]
  },
  {
   "cell_type": "code",
   "execution_count": 42,
   "id": "7f1a6a87",
   "metadata": {},
   "outputs": [
    {
     "data": {
      "text/plain": [
       "array([['November', 'Week 1', '11', '20'],\n",
       "       ['November', 'Week 2', '9', '23'],\n",
       "       ['November', 'Week 3', '15', '22'],\n",
       "       ['November', 'Week 4', '6', '28'],\n",
       "       ['December', 'Week 1', '11', '31'],\n",
       "       ['December', 'Week 2', '11', '25'],\n",
       "       ['December', 'Week 3', '12', '32'],\n",
       "       ['December', 'Week 4', '11', '27'],\n",
       "       ['January', 'Week 1', '8', '22'],\n",
       "       ['January', 'Week 2', '8', '19'],\n",
       "       ['January', 'Week 3', '7', '19'],\n",
       "       ['January', 'Week 4', '6', '18'],\n",
       "       ['February', 'Week 1', '9', '20'],\n",
       "       ['Febuary', 'Week 2', '8', '21'],\n",
       "       ['Febuary', 'Week 3', '10', '22'],\n",
       "       ['Febuary', 'Week 4', '9', '18']], dtype='<U9')"
      ]
     },
     "execution_count": 42,
     "metadata": {},
     "output_type": "execute_result"
    }
   ],
   "source": [
    "Tuesday_temp = np.hstack((Months,Tues_temp))\n",
    "Tuesday_temp #then hstack the month and tuesday temp value"
   ]
  },
  {
   "cell_type": "markdown",
   "id": "53e56ea9",
   "metadata": {},
   "source": [
    "### 5 .Print only the maximum temperature for all the weekdays of Dec and Feb."
   ]
  },
  {
   "cell_type": "code",
   "execution_count": 43,
   "id": "7cc5a851",
   "metadata": {},
   "outputs": [
    {
     "data": {
      "text/plain": [
       "array([['December', 'Week 1', '7', '32', '11', '31', '8', '27', '11',\n",
       "        '25', '10', '31', '6', '24', '6', '31'],\n",
       "       ['December', 'Week 2', '11', '28', '11', '25', '12', '23', '13',\n",
       "        '23', '6', '25', '14', '25', '14', '26'],\n",
       "       ['December', 'Week 3', '8', '30', '12', '32', '6', '30', '11',\n",
       "        '28', '11', '27', '15', '26', '8', '20'],\n",
       "       ['December', 'Week 4', '11', '29', '11', '27', '12', '28', '10',\n",
       "        '22', '11', '21', '12', '27', '10', '28']], dtype='<U9')"
      ]
     },
     "execution_count": 43,
     "metadata": {},
     "output_type": "execute_result"
    }
   ],
   "source": [
    "Dec_data"
   ]
  },
  {
   "cell_type": "code",
   "execution_count": 44,
   "id": "cf68e3c2",
   "metadata": {},
   "outputs": [
    {
     "data": {
      "text/plain": [
       "array([['February', 'Week 1', '10', '18', '9', '20', '-10', '21', '11',\n",
       "        '20', '12', '19', '12', '71', '22', '7'],\n",
       "       ['Febuary', 'Week 2', '11', '18', '8', '21', '11', '22', '7',\n",
       "        '19', '12', '19', '11', '8', '20', '8'],\n",
       "       ['Febuary', 'Week 3', '12', '21', '10', '22', '7', '18', '8',\n",
       "        '19', '9', '22', '7', '11', '18', '11'],\n",
       "       ['Febuary', 'Week 4', '10', '22', '9', '18', '7', '19', '11',\n",
       "        '18', '7', '21', '11', '7', '18', '12']], dtype='<U9')"
      ]
     },
     "execution_count": 44,
     "metadata": {},
     "output_type": "execute_result"
    }
   ],
   "source": [
    "Feb_data"
   ]
  },
  {
   "cell_type": "code",
   "execution_count": 45,
   "id": "3bff9e60",
   "metadata": {},
   "outputs": [
    {
     "data": {
      "text/plain": [
       "array([['Month', 'Week', 'Monday', 'Monday', 'Tuesday', 'Tuesday',\n",
       "        'Wednesday', 'Wednesday', 'Thursday', 'Thursday', 'Friday',\n",
       "        'Friday', 'Saturday', 'Saturday', 'Sunday', 'Sunday'],\n",
       "       ['Month', 'Week', 'Min Temp', 'Max Temp', 'Min Temp', 'Max Temp',\n",
       "        'Min Temp', 'Max Temp', 'Min Temp', 'Max Temp', 'Min Temp',\n",
       "        'Max Temp', 'Min Temp', 'Max Temp', 'Min Temp', 'Max Temp']],\n",
       "      dtype='<U9')"
      ]
     },
     "execution_count": 45,
     "metadata": {},
     "output_type": "execute_result"
    }
   ],
   "source": [
    "Index"
   ]
  },
  {
   "cell_type": "code",
   "execution_count": 46,
   "id": "970826f1",
   "metadata": {},
   "outputs": [
    {
     "data": {
      "text/plain": [
       "array([['Month', 'Week', 'Monday', 'Monday', 'Tuesday', 'Tuesday',\n",
       "        'Wednesday', 'Wednesday', 'Thursday', 'Thursday', 'Friday',\n",
       "        'Friday', 'Saturday', 'Saturday', 'Sunday', 'Sunday'],\n",
       "       ['Month', 'Week', 'Min Temp', 'Max Temp', 'Min Temp', 'Max Temp',\n",
       "        'Min Temp', 'Max Temp', 'Min Temp', 'Max Temp', 'Min Temp',\n",
       "        'Max Temp', 'Min Temp', 'Max Temp', 'Min Temp', 'Max Temp'],\n",
       "       ['December', 'Week 1', '7', '32', '11', '31', '8', '27', '11',\n",
       "        '25', '10', '31', '6', '24', '6', '31'],\n",
       "       ['December', 'Week 2', '11', '28', '11', '25', '12', '23', '13',\n",
       "        '23', '6', '25', '14', '25', '14', '26'],\n",
       "       ['December', 'Week 3', '8', '30', '12', '32', '6', '30', '11',\n",
       "        '28', '11', '27', '15', '26', '8', '20'],\n",
       "       ['December', 'Week 4', '11', '29', '11', '27', '12', '28', '10',\n",
       "        '22', '11', '21', '12', '27', '10', '28'],\n",
       "       ['February', 'Week 1', '10', '18', '9', '20', '-10', '21', '11',\n",
       "        '20', '12', '19', '12', '71', '22', '7'],\n",
       "       ['Febuary', 'Week 2', '11', '18', '8', '21', '11', '22', '7',\n",
       "        '19', '12', '19', '11', '8', '20', '8'],\n",
       "       ['Febuary', 'Week 3', '12', '21', '10', '22', '7', '18', '8',\n",
       "        '19', '9', '22', '7', '11', '18', '11'],\n",
       "       ['Febuary', 'Week 4', '10', '22', '9', '18', '7', '19', '11',\n",
       "        '18', '7', '21', '11', '7', '18', '12']], dtype='<U9')"
      ]
     },
     "execution_count": 46,
     "metadata": {},
     "output_type": "execute_result"
    }
   ],
   "source": [
    "max_weekdays = np.vstack(((Index,Dec_data,Feb_data)))\n",
    "max_weekdays\n",
    "#vstack the value of index, dec and feb month data"
   ]
  },
  {
   "cell_type": "code",
   "execution_count": 47,
   "id": "396d6ed3",
   "metadata": {},
   "outputs": [
    {
     "data": {
      "text/plain": [
       "array([['Monday', 'Tuesday', 'Wednesday', 'Thursday', 'Friday',\n",
       "        'Saturday', 'Sunday'],\n",
       "       ['Max Temp', 'Max Temp', 'Max Temp', 'Max Temp', 'Max Temp',\n",
       "        'Max Temp', 'Max Temp'],\n",
       "       ['32', '31', '27', '25', '31', '24', '31'],\n",
       "       ['28', '25', '23', '23', '25', '25', '26'],\n",
       "       ['30', '32', '30', '28', '27', '26', '20'],\n",
       "       ['29', '27', '28', '22', '21', '27', '28'],\n",
       "       ['18', '20', '21', '20', '19', '71', '7'],\n",
       "       ['18', '21', '22', '19', '19', '8', '8'],\n",
       "       ['21', '22', '18', '19', '22', '11', '11'],\n",
       "       ['22', '18', '19', '18', '21', '7', '12']], dtype='<U9')"
      ]
     },
     "execution_count": 47,
     "metadata": {},
     "output_type": "execute_result"
    }
   ],
   "source": [
    "max_temp_weekdays = max_weekdays[:,3::2]\n",
    "max_temp_weekdays\n",
    "#print the max value of tem for two month for all day using slicing"
   ]
  },
  {
   "cell_type": "markdown",
   "id": "7c1addfc",
   "metadata": {},
   "source": [
    "### 6. Print all the days along with the week number in November when the minimum temperature was less than 8 degrees."
   ]
  },
  {
   "cell_type": "code",
   "execution_count": 48,
   "id": "c69944ad",
   "metadata": {},
   "outputs": [
    {
     "data": {
      "text/plain": [
       "array([['November', 'Week 1', '8', '21', '11', '20', '12', '30', '15',\n",
       "        '20', '11', '31', '14', '20', '8', '26'],\n",
       "       ['November', 'Week 2', '9', '21', '9', '23', '14', '21', '-13',\n",
       "        '23', '11', '23', '10', '26', '6', '27'],\n",
       "       ['November', 'Week 3', '9', '32', '15', '22', '13', '21', '13',\n",
       "        '28', '6', '26', '15', '24', '12', '29'],\n",
       "       ['November', 'Week 4', '13', '26', '6', '28', '15', '20', '9',\n",
       "        '30', '13', '31', '7', '32', '15', '27']], dtype='<U9')"
      ]
     },
     "execution_count": 48,
     "metadata": {},
     "output_type": "execute_result"
    }
   ],
   "source": [
    "Nov_data"
   ]
  },
  {
   "cell_type": "code",
   "execution_count": 49,
   "id": "ffca39a1",
   "metadata": {},
   "outputs": [],
   "source": [
    "Nov_temp_con1 = Nov_data[0,2:].astype(int)\n",
    "Nov_temp_week1 = Nov_temp_con1<=8\n",
    "#print the value of nov data with week one with temp<= 8"
   ]
  },
  {
   "cell_type": "code",
   "execution_count": 50,
   "id": "3aece02f",
   "metadata": {},
   "outputs": [
    {
     "data": {
      "text/plain": [
       "array([ 8, 21, 11, 20, 12, 30, 15, 20, 11, 31, 14, 20,  8, 26])"
      ]
     },
     "execution_count": 50,
     "metadata": {},
     "output_type": "execute_result"
    }
   ],
   "source": [
    "Nov_temp_con1"
   ]
  },
  {
   "cell_type": "code",
   "execution_count": 51,
   "id": "f02e10d0",
   "metadata": {},
   "outputs": [
    {
     "data": {
      "text/plain": [
       "array([ True, False, False, False, False, False, False, False, False,\n",
       "       False, False, False,  True, False])"
      ]
     },
     "execution_count": 51,
     "metadata": {},
     "output_type": "execute_result"
    }
   ],
   "source": [
    "Nov_temp_week1 #only two condition"
   ]
  },
  {
   "cell_type": "code",
   "execution_count": 52,
   "id": "30898c3b",
   "metadata": {},
   "outputs": [],
   "source": [
    "Nov_temp_con2 = Nov_data[1,2:].astype(int)\n",
    "Nov_temp_week2 = Nov_temp_con2<=8\n",
    "#print the value of nov data with week two with temp<= 8"
   ]
  },
  {
   "cell_type": "code",
   "execution_count": 53,
   "id": "b916c172",
   "metadata": {},
   "outputs": [
    {
     "name": "stdout",
     "output_type": "stream",
     "text": [
      "For week 2 on temp value: [  9  21   9  23  14  21 -13  23  11  23  10  26   6  27]\n"
     ]
    }
   ],
   "source": [
    "print(\"For week 2 on temp value:\" ,Nov_temp_con2)"
   ]
  },
  {
   "cell_type": "code",
   "execution_count": 54,
   "id": "6ad676dc",
   "metadata": {},
   "outputs": [
    {
     "name": "stdout",
     "output_type": "stream",
     "text": [
      "For week 2 on temp less than 8 cond: [False False False False False False  True False False False False False\n",
      "  True False]\n"
     ]
    }
   ],
   "source": [
    "print(\"For week 2 on temp less than 8 cond:\" ,Nov_temp_week2)"
   ]
  },
  {
   "cell_type": "code",
   "execution_count": 55,
   "id": "d7d76b56",
   "metadata": {},
   "outputs": [],
   "source": [
    "Nov_temp_con3 = Nov_data[2,2:].astype(int)\n",
    "Nov_temp_week3 = Nov_temp_con3<=8\n",
    "#print the value of nov data with week three with temp<= 8"
   ]
  },
  {
   "cell_type": "code",
   "execution_count": 56,
   "id": "f4381f36",
   "metadata": {},
   "outputs": [
    {
     "name": "stdout",
     "output_type": "stream",
     "text": [
      "For week 3 on temp value: [ 9 32 15 22 13 21 13 28  6 26 15 24 12 29]\n",
      "For week 3 on temp less than 8 cond: [False False False False False False False False  True False False False\n",
      " False False]\n"
     ]
    }
   ],
   "source": [
    "print(\"For week 3 on temp value:\" ,Nov_temp_con3)\n",
    "print(\"For week 3 on temp less than 8 cond:\" ,Nov_temp_week3)"
   ]
  },
  {
   "cell_type": "code",
   "execution_count": 57,
   "id": "7ecb7325",
   "metadata": {},
   "outputs": [],
   "source": [
    "Nov_temp_con4 = Nov_data[3,2:].astype(int)\n",
    "Nov_temp_week4 = Nov_temp_con4<=8"
   ]
  },
  {
   "cell_type": "code",
   "execution_count": 58,
   "id": "68eeb20b",
   "metadata": {},
   "outputs": [
    {
     "name": "stdout",
     "output_type": "stream",
     "text": [
      "For week 4 on temp value: [13 26  6 28 15 20  9 30 13 31  7 32 15 27]\n",
      "For week 4 on temp less than 8 cond: [False False  True False False False False False False False  True False\n",
      " False False]\n"
     ]
    }
   ],
   "source": [
    "print(\"For week 4 on temp value:\" ,Nov_temp_con4)\n",
    "print(\"For week 4 on temp less than 8 cond:\" ,Nov_temp_week4)\n",
    "#print the value of nov data with week four with temp<= 8"
   ]
  },
  {
   "cell_type": "markdown",
   "id": "be4d05c9",
   "metadata": {},
   "source": [
    "### 7. Print all the weeks in Dec and Jan where the maximum temperature has crossed a threshold of 20 degrees."
   ]
  },
  {
   "cell_type": "code",
   "execution_count": 59,
   "id": "4e071f34",
   "metadata": {},
   "outputs": [
    {
     "data": {
      "text/plain": [
       "array([['Month', 'Week', 'Monday', 'Monday', 'Tuesday', 'Tuesday',\n",
       "        'Wednesday', 'Wednesday', 'Thursday', 'Thursday', 'Friday',\n",
       "        'Friday', 'Saturday', 'Saturday', 'Sunday', 'Sunday'],\n",
       "       ['Month', 'Week', 'Min Temp', 'Max Temp', 'Min Temp', 'Max Temp',\n",
       "        'Min Temp', 'Max Temp', 'Min Temp', 'Max Temp', 'Min Temp',\n",
       "        'Max Temp', 'Min Temp', 'Max Temp', 'Min Temp', 'Max Temp'],\n",
       "       ['December', 'Week 1', '7', '32', '11', '31', '8', '27', '11',\n",
       "        '25', '10', '31', '6', '24', '6', '31'],\n",
       "       ['December', 'Week 2', '11', '28', '11', '25', '12', '23', '13',\n",
       "        '23', '6', '25', '14', '25', '14', '26'],\n",
       "       ['December', 'Week 3', '8', '30', '12', '32', '6', '30', '11',\n",
       "        '28', '11', '27', '15', '26', '8', '20'],\n",
       "       ['December', 'Week 4', '11', '29', '11', '27', '12', '28', '10',\n",
       "        '22', '11', '21', '12', '27', '10', '28'],\n",
       "       ['January', 'Week 1', '3', '19', '8', '22', '7', '18', '7', '22',\n",
       "        '3', '19', '6', '8', '20', '7'],\n",
       "       ['January', 'Week 2', '5', '18', '8', '19', '7', '18', '6', '19',\n",
       "        '5', '18', '7', '6', '20', '5'],\n",
       "       ['January', 'Week 3', '2', '22', '7', '19', '4', '22', '2', '21',\n",
       "        '8', '22', '4', '2', '21', '2'],\n",
       "       ['January', 'Week 4', '4', '22', '6', '18', '8', '22', '5', '18',\n",
       "        '3', '22', '4', '8', '18', '7']], dtype='<U9')"
      ]
     },
     "execution_count": 59,
     "metadata": {},
     "output_type": "execute_result"
    }
   ],
   "source": [
    "New_con = np.vstack(((Index,Dec_data,Jan_data)))\n",
    "New_con \n",
    "#print new condition using vstack on index, dec and jan data"
   ]
  },
  {
   "cell_type": "code",
   "execution_count": 60,
   "id": "26b15220",
   "metadata": {},
   "outputs": [
    {
     "data": {
      "text/plain": [
       "array([['32', '31', '27', '25', '31', '24', '31'],\n",
       "       ['28', '25', '23', '23', '25', '25', '26'],\n",
       "       ['30', '32', '30', '28', '27', '26', '20'],\n",
       "       ['29', '27', '28', '22', '21', '27', '28'],\n",
       "       ['19', '22', '18', '22', '19', '8', '7'],\n",
       "       ['18', '19', '18', '19', '18', '6', '5'],\n",
       "       ['22', '19', '22', '21', '22', '2', '2'],\n",
       "       ['22', '18', '22', '18', '22', '8', '7']], dtype='<U9')"
      ]
     },
     "execution_count": 60,
     "metadata": {},
     "output_type": "execute_result"
    }
   ],
   "source": [
    "New_con1 = New_con[2:,3::2]\n",
    "New_con1\n",
    "#select only max temp data for both months using slicing"
   ]
  },
  {
   "cell_type": "code",
   "execution_count": 61,
   "id": "a356f14a",
   "metadata": {},
   "outputs": [],
   "source": [
    "New_con1 = New_con1[:,:].reshape(7*8,) #the reshape this convert it into 1d array"
   ]
  },
  {
   "cell_type": "code",
   "execution_count": 62,
   "id": "b501d829",
   "metadata": {},
   "outputs": [
    {
     "data": {
      "text/plain": [
       "array([32, 31, 27, 25, 31, 24, 31, 28, 25, 23, 23, 25, 25, 26, 30, 32, 30,\n",
       "       28, 27, 26, 20, 29, 27, 28, 22, 21, 27, 28, 19, 22, 18, 22, 19,  8,\n",
       "        7, 18, 19, 18, 19, 18,  6,  5, 22, 19, 22, 21, 22,  2,  2, 22, 18,\n",
       "       22, 18, 22,  8,  7])"
      ]
     },
     "execution_count": 62,
     "metadata": {},
     "output_type": "execute_result"
    }
   ],
   "source": [
    "New_con1.astype(int)"
   ]
  },
  {
   "cell_type": "code",
   "execution_count": 63,
   "id": "e503be72",
   "metadata": {},
   "outputs": [
    {
     "data": {
      "text/plain": [
       "array([ True,  True,  True,  True,  True,  True,  True,  True,  True,\n",
       "        True,  True,  True,  True,  True,  True,  True,  True,  True,\n",
       "        True,  True,  True,  True,  True,  True,  True,  True,  True,\n",
       "        True, False,  True, False,  True, False, False, False, False,\n",
       "       False, False, False, False, False, False,  True, False,  True,\n",
       "        True,  True, False, False,  True, False,  True, False,  True,\n",
       "       False, False])"
      ]
     },
     "execution_count": 63,
     "metadata": {},
     "output_type": "execute_result"
    }
   ],
   "source": [
    "Max_temp = New_con1.astype(int)>=20\n",
    "Max_temp \n",
    "#then find the condition with max temp>= 20"
   ]
  },
  {
   "cell_type": "markdown",
   "id": "a9497774",
   "metadata": {},
   "source": [
    "### 8. Check if there are any absurd values present in the dataset(like some temp which should not be present in the data)"
   ]
  },
  {
   "cell_type": "code",
   "execution_count": 64,
   "id": "210c061d",
   "metadata": {},
   "outputs": [
    {
     "data": {
      "text/plain": [
       "array([['Month', 'Week', 'Monday', 'Monday', 'Tuesday', 'Tuesday',\n",
       "        'Wednesday', 'Wednesday', 'Thursday', 'Thursday', 'Friday',\n",
       "        'Friday', 'Saturday', 'Saturday', 'Sunday', 'Sunday'],\n",
       "       ['Month', 'Week', 'Min Temp', 'Max Temp', 'Min Temp', 'Max Temp',\n",
       "        'Min Temp', 'Max Temp', 'Min Temp', 'Max Temp', 'Min Temp',\n",
       "        'Max Temp', 'Min Temp', 'Max Temp', 'Min Temp', 'Max Temp'],\n",
       "       ['November', 'Week 1', '8', '21', '11', '20', '12', '30', '15',\n",
       "        '20', '11', '31', '14', '20', '8', '26'],\n",
       "       ['November', 'Week 2', '9', '21', '9', '23', '14', '21', '-13',\n",
       "        '23', '11', '23', '10', '26', '6', '27'],\n",
       "       ['November', 'Week 3', '9', '32', '15', '22', '13', '21', '13',\n",
       "        '28', '6', '26', '15', '24', '12', '29'],\n",
       "       ['November', 'Week 4', '13', '26', '6', '28', '15', '20', '9',\n",
       "        '30', '13', '31', '7', '32', '15', '27'],\n",
       "       ['December', 'Week 1', '7', '32', '11', '31', '8', '27', '11',\n",
       "        '25', '10', '31', '6', '24', '6', '31'],\n",
       "       ['December', 'Week 2', '11', '28', '11', '25', '12', '23', '13',\n",
       "        '23', '6', '25', '14', '25', '14', '26'],\n",
       "       ['December', 'Week 3', '8', '30', '12', '32', '6', '30', '11',\n",
       "        '28', '11', '27', '15', '26', '8', '20'],\n",
       "       ['December', 'Week 4', '11', '29', '11', '27', '12', '28', '10',\n",
       "        '22', '11', '21', '12', '27', '10', '28'],\n",
       "       ['January', 'Week 1', '3', '19', '8', '22', '7', '18', '7', '22',\n",
       "        '3', '19', '6', '8', '20', '7'],\n",
       "       ['January', 'Week 2', '5', '18', '8', '19', '7', '18', '6', '19',\n",
       "        '5', '18', '7', '6', '20', '5'],\n",
       "       ['January', 'Week 3', '2', '22', '7', '19', '4', '22', '2', '21',\n",
       "        '8', '22', '4', '2', '21', '2'],\n",
       "       ['January', 'Week 4', '4', '22', '6', '18', '8', '22', '5', '18',\n",
       "        '3', '22', '4', '8', '18', '7'],\n",
       "       ['February', 'Week 1', '10', '18', '9', '20', '-10', '21', '11',\n",
       "        '20', '12', '19', '12', '71', '22', '7'],\n",
       "       ['Febuary', 'Week 2', '11', '18', '8', '21', '11', '22', '7',\n",
       "        '19', '12', '19', '11', '8', '20', '8'],\n",
       "       ['Febuary', 'Week 3', '12', '21', '10', '22', '7', '18', '8',\n",
       "        '19', '9', '22', '7', '11', '18', '11'],\n",
       "       ['Febuary', 'Week 4', '10', '22', '9', '18', '7', '19', '11',\n",
       "        '18', '7', '21', '11', '7', '18', '12']], dtype='<U9')"
      ]
     },
     "execution_count": 64,
     "metadata": {},
     "output_type": "execute_result"
    }
   ],
   "source": [
    "data"
   ]
  },
  {
   "cell_type": "code",
   "execution_count": 65,
   "id": "f880d083",
   "metadata": {},
   "outputs": [],
   "source": [
    "#missing values or outlier"
   ]
  },
  {
   "cell_type": "code",
   "execution_count": 66,
   "id": "928027d3",
   "metadata": {},
   "outputs": [],
   "source": [
    "#there is not any missing values but some outliers like -13,-10"
   ]
  },
  {
   "cell_type": "markdown",
   "id": "2206d57d",
   "metadata": {},
   "source": [
    "### 9.What strategy would you use to handle such data points?"
   ]
  },
  {
   "cell_type": "code",
   "execution_count": 67,
   "id": "c413e03a",
   "metadata": {},
   "outputs": [],
   "source": [
    "#to handle outliers we calculate the inter qurtile range and then find the outliers and then fill that value with median"
   ]
  },
  {
   "cell_type": "markdown",
   "id": "628da6a0",
   "metadata": {},
   "source": [
    "### 10. Find and print the indexes of all the outlier(unusual) values present in the above dataset."
   ]
  },
  {
   "cell_type": "code",
   "execution_count": 68,
   "id": "1f8e71d1",
   "metadata": {},
   "outputs": [
    {
     "data": {
      "text/plain": [
       "array([['Month', 'Week', 'Monday', 'Monday', 'Tuesday', 'Tuesday',\n",
       "        'Wednesday', 'Wednesday', 'Thursday', 'Thursday', 'Friday',\n",
       "        'Friday', 'Saturday', 'Saturday', 'Sunday', 'Sunday'],\n",
       "       ['Month', 'Week', 'Min Temp', 'Max Temp', 'Min Temp', 'Max Temp',\n",
       "        'Min Temp', 'Max Temp', 'Min Temp', 'Max Temp', 'Min Temp',\n",
       "        'Max Temp', 'Min Temp', 'Max Temp', 'Min Temp', 'Max Temp'],\n",
       "       ['November', 'Week 1', '8', '21', '11', '20', '12', '30', '15',\n",
       "        '20', '11', '31', '14', '20', '8', '26'],\n",
       "       ['November', 'Week 2', '9', '21', '9', '23', '14', '21', '-13',\n",
       "        '23', '11', '23', '10', '26', '6', '27'],\n",
       "       ['November', 'Week 3', '9', '32', '15', '22', '13', '21', '13',\n",
       "        '28', '6', '26', '15', '24', '12', '29'],\n",
       "       ['November', 'Week 4', '13', '26', '6', '28', '15', '20', '9',\n",
       "        '30', '13', '31', '7', '32', '15', '27'],\n",
       "       ['December', 'Week 1', '7', '32', '11', '31', '8', '27', '11',\n",
       "        '25', '10', '31', '6', '24', '6', '31'],\n",
       "       ['December', 'Week 2', '11', '28', '11', '25', '12', '23', '13',\n",
       "        '23', '6', '25', '14', '25', '14', '26'],\n",
       "       ['December', 'Week 3', '8', '30', '12', '32', '6', '30', '11',\n",
       "        '28', '11', '27', '15', '26', '8', '20'],\n",
       "       ['December', 'Week 4', '11', '29', '11', '27', '12', '28', '10',\n",
       "        '22', '11', '21', '12', '27', '10', '28'],\n",
       "       ['January', 'Week 1', '3', '19', '8', '22', '7', '18', '7', '22',\n",
       "        '3', '19', '6', '8', '20', '7'],\n",
       "       ['January', 'Week 2', '5', '18', '8', '19', '7', '18', '6', '19',\n",
       "        '5', '18', '7', '6', '20', '5'],\n",
       "       ['January', 'Week 3', '2', '22', '7', '19', '4', '22', '2', '21',\n",
       "        '8', '22', '4', '2', '21', '2'],\n",
       "       ['January', 'Week 4', '4', '22', '6', '18', '8', '22', '5', '18',\n",
       "        '3', '22', '4', '8', '18', '7'],\n",
       "       ['February', 'Week 1', '10', '18', '9', '20', '-10', '21', '11',\n",
       "        '20', '12', '19', '12', '71', '22', '7'],\n",
       "       ['Febuary', 'Week 2', '11', '18', '8', '21', '11', '22', '7',\n",
       "        '19', '12', '19', '11', '8', '20', '8'],\n",
       "       ['Febuary', 'Week 3', '12', '21', '10', '22', '7', '18', '8',\n",
       "        '19', '9', '22', '7', '11', '18', '11'],\n",
       "       ['Febuary', 'Week 4', '10', '22', '9', '18', '7', '19', '11',\n",
       "        '18', '7', '21', '11', '7', '18', '12']], dtype='<U9')"
      ]
     },
     "execution_count": 68,
     "metadata": {},
     "output_type": "execute_result"
    }
   ],
   "source": [
    "data"
   ]
  },
  {
   "cell_type": "code",
   "execution_count": 69,
   "id": "2775294a",
   "metadata": {},
   "outputs": [
    {
     "data": {
      "text/plain": [
       "array([[  8,  21,  11,  20,  12,  30,  15,  20,  11,  31,  14,  20,   8,\n",
       "         26],\n",
       "       [  9,  21,   9,  23,  14,  21, -13,  23,  11,  23,  10,  26,   6,\n",
       "         27],\n",
       "       [  9,  32,  15,  22,  13,  21,  13,  28,   6,  26,  15,  24,  12,\n",
       "         29],\n",
       "       [ 13,  26,   6,  28,  15,  20,   9,  30,  13,  31,   7,  32,  15,\n",
       "         27],\n",
       "       [  7,  32,  11,  31,   8,  27,  11,  25,  10,  31,   6,  24,   6,\n",
       "         31],\n",
       "       [ 11,  28,  11,  25,  12,  23,  13,  23,   6,  25,  14,  25,  14,\n",
       "         26],\n",
       "       [  8,  30,  12,  32,   6,  30,  11,  28,  11,  27,  15,  26,   8,\n",
       "         20],\n",
       "       [ 11,  29,  11,  27,  12,  28,  10,  22,  11,  21,  12,  27,  10,\n",
       "         28],\n",
       "       [  3,  19,   8,  22,   7,  18,   7,  22,   3,  19,   6,   8,  20,\n",
       "          7],\n",
       "       [  5,  18,   8,  19,   7,  18,   6,  19,   5,  18,   7,   6,  20,\n",
       "          5],\n",
       "       [  2,  22,   7,  19,   4,  22,   2,  21,   8,  22,   4,   2,  21,\n",
       "          2],\n",
       "       [  4,  22,   6,  18,   8,  22,   5,  18,   3,  22,   4,   8,  18,\n",
       "          7],\n",
       "       [ 10,  18,   9,  20, -10,  21,  11,  20,  12,  19,  12,  71,  22,\n",
       "          7],\n",
       "       [ 11,  18,   8,  21,  11,  22,   7,  19,  12,  19,  11,   8,  20,\n",
       "          8],\n",
       "       [ 12,  21,  10,  22,   7,  18,   8,  19,   9,  22,   7,  11,  18,\n",
       "         11],\n",
       "       [ 10,  22,   9,  18,   7,  19,  11,  18,   7,  21,  11,   7,  18,\n",
       "         12]])"
      ]
     },
     "execution_count": 69,
     "metadata": {},
     "output_type": "execute_result"
    }
   ],
   "source": [
    "outliers = data[2:,2:].astype(int)\n",
    "outliers\n",
    "#print all the temp values for all months"
   ]
  },
  {
   "cell_type": "code",
   "execution_count": 70,
   "id": "3ecaa269",
   "metadata": {},
   "outputs": [
    {
     "data": {
      "text/plain": [
       "(16, 14)"
      ]
     },
     "execution_count": 70,
     "metadata": {},
     "output_type": "execute_result"
    }
   ],
   "source": [
    "outliers.shape"
   ]
  },
  {
   "cell_type": "code",
   "execution_count": 71,
   "id": "00e452e7",
   "metadata": {},
   "outputs": [
    {
     "data": {
      "text/plain": [
       "array([  8,  21,  11,  20,  12,  30,  15,  20,  11,  31,  14,  20,   8,\n",
       "        26,   9,  21,   9,  23,  14,  21, -13,  23,  11,  23,  10,  26,\n",
       "         6,  27,   9,  32,  15,  22,  13,  21,  13,  28,   6,  26,  15,\n",
       "        24,  12,  29,  13,  26,   6,  28,  15,  20,   9,  30,  13,  31,\n",
       "         7,  32,  15,  27,   7,  32,  11,  31,   8,  27,  11,  25,  10,\n",
       "        31,   6,  24,   6,  31,  11,  28,  11,  25,  12,  23,  13,  23,\n",
       "         6,  25,  14,  25,  14,  26,   8,  30,  12,  32,   6,  30,  11,\n",
       "        28,  11,  27,  15,  26,   8,  20,  11,  29,  11,  27,  12,  28,\n",
       "        10,  22,  11,  21,  12,  27,  10,  28,   3,  19,   8,  22,   7,\n",
       "        18,   7,  22,   3,  19,   6,   8,  20,   7,   5,  18,   8,  19,\n",
       "         7,  18,   6,  19,   5,  18,   7,   6,  20,   5,   2,  22,   7,\n",
       "        19,   4,  22,   2,  21,   8,  22,   4,   2,  21,   2,   4,  22,\n",
       "         6,  18,   8,  22,   5,  18,   3,  22,   4,   8,  18,   7,  10,\n",
       "        18,   9,  20, -10,  21,  11,  20,  12,  19,  12,  71,  22,   7,\n",
       "        11,  18,   8,  21,  11,  22,   7,  19,  12,  19,  11,   8,  20,\n",
       "         8,  12,  21,  10,  22,   7,  18,   8,  19,   9,  22,   7,  11,\n",
       "        18,  11,  10,  22,   9,  18,   7,  19,  11,  18,   7,  21,  11,\n",
       "         7,  18,  12])"
      ]
     },
     "execution_count": 71,
     "metadata": {},
     "output_type": "execute_result"
    }
   ],
   "source": [
    "outliers.reshape(16*14,)\n",
    "#then covert it into 1d array"
   ]
  },
  {
   "cell_type": "code",
   "execution_count": 72,
   "id": "1a03c79f",
   "metadata": {},
   "outputs": [
    {
     "data": {
      "text/plain": [
       "array([-13, -10,   2,   2,   2,   2,   3,   3,   3,   4,   4,   4,   4,\n",
       "         5,   5,   5,   5,   6,   6,   6,   6,   6,   6,   6,   6,   6,\n",
       "         6,   6,   7,   7,   7,   7,   7,   7,   7,   7,   7,   7,   7,\n",
       "         7,   7,   7,   7,   7,   8,   8,   8,   8,   8,   8,   8,   8,\n",
       "         8,   8,   8,   8,   8,   8,   8,   9,   9,   9,   9,   9,   9,\n",
       "         9,  10,  10,  10,  10,  10,  10,  10,  11,  11,  11,  11,  11,\n",
       "        11,  11,  11,  11,  11,  11,  11,  11,  11,  11,  11,  11,  11,\n",
       "        11,  11,  12,  12,  12,  12,  12,  12,  12,  12,  12,  12,  12,\n",
       "        13,  13,  13,  13,  13,  14,  14,  14,  14,  15,  15,  15,  15,\n",
       "        15,  15,  18,  18,  18,  18,  18,  18,  18,  18,  18,  18,  18,\n",
       "        18,  18,  18,  19,  19,  19,  19,  19,  19,  19,  19,  19,  19,\n",
       "        20,  20,  20,  20,  20,  20,  20,  20,  20,  20,  21,  21,  21,\n",
       "        21,  21,  21,  21,  21,  21,  21,  21,  22,  22,  22,  22,  22,\n",
       "        22,  22,  22,  22,  22,  22,  22,  22,  22,  22,  23,  23,  23,\n",
       "        23,  23,  24,  24,  25,  25,  25,  25,  26,  26,  26,  26,  26,\n",
       "        26,  27,  27,  27,  27,  27,  27,  28,  28,  28,  28,  28,  28,\n",
       "        29,  29,  30,  30,  30,  30,  31,  31,  31,  31,  31,  32,  32,\n",
       "        32,  32,  71])"
      ]
     },
     "execution_count": 72,
     "metadata": {},
     "output_type": "execute_result"
    }
   ],
   "source": [
    "out_sort = np.sort(outliers.reshape(16*14,))\n",
    "out_sort \n",
    "#then sort it"
   ]
  },
  {
   "cell_type": "code",
   "execution_count": 73,
   "id": "e63e30f3",
   "metadata": {},
   "outputs": [],
   "source": [
    "Q1 = np.percentile(out_sort,25)\n",
    "#then find the first quirtile value"
   ]
  },
  {
   "cell_type": "code",
   "execution_count": 74,
   "id": "9a710440",
   "metadata": {},
   "outputs": [],
   "source": [
    "Q3 = np.percentile(out_sort,75)\n",
    "#then find the third quirtile value"
   ]
  },
  {
   "cell_type": "code",
   "execution_count": 75,
   "id": "56420ca3",
   "metadata": {},
   "outputs": [],
   "source": [
    "IQR = Q3 -Q1\n",
    "#then find the IQR value"
   ]
  },
  {
   "cell_type": "code",
   "execution_count": 76,
   "id": "e41e5340",
   "metadata": {},
   "outputs": [
    {
     "data": {
      "text/plain": [
       "14.0"
      ]
     },
     "execution_count": 76,
     "metadata": {},
     "output_type": "execute_result"
    }
   ],
   "source": [
    "IQR"
   ]
  },
  {
   "cell_type": "code",
   "execution_count": 77,
   "id": "fe81d6d9",
   "metadata": {},
   "outputs": [],
   "source": [
    " lower_range = Q1 - (1.5 * IQR)\n",
    " upper_range = Q3 + (1.5 * IQR)"
   ]
  },
  {
   "cell_type": "code",
   "execution_count": 78,
   "id": "a23f1772",
   "metadata": {},
   "outputs": [
    {
     "name": "stdout",
     "output_type": "stream",
     "text": [
      "the value of lower range: -13.0\n",
      "the value of upper range: 43.0\n"
     ]
    }
   ],
   "source": [
    "print(\"the value of lower range:\",lower_range)\n",
    "print(\"the value of upper range:\",upper_range)"
   ]
  },
  {
   "cell_type": "code",
   "execution_count": 79,
   "id": "01400944",
   "metadata": {},
   "outputs": [
    {
     "name": "stdout",
     "output_type": "stream",
     "text": [
      " outlier in the dataset is [71]\n"
     ]
    }
   ],
   "source": [
    "outlier =[]\n",
    "for x in out_sort:\n",
    "    if ((x> upper_range) or (x<lower_range)):\n",
    "         outlier.append(x)\n",
    "print(' outlier in the dataset is', outlier)\n",
    "#print the value of outlier"
   ]
  },
  {
   "cell_type": "markdown",
   "id": "914ca9de",
   "metadata": {},
   "source": [
    "### 11.Replace the outliers with an appropriate value."
   ]
  },
  {
   "cell_type": "code",
   "execution_count": 80,
   "id": "9b849e3d",
   "metadata": {},
   "outputs": [],
   "source": [
    "App_value = outliers.reshape(16*14,)"
   ]
  },
  {
   "cell_type": "code",
   "execution_count": 81,
   "id": "ab32c919",
   "metadata": {},
   "outputs": [
    {
     "data": {
      "text/plain": [
       "71"
      ]
     },
     "execution_count": 81,
     "metadata": {},
     "output_type": "execute_result"
    }
   ],
   "source": [
    "x"
   ]
  },
  {
   "cell_type": "code",
   "execution_count": 82,
   "id": "4f287720",
   "metadata": {},
   "outputs": [
    {
     "name": "stdout",
     "output_type": "stream",
     "text": [
      "7.0\n"
     ]
    }
   ],
   "source": [
    "mad = np.median(abs(App_value-np.median(App_value)))\n",
    "print(mad)\n",
    "#print the value of median and then fill this value in the outlier value"
   ]
  },
  {
   "cell_type": "code",
   "execution_count": null,
   "id": "3881f491",
   "metadata": {},
   "outputs": [],
   "source": []
  },
  {
   "cell_type": "markdown",
   "id": "988d15eb",
   "metadata": {},
   "source": [
    "### 12. Find the average max temperature for the winter months in Jaipur."
   ]
  },
  {
   "cell_type": "code",
   "execution_count": 83,
   "id": "4cb18b66",
   "metadata": {},
   "outputs": [
    {
     "data": {
      "text/plain": [
       "array([['Month', 'Week', 'Monday', 'Monday', 'Tuesday', 'Tuesday',\n",
       "        'Wednesday', 'Wednesday', 'Thursday', 'Thursday', 'Friday',\n",
       "        'Friday', 'Saturday', 'Saturday', 'Sunday', 'Sunday'],\n",
       "       ['Month', 'Week', 'Min Temp', 'Max Temp', 'Min Temp', 'Max Temp',\n",
       "        'Min Temp', 'Max Temp', 'Min Temp', 'Max Temp', 'Min Temp',\n",
       "        'Max Temp', 'Min Temp', 'Max Temp', 'Min Temp', 'Max Temp'],\n",
       "       ['November', 'Week 1', '8', '21', '11', '20', '12', '30', '15',\n",
       "        '20', '11', '31', '14', '20', '8', '26'],\n",
       "       ['November', 'Week 2', '9', '21', '9', '23', '14', '21', '-13',\n",
       "        '23', '11', '23', '10', '26', '6', '27'],\n",
       "       ['November', 'Week 3', '9', '32', '15', '22', '13', '21', '13',\n",
       "        '28', '6', '26', '15', '24', '12', '29'],\n",
       "       ['November', 'Week 4', '13', '26', '6', '28', '15', '20', '9',\n",
       "        '30', '13', '31', '7', '32', '15', '27'],\n",
       "       ['December', 'Week 1', '7', '32', '11', '31', '8', '27', '11',\n",
       "        '25', '10', '31', '6', '24', '6', '31'],\n",
       "       ['December', 'Week 2', '11', '28', '11', '25', '12', '23', '13',\n",
       "        '23', '6', '25', '14', '25', '14', '26'],\n",
       "       ['December', 'Week 3', '8', '30', '12', '32', '6', '30', '11',\n",
       "        '28', '11', '27', '15', '26', '8', '20'],\n",
       "       ['December', 'Week 4', '11', '29', '11', '27', '12', '28', '10',\n",
       "        '22', '11', '21', '12', '27', '10', '28'],\n",
       "       ['January', 'Week 1', '3', '19', '8', '22', '7', '18', '7', '22',\n",
       "        '3', '19', '6', '8', '20', '7'],\n",
       "       ['January', 'Week 2', '5', '18', '8', '19', '7', '18', '6', '19',\n",
       "        '5', '18', '7', '6', '20', '5'],\n",
       "       ['January', 'Week 3', '2', '22', '7', '19', '4', '22', '2', '21',\n",
       "        '8', '22', '4', '2', '21', '2'],\n",
       "       ['January', 'Week 4', '4', '22', '6', '18', '8', '22', '5', '18',\n",
       "        '3', '22', '4', '8', '18', '7']], dtype='<U9')"
      ]
     },
     "execution_count": 83,
     "metadata": {},
     "output_type": "execute_result"
    }
   ],
   "source": [
    "avg_max = np.vstack(((Index, Nov_data, Dec_data, Jan_data)))\n",
    "avg_max"
   ]
  },
  {
   "cell_type": "code",
   "execution_count": 84,
   "id": "bc2fe70b",
   "metadata": {},
   "outputs": [
    {
     "data": {
      "text/plain": [
       "array([[21, 20, 30, 20, 31, 20, 26],\n",
       "       [21, 23, 21, 23, 23, 26, 27],\n",
       "       [32, 22, 21, 28, 26, 24, 29],\n",
       "       [26, 28, 20, 30, 31, 32, 27],\n",
       "       [32, 31, 27, 25, 31, 24, 31],\n",
       "       [28, 25, 23, 23, 25, 25, 26],\n",
       "       [30, 32, 30, 28, 27, 26, 20],\n",
       "       [29, 27, 28, 22, 21, 27, 28],\n",
       "       [19, 22, 18, 22, 19,  8,  7],\n",
       "       [18, 19, 18, 19, 18,  6,  5],\n",
       "       [22, 19, 22, 21, 22,  2,  2],\n",
       "       [22, 18, 22, 18, 22,  8,  7]])"
      ]
     },
     "execution_count": 84,
     "metadata": {},
     "output_type": "execute_result"
    }
   ],
   "source": [
    "Avg_Temp = avg_max[2:,3::2].astype(int)\n",
    "Avg_Temp\n",
    "#print the max temp data of nov,dec,jan month using slicing"
   ]
  },
  {
   "cell_type": "code",
   "execution_count": 85,
   "id": "397899f6",
   "metadata": {},
   "outputs": [
    {
     "data": {
      "text/plain": [
       "22.666666666666668"
      ]
     },
     "execution_count": 85,
     "metadata": {},
     "output_type": "execute_result"
    }
   ],
   "source": [
    "np.mean(Avg_Temp)"
   ]
  },
  {
   "cell_type": "code",
   "execution_count": 86,
   "id": "f75e4dcd",
   "metadata": {},
   "outputs": [
    {
     "data": {
      "text/plain": [
       "32"
      ]
     },
     "execution_count": 86,
     "metadata": {},
     "output_type": "execute_result"
    }
   ],
   "source": [
    "np.max(Avg_Temp)"
   ]
  },
  {
   "cell_type": "markdown",
   "id": "772316b4",
   "metadata": {},
   "source": [
    "### 13. Find the weekly min avg temp for the month of Dec in Jaipur"
   ]
  },
  {
   "cell_type": "code",
   "execution_count": 87,
   "id": "19655b24",
   "metadata": {},
   "outputs": [
    {
     "data": {
      "text/plain": [
       "array([['December', 'Week 1', '7', '32', '11', '31', '8', '27', '11',\n",
       "        '25', '10', '31', '6', '24', '6', '31'],\n",
       "       ['December', 'Week 2', '11', '28', '11', '25', '12', '23', '13',\n",
       "        '23', '6', '25', '14', '25', '14', '26'],\n",
       "       ['December', 'Week 3', '8', '30', '12', '32', '6', '30', '11',\n",
       "        '28', '11', '27', '15', '26', '8', '20'],\n",
       "       ['December', 'Week 4', '11', '29', '11', '27', '12', '28', '10',\n",
       "        '22', '11', '21', '12', '27', '10', '28']], dtype='<U9')"
      ]
     },
     "execution_count": 87,
     "metadata": {},
     "output_type": "execute_result"
    }
   ],
   "source": [
    "Dec_data"
   ]
  },
  {
   "cell_type": "code",
   "execution_count": 88,
   "id": "48dfe206",
   "metadata": {},
   "outputs": [
    {
     "data": {
      "text/plain": [
       "array([[ 7, 11,  8, 11, 10,  6,  6],\n",
       "       [11, 11, 12, 13,  6, 14, 14],\n",
       "       [ 8, 12,  6, 11, 11, 15,  8],\n",
       "       [11, 11, 12, 10, 11, 12, 10]])"
      ]
     },
     "execution_count": 88,
     "metadata": {},
     "output_type": "execute_result"
    }
   ],
   "source": [
    "Dec_min_temp = Dec_data[:,2::2].astype(int)\n",
    "Dec_min_temp\n",
    "#print the min temp data using slicing"
   ]
  },
  {
   "cell_type": "code",
   "execution_count": 89,
   "id": "ea3e603a",
   "metadata": {},
   "outputs": [
    {
     "data": {
      "text/plain": [
       "10.285714285714286"
      ]
     },
     "execution_count": 89,
     "metadata": {},
     "output_type": "execute_result"
    }
   ],
   "source": [
    "np.mean(Dec_min_temp)"
   ]
  },
  {
   "cell_type": "markdown",
   "id": "54111fa1",
   "metadata": {},
   "source": [
    "### 14. Find the overall avg temp for the months Dec and Jan"
   ]
  },
  {
   "cell_type": "code",
   "execution_count": 90,
   "id": "689a3aa2",
   "metadata": {},
   "outputs": [
    {
     "data": {
      "text/plain": [
       "array([['Month', 'Week', 'Monday', 'Monday', 'Tuesday', 'Tuesday',\n",
       "        'Wednesday', 'Wednesday', 'Thursday', 'Thursday', 'Friday',\n",
       "        'Friday', 'Saturday', 'Saturday', 'Sunday', 'Sunday'],\n",
       "       ['Month', 'Week', 'Min Temp', 'Max Temp', 'Min Temp', 'Max Temp',\n",
       "        'Min Temp', 'Max Temp', 'Min Temp', 'Max Temp', 'Min Temp',\n",
       "        'Max Temp', 'Min Temp', 'Max Temp', 'Min Temp', 'Max Temp'],\n",
       "       ['December', 'Week 1', '7', '32', '11', '31', '8', '27', '11',\n",
       "        '25', '10', '31', '6', '24', '6', '31'],\n",
       "       ['December', 'Week 2', '11', '28', '11', '25', '12', '23', '13',\n",
       "        '23', '6', '25', '14', '25', '14', '26'],\n",
       "       ['December', 'Week 3', '8', '30', '12', '32', '6', '30', '11',\n",
       "        '28', '11', '27', '15', '26', '8', '20'],\n",
       "       ['December', 'Week 4', '11', '29', '11', '27', '12', '28', '10',\n",
       "        '22', '11', '21', '12', '27', '10', '28'],\n",
       "       ['January', 'Week 1', '3', '19', '8', '22', '7', '18', '7', '22',\n",
       "        '3', '19', '6', '8', '20', '7'],\n",
       "       ['January', 'Week 2', '5', '18', '8', '19', '7', '18', '6', '19',\n",
       "        '5', '18', '7', '6', '20', '5'],\n",
       "       ['January', 'Week 3', '2', '22', '7', '19', '4', '22', '2', '21',\n",
       "        '8', '22', '4', '2', '21', '2'],\n",
       "       ['January', 'Week 4', '4', '22', '6', '18', '8', '22', '5', '18',\n",
       "        '3', '22', '4', '8', '18', '7']], dtype='<U9')"
      ]
     },
     "execution_count": 90,
     "metadata": {},
     "output_type": "execute_result"
    }
   ],
   "source": [
    "Ovr_avg = np.vstack(((Index,Dec_data,Jan_data)))\n",
    "Ovr_avg"
   ]
  },
  {
   "cell_type": "code",
   "execution_count": 91,
   "id": "11159550",
   "metadata": {},
   "outputs": [
    {
     "data": {
      "text/plain": [
       "array([[ 7, 32, 11, 31,  8, 27, 11, 25, 10, 31,  6, 24,  6, 31],\n",
       "       [11, 28, 11, 25, 12, 23, 13, 23,  6, 25, 14, 25, 14, 26],\n",
       "       [ 8, 30, 12, 32,  6, 30, 11, 28, 11, 27, 15, 26,  8, 20],\n",
       "       [11, 29, 11, 27, 12, 28, 10, 22, 11, 21, 12, 27, 10, 28],\n",
       "       [ 3, 19,  8, 22,  7, 18,  7, 22,  3, 19,  6,  8, 20,  7],\n",
       "       [ 5, 18,  8, 19,  7, 18,  6, 19,  5, 18,  7,  6, 20,  5],\n",
       "       [ 2, 22,  7, 19,  4, 22,  2, 21,  8, 22,  4,  2, 21,  2],\n",
       "       [ 4, 22,  6, 18,  8, 22,  5, 18,  3, 22,  4,  8, 18,  7]])"
      ]
     },
     "execution_count": 91,
     "metadata": {},
     "output_type": "execute_result"
    }
   ],
   "source": [
    "Ovr_Avg = Ovr_avg[2:,2:].astype(int)\n",
    "Ovr_Avg\n",
    "#print the overall temp for dec and jan month"
   ]
  },
  {
   "cell_type": "code",
   "execution_count": 92,
   "id": "562dcdfc",
   "metadata": {},
   "outputs": [
    {
     "data": {
      "text/plain": [
       "15.107142857142858"
      ]
     },
     "execution_count": 92,
     "metadata": {},
     "output_type": "execute_result"
    }
   ],
   "source": [
    "np.mean(Ovr_Avg)"
   ]
  },
  {
   "cell_type": "markdown",
   "id": "e57eb781",
   "metadata": {},
   "source": [
    "### 15. Find the least temp experienced by the city in the month of Dec and Jan. Also print the exact date( Day/Week/Month) for the same."
   ]
  },
  {
   "cell_type": "code",
   "execution_count": 93,
   "id": "978ed6d3",
   "metadata": {},
   "outputs": [
    {
     "data": {
      "text/plain": [
       "array([ 7, 32, 11, 31,  8, 27, 11, 25, 10, 31,  6, 24,  6, 31, 11, 28, 11,\n",
       "       25, 12, 23, 13, 23,  6, 25, 14, 25, 14, 26,  8, 30, 12, 32,  6, 30,\n",
       "       11, 28, 11, 27, 15, 26,  8, 20, 11, 29, 11, 27, 12, 28, 10, 22, 11,\n",
       "       21, 12, 27, 10, 28,  3, 19,  8, 22,  7, 18,  7, 22,  3, 19,  6,  8,\n",
       "       20,  7,  5, 18,  8, 19,  7, 18,  6, 19,  5, 18,  7,  6, 20,  5,  2,\n",
       "       22,  7, 19,  4, 22,  2, 21,  8, 22,  4,  2, 21,  2,  4, 22,  6, 18,\n",
       "        8, 22,  5, 18,  3, 22,  4,  8, 18,  7])"
      ]
     },
     "execution_count": 93,
     "metadata": {},
     "output_type": "execute_result"
    }
   ],
   "source": [
    "Ovr_Avg = Ovr_avg[2:,2:].astype(int).reshape(14*8,)\n",
    "Ovr_Avg\n",
    "#convert the dec and jan month data as Q14. into 1d array and reshaped it and then find min and max value"
   ]
  },
  {
   "cell_type": "code",
   "execution_count": 94,
   "id": "515cb166",
   "metadata": {},
   "outputs": [
    {
     "data": {
      "text/plain": [
       "2"
      ]
     },
     "execution_count": 94,
     "metadata": {},
     "output_type": "execute_result"
    }
   ],
   "source": [
    "np.min(Ovr_Avg)"
   ]
  },
  {
   "cell_type": "code",
   "execution_count": 95,
   "id": "a0c674b8",
   "metadata": {},
   "outputs": [
    {
     "data": {
      "text/plain": [
       "84"
      ]
     },
     "execution_count": 95,
     "metadata": {},
     "output_type": "execute_result"
    }
   ],
   "source": [
    "np.argmin(Ovr_Avg)"
   ]
  },
  {
   "cell_type": "markdown",
   "id": "5fba3813",
   "metadata": {},
   "source": [
    "### 16. Find the max temp in the month of Feb and return its date(Day/Week/Month)"
   ]
  },
  {
   "cell_type": "code",
   "execution_count": 96,
   "id": "e9fd5719",
   "metadata": {},
   "outputs": [
    {
     "data": {
      "text/plain": [
       "array([['February', 'Week 1', '10', '18', '9', '20', '-10', '21', '11',\n",
       "        '20', '12', '19', '12', '71', '22', '7'],\n",
       "       ['Febuary', 'Week 2', '11', '18', '8', '21', '11', '22', '7',\n",
       "        '19', '12', '19', '11', '8', '20', '8'],\n",
       "       ['Febuary', 'Week 3', '12', '21', '10', '22', '7', '18', '8',\n",
       "        '19', '9', '22', '7', '11', '18', '11'],\n",
       "       ['Febuary', 'Week 4', '10', '22', '9', '18', '7', '19', '11',\n",
       "        '18', '7', '21', '11', '7', '18', '12']], dtype='<U9')"
      ]
     },
     "execution_count": 96,
     "metadata": {},
     "output_type": "execute_result"
    }
   ],
   "source": [
    "Feb_data"
   ]
  },
  {
   "cell_type": "code",
   "execution_count": 97,
   "id": "7affa39e",
   "metadata": {},
   "outputs": [
    {
     "data": {
      "text/plain": [
       "array([ 10,  18,   9,  20, -10,  21,  11,  20,  12,  19,  12,  71,  22,\n",
       "         7,  11,  18,   8,  21,  11,  22,   7,  19,  12,  19,  11,   8,\n",
       "        20,   8,  12,  21,  10,  22,   7,  18,   8,  19,   9,  22,   7,\n",
       "        11,  18,  11,  10,  22,   9,  18,   7,  19,  11,  18,   7,  21,\n",
       "        11,   7,  18,  12])"
      ]
     },
     "execution_count": 97,
     "metadata": {},
     "output_type": "execute_result"
    }
   ],
   "source": [
    "Feb_max = Feb_data[:,2:].astype(int).reshape(14*4,)\n",
    "Feb_max \n",
    "#print feb month data and convert it into 1d array"
   ]
  },
  {
   "cell_type": "code",
   "execution_count": 98,
   "id": "b7aa6b25",
   "metadata": {},
   "outputs": [
    {
     "data": {
      "text/plain": [
       "71"
      ]
     },
     "execution_count": 98,
     "metadata": {},
     "output_type": "execute_result"
    }
   ],
   "source": [
    "np.max(Feb_max )"
   ]
  },
  {
   "cell_type": "code",
   "execution_count": 99,
   "id": "d9a68e36",
   "metadata": {},
   "outputs": [
    {
     "data": {
      "text/plain": [
       "11"
      ]
     },
     "execution_count": 99,
     "metadata": {},
     "output_type": "execute_result"
    }
   ],
   "source": [
    "np.argmax(Feb_max )"
   ]
  },
  {
   "cell_type": "markdown",
   "id": "c3fb28d5",
   "metadata": {},
   "source": [
    "### 17. Find the days in the month of Nov where the max temp of the day dropped below the avg temp of the month."
   ]
  },
  {
   "cell_type": "code",
   "execution_count": 100,
   "id": "6543bb2d",
   "metadata": {},
   "outputs": [
    {
     "data": {
      "text/plain": [
       "array([['Month', 'Week', 'Monday', 'Monday', 'Tuesday', 'Tuesday',\n",
       "        'Wednesday', 'Wednesday', 'Thursday', 'Thursday', 'Friday',\n",
       "        'Friday', 'Saturday', 'Saturday', 'Sunday', 'Sunday'],\n",
       "       ['Month', 'Week', 'Min Temp', 'Max Temp', 'Min Temp', 'Max Temp',\n",
       "        'Min Temp', 'Max Temp', 'Min Temp', 'Max Temp', 'Min Temp',\n",
       "        'Max Temp', 'Min Temp', 'Max Temp', 'Min Temp', 'Max Temp'],\n",
       "       ['November', 'Week 1', '8', '21', '11', '20', '12', '30', '15',\n",
       "        '20', '11', '31', '14', '20', '8', '26'],\n",
       "       ['November', 'Week 2', '9', '21', '9', '23', '14', '21', '-13',\n",
       "        '23', '11', '23', '10', '26', '6', '27'],\n",
       "       ['November', 'Week 3', '9', '32', '15', '22', '13', '21', '13',\n",
       "        '28', '6', '26', '15', '24', '12', '29'],\n",
       "       ['November', 'Week 4', '13', '26', '6', '28', '15', '20', '9',\n",
       "        '30', '13', '31', '7', '32', '15', '27']], dtype='<U9')"
      ]
     },
     "execution_count": 100,
     "metadata": {},
     "output_type": "execute_result"
    }
   ],
   "source": [
    "Nov_con = np.vstack((Index,Nov_data))\n",
    "Nov_con"
   ]
  },
  {
   "cell_type": "code",
   "execution_count": 101,
   "id": "09de1685",
   "metadata": {},
   "outputs": [
    {
     "data": {
      "text/plain": [
       "array([['Monday', 'Tuesday', 'Wednesday', 'Thursday', 'Friday',\n",
       "        'Saturday', 'Sunday'],\n",
       "       ['Max Temp', 'Max Temp', 'Max Temp', 'Max Temp', 'Max Temp',\n",
       "        'Max Temp', 'Max Temp'],\n",
       "       ['21', '20', '30', '20', '31', '20', '26'],\n",
       "       ['21', '23', '21', '23', '23', '26', '27'],\n",
       "       ['32', '22', '21', '28', '26', '24', '29'],\n",
       "       ['26', '28', '20', '30', '31', '32', '27']], dtype='<U9')"
      ]
     },
     "execution_count": 101,
     "metadata": {},
     "output_type": "execute_result"
    }
   ],
   "source": [
    "Nov_con1 = Nov_con[0:6,3::2]\n",
    "Nov_con1\n",
    "#print the max temp for nov month data using slicing"
   ]
  },
  {
   "cell_type": "code",
   "execution_count": 102,
   "id": "faef022c",
   "metadata": {},
   "outputs": [
    {
     "data": {
      "text/plain": [
       "array([21, 20, 30, 20, 31, 20, 26, 21, 23, 21, 23, 23, 26, 27, 32, 22, 21,\n",
       "       28, 26, 24, 29, 26, 28, 20, 30, 31, 32, 27])"
      ]
     },
     "execution_count": 102,
     "metadata": {},
     "output_type": "execute_result"
    }
   ],
   "source": [
    "Nov_con2 = Nov_con1[2:,].astype(int).reshape(7*4,)\n",
    "Nov_con2 \n",
    "#convert it into 1d array using reshaping"
   ]
  },
  {
   "cell_type": "code",
   "execution_count": 103,
   "id": "eee15a46",
   "metadata": {},
   "outputs": [
    {
     "data": {
      "text/plain": [
       "25.285714285714285"
      ]
     },
     "execution_count": 103,
     "metadata": {},
     "output_type": "execute_result"
    }
   ],
   "source": [
    "np.mean(Nov_con2 )"
   ]
  },
  {
   "cell_type": "code",
   "execution_count": 104,
   "id": "c5062ab3",
   "metadata": {},
   "outputs": [
    {
     "data": {
      "text/plain": [
       "array([ True,  True, False,  True, False,  True, False,  True,  True,\n",
       "        True,  True,  True, False, False, False,  True,  True, False,\n",
       "       False,  True, False, False, False,  True, False, False, False,\n",
       "       False])"
      ]
     },
     "execution_count": 104,
     "metadata": {},
     "output_type": "execute_result"
    }
   ],
   "source": [
    "Nov_con3 = Nov_con2 < np.mean(Nov_con2 )\n",
    "Nov_con3\n",
    "#find the condition for above question"
   ]
  },
  {
   "cell_type": "markdown",
   "id": "b272e0f9",
   "metadata": {},
   "source": [
    "### 18. Convert the above dataset into an array where the weeks of the same month must be present in the same row, but belonging to different months should come in a row either below or above the selected month."
   ]
  },
  {
   "cell_type": "code",
   "execution_count": 105,
   "id": "ba59d5de",
   "metadata": {},
   "outputs": [
    {
     "data": {
      "text/plain": [
       "array([['Month', 'Week', 'Monday', 'Monday', 'Tuesday', 'Tuesday',\n",
       "        'Wednesday', 'Wednesday', 'Thursday', 'Thursday', 'Friday',\n",
       "        'Friday', 'Saturday', 'Saturday', 'Sunday', 'Sunday'],\n",
       "       ['Month', 'Week', 'Min Temp', 'Max Temp', 'Min Temp', 'Max Temp',\n",
       "        'Min Temp', 'Max Temp', 'Min Temp', 'Max Temp', 'Min Temp',\n",
       "        'Max Temp', 'Min Temp', 'Max Temp', 'Min Temp', 'Max Temp'],\n",
       "       ['November', 'Week 1', '8', '21', '11', '20', '12', '30', '15',\n",
       "        '20', '11', '31', '14', '20', '8', '26'],\n",
       "       ['November', 'Week 2', '9', '21', '9', '23', '14', '21', '-13',\n",
       "        '23', '11', '23', '10', '26', '6', '27'],\n",
       "       ['November', 'Week 3', '9', '32', '15', '22', '13', '21', '13',\n",
       "        '28', '6', '26', '15', '24', '12', '29'],\n",
       "       ['November', 'Week 4', '13', '26', '6', '28', '15', '20', '9',\n",
       "        '30', '13', '31', '7', '32', '15', '27'],\n",
       "       ['December', 'Week 1', '7', '32', '11', '31', '8', '27', '11',\n",
       "        '25', '10', '31', '6', '24', '6', '31'],\n",
       "       ['December', 'Week 2', '11', '28', '11', '25', '12', '23', '13',\n",
       "        '23', '6', '25', '14', '25', '14', '26'],\n",
       "       ['December', 'Week 3', '8', '30', '12', '32', '6', '30', '11',\n",
       "        '28', '11', '27', '15', '26', '8', '20'],\n",
       "       ['December', 'Week 4', '11', '29', '11', '27', '12', '28', '10',\n",
       "        '22', '11', '21', '12', '27', '10', '28'],\n",
       "       ['January', 'Week 1', '3', '19', '8', '22', '7', '18', '7', '22',\n",
       "        '3', '19', '6', '8', '20', '7'],\n",
       "       ['January', 'Week 2', '5', '18', '8', '19', '7', '18', '6', '19',\n",
       "        '5', '18', '7', '6', '20', '5'],\n",
       "       ['January', 'Week 3', '2', '22', '7', '19', '4', '22', '2', '21',\n",
       "        '8', '22', '4', '2', '21', '2'],\n",
       "       ['January', 'Week 4', '4', '22', '6', '18', '8', '22', '5', '18',\n",
       "        '3', '22', '4', '8', '18', '7'],\n",
       "       ['February', 'Week 1', '10', '18', '9', '20', '-10', '21', '11',\n",
       "        '20', '12', '19', '12', '71', '22', '7'],\n",
       "       ['Febuary', 'Week 2', '11', '18', '8', '21', '11', '22', '7',\n",
       "        '19', '12', '19', '11', '8', '20', '8'],\n",
       "       ['Febuary', 'Week 3', '12', '21', '10', '22', '7', '18', '8',\n",
       "        '19', '9', '22', '7', '11', '18', '11'],\n",
       "       ['Febuary', 'Week 4', '10', '22', '9', '18', '7', '19', '11',\n",
       "        '18', '7', '21', '11', '7', '18', '12']], dtype='<U9')"
      ]
     },
     "execution_count": 105,
     "metadata": {},
     "output_type": "execute_result"
    }
   ],
   "source": [
    "data"
   ]
  },
  {
   "cell_type": "code",
   "execution_count": 106,
   "id": "1d6f774f",
   "metadata": {},
   "outputs": [
    {
     "data": {
      "text/plain": [
       "array([['November', 'Week 1', '8', '21', '11', '20', '12', '30', '15',\n",
       "        '20', '11', '31', '14', '20', '8', '26'],\n",
       "       ['November', 'Week 2', '9', '21', '9', '23', '14', '21', '-13',\n",
       "        '23', '11', '23', '10', '26', '6', '27'],\n",
       "       ['November', 'Week 3', '9', '32', '15', '22', '13', '21', '13',\n",
       "        '28', '6', '26', '15', '24', '12', '29'],\n",
       "       ['November', 'Week 4', '13', '26', '6', '28', '15', '20', '9',\n",
       "        '30', '13', '31', '7', '32', '15', '27']], dtype='<U9')"
      ]
     },
     "execution_count": 106,
     "metadata": {},
     "output_type": "execute_result"
    }
   ],
   "source": [
    "Nov_data"
   ]
  },
  {
   "cell_type": "code",
   "execution_count": 107,
   "id": "1e6cbbb4",
   "metadata": {},
   "outputs": [],
   "source": [
    "Nov_Week1 = Nov_data[0,:]\n",
    "Nov_Week2 = Nov_data[1,:]\n",
    "Nov_Week3 = Nov_data[2,:]\n",
    "Nov_Week4 = Nov_data[3,:]\n",
    "#print the data for all week for november month "
   ]
  },
  {
   "cell_type": "code",
   "execution_count": 108,
   "id": "d99f36eb",
   "metadata": {},
   "outputs": [
    {
     "data": {
      "text/plain": [
       "array(['November', 'Week 1', '8', '21', '11', '20', '12', '30', '15',\n",
       "       '20', '11', '31', '14', '20', '8', '26', 'November', 'Week 2', '9',\n",
       "       '21', '9', '23', '14', '21', '-13', '23', '11', '23', '10', '26',\n",
       "       '6', '27', 'November', 'Week 3', '9', '32', '15', '22', '13', '21',\n",
       "       '13', '28', '6', '26', '15', '24', '12', '29', 'November',\n",
       "       'Week 4', '13', '26', '6', '28', '15', '20', '9', '30', '13', '31',\n",
       "       '7', '32', '15', '27'], dtype='<U9')"
      ]
     },
     "execution_count": 108,
     "metadata": {},
     "output_type": "execute_result"
    }
   ],
   "source": [
    "Nov_Week = np.hstack((((Nov_Week1,Nov_Week2,Nov_Week3,Nov_Week4))))\n",
    "Nov_Week\n",
    "#hstacking the all november month week data in one row"
   ]
  },
  {
   "cell_type": "code",
   "execution_count": 109,
   "id": "14f593d1",
   "metadata": {},
   "outputs": [],
   "source": [
    "Dec_Week1 = Dec_data[0,:]\n",
    "Dec_Week2 = Dec_data[1,:]\n",
    "Dec_Week3 = Dec_data[2,:]\n",
    "Dec_Week4 = Dec_data[3,:]\n",
    "#print the data for all week for december month "
   ]
  },
  {
   "cell_type": "code",
   "execution_count": 110,
   "id": "93a3a1e0",
   "metadata": {},
   "outputs": [
    {
     "data": {
      "text/plain": [
       "array(['December', 'Week 1', '7', '32', '11', '31', '8', '27', '11', '25',\n",
       "       '10', '31', '6', '24', '6', '31', 'December', 'Week 2', '11', '28',\n",
       "       '11', '25', '12', '23', '13', '23', '6', '25', '14', '25', '14',\n",
       "       '26', 'December', 'Week 3', '8', '30', '12', '32', '6', '30', '11',\n",
       "       '28', '11', '27', '15', '26', '8', '20', 'December', 'Week 4',\n",
       "       '11', '29', '11', '27', '12', '28', '10', '22', '11', '21', '12',\n",
       "       '27', '10', '28'], dtype='<U9')"
      ]
     },
     "execution_count": 110,
     "metadata": {},
     "output_type": "execute_result"
    }
   ],
   "source": [
    "Dec_Week = np.hstack((((Dec_Week1,Dec_Week2,Dec_Week3,Dec_Week4))))\n",
    "Dec_Week\n",
    "#hstacking the all dec month week data in one row"
   ]
  },
  {
   "cell_type": "code",
   "execution_count": 111,
   "id": "5598a161",
   "metadata": {},
   "outputs": [],
   "source": [
    "Jan_Week1 = Jan_data[0,:]\n",
    "Jan_Week2 = Jan_data[1,:]\n",
    "Jan_Week3 = Jan_data[2,:]\n",
    "Jan_Week4 = Jan_data[3,:]\n",
    "#print the data for all week for january month "
   ]
  },
  {
   "cell_type": "code",
   "execution_count": 112,
   "id": "e256e81b",
   "metadata": {},
   "outputs": [
    {
     "data": {
      "text/plain": [
       "array(['January', 'Week 1', '3', '19', '8', '22', '7', '18', '7', '22',\n",
       "       '3', '19', '6', '8', '20', '7', 'January', 'Week 2', '5', '18',\n",
       "       '8', '19', '7', '18', '6', '19', '5', '18', '7', '6', '20', '5',\n",
       "       'January', 'Week 3', '2', '22', '7', '19', '4', '22', '2', '21',\n",
       "       '8', '22', '4', '2', '21', '2', 'January', 'Week 4', '4', '22',\n",
       "       '6', '18', '8', '22', '5', '18', '3', '22', '4', '8', '18', '7'],\n",
       "      dtype='<U9')"
      ]
     },
     "execution_count": 112,
     "metadata": {},
     "output_type": "execute_result"
    }
   ],
   "source": [
    "Jan_Week = np.hstack((((Jan_Week1,Jan_Week2,Jan_Week3,Jan_Week4))))\n",
    "Jan_Week\n",
    "#hstacking the all jan month week data in one row"
   ]
  },
  {
   "cell_type": "code",
   "execution_count": 113,
   "id": "464836dc",
   "metadata": {},
   "outputs": [],
   "source": [
    "Feb_Week1 = Feb_data[0,:]\n",
    "Feb_Week2 = Feb_data[1,:]\n",
    "Feb_Week3 = Feb_data[2,:]\n",
    "Feb_Week4 = Feb_data[3,:]\n",
    "#print the data for all week for feburary month "
   ]
  },
  {
   "cell_type": "code",
   "execution_count": 114,
   "id": "746425b3",
   "metadata": {},
   "outputs": [
    {
     "data": {
      "text/plain": [
       "array(['February', 'Week 1', '10', '18', '9', '20', '-10', '21', '11',\n",
       "       '20', '12', '19', '12', '71', '22', '7', 'Febuary', 'Week 2', '11',\n",
       "       '18', '8', '21', '11', '22', '7', '19', '12', '19', '11', '8',\n",
       "       '20', '8', 'Febuary', 'Week 3', '12', '21', '10', '22', '7', '18',\n",
       "       '8', '19', '9', '22', '7', '11', '18', '11', 'Febuary', 'Week 4',\n",
       "       '10', '22', '9', '18', '7', '19', '11', '18', '7', '21', '11', '7',\n",
       "       '18', '12'], dtype='<U9')"
      ]
     },
     "execution_count": 114,
     "metadata": {},
     "output_type": "execute_result"
    }
   ],
   "source": [
    "Feb_Week = np.hstack((((Feb_Week1,Feb_Week2,Feb_Week3,Feb_Week4))))\n",
    "Feb_Week\n",
    "#hstacking the all feb month week data in one row"
   ]
  },
  {
   "cell_type": "code",
   "execution_count": 115,
   "id": "c03059e7",
   "metadata": {},
   "outputs": [
    {
     "data": {
      "text/plain": [
       "array([['November', 'Week 1', '8', '21', '11', '20', '12', '30', '15',\n",
       "        '20', '11', '31', '14', '20', '8', '26', 'November', 'Week 2',\n",
       "        '9', '21', '9', '23', '14', '21', '-13', '23', '11', '23', '10',\n",
       "        '26', '6', '27', 'November', 'Week 3', '9', '32', '15', '22',\n",
       "        '13', '21', '13', '28', '6', '26', '15', '24', '12', '29',\n",
       "        'November', 'Week 4', '13', '26', '6', '28', '15', '20', '9',\n",
       "        '30', '13', '31', '7', '32', '15', '27'],\n",
       "       ['December', 'Week 1', '7', '32', '11', '31', '8', '27', '11',\n",
       "        '25', '10', '31', '6', '24', '6', '31', 'December', 'Week 2',\n",
       "        '11', '28', '11', '25', '12', '23', '13', '23', '6', '25', '14',\n",
       "        '25', '14', '26', 'December', 'Week 3', '8', '30', '12', '32',\n",
       "        '6', '30', '11', '28', '11', '27', '15', '26', '8', '20',\n",
       "        'December', 'Week 4', '11', '29', '11', '27', '12', '28', '10',\n",
       "        '22', '11', '21', '12', '27', '10', '28'],\n",
       "       ['January', 'Week 1', '3', '19', '8', '22', '7', '18', '7', '22',\n",
       "        '3', '19', '6', '8', '20', '7', 'January', 'Week 2', '5', '18',\n",
       "        '8', '19', '7', '18', '6', '19', '5', '18', '7', '6', '20', '5',\n",
       "        'January', 'Week 3', '2', '22', '7', '19', '4', '22', '2', '21',\n",
       "        '8', '22', '4', '2', '21', '2', 'January', 'Week 4', '4', '22',\n",
       "        '6', '18', '8', '22', '5', '18', '3', '22', '4', '8', '18', '7'],\n",
       "       ['February', 'Week 1', '10', '18', '9', '20', '-10', '21', '11',\n",
       "        '20', '12', '19', '12', '71', '22', '7', 'Febuary', 'Week 2',\n",
       "        '11', '18', '8', '21', '11', '22', '7', '19', '12', '19', '11',\n",
       "        '8', '20', '8', 'Febuary', 'Week 3', '12', '21', '10', '22', '7',\n",
       "        '18', '8', '19', '9', '22', '7', '11', '18', '11', 'Febuary',\n",
       "        'Week 4', '10', '22', '9', '18', '7', '19', '11', '18', '7',\n",
       "        '21', '11', '7', '18', '12']], dtype='<U9')"
      ]
     },
     "execution_count": 115,
     "metadata": {},
     "output_type": "execute_result"
    }
   ],
   "source": [
    "same_row = np.vstack((((Nov_Week,Dec_Week,Jan_Week,Feb_Week))))\n",
    "same_row \n",
    "#vstack all the above calculated values"
   ]
  },
  {
   "cell_type": "markdown",
   "id": "eb1939e9",
   "metadata": {},
   "source": [
    "### 19. The above data is appropriate for an audience who follow the metric system of measurement. Create an array that holds the same data but presented in Fahrenheit."
   ]
  },
  {
   "cell_type": "code",
   "execution_count": 116,
   "id": "1caa241f",
   "metadata": {},
   "outputs": [
    {
     "data": {
      "text/plain": [
       "array([['Month', 'Week', 'Monday', 'Monday', 'Tuesday', 'Tuesday',\n",
       "        'Wednesday', 'Wednesday', 'Thursday', 'Thursday', 'Friday',\n",
       "        'Friday', 'Saturday', 'Saturday', 'Sunday', 'Sunday'],\n",
       "       ['Month', 'Week', 'Min Temp', 'Max Temp', 'Min Temp', 'Max Temp',\n",
       "        'Min Temp', 'Max Temp', 'Min Temp', 'Max Temp', 'Min Temp',\n",
       "        'Max Temp', 'Min Temp', 'Max Temp', 'Min Temp', 'Max Temp'],\n",
       "       ['November', 'Week 1', '8', '21', '11', '20', '12', '30', '15',\n",
       "        '20', '11', '31', '14', '20', '8', '26'],\n",
       "       ['November', 'Week 2', '9', '21', '9', '23', '14', '21', '-13',\n",
       "        '23', '11', '23', '10', '26', '6', '27'],\n",
       "       ['November', 'Week 3', '9', '32', '15', '22', '13', '21', '13',\n",
       "        '28', '6', '26', '15', '24', '12', '29'],\n",
       "       ['November', 'Week 4', '13', '26', '6', '28', '15', '20', '9',\n",
       "        '30', '13', '31', '7', '32', '15', '27'],\n",
       "       ['December', 'Week 1', '7', '32', '11', '31', '8', '27', '11',\n",
       "        '25', '10', '31', '6', '24', '6', '31'],\n",
       "       ['December', 'Week 2', '11', '28', '11', '25', '12', '23', '13',\n",
       "        '23', '6', '25', '14', '25', '14', '26'],\n",
       "       ['December', 'Week 3', '8', '30', '12', '32', '6', '30', '11',\n",
       "        '28', '11', '27', '15', '26', '8', '20'],\n",
       "       ['December', 'Week 4', '11', '29', '11', '27', '12', '28', '10',\n",
       "        '22', '11', '21', '12', '27', '10', '28'],\n",
       "       ['January', 'Week 1', '3', '19', '8', '22', '7', '18', '7', '22',\n",
       "        '3', '19', '6', '8', '20', '7'],\n",
       "       ['January', 'Week 2', '5', '18', '8', '19', '7', '18', '6', '19',\n",
       "        '5', '18', '7', '6', '20', '5'],\n",
       "       ['January', 'Week 3', '2', '22', '7', '19', '4', '22', '2', '21',\n",
       "        '8', '22', '4', '2', '21', '2'],\n",
       "       ['January', 'Week 4', '4', '22', '6', '18', '8', '22', '5', '18',\n",
       "        '3', '22', '4', '8', '18', '7'],\n",
       "       ['February', 'Week 1', '10', '18', '9', '20', '-10', '21', '11',\n",
       "        '20', '12', '19', '12', '71', '22', '7'],\n",
       "       ['Febuary', 'Week 2', '11', '18', '8', '21', '11', '22', '7',\n",
       "        '19', '12', '19', '11', '8', '20', '8'],\n",
       "       ['Febuary', 'Week 3', '12', '21', '10', '22', '7', '18', '8',\n",
       "        '19', '9', '22', '7', '11', '18', '11'],\n",
       "       ['Febuary', 'Week 4', '10', '22', '9', '18', '7', '19', '11',\n",
       "        '18', '7', '21', '11', '7', '18', '12']], dtype='<U9')"
      ]
     },
     "execution_count": 116,
     "metadata": {},
     "output_type": "execute_result"
    }
   ],
   "source": [
    "data"
   ]
  },
  {
   "cell_type": "code",
   "execution_count": 117,
   "id": "465bd0eb",
   "metadata": {},
   "outputs": [
    {
     "data": {
      "text/plain": [
       "array([  8,  21,  11,  20,  12,  30,  15,  20,  11,  31,  14,  20,   8,\n",
       "        26,   9,  21,   9,  23,  14,  21, -13,  23,  11,  23,  10,  26,\n",
       "         6,  27,   9,  32,  15,  22,  13,  21,  13,  28,   6,  26,  15,\n",
       "        24,  12,  29,  13,  26,   6,  28,  15,  20,   9,  30,  13,  31,\n",
       "         7,  32,  15,  27,   7,  32,  11,  31,   8,  27,  11,  25,  10,\n",
       "        31,   6,  24,   6,  31,  11,  28,  11,  25,  12,  23,  13,  23,\n",
       "         6,  25,  14,  25,  14,  26,   8,  30,  12,  32,   6,  30,  11,\n",
       "        28,  11,  27,  15,  26,   8,  20,  11,  29,  11,  27,  12,  28,\n",
       "        10,  22,  11,  21,  12,  27,  10,  28,   3,  19,   8,  22,   7,\n",
       "        18,   7,  22,   3,  19,   6,   8,  20,   7,   5,  18,   8,  19,\n",
       "         7,  18,   6,  19,   5,  18,   7,   6,  20,   5,   2,  22,   7,\n",
       "        19,   4,  22,   2,  21,   8,  22,   4,   2,  21,   2,   4,  22,\n",
       "         6,  18,   8,  22,   5,  18,   3,  22,   4,   8,  18,   7,  10,\n",
       "        18,   9,  20, -10,  21,  11,  20,  12,  19,  12,  71,  22,   7,\n",
       "        11,  18,   8,  21,  11,  22,   7,  19,  12,  19,  11,   8,  20,\n",
       "         8,  12,  21,  10,  22,   7,  18,   8,  19,   9,  22,   7,  11,\n",
       "        18,  11,  10,  22,   9,  18,   7,  19,  11,  18,   7,  21,  11,\n",
       "         7,  18,  12])"
      ]
     },
     "execution_count": 117,
     "metadata": {},
     "output_type": "execute_result"
    }
   ],
   "source": [
    "Celcius = data[2:,2:].astype(int).reshape(16*14,)\n",
    "Celcius\n",
    "#print all the temp and convert into 1d array"
   ]
  },
  {
   "cell_type": "code",
   "execution_count": 118,
   "id": "b484b289",
   "metadata": {},
   "outputs": [
    {
     "name": "stdout",
     "output_type": "stream",
     "text": [
      "Values in Centigrade degrees:\n",
      "[  8  21  11  20  12  30  15  20  11  31  14  20   8  26   9  21   9  23\n",
      "  14  21 -13  23  11  23  10  26   6  27   9  32  15  22  13  21  13  28\n",
      "   6  26  15  24  12  29  13  26   6  28  15  20   9  30  13  31   7  32\n",
      "  15  27   7  32  11  31   8  27  11  25  10  31   6  24   6  31  11  28\n",
      "  11  25  12  23  13  23   6  25  14  25  14  26   8  30  12  32   6  30\n",
      "  11  28  11  27  15  26   8  20  11  29  11  27  12  28  10  22  11  21\n",
      "  12  27  10  28   3  19   8  22   7  18   7  22   3  19   6   8  20   7\n",
      "   5  18   8  19   7  18   6  19   5  18   7   6  20   5   2  22   7  19\n",
      "   4  22   2  21   8  22   4   2  21   2   4  22   6  18   8  22   5  18\n",
      "   3  22   4   8  18   7  10  18   9  20 -10  21  11  20  12  19  12  71\n",
      "  22   7  11  18   8  21  11  22   7  19  12  19  11   8  20   8  12  21\n",
      "  10  22   7  18   8  19   9  22   7  11  18  11  10  22   9  18   7  19\n",
      "  11  18   7  21  11   7  18  12]\n",
      "Values in  Fahrenheit degrees:\n",
      "[ 46.4  69.8  51.8  68.   53.6  86.   59.   68.   51.8  87.8  57.2  68.\n",
      "  46.4  78.8  48.2  69.8  48.2  73.4  57.2  69.8   8.6  73.4  51.8  73.4\n",
      "  50.   78.8  42.8  80.6  48.2  89.6  59.   71.6  55.4  69.8  55.4  82.4\n",
      "  42.8  78.8  59.   75.2  53.6  84.2  55.4  78.8  42.8  82.4  59.   68.\n",
      "  48.2  86.   55.4  87.8  44.6  89.6  59.   80.6  44.6  89.6  51.8  87.8\n",
      "  46.4  80.6  51.8  77.   50.   87.8  42.8  75.2  42.8  87.8  51.8  82.4\n",
      "  51.8  77.   53.6  73.4  55.4  73.4  42.8  77.   57.2  77.   57.2  78.8\n",
      "  46.4  86.   53.6  89.6  42.8  86.   51.8  82.4  51.8  80.6  59.   78.8\n",
      "  46.4  68.   51.8  84.2  51.8  80.6  53.6  82.4  50.   71.6  51.8  69.8\n",
      "  53.6  80.6  50.   82.4  37.4  66.2  46.4  71.6  44.6  64.4  44.6  71.6\n",
      "  37.4  66.2  42.8  46.4  68.   44.6  41.   64.4  46.4  66.2  44.6  64.4\n",
      "  42.8  66.2  41.   64.4  44.6  42.8  68.   41.   35.6  71.6  44.6  66.2\n",
      "  39.2  71.6  35.6  69.8  46.4  71.6  39.2  35.6  69.8  35.6  39.2  71.6\n",
      "  42.8  64.4  46.4  71.6  41.   64.4  37.4  71.6  39.2  46.4  64.4  44.6\n",
      "  50.   64.4  48.2  68.   14.   69.8  51.8  68.   53.6  66.2  53.6 159.8\n",
      "  71.6  44.6  51.8  64.4  46.4  69.8  51.8  71.6  44.6  66.2  53.6  66.2\n",
      "  51.8  46.4  68.   46.4  53.6  69.8  50.   71.6  44.6  64.4  46.4  66.2\n",
      "  48.2  71.6  44.6  51.8  64.4  51.8  50.   71.6  48.2  64.4  44.6  66.2\n",
      "  51.8  64.4  44.6  69.8  51.8  44.6  64.4  53.6]\n"
     ]
    }
   ],
   "source": [
    "print(\"Values in Centigrade degrees:\")\n",
    "print(Celcius)\n",
    "print(\"Values in  Fahrenheit degrees:\")\n",
    "print(np.round((9*(Celcius)/5 + 32),2))\n",
    "#convert the centigrade temp into fahrenhite using above formula"
   ]
  },
  {
   "cell_type": "code",
   "execution_count": 119,
   "id": "ea96b318",
   "metadata": {},
   "outputs": [
    {
     "data": {
      "text/plain": [
       "array([[ 46.4,  69.8,  51.8,  68. ,  53.6,  86. ,  59. ,  68. ,  51.8,\n",
       "         87.8,  57.2,  68. ,  46.4,  78.8],\n",
       "       [ 48.2,  69.8,  48.2,  73.4,  57.2,  69.8,   8.6,  73.4,  51.8,\n",
       "         73.4,  50. ,  78.8,  42.8,  80.6],\n",
       "       [ 48.2,  89.6,  59. ,  71.6,  55.4,  69.8,  55.4,  82.4,  42.8,\n",
       "         78.8,  59. ,  75.2,  53.6,  84.2],\n",
       "       [ 55.4,  78.8,  42.8,  82.4,  59. ,  68. ,  48.2,  86. ,  55.4,\n",
       "         87.8,  44.6,  89.6,  59. ,  80.6],\n",
       "       [ 44.6,  89.6,  51.8,  87.8,  46.4,  80.6,  51.8,  77. ,  50. ,\n",
       "         87.8,  42.8,  75.2,  42.8,  87.8],\n",
       "       [ 51.8,  82.4,  51.8,  77. ,  53.6,  73.4,  55.4,  73.4,  42.8,\n",
       "         77. ,  57.2,  77. ,  57.2,  78.8],\n",
       "       [ 46.4,  86. ,  53.6,  89.6,  42.8,  86. ,  51.8,  82.4,  51.8,\n",
       "         80.6,  59. ,  78.8,  46.4,  68. ],\n",
       "       [ 51.8,  84.2,  51.8,  80.6,  53.6,  82.4,  50. ,  71.6,  51.8,\n",
       "         69.8,  53.6,  80.6,  50. ,  82.4],\n",
       "       [ 37.4,  66.2,  46.4,  71.6,  44.6,  64.4,  44.6,  71.6,  37.4,\n",
       "         66.2,  42.8,  46.4,  68. ,  44.6],\n",
       "       [ 41. ,  64.4,  46.4,  66.2,  44.6,  64.4,  42.8,  66.2,  41. ,\n",
       "         64.4,  44.6,  42.8,  68. ,  41. ],\n",
       "       [ 35.6,  71.6,  44.6,  66.2,  39.2,  71.6,  35.6,  69.8,  46.4,\n",
       "         71.6,  39.2,  35.6,  69.8,  35.6],\n",
       "       [ 39.2,  71.6,  42.8,  64.4,  46.4,  71.6,  41. ,  64.4,  37.4,\n",
       "         71.6,  39.2,  46.4,  64.4,  44.6],\n",
       "       [ 50. ,  64.4,  48.2,  68. ,  14. ,  69.8,  51.8,  68. ,  53.6,\n",
       "         66.2,  53.6, 159.8,  71.6,  44.6],\n",
       "       [ 51.8,  64.4,  46.4,  69.8,  51.8,  71.6,  44.6,  66.2,  53.6,\n",
       "         66.2,  51.8,  46.4,  68. ,  46.4],\n",
       "       [ 53.6,  69.8,  50. ,  71.6,  44.6,  64.4,  46.4,  66.2,  48.2,\n",
       "         71.6,  44.6,  51.8,  64.4,  51.8],\n",
       "       [ 50. ,  71.6,  48.2,  64.4,  44.6,  66.2,  51.8,  64.4,  44.6,\n",
       "         69.8,  51.8,  44.6,  64.4,  53.6]])"
      ]
     },
     "execution_count": 119,
     "metadata": {},
     "output_type": "execute_result"
    }
   ],
   "source": [
    "Fahrenheit = np.round((9*(Celcius)/5 + 32),2).reshape(16,14)\n",
    "Fahrenheit"
   ]
  },
  {
   "cell_type": "markdown",
   "id": "92d57b86",
   "metadata": {},
   "source": [
    "### 20.Sort the above data in descending order on the basis of weekly average for the month of Dec."
   ]
  },
  {
   "cell_type": "code",
   "execution_count": 120,
   "id": "d0137f80",
   "metadata": {},
   "outputs": [
    {
     "data": {
      "text/plain": [
       "array([['December', 'Week 1', '7', '32', '11', '31', '8', '27', '11',\n",
       "        '25', '10', '31', '6', '24', '6', '31'],\n",
       "       ['December', 'Week 2', '11', '28', '11', '25', '12', '23', '13',\n",
       "        '23', '6', '25', '14', '25', '14', '26'],\n",
       "       ['December', 'Week 3', '8', '30', '12', '32', '6', '30', '11',\n",
       "        '28', '11', '27', '15', '26', '8', '20'],\n",
       "       ['December', 'Week 4', '11', '29', '11', '27', '12', '28', '10',\n",
       "        '22', '11', '21', '12', '27', '10', '28']], dtype='<U9')"
      ]
     },
     "execution_count": 120,
     "metadata": {},
     "output_type": "execute_result"
    }
   ],
   "source": [
    "Dec_data"
   ]
  },
  {
   "cell_type": "code",
   "execution_count": 121,
   "id": "e27f9562",
   "metadata": {},
   "outputs": [
    {
     "name": "stdout",
     "output_type": "stream",
     "text": [
      "the value of week one: [[ 7 32 11 31  8 27 11 25 10 31  6 24  6 31]]\n",
      "the mean value of week one: 18.571428571428573\n"
     ]
    }
   ],
   "source": [
    "Dec_week1 = Dec_data[0:1,2:].astype(int)\n",
    "print(\"the value of week one:\",Dec_week1)\n",
    "Dec_week1_ase = np.mean(Dec_week1)\n",
    "print(\"the mean value of week one:\",np.mean(Dec_week1))\n",
    "#print the value of week 1 and its mean value"
   ]
  },
  {
   "cell_type": "code",
   "execution_count": 122,
   "id": "8e144d68",
   "metadata": {},
   "outputs": [
    {
     "name": "stdout",
     "output_type": "stream",
     "text": [
      "the value of week two: [11 28 11 25 12 23 13 23  6 25 14 25 14 26]\n",
      "the mean value of week two: 18.285714285714285\n"
     ]
    }
   ],
   "source": [
    "Dec_week2 = Dec_data[1,2:].astype(int)\n",
    "print(\"the value of week two:\",Dec_week2)\n",
    "Dec_week2_ase = np.mean(Dec_week2)\n",
    "print(\"the mean value of week two:\",np.mean(Dec_week2))\n",
    "#print the value of week 2 and its mean value"
   ]
  },
  {
   "cell_type": "code",
   "execution_count": 123,
   "id": "cb8bddb4",
   "metadata": {},
   "outputs": [
    {
     "name": "stdout",
     "output_type": "stream",
     "text": [
      "the value of week three: [ 8 30 12 32  6 30 11 28 11 27 15 26  8 20]\n",
      "the mean value of week three: 18.857142857142858\n"
     ]
    }
   ],
   "source": [
    "Dec_week3 = Dec_data[2,2:].astype(int)\n",
    "print(\"the value of week three:\",Dec_week3)\n",
    "Dec_week3_ase = np.mean(Dec_week3)\n",
    "print(\"the mean value of week three:\",np.mean(Dec_week3))\n",
    "#print the value of week 3 and its mean value"
   ]
  },
  {
   "cell_type": "code",
   "execution_count": 124,
   "id": "67bd0314",
   "metadata": {},
   "outputs": [
    {
     "name": "stdout",
     "output_type": "stream",
     "text": [
      "the value of week four: [11 29 11 27 12 28 10 22 11 21 12 27 10 28]\n",
      "the mean value of week four: 18.5\n"
     ]
    }
   ],
   "source": [
    "Dec_week4 = Dec_data[3,2:].astype(int)\n",
    "print(\"the value of week four:\",Dec_week4)\n",
    "Dec_week4_ase = np.mean(Dec_week4)\n",
    "print(\"the mean value of week four:\",np.mean(Dec_week4))\n",
    "#print the value of week 4 and its mean value"
   ]
  },
  {
   "cell_type": "code",
   "execution_count": 125,
   "id": "581948d2",
   "metadata": {},
   "outputs": [
    {
     "data": {
      "text/plain": [
       "array([18.57142857, 18.28571429, 18.85714286, 18.5       ])"
      ]
     },
     "execution_count": 125,
     "metadata": {},
     "output_type": "execute_result"
    }
   ],
   "source": [
    "Dec_week_ase = np.array((((Dec_week1_ase,Dec_week2_ase,Dec_week3_ase,Dec_week4_ase))))\n",
    "Dec_week_ase\n",
    "#make a new array with all week value of dec month"
   ]
  },
  {
   "cell_type": "code",
   "execution_count": 126,
   "id": "9d2ca350",
   "metadata": {},
   "outputs": [
    {
     "data": {
      "text/plain": [
       "array([18.85714286, 18.57142857, 18.5       , 18.28571429])"
      ]
     },
     "execution_count": 126,
     "metadata": {},
     "output_type": "execute_result"
    }
   ],
   "source": [
    "Dec_week_des = np.sort(Dec_week_ase)[::-1]\n",
    "Dec_week_des\n",
    "#sort the dec month value in desceding order"
   ]
  },
  {
   "cell_type": "markdown",
   "id": "3139f50f",
   "metadata": {},
   "source": [
    "### 21. Sort the temp of the first three days of each month in descending order on the basis of overall average for the whole winter."
   ]
  },
  {
   "cell_type": "code",
   "execution_count": 127,
   "id": "1142da40",
   "metadata": {},
   "outputs": [
    {
     "data": {
      "text/plain": [
       "array([['Month', 'Week', 'Monday', 'Monday', 'Tuesday', 'Tuesday',\n",
       "        'Wednesday', 'Wednesday', 'Thursday', 'Thursday', 'Friday',\n",
       "        'Friday', 'Saturday', 'Saturday', 'Sunday', 'Sunday'],\n",
       "       ['Month', 'Week', 'Min Temp', 'Max Temp', 'Min Temp', 'Max Temp',\n",
       "        'Min Temp', 'Max Temp', 'Min Temp', 'Max Temp', 'Min Temp',\n",
       "        'Max Temp', 'Min Temp', 'Max Temp', 'Min Temp', 'Max Temp'],\n",
       "       ['November', 'Week 1', '8', '21', '11', '20', '12', '30', '15',\n",
       "        '20', '11', '31', '14', '20', '8', '26'],\n",
       "       ['November', 'Week 2', '9', '21', '9', '23', '14', '21', '-13',\n",
       "        '23', '11', '23', '10', '26', '6', '27'],\n",
       "       ['November', 'Week 3', '9', '32', '15', '22', '13', '21', '13',\n",
       "        '28', '6', '26', '15', '24', '12', '29'],\n",
       "       ['November', 'Week 4', '13', '26', '6', '28', '15', '20', '9',\n",
       "        '30', '13', '31', '7', '32', '15', '27'],\n",
       "       ['December', 'Week 1', '7', '32', '11', '31', '8', '27', '11',\n",
       "        '25', '10', '31', '6', '24', '6', '31'],\n",
       "       ['December', 'Week 2', '11', '28', '11', '25', '12', '23', '13',\n",
       "        '23', '6', '25', '14', '25', '14', '26'],\n",
       "       ['December', 'Week 3', '8', '30', '12', '32', '6', '30', '11',\n",
       "        '28', '11', '27', '15', '26', '8', '20'],\n",
       "       ['December', 'Week 4', '11', '29', '11', '27', '12', '28', '10',\n",
       "        '22', '11', '21', '12', '27', '10', '28'],\n",
       "       ['January', 'Week 1', '3', '19', '8', '22', '7', '18', '7', '22',\n",
       "        '3', '19', '6', '8', '20', '7'],\n",
       "       ['January', 'Week 2', '5', '18', '8', '19', '7', '18', '6', '19',\n",
       "        '5', '18', '7', '6', '20', '5'],\n",
       "       ['January', 'Week 3', '2', '22', '7', '19', '4', '22', '2', '21',\n",
       "        '8', '22', '4', '2', '21', '2'],\n",
       "       ['January', 'Week 4', '4', '22', '6', '18', '8', '22', '5', '18',\n",
       "        '3', '22', '4', '8', '18', '7'],\n",
       "       ['February', 'Week 1', '10', '18', '9', '20', '-10', '21', '11',\n",
       "        '20', '12', '19', '12', '71', '22', '7'],\n",
       "       ['Febuary', 'Week 2', '11', '18', '8', '21', '11', '22', '7',\n",
       "        '19', '12', '19', '11', '8', '20', '8'],\n",
       "       ['Febuary', 'Week 3', '12', '21', '10', '22', '7', '18', '8',\n",
       "        '19', '9', '22', '7', '11', '18', '11'],\n",
       "       ['Febuary', 'Week 4', '10', '22', '9', '18', '7', '19', '11',\n",
       "        '18', '7', '21', '11', '7', '18', '12']], dtype='<U9')"
      ]
     },
     "execution_count": 127,
     "metadata": {},
     "output_type": "execute_result"
    }
   ],
   "source": [
    "data"
   ]
  },
  {
   "cell_type": "code",
   "execution_count": 128,
   "id": "3cb33e1c",
   "metadata": {},
   "outputs": [
    {
     "data": {
      "text/plain": [
       "array([ 8, 21, 11, 20, 12, 30,  9, 21,  9, 23, 14, 21,  9, 32, 15, 22, 13,\n",
       "       21, 13, 26,  6, 28, 15, 20,  7, 32, 11, 31,  8, 27, 11, 28, 11, 25,\n",
       "       12, 23,  8, 30, 12, 32,  6, 30, 11, 29, 11, 27, 12, 28,  3, 19,  8,\n",
       "       22,  7, 18,  5, 18,  8, 19,  7, 18,  2, 22,  7, 19,  4, 22,  4, 22,\n",
       "        6, 18,  8, 22])"
      ]
     },
     "execution_count": 128,
     "metadata": {},
     "output_type": "execute_result"
    }
   ],
   "source": [
    "three_days = data[2:-4, 2:8].astype(int).reshape(6*12,)\n",
    "three_days\n",
    "#print the value first three days of nov,dec,jan month and convert it into 1d array"
   ]
  },
  {
   "cell_type": "code",
   "execution_count": 129,
   "id": "cdf8fe82",
   "metadata": {},
   "outputs": [],
   "source": [
    "a4 = (np.sort(three_days)[::-1])\n",
    "#sort the first three days of nov,dec,jan month value in desceding order"
   ]
  },
  {
   "cell_type": "code",
   "execution_count": 130,
   "id": "1a06e270",
   "metadata": {},
   "outputs": [
    {
     "data": {
      "text/plain": [
       "16.51388888888889"
      ]
     },
     "execution_count": 130,
     "metadata": {},
     "output_type": "execute_result"
    }
   ],
   "source": [
    "Three_days  = np.mean(a4)\n",
    "Three_days \n",
    "#print the mean of above value"
   ]
  },
  {
   "cell_type": "markdown",
   "id": "f06f7845",
   "metadata": {},
   "source": [
    "### 22. Create an array that stores the difference between the min and max temp for each day in all the winter months."
   ]
  },
  {
   "cell_type": "code",
   "execution_count": 131,
   "id": "07b02e69",
   "metadata": {},
   "outputs": [
    {
     "data": {
      "text/plain": [
       "array([['Month', 'Week', 'Monday', 'Monday', 'Tuesday', 'Tuesday',\n",
       "        'Wednesday', 'Wednesday', 'Thursday', 'Thursday', 'Friday',\n",
       "        'Friday', 'Saturday', 'Saturday', 'Sunday', 'Sunday'],\n",
       "       ['Month', 'Week', 'Min Temp', 'Max Temp', 'Min Temp', 'Max Temp',\n",
       "        'Min Temp', 'Max Temp', 'Min Temp', 'Max Temp', 'Min Temp',\n",
       "        'Max Temp', 'Min Temp', 'Max Temp', 'Min Temp', 'Max Temp'],\n",
       "       ['November', 'Week 1', '8', '21', '11', '20', '12', '30', '15',\n",
       "        '20', '11', '31', '14', '20', '8', '26'],\n",
       "       ['November', 'Week 2', '9', '21', '9', '23', '14', '21', '-13',\n",
       "        '23', '11', '23', '10', '26', '6', '27'],\n",
       "       ['November', 'Week 3', '9', '32', '15', '22', '13', '21', '13',\n",
       "        '28', '6', '26', '15', '24', '12', '29'],\n",
       "       ['November', 'Week 4', '13', '26', '6', '28', '15', '20', '9',\n",
       "        '30', '13', '31', '7', '32', '15', '27'],\n",
       "       ['December', 'Week 1', '7', '32', '11', '31', '8', '27', '11',\n",
       "        '25', '10', '31', '6', '24', '6', '31'],\n",
       "       ['December', 'Week 2', '11', '28', '11', '25', '12', '23', '13',\n",
       "        '23', '6', '25', '14', '25', '14', '26'],\n",
       "       ['December', 'Week 3', '8', '30', '12', '32', '6', '30', '11',\n",
       "        '28', '11', '27', '15', '26', '8', '20'],\n",
       "       ['December', 'Week 4', '11', '29', '11', '27', '12', '28', '10',\n",
       "        '22', '11', '21', '12', '27', '10', '28'],\n",
       "       ['January', 'Week 1', '3', '19', '8', '22', '7', '18', '7', '22',\n",
       "        '3', '19', '6', '8', '20', '7'],\n",
       "       ['January', 'Week 2', '5', '18', '8', '19', '7', '18', '6', '19',\n",
       "        '5', '18', '7', '6', '20', '5'],\n",
       "       ['January', 'Week 3', '2', '22', '7', '19', '4', '22', '2', '21',\n",
       "        '8', '22', '4', '2', '21', '2'],\n",
       "       ['January', 'Week 4', '4', '22', '6', '18', '8', '22', '5', '18',\n",
       "        '3', '22', '4', '8', '18', '7']], dtype='<U9')"
      ]
     },
     "execution_count": 131,
     "metadata": {},
     "output_type": "execute_result"
    }
   ],
   "source": [
    "winter_month = data[:-4,:]\n",
    "winter_month\n",
    "#print data of nov,dec and jan month"
   ]
  },
  {
   "cell_type": "code",
   "execution_count": 132,
   "id": "1b15765d",
   "metadata": {},
   "outputs": [
    {
     "data": {
      "text/plain": [
       "array([[  8,  11,  12,  15,  11,  14,   8],\n",
       "       [  9,   9,  14, -13,  11,  10,   6],\n",
       "       [  9,  15,  13,  13,   6,  15,  12],\n",
       "       [ 13,   6,  15,   9,  13,   7,  15],\n",
       "       [  7,  11,   8,  11,  10,   6,   6],\n",
       "       [ 11,  11,  12,  13,   6,  14,  14],\n",
       "       [  8,  12,   6,  11,  11,  15,   8],\n",
       "       [ 11,  11,  12,  10,  11,  12,  10],\n",
       "       [  3,   8,   7,   7,   3,   6,  20],\n",
       "       [  5,   8,   7,   6,   5,   7,  20],\n",
       "       [  2,   7,   4,   2,   8,   4,  21],\n",
       "       [  4,   6,   8,   5,   3,   4,  18]])"
      ]
     },
     "execution_count": 132,
     "metadata": {},
     "output_type": "execute_result"
    }
   ],
   "source": [
    "win_min = winter_month[2:,2::2].astype(int)\n",
    "win_min\n",
    "#print min temp value using slicing"
   ]
  },
  {
   "cell_type": "code",
   "execution_count": 133,
   "id": "ee0b65b3",
   "metadata": {},
   "outputs": [
    {
     "data": {
      "text/plain": [
       "array([[21, 20, 30, 20, 31, 20, 26],\n",
       "       [21, 23, 21, 23, 23, 26, 27],\n",
       "       [32, 22, 21, 28, 26, 24, 29],\n",
       "       [26, 28, 20, 30, 31, 32, 27],\n",
       "       [32, 31, 27, 25, 31, 24, 31],\n",
       "       [28, 25, 23, 23, 25, 25, 26],\n",
       "       [30, 32, 30, 28, 27, 26, 20],\n",
       "       [29, 27, 28, 22, 21, 27, 28],\n",
       "       [19, 22, 18, 22, 19,  8,  7],\n",
       "       [18, 19, 18, 19, 18,  6,  5],\n",
       "       [22, 19, 22, 21, 22,  2,  2],\n",
       "       [22, 18, 22, 18, 22,  8,  7]])"
      ]
     },
     "execution_count": 133,
     "metadata": {},
     "output_type": "execute_result"
    }
   ],
   "source": [
    "win_max = winter_month[2:,3::2].astype(int)\n",
    "win_max\n",
    "#print max temp value using slicing"
   ]
  },
  {
   "cell_type": "code",
   "execution_count": 134,
   "id": "a657b1f9",
   "metadata": {},
   "outputs": [
    {
     "data": {
      "text/plain": [
       "array([[ 13,   9,  18,   5,  20,   6,  18],\n",
       "       [ 12,  14,   7,  36,  12,  16,  21],\n",
       "       [ 23,   7,   8,  15,  20,   9,  17],\n",
       "       [ 13,  22,   5,  21,  18,  25,  12],\n",
       "       [ 25,  20,  19,  14,  21,  18,  25],\n",
       "       [ 17,  14,  11,  10,  19,  11,  12],\n",
       "       [ 22,  20,  24,  17,  16,  11,  12],\n",
       "       [ 18,  16,  16,  12,  10,  15,  18],\n",
       "       [ 16,  14,  11,  15,  16,   2, -13],\n",
       "       [ 13,  11,  11,  13,  13,  -1, -15],\n",
       "       [ 20,  12,  18,  19,  14,  -2, -19],\n",
       "       [ 18,  12,  14,  13,  19,   4, -11]])"
      ]
     },
     "execution_count": 134,
     "metadata": {},
     "output_type": "execute_result"
    }
   ],
   "source": [
    "diff = np.subtract(win_max,win_min)\n",
    "diff\n",
    "#find the subtract using two values"
   ]
  },
  {
   "cell_type": "markdown",
   "id": "165b5cf1",
   "metadata": {},
   "source": [
    "### 23. Find and store the difference between the max temp of two consecutive days for each month of winter season."
   ]
  },
  {
   "cell_type": "code",
   "execution_count": 135,
   "id": "8bb297ea",
   "metadata": {},
   "outputs": [
    {
     "data": {
      "text/plain": [
       "array([['Month', 'Week', 'Monday', 'Monday', 'Tuesday', 'Tuesday',\n",
       "        'Wednesday', 'Wednesday', 'Thursday', 'Thursday', 'Friday',\n",
       "        'Friday', 'Saturday', 'Saturday', 'Sunday', 'Sunday'],\n",
       "       ['Month', 'Week', 'Min Temp', 'Max Temp', 'Min Temp', 'Max Temp',\n",
       "        'Min Temp', 'Max Temp', 'Min Temp', 'Max Temp', 'Min Temp',\n",
       "        'Max Temp', 'Min Temp', 'Max Temp', 'Min Temp', 'Max Temp'],\n",
       "       ['November', 'Week 1', '8', '21', '11', '20', '12', '30', '15',\n",
       "        '20', '11', '31', '14', '20', '8', '26'],\n",
       "       ['November', 'Week 2', '9', '21', '9', '23', '14', '21', '-13',\n",
       "        '23', '11', '23', '10', '26', '6', '27'],\n",
       "       ['November', 'Week 3', '9', '32', '15', '22', '13', '21', '13',\n",
       "        '28', '6', '26', '15', '24', '12', '29'],\n",
       "       ['November', 'Week 4', '13', '26', '6', '28', '15', '20', '9',\n",
       "        '30', '13', '31', '7', '32', '15', '27'],\n",
       "       ['December', 'Week 1', '7', '32', '11', '31', '8', '27', '11',\n",
       "        '25', '10', '31', '6', '24', '6', '31'],\n",
       "       ['December', 'Week 2', '11', '28', '11', '25', '12', '23', '13',\n",
       "        '23', '6', '25', '14', '25', '14', '26'],\n",
       "       ['December', 'Week 3', '8', '30', '12', '32', '6', '30', '11',\n",
       "        '28', '11', '27', '15', '26', '8', '20'],\n",
       "       ['December', 'Week 4', '11', '29', '11', '27', '12', '28', '10',\n",
       "        '22', '11', '21', '12', '27', '10', '28'],\n",
       "       ['January', 'Week 1', '3', '19', '8', '22', '7', '18', '7', '22',\n",
       "        '3', '19', '6', '8', '20', '7'],\n",
       "       ['January', 'Week 2', '5', '18', '8', '19', '7', '18', '6', '19',\n",
       "        '5', '18', '7', '6', '20', '5'],\n",
       "       ['January', 'Week 3', '2', '22', '7', '19', '4', '22', '2', '21',\n",
       "        '8', '22', '4', '2', '21', '2'],\n",
       "       ['January', 'Week 4', '4', '22', '6', '18', '8', '22', '5', '18',\n",
       "        '3', '22', '4', '8', '18', '7'],\n",
       "       ['February', 'Week 1', '10', '18', '9', '20', '-10', '21', '11',\n",
       "        '20', '12', '19', '12', '71', '22', '7'],\n",
       "       ['Febuary', 'Week 2', '11', '18', '8', '21', '11', '22', '7',\n",
       "        '19', '12', '19', '11', '8', '20', '8'],\n",
       "       ['Febuary', 'Week 3', '12', '21', '10', '22', '7', '18', '8',\n",
       "        '19', '9', '22', '7', '11', '18', '11'],\n",
       "       ['Febuary', 'Week 4', '10', '22', '9', '18', '7', '19', '11',\n",
       "        '18', '7', '21', '11', '7', '18', '12']], dtype='<U9')"
      ]
     },
     "execution_count": 135,
     "metadata": {},
     "output_type": "execute_result"
    }
   ],
   "source": [
    "data"
   ]
  },
  {
   "cell_type": "code",
   "execution_count": 136,
   "id": "8861b4da",
   "metadata": {},
   "outputs": [
    {
     "data": {
      "text/plain": [
       "array([['November', 'Week 1', '8', '21', '11', '20', '12', '30', '15',\n",
       "        '20', '11', '31', '14', '20', '8', '26'],\n",
       "       ['November', 'Week 2', '9', '21', '9', '23', '14', '21', '-13',\n",
       "        '23', '11', '23', '10', '26', '6', '27'],\n",
       "       ['November', 'Week 3', '9', '32', '15', '22', '13', '21', '13',\n",
       "        '28', '6', '26', '15', '24', '12', '29'],\n",
       "       ['November', 'Week 4', '13', '26', '6', '28', '15', '20', '9',\n",
       "        '30', '13', '31', '7', '32', '15', '27']], dtype='<U9')"
      ]
     },
     "execution_count": 136,
     "metadata": {},
     "output_type": "execute_result"
    }
   ],
   "source": [
    "Nov_data"
   ]
  },
  {
   "cell_type": "code",
   "execution_count": 137,
   "id": "3ef4f513",
   "metadata": {},
   "outputs": [
    {
     "data": {
      "text/plain": [
       "array([[ 8, 21, 11, 20],\n",
       "       [ 9, 21,  9, 23],\n",
       "       [ 9, 32, 15, 22],\n",
       "       [13, 26,  6, 28]])"
      ]
     },
     "execution_count": 137,
     "metadata": {},
     "output_type": "execute_result"
    }
   ],
   "source": [
    "nov_diff = Nov_data[:,2:6].astype(int)\n",
    "nov_diff\n",
    "#selecting the nov month data of first two days"
   ]
  },
  {
   "cell_type": "code",
   "execution_count": 138,
   "id": "fa7b93c7",
   "metadata": {},
   "outputs": [
    {
     "data": {
      "text/plain": [
       "array([[21, 20],\n",
       "       [21, 23],\n",
       "       [32, 22],\n",
       "       [26, 28]])"
      ]
     },
     "execution_count": 138,
     "metadata": {},
     "output_type": "execute_result"
    }
   ],
   "source": [
    "nov_max_diff1 = nov_diff[:,1::2]\n",
    "nov_max_diff1\n",
    "#selecting the nov month data of first two days of max temp data"
   ]
  },
  {
   "cell_type": "code",
   "execution_count": 139,
   "id": "b97a5064",
   "metadata": {},
   "outputs": [
    {
     "data": {
      "text/plain": [
       "array([21, 21, 32, 26])"
      ]
     },
     "execution_count": 139,
     "metadata": {},
     "output_type": "execute_result"
    }
   ],
   "source": [
    "nov_max_day1 = nov_max_diff1[:,0]\n",
    "nov_max_day1 \n",
    "#selecting the nov month data of first days of max temp data"
   ]
  },
  {
   "cell_type": "code",
   "execution_count": 140,
   "id": "de726a8c",
   "metadata": {},
   "outputs": [
    {
     "data": {
      "text/plain": [
       "array([20, 23, 22, 28])"
      ]
     },
     "execution_count": 140,
     "metadata": {},
     "output_type": "execute_result"
    }
   ],
   "source": [
    "nov_max_day2 = nov_max_diff1[:,1]\n",
    "nov_max_day2 \n",
    "#selecting the nov month data of second days of max temp data"
   ]
  },
  {
   "cell_type": "code",
   "execution_count": 141,
   "id": "fa98b6f0",
   "metadata": {},
   "outputs": [
    {
     "data": {
      "text/plain": [
       "array([[ -1],\n",
       "       [  2],\n",
       "       [-10],\n",
       "       [  2]])"
      ]
     },
     "execution_count": 141,
     "metadata": {},
     "output_type": "execute_result"
    }
   ],
   "source": [
    "nov_max_diff2 = np.subtract(nov_max_day2 ,nov_max_day1 ).reshape(4,1)\n",
    "nov_max_diff2\n",
    "#subtract the value of two days and reshaped it"
   ]
  },
  {
   "cell_type": "code",
   "execution_count": 142,
   "id": "31bbb852",
   "metadata": {},
   "outputs": [
    {
     "data": {
      "text/plain": [
       "array([['December', 'Week 1', '7', '32', '11', '31', '8', '27', '11',\n",
       "        '25', '10', '31', '6', '24', '6', '31'],\n",
       "       ['December', 'Week 2', '11', '28', '11', '25', '12', '23', '13',\n",
       "        '23', '6', '25', '14', '25', '14', '26'],\n",
       "       ['December', 'Week 3', '8', '30', '12', '32', '6', '30', '11',\n",
       "        '28', '11', '27', '15', '26', '8', '20'],\n",
       "       ['December', 'Week 4', '11', '29', '11', '27', '12', '28', '10',\n",
       "        '22', '11', '21', '12', '27', '10', '28']], dtype='<U9')"
      ]
     },
     "execution_count": 142,
     "metadata": {},
     "output_type": "execute_result"
    }
   ],
   "source": [
    "Dec_data"
   ]
  },
  {
   "cell_type": "code",
   "execution_count": 143,
   "id": "24d32047",
   "metadata": {},
   "outputs": [
    {
     "data": {
      "text/plain": [
       "array([[ 7, 32, 11, 31],\n",
       "       [11, 28, 11, 25],\n",
       "       [ 8, 30, 12, 32],\n",
       "       [11, 29, 11, 27]])"
      ]
     },
     "execution_count": 143,
     "metadata": {},
     "output_type": "execute_result"
    }
   ],
   "source": [
    "Dec_diff = Dec_data[:,2:6].astype(int)\n",
    "Dec_diff\n",
    "#selecting the dec month data of first two days"
   ]
  },
  {
   "cell_type": "code",
   "execution_count": 144,
   "id": "c9c4ee2f",
   "metadata": {},
   "outputs": [
    {
     "data": {
      "text/plain": [
       "array([[32, 31],\n",
       "       [28, 25],\n",
       "       [30, 32],\n",
       "       [29, 27]])"
      ]
     },
     "execution_count": 144,
     "metadata": {},
     "output_type": "execute_result"
    }
   ],
   "source": [
    "Dec_max_diff1 = Dec_diff[:,1::2]\n",
    "Dec_max_diff1\n",
    "#selecting the dec month data of first two days of max temp data"
   ]
  },
  {
   "cell_type": "code",
   "execution_count": 145,
   "id": "5dfbbfd8",
   "metadata": {},
   "outputs": [
    {
     "data": {
      "text/plain": [
       "array([32, 28, 30, 29])"
      ]
     },
     "execution_count": 145,
     "metadata": {},
     "output_type": "execute_result"
    }
   ],
   "source": [
    "Dec_max_day1 = Dec_max_diff1[:,0]\n",
    "Dec_max_day1 \n",
    "#selecting the dec month data of second days of max temp data"
   ]
  },
  {
   "cell_type": "code",
   "execution_count": 146,
   "id": "38cf9a0c",
   "metadata": {},
   "outputs": [
    {
     "data": {
      "text/plain": [
       "array([31, 25, 32, 27])"
      ]
     },
     "execution_count": 146,
     "metadata": {},
     "output_type": "execute_result"
    }
   ],
   "source": [
    "Dec_max_day2 = Dec_max_diff1[:,1]\n",
    "Dec_max_day2 \n",
    "#selecting the dec month data of second days of max temp data"
   ]
  },
  {
   "cell_type": "code",
   "execution_count": 147,
   "id": "6e71cc4a",
   "metadata": {},
   "outputs": [
    {
     "data": {
      "text/plain": [
       "array([[-1],\n",
       "       [-3],\n",
       "       [ 2],\n",
       "       [-2]])"
      ]
     },
     "execution_count": 147,
     "metadata": {},
     "output_type": "execute_result"
    }
   ],
   "source": [
    "Dec_max_diff2 = np.subtract(Dec_max_day2 ,Dec_max_day1 ).reshape(4,1)\n",
    "Dec_max_diff2\n",
    "#subtract the value of two days and reshaped it"
   ]
  },
  {
   "cell_type": "code",
   "execution_count": 148,
   "id": "9df0cd0e",
   "metadata": {},
   "outputs": [
    {
     "data": {
      "text/plain": [
       "array([['January', 'Week 1', '3', '19', '8', '22', '7', '18', '7', '22',\n",
       "        '3', '19', '6', '8', '20', '7'],\n",
       "       ['January', 'Week 2', '5', '18', '8', '19', '7', '18', '6', '19',\n",
       "        '5', '18', '7', '6', '20', '5'],\n",
       "       ['January', 'Week 3', '2', '22', '7', '19', '4', '22', '2', '21',\n",
       "        '8', '22', '4', '2', '21', '2'],\n",
       "       ['January', 'Week 4', '4', '22', '6', '18', '8', '22', '5', '18',\n",
       "        '3', '22', '4', '8', '18', '7']], dtype='<U9')"
      ]
     },
     "execution_count": 148,
     "metadata": {},
     "output_type": "execute_result"
    }
   ],
   "source": [
    "Jan_data"
   ]
  },
  {
   "cell_type": "code",
   "execution_count": 149,
   "id": "cd919834",
   "metadata": {},
   "outputs": [
    {
     "data": {
      "text/plain": [
       "array([[ 3, 19,  8, 22],\n",
       "       [ 5, 18,  8, 19],\n",
       "       [ 2, 22,  7, 19],\n",
       "       [ 4, 22,  6, 18]])"
      ]
     },
     "execution_count": 149,
     "metadata": {},
     "output_type": "execute_result"
    }
   ],
   "source": [
    "Jan_diff = Jan_data[:,2:6].astype(int)\n",
    "Jan_diff\n",
    "#selecting the jan month data of first two days"
   ]
  },
  {
   "cell_type": "code",
   "execution_count": 150,
   "id": "1b8ea188",
   "metadata": {},
   "outputs": [
    {
     "data": {
      "text/plain": [
       "array([[19, 22],\n",
       "       [18, 19],\n",
       "       [22, 19],\n",
       "       [22, 18]])"
      ]
     },
     "execution_count": 150,
     "metadata": {},
     "output_type": "execute_result"
    }
   ],
   "source": [
    "Jan_max_diff1 = Jan_diff[:,1::2]\n",
    "Jan_max_diff1\n",
    "#selecting the jan month data of first two days of max temp data"
   ]
  },
  {
   "cell_type": "code",
   "execution_count": 151,
   "id": "a38dbc8d",
   "metadata": {},
   "outputs": [
    {
     "data": {
      "text/plain": [
       "array([19, 18, 22, 22])"
      ]
     },
     "execution_count": 151,
     "metadata": {},
     "output_type": "execute_result"
    }
   ],
   "source": [
    "Jan_max_day1 = Jan_max_diff1[:,0]\n",
    "Jan_max_day1 \n",
    "#selecting the jan month data of second days of max temp data"
   ]
  },
  {
   "cell_type": "code",
   "execution_count": 152,
   "id": "94893e1b",
   "metadata": {},
   "outputs": [
    {
     "data": {
      "text/plain": [
       "array([22, 19, 19, 18])"
      ]
     },
     "execution_count": 152,
     "metadata": {},
     "output_type": "execute_result"
    }
   ],
   "source": [
    "Jan_max_day2 = Jan_max_diff1[:,1]\n",
    "Jan_max_day2 \n",
    "#selecting the jan month data of second days of max temp data"
   ]
  },
  {
   "cell_type": "code",
   "execution_count": 153,
   "id": "6aa8f05e",
   "metadata": {},
   "outputs": [
    {
     "data": {
      "text/plain": [
       "array([[ 3],\n",
       "       [ 1],\n",
       "       [-3],\n",
       "       [-4]])"
      ]
     },
     "execution_count": 153,
     "metadata": {},
     "output_type": "execute_result"
    }
   ],
   "source": [
    "Jan_max_diff2 = np.subtract(Jan_max_day2 ,Jan_max_day1 ).reshape(4,1)\n",
    "Jan_max_diff2\n",
    "#subtract the value of two days and reshaped it"
   ]
  },
  {
   "cell_type": "markdown",
   "id": "102b892e",
   "metadata": {},
   "source": [
    "### 24.Find and store the difference between the minimum temp of two consecutive days for each month of the winter season."
   ]
  },
  {
   "cell_type": "code",
   "execution_count": 154,
   "id": "9f8f4315",
   "metadata": {},
   "outputs": [
    {
     "data": {
      "text/plain": [
       "array([[ 8, 11],\n",
       "       [ 9,  9],\n",
       "       [ 9, 15],\n",
       "       [13,  6]])"
      ]
     },
     "execution_count": 154,
     "metadata": {},
     "output_type": "execute_result"
    }
   ],
   "source": [
    "nov_min_diff1 = nov_diff[:,0::2]\n",
    "nov_min_diff1\n",
    "#selecting the nov month data of first two days of min temp data"
   ]
  },
  {
   "cell_type": "code",
   "execution_count": 155,
   "id": "4fc60e53",
   "metadata": {},
   "outputs": [
    {
     "data": {
      "text/plain": [
       "array([ 8,  9,  9, 13])"
      ]
     },
     "execution_count": 155,
     "metadata": {},
     "output_type": "execute_result"
    }
   ],
   "source": [
    "nov_min_day1 = nov_min_diff1[:,0]\n",
    "nov_min_day1 \n",
    "#selecting the nov month data of second days of min temp data"
   ]
  },
  {
   "cell_type": "code",
   "execution_count": 156,
   "id": "3defd8df",
   "metadata": {},
   "outputs": [
    {
     "data": {
      "text/plain": [
       "array([11,  9, 15,  6])"
      ]
     },
     "execution_count": 156,
     "metadata": {},
     "output_type": "execute_result"
    }
   ],
   "source": [
    "nov_min_day2 = nov_min_diff1[:,1]\n",
    "nov_min_day2 \n",
    "#selecting the nov month data of second days of min temp data"
   ]
  },
  {
   "cell_type": "code",
   "execution_count": 157,
   "id": "af9680f0",
   "metadata": {},
   "outputs": [
    {
     "data": {
      "text/plain": [
       "array([[ 3],\n",
       "       [ 0],\n",
       "       [ 6],\n",
       "       [-7]])"
      ]
     },
     "execution_count": 157,
     "metadata": {},
     "output_type": "execute_result"
    }
   ],
   "source": [
    "nov_min_diff = np.subtract(nov_min_day2 ,nov_min_day1 ).reshape(4,1)\n",
    "nov_min_diff\n",
    "#subtract the value of two days and reshaped it"
   ]
  },
  {
   "cell_type": "code",
   "execution_count": 158,
   "id": "409e6702",
   "metadata": {},
   "outputs": [
    {
     "data": {
      "text/plain": [
       "array([[ 7, 11],\n",
       "       [11, 11],\n",
       "       [ 8, 12],\n",
       "       [11, 11]])"
      ]
     },
     "execution_count": 158,
     "metadata": {},
     "output_type": "execute_result"
    }
   ],
   "source": [
    "Dec_min_diff1 = Dec_diff[:,0::2]\n",
    "Dec_min_diff1\n",
    "#selecting the dec month data of first two days of min temp data"
   ]
  },
  {
   "cell_type": "code",
   "execution_count": 159,
   "id": "3405a354",
   "metadata": {},
   "outputs": [
    {
     "data": {
      "text/plain": [
       "array([ 7, 11,  8, 11])"
      ]
     },
     "execution_count": 159,
     "metadata": {},
     "output_type": "execute_result"
    }
   ],
   "source": [
    "Dec_min_day1 = Dec_min_diff1[:,0]\n",
    "Dec_min_day1 \n",
    "#selecting the dec month data of second days of min temp data"
   ]
  },
  {
   "cell_type": "code",
   "execution_count": 160,
   "id": "46d8535f",
   "metadata": {},
   "outputs": [
    {
     "data": {
      "text/plain": [
       "array([11, 11, 12, 11])"
      ]
     },
     "execution_count": 160,
     "metadata": {},
     "output_type": "execute_result"
    }
   ],
   "source": [
    "Dec_min_day2 = Dec_min_diff1[:,1]\n",
    "Dec_min_day2 \n",
    "#selecting the dec month data of second days of min temp data"
   ]
  },
  {
   "cell_type": "code",
   "execution_count": 161,
   "id": "3c354425",
   "metadata": {},
   "outputs": [
    {
     "data": {
      "text/plain": [
       "array([[4],\n",
       "       [0],\n",
       "       [4],\n",
       "       [0]])"
      ]
     },
     "execution_count": 161,
     "metadata": {},
     "output_type": "execute_result"
    }
   ],
   "source": [
    "Dec_min_diff = np.subtract(Dec_min_day2 ,Dec_min_day1 ).reshape(4,1)\n",
    "Dec_min_diff\n",
    "#subtract the value of two days and reshaped it"
   ]
  },
  {
   "cell_type": "code",
   "execution_count": 162,
   "id": "c3271c81",
   "metadata": {},
   "outputs": [
    {
     "data": {
      "text/plain": [
       "array([[3, 8],\n",
       "       [5, 8],\n",
       "       [2, 7],\n",
       "       [4, 6]])"
      ]
     },
     "execution_count": 162,
     "metadata": {},
     "output_type": "execute_result"
    }
   ],
   "source": [
    "Jan_min_diff1 = Jan_diff[:,0::2]\n",
    "Jan_min_diff1\n",
    "#selecting the jan month data of first two days of min temp data"
   ]
  },
  {
   "cell_type": "code",
   "execution_count": 163,
   "id": "af7e191d",
   "metadata": {},
   "outputs": [
    {
     "data": {
      "text/plain": [
       "array([3, 5, 2, 4])"
      ]
     },
     "execution_count": 163,
     "metadata": {},
     "output_type": "execute_result"
    }
   ],
   "source": [
    "Jan_min_day1 = Jan_min_diff1[:,0]\n",
    "Jan_min_day1 \n",
    "#selecting the jan month data of second days of min temp data"
   ]
  },
  {
   "cell_type": "code",
   "execution_count": 164,
   "id": "8ecc4839",
   "metadata": {},
   "outputs": [
    {
     "data": {
      "text/plain": [
       "array([8, 8, 7, 6])"
      ]
     },
     "execution_count": 164,
     "metadata": {},
     "output_type": "execute_result"
    }
   ],
   "source": [
    "Jan_min_day2 = Jan_min_diff1[:,1]\n",
    "Jan_min_day2 \n",
    "#selecting the jan month data of second days of min temp data"
   ]
  },
  {
   "cell_type": "code",
   "execution_count": 165,
   "id": "a8902544",
   "metadata": {},
   "outputs": [
    {
     "data": {
      "text/plain": [
       "array([[5],\n",
       "       [3],\n",
       "       [5],\n",
       "       [2]])"
      ]
     },
     "execution_count": 165,
     "metadata": {},
     "output_type": "execute_result"
    }
   ],
   "source": [
    "Jan_min_diff = np.subtract(Jan_min_day2 ,Jan_min_day1 ).reshape(4,1)\n",
    "Jan_min_diff\n",
    "#subtract the value of two days and reshaped it"
   ]
  },
  {
   "cell_type": "markdown",
   "id": "b6c83874",
   "metadata": {},
   "source": [
    "### 25. Create an array by combining the data present in arrays created in q.23 and q.24, to store the difference between the min and max temp of each day of all the months for the whole winter season, in a single array."
   ]
  },
  {
   "cell_type": "code",
   "execution_count": 166,
   "id": "a9350e02",
   "metadata": {},
   "outputs": [],
   "source": [
    "Nov_min_max_diff = np.hstack((nov_min_diff,nov_max_diff2))\n",
    "Dec_min_max_diff = np.hstack((Dec_min_diff,Dec_max_diff2))\n",
    "Jan_min_max_diff = np.hstack((Jan_min_diff,Jan_max_diff2))\n",
    "#print the winter months and find the difference and hstacking the all value for first two days values)"
   ]
  },
  {
   "cell_type": "code",
   "execution_count": 167,
   "id": "78314beb",
   "metadata": {},
   "outputs": [
    {
     "data": {
      "text/plain": [
       "array([[  3,  -1],\n",
       "       [  0,   2],\n",
       "       [  6, -10],\n",
       "       [ -7,   2],\n",
       "       [  4,  -1],\n",
       "       [  0,  -3],\n",
       "       [  4,   2],\n",
       "       [  0,  -2],\n",
       "       [  5,   3],\n",
       "       [  3,   1],\n",
       "       [  5,  -3],\n",
       "       [  2,  -4]])"
      ]
     },
     "execution_count": 167,
     "metadata": {},
     "output_type": "execute_result"
    }
   ],
   "source": [
    "win_min_max_diff = np.vstack(((Nov_min_max_diff,Dec_min_max_diff,Jan_min_max_diff)))\n",
    "win_min_max_diff"
   ]
  },
  {
   "cell_type": "code",
   "execution_count": 168,
   "id": "a67cf684",
   "metadata": {},
   "outputs": [
    {
     "data": {
      "text/plain": [
       "array([['November', 'Week 1'],\n",
       "       ['November', 'Week 2'],\n",
       "       ['November', 'Week 3'],\n",
       "       ['November', 'Week 4'],\n",
       "       ['December', 'Week 1'],\n",
       "       ['December', 'Week 2'],\n",
       "       ['December', 'Week 3'],\n",
       "       ['December', 'Week 4'],\n",
       "       ['January', 'Week 1'],\n",
       "       ['January', 'Week 2'],\n",
       "       ['January', 'Week 3'],\n",
       "       ['January', 'Week 4']], dtype='<U9')"
      ]
     },
     "execution_count": 168,
     "metadata": {},
     "output_type": "execute_result"
    }
   ],
   "source": [
    "data_25 = data[2:-4,0:2]\n",
    "data_25"
   ]
  },
  {
   "cell_type": "code",
   "execution_count": 169,
   "id": "4c8a04bb",
   "metadata": {},
   "outputs": [
    {
     "data": {
      "text/plain": [
       "array([['November', 'Week 1', '3', '-1'],\n",
       "       ['November', 'Week 2', '0', '2'],\n",
       "       ['November', 'Week 3', '6', '-10'],\n",
       "       ['November', 'Week 4', '-7', '2'],\n",
       "       ['December', 'Week 1', '4', '-1'],\n",
       "       ['December', 'Week 2', '0', '-3'],\n",
       "       ['December', 'Week 3', '4', '2'],\n",
       "       ['December', 'Week 4', '0', '-2'],\n",
       "       ['January', 'Week 1', '5', '3'],\n",
       "       ['January', 'Week 2', '3', '1'],\n",
       "       ['January', 'Week 3', '5', '-3'],\n",
       "       ['January', 'Week 4', '2', '-4']], dtype='<U11')"
      ]
     },
     "execution_count": 169,
     "metadata": {},
     "output_type": "execute_result"
    }
   ],
   "source": [
    "win_min_max_diff1 = np.hstack((data_25,win_min_max_diff))\n",
    "win_min_max_diff1\n",
    "#print all min and max temp for first two days"
   ]
  }
 ],
 "metadata": {
  "kernelspec": {
   "display_name": "Python 3",
   "language": "python",
   "name": "python3"
  },
  "language_info": {
   "codemirror_mode": {
    "name": "ipython",
    "version": 3
   },
   "file_extension": ".py",
   "mimetype": "text/x-python",
   "name": "python",
   "nbconvert_exporter": "python",
   "pygments_lexer": "ipython3",
   "version": "3.8.8"
  }
 },
 "nbformat": 4,
 "nbformat_minor": 5
}
