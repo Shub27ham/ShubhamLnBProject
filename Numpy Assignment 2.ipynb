{
 "cells": [
  {
   "cell_type": "code",
   "execution_count": 1,
   "id": "e2a4a7f4",
   "metadata": {},
   "outputs": [],
   "source": [
    "import numpy as np"
   ]
  },
  {
   "cell_type": "markdown",
   "id": "2bdccf42",
   "metadata": {},
   "source": [
    "# Q1"
   ]
  },
  {
   "cell_type": "code",
   "execution_count": 2,
   "id": "951706fd",
   "metadata": {},
   "outputs": [
    {
     "name": "stdout",
     "output_type": "stream",
     "text": [
      "Current Number 0Previous Number 0is 0\n",
      "Current Number 1Previous Number 0is 1\n",
      "Current Number 2Previous Number 1is 3\n",
      "Current Number 3Previous Number 2is 5\n",
      "Current Number 4Previous Number 3is 7\n",
      "Current Number 5Previous Number 4is 9\n",
      "Current Number 6Previous Number 5is 11\n",
      "Current Number 7Previous Number 6is 13\n",
      "Current Number 8Previous Number 7is 15\n",
      "Current Number 9Previous Number 8is 17\n"
     ]
    }
   ],
   "source": [
    "num = list(range(10))\n",
    "previousNum = 0\n",
    "for i in num:\n",
    "    sum = previousNum + i\n",
    "    print('Current Number '+ str(i) + 'Previous Number ' + str(previousNum) + 'is ' + str(sum)) # <- This is the issue.\n",
    "    previousNum=i"
   ]
  },
  {
   "cell_type": "markdown",
   "id": "4705b1ce",
   "metadata": {},
   "source": [
    "# Q2"
   ]
  },
  {
   "cell_type": "code",
   "execution_count": 3,
   "id": "3844be8f",
   "metadata": {},
   "outputs": [
    {
     "name": "stdout",
     "output_type": "stream",
     "text": [
      "2\n"
     ]
    }
   ],
   "source": [
    "str_x = \"Emma is good developer. Emma is a writer\"\n",
    "a = str_x.count(\"Emma\")\n",
    "print(a)"
   ]
  },
  {
   "cell_type": "markdown",
   "id": "9dc164a8",
   "metadata": {},
   "source": [
    "# Q3"
   ]
  },
  {
   "cell_type": "code",
   "execution_count": 4,
   "id": "88292aed",
   "metadata": {},
   "outputs": [],
   "source": [
    "def merge_list(list1, list2):\n",
    "    result_list = []\n",
    "\n",
    "    for num in list1:\n",
    "        if num % 2 != 0:\n",
    "            result_list.append(num)\n",
    "    \n",
    "    for num in list2:\n",
    "        if num % 2 == 0:\n",
    "            result_list.append(num)\n",
    "    return result_list"
   ]
  },
  {
   "cell_type": "code",
   "execution_count": 5,
   "id": "4cbcc7af",
   "metadata": {},
   "outputs": [
    {
     "name": "stdout",
     "output_type": "stream",
     "text": [
      "result list: [25, 35, 40, 60, 90]\n"
     ]
    }
   ],
   "source": [
    "list1 = [10, 20, 25, 30, 35]\n",
    "list2 = [40, 45, 60, 75, 90]\n",
    "print(\"result list:\", merge_list(list1, list2))"
   ]
  },
  {
   "cell_type": "markdown",
   "id": "6116314d",
   "metadata": {},
   "source": [
    "# Q4"
   ]
  },
  {
   "cell_type": "code",
   "execution_count": 6,
   "id": "6a02a727",
   "metadata": {},
   "outputs": [
    {
     "name": "stdout",
     "output_type": "stream",
     "text": [
      "        * \n",
      "      * * \n",
      "    * * * \n",
      "  * * * * \n",
      "* * * * * \n"
     ]
    }
   ],
   "source": [
    "rows = 5\n",
    "k = 2 * rows - 2\n",
    "for i in range(0, rows):\n",
    "    for j in range(0, k):\n",
    "        print(end=\" \")\n",
    "    k = k - 2\n",
    "    for j in range(0, i + 1):\n",
    "        print(\"* \", end=\"\")\n",
    "    print(\"\")"
   ]
  },
  {
   "cell_type": "code",
   "execution_count": 7,
   "id": "4bd86ee8",
   "metadata": {},
   "outputs": [
    {
     "name": "stdout",
     "output_type": "stream",
     "text": [
      "* * * * *  \n",
      "* * * *  \n",
      "* * *  \n",
      "* *  \n",
      "*  \n",
      " \n"
     ]
    }
   ],
   "source": [
    "rows = 5\n",
    "for i in range(rows + 1, 0, -1):\n",
    "    for j in range(0, i - 1):\n",
    "        print(\"*\", end=' ')\n",
    "    print(\" \")"
   ]
  },
  {
   "cell_type": "code",
   "execution_count": 8,
   "id": "25927cc2",
   "metadata": {},
   "outputs": [
    {
     "name": "stdout",
     "output_type": "stream",
     "text": [
      "\n",
      "\n",
      "1 \n",
      "\n",
      "2 2 \n",
      "\n",
      "3 3 3 \n",
      "\n",
      "4 4 4 4 \n",
      "\n",
      "5 5 5 5 5 \n",
      "\n",
      "6 6 6 6 6 6 \n",
      "\n",
      "7 7 7 7 7 7 7 \n",
      "\n",
      "8 8 8 8 8 8 8 8 \n",
      "\n",
      "9 9 9 9 9 9 9 9 9 \n",
      "\n"
     ]
    }
   ],
   "source": [
    "for num in range(10):\n",
    "    for i in range(num):\n",
    "        print (num, end=\" \") \n",
    "    print(\"\\n\")"
   ]
  },
  {
   "cell_type": "markdown",
   "id": "16b66b73",
   "metadata": {},
   "source": [
    "# Q5"
   ]
  },
  {
   "cell_type": "code",
   "execution_count": 9,
   "id": "2941efc3",
   "metadata": {},
   "outputs": [
    {
     "name": "stdout",
     "output_type": "stream",
     "text": [
      "2 raises to the power of 5 is:  32\n"
     ]
    }
   ],
   "source": [
    "def exponent(base, exp):\n",
    "    num = exp\n",
    "    result = 1\n",
    "    while num > 0:\n",
    "        result = result * base\n",
    "        num = num - 1\n",
    "    print(base, \"raises to the power of\", exp, \"is: \", result)\n",
    "\n",
    "exponent(2, 5)"
   ]
  },
  {
   "cell_type": "code",
   "execution_count": 10,
   "id": "2a482aa9",
   "metadata": {},
   "outputs": [
    {
     "name": "stdout",
     "output_type": "stream",
     "text": [
      "5 raises to the power of 4 is:  625\n"
     ]
    }
   ],
   "source": [
    "exponent(5, 4)"
   ]
  },
  {
   "cell_type": "markdown",
   "id": "12522e92",
   "metadata": {},
   "source": [
    "# Q6"
   ]
  },
  {
   "cell_type": "code",
   "execution_count": 11,
   "id": "e0dcbe56",
   "metadata": {},
   "outputs": [
    {
     "name": "stdout",
     "output_type": "stream",
     "text": [
      "[ 34  56  89  23  69 980 567]\n",
      "True\n"
     ]
    }
   ],
   "source": [
    "x = np.array([34, 56, 89,23, 69, 980, 567])\n",
    "print(x)\n",
    "print(np.all(x))"
   ]
  },
  {
   "cell_type": "code",
   "execution_count": 12,
   "id": "366456b7",
   "metadata": {},
   "outputs": [
    {
     "name": "stdout",
     "output_type": "stream",
     "text": [
      "[  0  34  56  89  23  69 980 567]\n",
      "False\n"
     ]
    }
   ],
   "source": [
    "y = np.array([0,34, 56, 89,23, 69, 980, 567])\n",
    "print(y)\n",
    "print(np.all(y))"
   ]
  },
  {
   "cell_type": "markdown",
   "id": "f18a03a4",
   "metadata": {},
   "source": [
    "# Q7"
   ]
  },
  {
   "cell_type": "code",
   "execution_count": 13,
   "id": "a29c55f3",
   "metadata": {},
   "outputs": [
    {
     "name": "stdout",
     "output_type": "stream",
     "text": [
      "An array of 10 zeros:\n",
      "[0. 0. 0. 0. 0. 0. 0. 0. 0. 0.]\n",
      "An array of 10 ones:\n",
      "[1. 1. 1. 1. 1. 1. 1. 1. 1. 1.]\n",
      "An array of 10 fives:\n",
      "[5. 5. 5. 5. 5. 5. 5. 5. 5. 5.]\n"
     ]
    }
   ],
   "source": [
    "array=np.zeros(10)\n",
    "print(\"An array of 10 zeros:\")\n",
    "print(array)\n",
    "array=np.ones(10)\n",
    "print(\"An array of 10 ones:\")\n",
    "print(array)\n",
    "array=np.ones(10)*5\n",
    "print(\"An array of 10 fives:\")\n",
    "print(array)"
   ]
  },
  {
   "cell_type": "markdown",
   "id": "edc55dfe",
   "metadata": {},
   "source": [
    "# Q8"
   ]
  },
  {
   "cell_type": "code",
   "execution_count": 14,
   "id": "1099f0fe",
   "metadata": {},
   "outputs": [],
   "source": [
    "x = np.arange(30, 71, 2)"
   ]
  },
  {
   "cell_type": "code",
   "execution_count": 15,
   "id": "3b03d978",
   "metadata": {},
   "outputs": [
    {
     "data": {
      "text/plain": [
       "array([30, 32, 34, 36, 38, 40, 42, 44, 46, 48, 50, 52, 54, 56, 58, 60, 62,\n",
       "       64, 66, 68, 70])"
      ]
     },
     "execution_count": 15,
     "metadata": {},
     "output_type": "execute_result"
    }
   ],
   "source": [
    "x"
   ]
  },
  {
   "cell_type": "markdown",
   "id": "e3cc8c38",
   "metadata": {},
   "source": [
    "# Q9"
   ]
  },
  {
   "cell_type": "code",
   "execution_count": 16,
   "id": "722bbe36",
   "metadata": {},
   "outputs": [],
   "source": [
    "x = np.array([[0,1],[2,3]])"
   ]
  },
  {
   "cell_type": "code",
   "execution_count": 17,
   "id": "6dcc564f",
   "metadata": {},
   "outputs": [
    {
     "data": {
      "text/plain": [
       "array([[0, 1],\n",
       "       [2, 3]])"
      ]
     },
     "execution_count": 17,
     "metadata": {},
     "output_type": "execute_result"
    }
   ],
   "source": [
    "x"
   ]
  },
  {
   "cell_type": "code",
   "execution_count": 18,
   "id": "312c8bfe",
   "metadata": {},
   "outputs": [
    {
     "data": {
      "text/plain": [
       "6"
      ]
     },
     "execution_count": 18,
     "metadata": {},
     "output_type": "execute_result"
    }
   ],
   "source": [
    "np.sum(x)"
   ]
  },
  {
   "cell_type": "code",
   "execution_count": 19,
   "id": "14817176",
   "metadata": {},
   "outputs": [
    {
     "data": {
      "text/plain": [
       "array([2, 4])"
      ]
     },
     "execution_count": 19,
     "metadata": {},
     "output_type": "execute_result"
    }
   ],
   "source": [
    "np.sum(x, axis=0)"
   ]
  },
  {
   "cell_type": "code",
   "execution_count": 20,
   "id": "5c2a076c",
   "metadata": {},
   "outputs": [
    {
     "data": {
      "text/plain": [
       "array([1, 5])"
      ]
     },
     "execution_count": 20,
     "metadata": {},
     "output_type": "execute_result"
    }
   ],
   "source": [
    "np.sum(x, axis=1)"
   ]
  },
  {
   "cell_type": "markdown",
   "id": "f849ae04",
   "metadata": {},
   "source": [
    "# Q10"
   ]
  },
  {
   "cell_type": "code",
   "execution_count": 21,
   "id": "bb06cbcf",
   "metadata": {},
   "outputs": [
    {
     "name": "stdout",
     "output_type": "stream",
     "text": [
      "[[1 0 0 0 0]\n",
      " [0 2 0 0 0]\n",
      " [0 0 3 0 0]\n",
      " [0 0 0 4 0]\n",
      " [0 0 0 0 5]]\n"
     ]
    }
   ],
   "source": [
    "x = np.diag([1, 2, 3, 4, 5])\n",
    "print(x)"
   ]
  },
  {
   "cell_type": "markdown",
   "id": "1a78e5ab",
   "metadata": {},
   "source": [
    "# Q11"
   ]
  },
  {
   "cell_type": "code",
   "execution_count": 22,
   "id": "1f05485c",
   "metadata": {},
   "outputs": [],
   "source": [
    "a = np.random.randint(2,10,20).reshape(4,5)"
   ]
  },
  {
   "cell_type": "code",
   "execution_count": 23,
   "id": "27a057f0",
   "metadata": {},
   "outputs": [
    {
     "data": {
      "text/plain": [
       "array([[4, 2, 4, 4, 8],\n",
       "       [5, 9, 5, 4, 4],\n",
       "       [3, 7, 3, 9, 9],\n",
       "       [3, 6, 6, 2, 5]])"
      ]
     },
     "execution_count": 23,
     "metadata": {},
     "output_type": "execute_result"
    }
   ],
   "source": [
    "a"
   ]
  },
  {
   "cell_type": "code",
   "execution_count": 24,
   "id": "fb7a886d",
   "metadata": {},
   "outputs": [
    {
     "data": {
      "text/plain": [
       "array([[2, 4, 4, 4, 8],\n",
       "       [4, 4, 5, 5, 9],\n",
       "       [3, 3, 7, 9, 9],\n",
       "       [2, 3, 5, 6, 6]])"
      ]
     },
     "execution_count": 24,
     "metadata": {},
     "output_type": "execute_result"
    }
   ],
   "source": [
    "np.sort(a)"
   ]
  },
  {
   "cell_type": "code",
   "execution_count": 25,
   "id": "bd51c89b",
   "metadata": {},
   "outputs": [
    {
     "data": {
      "text/plain": [
       "array([[3, 2, 3, 2, 4],\n",
       "       [3, 6, 4, 4, 5],\n",
       "       [4, 7, 5, 4, 8],\n",
       "       [5, 9, 6, 9, 9]])"
      ]
     },
     "execution_count": 25,
     "metadata": {},
     "output_type": "execute_result"
    }
   ],
   "source": [
    "np.sort(a, axis=0)"
   ]
  },
  {
   "cell_type": "markdown",
   "id": "ca5502fb",
   "metadata": {},
   "source": [
    "# Q12"
   ]
  },
  {
   "cell_type": "code",
   "execution_count": 26,
   "id": "b327dc9b",
   "metadata": {},
   "outputs": [],
   "source": [
    "a= np.array([[[1, 5, 2, 1],\n",
    "               [4, 3, 5, 6],\n",
    "               [6, 3, 0, 6],\n",
    "               [7, 3, 5, 0],\n",
    "               [2, 3, 3, 5]],\n",
    "              \n",
    "              [[2, 2, 3, 1],\n",
    "               [4, 0, 0, 5],\n",
    "               [6, 3, 2, 1],\n",
    "               [5, 1, 0, 0],               \n",
    "               [0, 1, 9, 1]],\n",
    "              \n",
    "              [[3, 1, 4, 2],\n",
    "               [4, 1, 6, 0],\n",
    "               [1, 2, 0, 6],\n",
    "               [8, 3, 4, 0],               \n",
    "               [2, 0, 2, 8]]]) "
   ]
  },
  {
   "cell_type": "code",
   "execution_count": 27,
   "id": "866162ee",
   "metadata": {},
   "outputs": [
    {
     "data": {
      "text/plain": [
       "array([[[1, 5, 2, 1],\n",
       "        [4, 3, 5, 6],\n",
       "        [6, 3, 0, 6],\n",
       "        [7, 3, 5, 0],\n",
       "        [2, 3, 3, 5]],\n",
       "\n",
       "       [[2, 2, 3, 1],\n",
       "        [4, 0, 0, 5],\n",
       "        [6, 3, 2, 1],\n",
       "        [5, 1, 0, 0],\n",
       "        [0, 1, 9, 1]],\n",
       "\n",
       "       [[3, 1, 4, 2],\n",
       "        [4, 1, 6, 0],\n",
       "        [1, 2, 0, 6],\n",
       "        [8, 3, 4, 0],\n",
       "        [2, 0, 2, 8]]])"
      ]
     },
     "execution_count": 27,
     "metadata": {},
     "output_type": "execute_result"
    }
   ],
   "source": [
    "a"
   ]
  },
  {
   "cell_type": "markdown",
   "id": "7424ea4c",
   "metadata": {},
   "source": [
    "# Q13"
   ]
  },
  {
   "cell_type": "code",
   "execution_count": 28,
   "id": "028bda2c",
   "metadata": {},
   "outputs": [],
   "source": [
    "a = np.random.randint(2,10,20).reshape(4,5)"
   ]
  },
  {
   "cell_type": "code",
   "execution_count": 29,
   "id": "36d9fd02",
   "metadata": {},
   "outputs": [
    {
     "data": {
      "text/plain": [
       "array([[6, 9, 8, 8, 6],\n",
       "       [6, 6, 3, 5, 7],\n",
       "       [5, 6, 3, 4, 7],\n",
       "       [6, 7, 8, 3, 4]])"
      ]
     },
     "execution_count": 29,
     "metadata": {},
     "output_type": "execute_result"
    }
   ],
   "source": [
    "a"
   ]
  },
  {
   "cell_type": "code",
   "execution_count": 30,
   "id": "7fb3bed6",
   "metadata": {},
   "outputs": [
    {
     "name": "stdout",
     "output_type": "stream",
     "text": [
      "[[4 3 8 7 6]\n",
      " [7 4 3 6 5]\n",
      " [7 5 3 6 6]\n",
      " [6 8 8 9 6]]\n"
     ]
    }
   ],
   "source": [
    "a= print(a[::-1, ::-1])"
   ]
  },
  {
   "cell_type": "markdown",
   "id": "6e67ee5e",
   "metadata": {},
   "source": [
    "# Q14"
   ]
  },
  {
   "cell_type": "code",
   "execution_count": 31,
   "id": "c04668d8",
   "metadata": {},
   "outputs": [],
   "source": [
    "a = np.random.randint(2,10,20).reshape(4,5)"
   ]
  },
  {
   "cell_type": "code",
   "execution_count": 32,
   "id": "ebb4dbea",
   "metadata": {},
   "outputs": [
    {
     "name": "stdout",
     "output_type": "stream",
     "text": [
      "[[2 2 3 6 5]\n",
      " [5 8 3 6 5]\n",
      " [6 7 9 6 2]\n",
      " [6 4 6 4 7]]\n"
     ]
    }
   ],
   "source": [
    "print(a)"
   ]
  },
  {
   "cell_type": "code",
   "execution_count": 33,
   "id": "caf5e02e",
   "metadata": {},
   "outputs": [
    {
     "data": {
      "text/plain": [
       "2"
      ]
     },
     "execution_count": 33,
     "metadata": {},
     "output_type": "execute_result"
    }
   ],
   "source": [
    "np.amin(a)"
   ]
  },
  {
   "cell_type": "code",
   "execution_count": 34,
   "id": "7dee72d4",
   "metadata": {},
   "outputs": [
    {
     "data": {
      "text/plain": [
       "array([2, 3, 2, 4])"
      ]
     },
     "execution_count": 34,
     "metadata": {},
     "output_type": "execute_result"
    }
   ],
   "source": [
    "np.amin(a, axis=1)"
   ]
  },
  {
   "cell_type": "markdown",
   "id": "1d9d31ed",
   "metadata": {},
   "source": [
    "# Q15"
   ]
  },
  {
   "cell_type": "code",
   "execution_count": 35,
   "id": "b4641c6c",
   "metadata": {},
   "outputs": [
    {
     "name": "stdout",
     "output_type": "stream",
     "text": [
      "[[34 43 73]\n",
      " [82 22 12]\n",
      " [53 94 66]]\n",
      "Array after deleting column 2 on axis 1\n",
      "[[34 73]\n",
      " [82 12]\n",
      " [53 66]]\n",
      "Array after inserting column 2 on axis 1\n",
      "[[34 10 73]\n",
      " [82 10 12]\n",
      " [53 10 66]]\n"
     ]
    }
   ],
   "source": [
    "sampleArray = np.array([[34,43,73],[82,22,12],[53,94,66]]) \n",
    "print (sampleArray)\n",
    "\n",
    "print(\"Array after deleting column 2 on axis 1\")\n",
    "sampleArray = np.delete(sampleArray , 1, axis = 1) \n",
    "print (sampleArray)\n",
    "\n",
    "arr = np.array([[10,10,10]])\n",
    "\n",
    "print(\"Array after inserting column 2 on axis 1\")\n",
    "sampleArray = np.insert(sampleArray , 1, arr, axis = 1) \n",
    "print (sampleArray)"
   ]
  },
  {
   "cell_type": "markdown",
   "id": "47359a41",
   "metadata": {},
   "source": [
    "# Q16"
   ]
  },
  {
   "cell_type": "code",
   "execution_count": 36,
   "id": "b99de2e6",
   "metadata": {},
   "outputs": [
    {
     "name": "stdout",
     "output_type": "stream",
     "text": [
      "Printing Original array\n",
      "[[34 43 73]\n",
      " [82 22 12]\n",
      " [53 94 66]]\n",
      "Sorting Original array by second row\n",
      "[[73 43 34]\n",
      " [12 22 82]\n",
      " [66 94 53]]\n",
      "Sorting Original array by second column\n",
      "[[82 22 12]\n",
      " [34 43 73]\n",
      " [53 94 66]]\n"
     ]
    }
   ],
   "source": [
    "print(\"Printing Original array\")\n",
    "sampleArray = np.array([[34,43,73],[82,22,12],[53,94,66]]) \n",
    "print (sampleArray)\n",
    "\n",
    "sortArrayByRow = sampleArray[:,sampleArray[1,:].argsort()]\n",
    "print(\"Sorting Original array by second row\")\n",
    "print(sortArrayByRow)\n",
    "\n",
    "print(\"Sorting Original array by second column\")\n",
    "sortArrayByColumn = sampleArray[sampleArray[:,1].argsort()]\n",
    "print(sortArrayByColumn)"
   ]
  },
  {
   "cell_type": "markdown",
   "id": "eda28096",
   "metadata": {},
   "source": [
    "# Q17"
   ]
  },
  {
   "cell_type": "code",
   "execution_count": null,
   "id": "770f2fb7",
   "metadata": {},
   "outputs": [],
   "source": [
    "a = np.array([[5, 6, 9], [21 ,18, 27]])\n",
    "b = np.array([[15 ,33, 24], [4 ,7, 1]])\n",
    "\n",
    "c  = a + b\n",
    "print(\"addition of two arrays is \\n\")\n",
    "print(c)\n",
    "\n",
    "for num in np.nditer(c, op_flags = ['readwrite']):\n",
    "   num[...] = num*num\n",
    "print(\"\\nResult array after calculating the square root of all elements\\n\")\n",
    "print(c)"
   ]
  },
  {
   "cell_type": "markdown",
   "id": "44a3ff37",
   "metadata": {},
   "source": [
    "# Q18"
   ]
  },
  {
   "cell_type": "code",
   "execution_count": 38,
   "id": "2dd798e8",
   "metadata": {},
   "outputs": [],
   "source": [
    "m1 = np.arange(6).reshape(2,3)\n",
    "m2 = np.array([[1,4,6],[2,3,4]])"
   ]
  },
  {
   "cell_type": "code",
   "execution_count": 39,
   "id": "dae2503b",
   "metadata": {},
   "outputs": [
    {
     "data": {
      "text/plain": [
       "array([[16, 11],\n",
       "       [49, 38]])"
      ]
     },
     "execution_count": 39,
     "metadata": {},
     "output_type": "execute_result"
    }
   ],
   "source": [
    "np.dot(m1,m2.T)"
   ]
  },
  {
   "cell_type": "markdown",
   "id": "ae898d5e",
   "metadata": {},
   "source": [
    "# Q19"
   ]
  },
  {
   "cell_type": "code",
   "execution_count": 41,
   "id": "cb945f09",
   "metadata": {},
   "outputs": [
    {
     "data": {
      "text/plain": [
       "array([[1, 4, 6],\n",
       "       [2, 3, 4]])"
      ]
     },
     "execution_count": 41,
     "metadata": {},
     "output_type": "execute_result"
    }
   ],
   "source": [
    "m2"
   ]
  },
  {
   "cell_type": "code",
   "execution_count": 40,
   "id": "65edac22",
   "metadata": {},
   "outputs": [
    {
     "data": {
      "text/plain": [
       "9.055385138137417"
      ]
     },
     "execution_count": 40,
     "metadata": {},
     "output_type": "execute_result"
    }
   ],
   "source": [
    "np.linalg.norm(m2)"
   ]
  },
  {
   "cell_type": "markdown",
   "id": "bfd1b2fa",
   "metadata": {},
   "source": [
    "# Q20"
   ]
  },
  {
   "cell_type": "code",
   "execution_count": 42,
   "id": "2ec33a19",
   "metadata": {},
   "outputs": [
    {
     "data": {
      "text/plain": [
       "array([[1, 2],\n",
       "       [3, 4]])"
      ]
     },
     "execution_count": 42,
     "metadata": {},
     "output_type": "execute_result"
    }
   ],
   "source": [
    "m = np.array([[1,2],[3,4]])\n",
    "m"
   ]
  },
  {
   "cell_type": "code",
   "execution_count": 43,
   "id": "830ada75",
   "metadata": {},
   "outputs": [
    {
     "data": {
      "text/plain": [
       "14.933034373659265"
      ]
     },
     "execution_count": 43,
     "metadata": {},
     "output_type": "execute_result"
    }
   ],
   "source": [
    "np.linalg.cond(m)"
   ]
  },
  {
   "cell_type": "markdown",
   "id": "cb88a48f",
   "metadata": {},
   "source": [
    "# Q21"
   ]
  },
  {
   "cell_type": "code",
   "execution_count": 44,
   "id": "56c5997f",
   "metadata": {},
   "outputs": [
    {
     "data": {
      "text/plain": [
       "array([[1, 4, 6],\n",
       "       [2, 3, 4]])"
      ]
     },
     "execution_count": 44,
     "metadata": {},
     "output_type": "execute_result"
    }
   ],
   "source": [
    "m1\n",
    "m2"
   ]
  },
  {
   "cell_type": "code",
   "execution_count": 45,
   "id": "86e60175",
   "metadata": {},
   "outputs": [
    {
     "data": {
      "text/plain": [
       "array([[1, 5, 8],\n",
       "       [5, 7, 9]])"
      ]
     },
     "execution_count": 45,
     "metadata": {},
     "output_type": "execute_result"
    }
   ],
   "source": [
    "m1+m2"
   ]
  },
  {
   "cell_type": "code",
   "execution_count": 46,
   "id": "d1b6dbfb",
   "metadata": {},
   "outputs": [
    {
     "data": {
      "text/plain": [
       "array([[-1, -3, -4],\n",
       "       [ 1,  1,  1]])"
      ]
     },
     "execution_count": 46,
     "metadata": {},
     "output_type": "execute_result"
    }
   ],
   "source": [
    "m1-m2"
   ]
  },
  {
   "cell_type": "code",
   "execution_count": 47,
   "id": "41d510b5",
   "metadata": {},
   "outputs": [
    {
     "data": {
      "text/plain": [
       "array([[ 0,  4, 12],\n",
       "       [ 6, 12, 20]])"
      ]
     },
     "execution_count": 47,
     "metadata": {},
     "output_type": "execute_result"
    }
   ],
   "source": [
    "m1*m2"
   ]
  },
  {
   "cell_type": "markdown",
   "id": "fe7ec3c1",
   "metadata": {},
   "source": [
    "# Q22"
   ]
  },
  {
   "cell_type": "code",
   "execution_count": 48,
   "id": "6191ef9e",
   "metadata": {},
   "outputs": [],
   "source": [
    "x = [1., 2., 3., 4.]"
   ]
  },
  {
   "cell_type": "code",
   "execution_count": 52,
   "id": "902c130c",
   "metadata": {},
   "outputs": [
    {
     "data": {
      "text/plain": [
       "array([0., 1., 2., 2.])"
      ]
     },
     "execution_count": 52,
     "metadata": {},
     "output_type": "execute_result"
    }
   ],
   "source": [
    "np.floor_divide(x, 1.5)"
   ]
  },
  {
   "cell_type": "markdown",
   "id": "681f2dde",
   "metadata": {},
   "source": [
    "# Q23"
   ]
  },
  {
   "cell_type": "code",
   "execution_count": 54,
   "id": "294fe9c5",
   "metadata": {},
   "outputs": [],
   "source": [
    "a = np.arange(7)"
   ]
  },
  {
   "cell_type": "code",
   "execution_count": 55,
   "id": "a05ad9bf",
   "metadata": {},
   "outputs": [
    {
     "data": {
      "text/plain": [
       "array([0, 1, 2, 3, 4, 5, 6])"
      ]
     },
     "execution_count": 55,
     "metadata": {},
     "output_type": "execute_result"
    }
   ],
   "source": [
    "a"
   ]
  },
  {
   "cell_type": "code",
   "execution_count": 56,
   "id": "67700aff",
   "metadata": {},
   "outputs": [
    {
     "data": {
      "text/plain": [
       "array([  0,   1,   8,  27,  64, 125, 216], dtype=int32)"
      ]
     },
     "execution_count": 56,
     "metadata": {},
     "output_type": "execute_result"
    }
   ],
   "source": [
    "np.power(a,3)"
   ]
  },
  {
   "cell_type": "markdown",
   "id": "39bf2e48",
   "metadata": {},
   "source": [
    "# Q24"
   ]
  },
  {
   "cell_type": "code",
   "execution_count": 57,
   "id": "e1d75e87",
   "metadata": {},
   "outputs": [],
   "source": [
    "a = np.array([1,2,3])"
   ]
  },
  {
   "cell_type": "code",
   "execution_count": 58,
   "id": "77cbd468",
   "metadata": {},
   "outputs": [],
   "source": [
    "b =np.cos(a)"
   ]
  },
  {
   "cell_type": "code",
   "execution_count": 59,
   "id": "acd82cfe",
   "metadata": {},
   "outputs": [
    {
     "data": {
      "text/plain": [
       "array([ 0.54030231, -0.41614684, -0.9899925 ])"
      ]
     },
     "execution_count": 59,
     "metadata": {},
     "output_type": "execute_result"
    }
   ],
   "source": [
    "b"
   ]
  },
  {
   "cell_type": "code",
   "execution_count": 60,
   "id": "1d4ef3f6",
   "metadata": {},
   "outputs": [
    {
     "data": {
      "text/plain": [
       "array([ 0.54, -0.42, -0.99])"
      ]
     },
     "execution_count": 60,
     "metadata": {},
     "output_type": "execute_result"
    }
   ],
   "source": [
    "np.round(b,2)"
   ]
  },
  {
   "cell_type": "markdown",
   "id": "f4d09e09",
   "metadata": {},
   "source": [
    "# Q25"
   ]
  },
  {
   "cell_type": "code",
   "execution_count": 61,
   "id": "f5838584",
   "metadata": {},
   "outputs": [
    {
     "name": "stdout",
     "output_type": "stream",
     "text": [
      "First array:\n",
      "[[0.92061142 0.4249213  0.8998051 ]\n",
      " [0.94084532 0.75944255 0.75956697]\n",
      " [0.16394939 0.16819331 0.73458822]\n",
      " [0.93094314 0.86369529 0.40306246]\n",
      " [0.4703661  0.58804761 0.88848349]]\n",
      "Second array:\n",
      "[[0.10538622 0.72119633]\n",
      " [0.67197837 0.38904665]\n",
      " [0.04603293 0.41987128]]\n",
      "Dot product of two arrays:\n",
      "[[0.42397835 1.2070581 ]\n",
      " [0.6444462  1.29291313]\n",
      " [0.16411552 0.49210723]\n",
      " [0.69704728 1.17664489]\n",
      " [0.48562488 0.94105296]]\n"
     ]
    }
   ],
   "source": [
    "x = np.random.random((5,3))\n",
    "print(\"First array:\")\n",
    "print(x)\n",
    "y = np.random.random((3,2))\n",
    "print(\"Second array:\")\n",
    "print(y)\n",
    "z = np.dot(x, y)\n",
    "print(\"Dot product of two arrays:\")\n",
    "print(z)"
   ]
  },
  {
   "cell_type": "markdown",
   "id": "12381491",
   "metadata": {},
   "source": [
    "# Q26"
   ]
  },
  {
   "cell_type": "code",
   "execution_count": 62,
   "id": "7a23d63d",
   "metadata": {},
   "outputs": [
    {
     "name": "stdout",
     "output_type": "stream",
     "text": [
      "Original array:\n",
      "[[10 40]\n",
      " [30 20]]\n",
      "Sort the array along the first axis:\n",
      "[[10 20]\n",
      " [30 40]]\n",
      "Sort the array along the last axis:\n",
      "[[10 40]\n",
      " [20 30]]\n",
      "Sort the flattened array:\n",
      "[10 20 30 40]\n"
     ]
    }
   ],
   "source": [
    "a = np.array([[10,40],[30,20]])\n",
    "print(\"Original array:\")\n",
    "print(a)\n",
    "print(\"Sort the array along the first axis:\")\n",
    "print(np.sort(a, axis=0))\n",
    "print(\"Sort the array along the last axis:\")\n",
    "print(np.sort(a))\n",
    "print(\"Sort the flattened array:\")\n",
    "print(np.sort(a, axis=None))"
   ]
  },
  {
   "cell_type": "markdown",
   "id": "58102b93",
   "metadata": {},
   "source": [
    "# Q27"
   ]
  },
  {
   "cell_type": "code",
   "execution_count": 63,
   "id": "d2d86be1",
   "metadata": {},
   "outputs": [
    {
     "name": "stdout",
     "output_type": "stream",
     "text": [
      "Original array:\n",
      "[(b'James', 5, 48.5 ) (b'Nail', 6, 52.5 ) (b'Paul', 5, 42.1 )\n",
      " (b'Pit', 5, 40.11)]\n",
      "Sort by height\n",
      "[(b'Pit', 5, 40.11) (b'Paul', 5, 42.1 ) (b'James', 5, 48.5 )\n",
      " (b'Nail', 6, 52.5 )]\n"
     ]
    }
   ],
   "source": [
    "data_type = [('name', 'S15'), ('class', int), ('height', float)]\n",
    "students_details = [('James', 5, 48.5), ('Nail', 6, 52.5),('Paul', 5, 42.10), ('Pit', 5, 40.11)]\n",
    "# create a structured array\n",
    "students = np.array(students_details, dtype=data_type)   \n",
    "print(\"Original array:\")\n",
    "print(students)\n",
    "print(\"Sort by height\")\n",
    "print(np.sort(students, order='height')) "
   ]
  },
  {
   "cell_type": "markdown",
   "id": "b0d38a38",
   "metadata": {},
   "source": [
    "# Q28"
   ]
  },
  {
   "cell_type": "code",
   "execution_count": 65,
   "id": "6e6e3980",
   "metadata": {},
   "outputs": [
    {
     "name": "stdout",
     "output_type": "stream",
     "text": [
      "[[4 6 0]\n",
      " [8 3 9]\n",
      " [0 0 9]]\n",
      "\n",
      "Sort the said array by the nth column: \n",
      "[[0 0 9]\n",
      " [8 3 9]\n",
      " [4 6 0]]\n"
     ]
    }
   ],
   "source": [
    "nums = np.random.randint(0,10,(3,3))\n",
    "print(nums)\n",
    "print(\"\\nSort the said array by the nth column: \")\n",
    "print(nums[nums[:,1].argsort()])"
   ]
  },
  {
   "cell_type": "markdown",
   "id": "69479961",
   "metadata": {},
   "source": [
    "# Q29"
   ]
  },
  {
   "cell_type": "code",
   "execution_count": 68,
   "id": "c577c7ee",
   "metadata": {},
   "outputs": [
    {
     "name": "stdout",
     "output_type": "stream",
     "text": [
      "Original array:\n",
      "[0.30788645 0.52533732 0.60778782 0.64891713 0.88798589 0.46094245\n",
      " 0.08063686 0.35497701 0.50701498 0.24362038]\n",
      "\n",
      "Sorted first 5 elements:\n",
      "[0.08063686 0.24362038 0.30788645 0.35497701 0.46094245 0.88798589\n",
      " 0.60778782 0.64891713 0.50701498 0.52533732]\n"
     ]
    }
   ],
   "source": [
    "nums =  np.random.rand(10)\n",
    "print(\"Original array:\")\n",
    "print(nums)\n",
    "print(\"\\nSorted first 5 elements:\")\n",
    "print(nums[np.argpartition(nums,range(5))])"
   ]
  },
  {
   "cell_type": "code",
   "execution_count": null,
   "id": "ba4f6ae4",
   "metadata": {},
   "outputs": [],
   "source": []
  }
 ],
 "metadata": {
  "kernelspec": {
   "display_name": "Python 3",
   "language": "python",
   "name": "python3"
  },
  "language_info": {
   "codemirror_mode": {
    "name": "ipython",
    "version": 3
   },
   "file_extension": ".py",
   "mimetype": "text/x-python",
   "name": "python",
   "nbconvert_exporter": "python",
   "pygments_lexer": "ipython3",
   "version": "3.8.8"
  }
 },
 "nbformat": 4,
 "nbformat_minor": 5
}
