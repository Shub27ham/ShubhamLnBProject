{
 "cells": [
  {
   "cell_type": "code",
   "execution_count": 1,
   "id": "e7dd8571",
   "metadata": {},
   "outputs": [
    {
     "name": "stdout",
     "output_type": "stream",
     "text": [
      "Hello world\n"
     ]
    }
   ],
   "source": [
    "print(\"Hello world\")"
   ]
  },
  {
   "cell_type": "code",
   "execution_count": 2,
   "id": "add554a6",
   "metadata": {},
   "outputs": [
    {
     "name": "stdout",
     "output_type": "stream",
     "text": [
      "sum of 2 and 3 is: 5\n"
     ]
    }
   ],
   "source": [
    "print(\"sum of 2 and 3 is:\",5)"
   ]
  },
  {
   "cell_type": "code",
   "execution_count": 3,
   "id": "1f02a88c",
   "metadata": {},
   "outputs": [
    {
     "name": "stdout",
     "output_type": "stream",
     "text": [
      "2+3\n"
     ]
    }
   ],
   "source": [
    "print(\"2+3\")"
   ]
  },
  {
   "cell_type": "code",
   "execution_count": 4,
   "id": "390179b9",
   "metadata": {},
   "outputs": [],
   "source": [
    "a1 = \"history\""
   ]
  },
  {
   "cell_type": "code",
   "execution_count": 5,
   "id": "26c316ad",
   "metadata": {},
   "outputs": [],
   "source": [
    "a2 = \"geography\""
   ]
  },
  {
   "cell_type": "code",
   "execution_count": 6,
   "id": "1499bc4f",
   "metadata": {},
   "outputs": [],
   "source": [
    "a3 = \"Polity\""
   ]
  },
  {
   "cell_type": "code",
   "execution_count": 7,
   "id": "0f019d0a",
   "metadata": {},
   "outputs": [
    {
     "name": "stdout",
     "output_type": "stream",
     "text": [
      "a1\n"
     ]
    }
   ],
   "source": [
    "print('a1')"
   ]
  },
  {
   "cell_type": "code",
   "execution_count": 8,
   "id": "85635097",
   "metadata": {},
   "outputs": [
    {
     "data": {
      "text/plain": [
       "'history'"
      ]
     },
     "execution_count": 8,
     "metadata": {},
     "output_type": "execute_result"
    }
   ],
   "source": [
    "a1"
   ]
  },
  {
   "cell_type": "code",
   "execution_count": 9,
   "id": "f6cea9c2",
   "metadata": {},
   "outputs": [
    {
     "data": {
      "text/plain": [
       "'geography'"
      ]
     },
     "execution_count": 9,
     "metadata": {},
     "output_type": "execute_result"
    }
   ],
   "source": [
    "a2"
   ]
  },
  {
   "cell_type": "code",
   "execution_count": 10,
   "id": "ac3140de",
   "metadata": {},
   "outputs": [
    {
     "data": {
      "text/plain": [
       "'Polity'"
      ]
     },
     "execution_count": 10,
     "metadata": {},
     "output_type": "execute_result"
    }
   ],
   "source": [
    "a3"
   ]
  },
  {
   "cell_type": "code",
   "execution_count": 11,
   "id": "121005b2",
   "metadata": {},
   "outputs": [],
   "source": [
    "a_1 = 8"
   ]
  },
  {
   "cell_type": "code",
   "execution_count": 12,
   "id": "08e8e7cf",
   "metadata": {},
   "outputs": [
    {
     "data": {
      "text/plain": [
       "8"
      ]
     },
     "execution_count": 12,
     "metadata": {},
     "output_type": "execute_result"
    }
   ],
   "source": [
    "a_1"
   ]
  },
  {
   "cell_type": "code",
   "execution_count": 13,
   "id": "1100c180",
   "metadata": {},
   "outputs": [
    {
     "data": {
      "text/plain": [
       "str"
      ]
     },
     "execution_count": 13,
     "metadata": {},
     "output_type": "execute_result"
    }
   ],
   "source": [
    "type(a1)"
   ]
  },
  {
   "cell_type": "code",
   "execution_count": 14,
   "id": "5dda3885",
   "metadata": {},
   "outputs": [
    {
     "data": {
      "text/plain": [
       "int"
      ]
     },
     "execution_count": 14,
     "metadata": {},
     "output_type": "execute_result"
    }
   ],
   "source": [
    "type(a_1)"
   ]
  },
  {
   "cell_type": "code",
   "execution_count": 15,
   "id": "8da30215",
   "metadata": {},
   "outputs": [],
   "source": [
    "u = 8.89"
   ]
  },
  {
   "cell_type": "code",
   "execution_count": 16,
   "id": "057cf7d6",
   "metadata": {},
   "outputs": [
    {
     "data": {
      "text/plain": [
       "float"
      ]
     },
     "execution_count": 16,
     "metadata": {},
     "output_type": "execute_result"
    }
   ],
   "source": [
    "type(u)"
   ]
  },
  {
   "cell_type": "code",
   "execution_count": 17,
   "id": "6af002ee",
   "metadata": {},
   "outputs": [],
   "source": [
    "a_2 = 5"
   ]
  },
  {
   "cell_type": "code",
   "execution_count": 18,
   "id": "11117bec",
   "metadata": {},
   "outputs": [
    {
     "data": {
      "text/plain": [
       "13"
      ]
     },
     "execution_count": 18,
     "metadata": {},
     "output_type": "execute_result"
    }
   ],
   "source": [
    "a_1 + a_2"
   ]
  },
  {
   "cell_type": "code",
   "execution_count": 19,
   "id": "7660f94a",
   "metadata": {},
   "outputs": [
    {
     "data": {
      "text/plain": [
       "40"
      ]
     },
     "execution_count": 19,
     "metadata": {},
     "output_type": "execute_result"
    }
   ],
   "source": [
    "a_1*a_2"
   ]
  },
  {
   "cell_type": "code",
   "execution_count": 20,
   "id": "e21ffde3",
   "metadata": {},
   "outputs": [
    {
     "data": {
      "text/plain": [
       "64"
      ]
     },
     "execution_count": 20,
     "metadata": {},
     "output_type": "execute_result"
    }
   ],
   "source": [
    "a_1**2"
   ]
  },
  {
   "cell_type": "code",
   "execution_count": 21,
   "id": "5f71127f",
   "metadata": {},
   "outputs": [],
   "source": [
    "u = 1_0000000000"
   ]
  },
  {
   "cell_type": "code",
   "execution_count": 22,
   "id": "513d44a0",
   "metadata": {},
   "outputs": [
    {
     "data": {
      "text/plain": [
       "10000000000"
      ]
     },
     "execution_count": 22,
     "metadata": {},
     "output_type": "execute_result"
    }
   ],
   "source": [
    "u"
   ]
  },
  {
   "cell_type": "code",
   "execution_count": 23,
   "id": "9501db1d",
   "metadata": {},
   "outputs": [
    {
     "name": "stdout",
     "output_type": "stream",
     "text": [
      "89\n"
     ]
    }
   ],
   "source": [
    "p =input()"
   ]
  },
  {
   "cell_type": "code",
   "execution_count": 24,
   "id": "d1563b78",
   "metadata": {},
   "outputs": [
    {
     "data": {
      "text/plain": [
       "str"
      ]
     },
     "execution_count": 24,
     "metadata": {},
     "output_type": "execute_result"
    }
   ],
   "source": [
    "type(p)"
   ]
  },
  {
   "cell_type": "code",
   "execution_count": 25,
   "id": "f15607d6",
   "metadata": {},
   "outputs": [
    {
     "name": "stdout",
     "output_type": "stream",
     "text": [
      "enter the number to add: 89\n"
     ]
    }
   ],
   "source": [
    "p =int(input(\"enter the number to add: \"))"
   ]
  },
  {
   "cell_type": "code",
   "execution_count": 26,
   "id": "8d7aae30",
   "metadata": {},
   "outputs": [
    {
     "data": {
      "text/plain": [
       "int"
      ]
     },
     "execution_count": 26,
     "metadata": {},
     "output_type": "execute_result"
    }
   ],
   "source": [
    "type(p)"
   ]
  },
  {
   "cell_type": "code",
   "execution_count": 27,
   "id": "160c11a4",
   "metadata": {},
   "outputs": [
    {
     "name": "stdout",
     "output_type": "stream",
     "text": [
      "second no is:4\n"
     ]
    }
   ],
   "source": [
    "q =int(input(\"second no is:\"))"
   ]
  },
  {
   "cell_type": "code",
   "execution_count": 28,
   "id": "3b5c1154",
   "metadata": {},
   "outputs": [
    {
     "name": "stdout",
     "output_type": "stream",
     "text": [
      "third no is:2.6\n"
     ]
    }
   ],
   "source": [
    "r = float(input(\"third no is:\"))"
   ]
  },
  {
   "cell_type": "code",
   "execution_count": 29,
   "id": "6fc49084",
   "metadata": {},
   "outputs": [
    {
     "name": "stdout",
     "output_type": "stream",
     "text": [
      "sum of the number is: 93\n"
     ]
    }
   ],
   "source": [
    "print(\"sum of the number is:\", p+q)"
   ]
  },
  {
   "cell_type": "code",
   "execution_count": 30,
   "id": "fa7f8a0e",
   "metadata": {},
   "outputs": [
    {
     "name": "stdout",
     "output_type": "stream",
     "text": [
      "devision of the number is: 22.25\n"
     ]
    }
   ],
   "source": [
    "print(\"devision of the number is:\", p/q)"
   ]
  },
  {
   "cell_type": "code",
   "execution_count": 31,
   "id": "8bea9e40",
   "metadata": {},
   "outputs": [
    {
     "name": "stdout",
     "output_type": "stream",
     "text": [
      "multiplication of the number is: 356\n"
     ]
    }
   ],
   "source": [
    "print(\"multiplication of the number is:\", p*q)"
   ]
  },
  {
   "cell_type": "code",
   "execution_count": 32,
   "id": "a38787a9",
   "metadata": {},
   "outputs": [
    {
     "name": "stdout",
     "output_type": "stream",
     "text": [
      "subtraction of the number is: 85\n"
     ]
    }
   ],
   "source": [
    "print(\"subtraction of the number is:\", p-q)"
   ]
  },
  {
   "cell_type": "code",
   "execution_count": 33,
   "id": "12202443",
   "metadata": {},
   "outputs": [
    {
     "name": "stdout",
     "output_type": "stream",
     "text": [
      "subtraction of the number is: 86.4\n"
     ]
    }
   ],
   "source": [
    "print(\"subtraction of the number is:\", p-r)"
   ]
  },
  {
   "cell_type": "code",
   "execution_count": 34,
   "id": "ecba5296",
   "metadata": {},
   "outputs": [
    {
     "name": "stdout",
     "output_type": "stream",
     "text": [
      "subtraction of the number is: 1.4\n"
     ]
    }
   ],
   "source": [
    "print(\"subtraction of the number is:\", q-r)"
   ]
  },
  {
   "cell_type": "code",
   "execution_count": 35,
   "id": "b52008e2",
   "metadata": {},
   "outputs": [
    {
     "name": "stdout",
     "output_type": "stream",
     "text": [
      "average of three number is: 31.866666666666664\n"
     ]
    }
   ],
   "source": [
    "print(\"average of three number is:\", (p+q+r)/3)"
   ]
  },
  {
   "cell_type": "code",
   "execution_count": 36,
   "id": "db69e0a8",
   "metadata": {},
   "outputs": [
    {
     "name": "stdout",
     "output_type": "stream",
     "text": [
      "average of three number is: 32\n"
     ]
    }
   ],
   "source": [
    "print(\"average of three number is:\", round((p+q+r)/3))"
   ]
  },
  {
   "cell_type": "code",
   "execution_count": 37,
   "id": "83c40492",
   "metadata": {},
   "outputs": [
    {
     "name": "stdout",
     "output_type": "stream",
     "text": [
      "remainder of the number is: 1\n"
     ]
    }
   ],
   "source": [
    "print(\"remainder of the number is:\", p%q)"
   ]
  },
  {
   "cell_type": "code",
   "execution_count": 38,
   "id": "66c1a0e2",
   "metadata": {},
   "outputs": [],
   "source": [
    "import math"
   ]
  },
  {
   "cell_type": "code",
   "execution_count": 39,
   "id": "b746a4e7",
   "metadata": {},
   "outputs": [
    {
     "name": "stdout",
     "output_type": "stream",
     "text": [
      "remainder of the number is: 0.599999999999997\n"
     ]
    }
   ],
   "source": [
    "print(\"remainder of the number is:\", p%r)"
   ]
  },
  {
   "cell_type": "code",
   "execution_count": 42,
   "id": "f4a079c9",
   "metadata": {},
   "outputs": [
    {
     "name": "stdout",
     "output_type": "stream",
     "text": [
      "remainder of the number is: 1.4\n"
     ]
    }
   ],
   "source": [
    "print(\"remainder of the number is:\", q%r)"
   ]
  },
  {
   "cell_type": "code",
   "execution_count": 43,
   "id": "be58232a",
   "metadata": {},
   "outputs": [
    {
     "name": "stdout",
     "output_type": "stream",
     "text": [
      "remainder of the number is: 1\n"
     ]
    }
   ],
   "source": [
    "print(\"remainder of the number is:\", p%q)"
   ]
  },
  {
   "cell_type": "code",
   "execution_count": null,
   "id": "200f18c2",
   "metadata": {},
   "outputs": [],
   "source": []
  }
 ],
 "metadata": {
  "kernelspec": {
   "display_name": "Python 3",
   "language": "python",
   "name": "python3"
  },
  "language_info": {
   "codemirror_mode": {
    "name": "ipython",
    "version": 3
   },
   "file_extension": ".py",
   "mimetype": "text/x-python",
   "name": "python",
   "nbconvert_exporter": "python",
   "pygments_lexer": "ipython3",
   "version": "3.8.8"
  }
 },
 "nbformat": 4,
 "nbformat_minor": 5
}
