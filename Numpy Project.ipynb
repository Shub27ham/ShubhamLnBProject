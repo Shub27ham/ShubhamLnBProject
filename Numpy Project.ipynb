{
 "cells": [
  {
   "cell_type": "code",
   "execution_count": 1,
   "id": "8882e10b",
   "metadata": {},
   "outputs": [],
   "source": [
    "import csv"
   ]
  },
  {
   "cell_type": "code",
   "execution_count": 2,
   "id": "afbf5406",
   "metadata": {},
   "outputs": [],
   "source": [
    "import numpy as np"
   ]
  },
  {
   "cell_type": "code",
   "execution_count": 3,
   "id": "a8cf07cd",
   "metadata": {},
   "outputs": [],
   "source": [
    "data = []"
   ]
  },
  {
   "cell_type": "code",
   "execution_count": 4,
   "id": "4b227a94",
   "metadata": {},
   "outputs": [
    {
     "data": {
      "text/plain": [
       "array([['MSN', 'YYYYMM', 'Value', 'Column_Order', 'Description', 'Unit'],\n",
       "       ['CLETPUS', '194913', '135451.32', '1',\n",
       "        'Electricity Net Generation From Coal, All Sectors',\n",
       "        'Million Kilowatthours'],\n",
       "       ['CLETPUS', '195013', '154519.994', '1',\n",
       "        'Electricity Net Generation From Coal, All Sectors',\n",
       "        'Million Kilowatthours'],\n",
       "       ...,\n",
       "       ['ELETPUS', '201908', '401363.186', '13',\n",
       "        'Electricity Net Generation Total (including from sources not shown), All Sectors',\n",
       "        'Million Kilowatthours'],\n",
       "       ['ELETPUS', '201909', '359300.603', '13',\n",
       "        'Electricity Net Generation Total (including from sources not shown), All Sectors',\n",
       "        'Million Kilowatthours'],\n",
       "       ['ELETPUS', '201910', '321921.812', '13',\n",
       "        'Electricity Net Generation Total (including from sources not shown), All Sectors',\n",
       "        'Million Kilowatthours']], dtype='<U80')"
      ]
     },
     "metadata": {},
     "output_type": "display_data"
    }
   ],
   "source": [
    "with open(\"MER_T07_02A-2020-02-03.csv\", 'r') as x:\n",
    "    data = list(csv.reader(x, delimiter=\",\"))\n",
    " \n",
    "data = np.array(data)\n",
    "display(data)"
   ]
  },
  {
   "cell_type": "code",
   "execution_count": 5,
   "id": "124942e0",
   "metadata": {},
   "outputs": [
    {
     "data": {
      "text/plain": [
       "(8217, 6)"
      ]
     },
     "execution_count": 5,
     "metadata": {},
     "output_type": "execute_result"
    }
   ],
   "source": [
    "data.shape"
   ]
  },
  {
   "cell_type": "code",
   "execution_count": 6,
   "id": "ae5f6d8e",
   "metadata": {},
   "outputs": [
    {
     "data": {
      "text/plain": [
       "2"
      ]
     },
     "execution_count": 6,
     "metadata": {},
     "output_type": "execute_result"
    }
   ],
   "source": [
    "data.ndim"
   ]
  },
  {
   "cell_type": "code",
   "execution_count": 7,
   "id": "c159fc18",
   "metadata": {},
   "outputs": [
    {
     "data": {
      "text/plain": [
       "numpy.str_"
      ]
     },
     "execution_count": 7,
     "metadata": {},
     "output_type": "execute_result"
    }
   ],
   "source": [
    "data.dtype.type"
   ]
  },
  {
   "cell_type": "code",
   "execution_count": 8,
   "id": "7ecc432e",
   "metadata": {},
   "outputs": [
    {
     "data": {
      "text/plain": [
       "array(['MSN', 'YYYYMM', 'Value', 'Column_Order', 'Description', 'Unit'],\n",
       "      dtype='<U80')"
      ]
     },
     "execution_count": 8,
     "metadata": {},
     "output_type": "execute_result"
    }
   ],
   "source": [
    "data[0] #slicing"
   ]
  },
  {
   "cell_type": "code",
   "execution_count": 9,
   "id": "63e0e003",
   "metadata": {},
   "outputs": [
    {
     "data": {
      "text/plain": [
       "array([['MSN', 'YYYYMM', 'Value', 'Column_Order', 'Description', 'Unit'],\n",
       "       ['CLETPUS', '194913', '135451.32', '1',\n",
       "        'Electricity Net Generation From Coal, All Sectors',\n",
       "        'Million Kilowatthours'],\n",
       "       ['CLETPUS', '195013', '154519.994', '1',\n",
       "        'Electricity Net Generation From Coal, All Sectors',\n",
       "        'Million Kilowatthours'],\n",
       "       ['CLETPUS', '195113', '185203.657', '1',\n",
       "        'Electricity Net Generation From Coal, All Sectors',\n",
       "        'Million Kilowatthours'],\n",
       "       ['CLETPUS', '195213', '195436.666', '1',\n",
       "        'Electricity Net Generation From Coal, All Sectors',\n",
       "        'Million Kilowatthours']], dtype='<U80')"
      ]
     },
     "execution_count": 9,
     "metadata": {},
     "output_type": "execute_result"
    }
   ],
   "source": [
    "data[0:5]"
   ]
  },
  {
   "cell_type": "code",
   "execution_count": 10,
   "id": "4763e6ca",
   "metadata": {},
   "outputs": [],
   "source": [
    "top = data[0:5]"
   ]
  },
  {
   "cell_type": "code",
   "execution_count": 11,
   "id": "e86c5d44",
   "metadata": {},
   "outputs": [],
   "source": [
    "bottom =data[-5:]"
   ]
  },
  {
   "cell_type": "code",
   "execution_count": 12,
   "id": "5d1fb263",
   "metadata": {},
   "outputs": [
    {
     "data": {
      "text/plain": [
       "array([['MSN', 'YYYYMM', 'Value', 'Column_Order', 'Description', 'Unit'],\n",
       "       ['CLETPUS', '194913', '135451.32', '1',\n",
       "        'Electricity Net Generation From Coal, All Sectors',\n",
       "        'Million Kilowatthours'],\n",
       "       ['CLETPUS', '195013', '154519.994', '1',\n",
       "        'Electricity Net Generation From Coal, All Sectors',\n",
       "        'Million Kilowatthours'],\n",
       "       ['CLETPUS', '195113', '185203.657', '1',\n",
       "        'Electricity Net Generation From Coal, All Sectors',\n",
       "        'Million Kilowatthours'],\n",
       "       ['CLETPUS', '195213', '195436.666', '1',\n",
       "        'Electricity Net Generation From Coal, All Sectors',\n",
       "        'Million Kilowatthours'],\n",
       "       ['ELETPUS', '201906', '351342.905', '13',\n",
       "        'Electricity Net Generation Total (including from sources not shown), All Sectors',\n",
       "        'Million Kilowatthours'],\n",
       "       ['ELETPUS', '201907', '411583.828', '13',\n",
       "        'Electricity Net Generation Total (including from sources not shown), All Sectors',\n",
       "        'Million Kilowatthours'],\n",
       "       ['ELETPUS', '201908', '401363.186', '13',\n",
       "        'Electricity Net Generation Total (including from sources not shown), All Sectors',\n",
       "        'Million Kilowatthours'],\n",
       "       ['ELETPUS', '201909', '359300.603', '13',\n",
       "        'Electricity Net Generation Total (including from sources not shown), All Sectors',\n",
       "        'Million Kilowatthours'],\n",
       "       ['ELETPUS', '201910', '321921.812', '13',\n",
       "        'Electricity Net Generation Total (including from sources not shown), All Sectors',\n",
       "        'Million Kilowatthours']], dtype='<U80')"
      ]
     },
     "execution_count": 12,
     "metadata": {},
     "output_type": "execute_result"
    }
   ],
   "source": [
    "np.vstack((top,bottom))"
   ]
  },
  {
   "cell_type": "code",
   "execution_count": 13,
   "id": "cdf1603c",
   "metadata": {},
   "outputs": [
    {
     "data": {
      "text/plain": [
       "array(['-0.001', '-0.004', '-0.009', ..., 'WSETPUS', 'WYETPUS', 'YYYYMM'],\n",
       "      dtype='<U80')"
      ]
     },
     "execution_count": 13,
     "metadata": {},
     "output_type": "execute_result"
    }
   ],
   "source": [
    "np.unique(data)"
   ]
  },
  {
   "cell_type": "markdown",
   "id": "171cf704",
   "metadata": {},
   "source": [
    "# 2"
   ]
  },
  {
   "cell_type": "code",
   "execution_count": 14,
   "id": "3e89feb9",
   "metadata": {},
   "outputs": [
    {
     "name": "stdout",
     "output_type": "stream",
     "text": [
      "[['Column_Order']\n",
      " ['1']\n",
      " ['1']\n",
      " ['1']\n",
      " ['1']\n",
      " ['1']\n",
      " ['1']\n",
      " ['1']\n",
      " ['1']\n",
      " ['1']]\n"
     ]
    }
   ],
   "source": [
    "print(data[0:10, 3:4]) #Print the data contained in the first 10 rows of the 4th column."
   ]
  },
  {
   "cell_type": "code",
   "execution_count": 15,
   "id": "cdaedce5",
   "metadata": {},
   "outputs": [
    {
     "name": "stdout",
     "output_type": "stream",
     "text": [
      "[['MSN' 'YYYYMM' 'Value']\n",
      " ['CLETPUS' '194913' '135451.32']\n",
      " ['CLETPUS' '195013' '154519.994']\n",
      " ['CLETPUS' '195113' '185203.657']\n",
      " ['CLETPUS' '195213' '195436.666']\n",
      " ['CLETPUS' '195313' '218846.325']\n",
      " ['CLETPUS' '195413' '239145.966']\n",
      " ['CLETPUS' '195513' '301362.698']\n",
      " ['CLETPUS' '195613' '338503.484']\n",
      " ['CLETPUS' '195713' '346386.207']]\n"
     ]
    }
   ],
   "source": [
    "print(data[0:10, :3])"
   ]
  },
  {
   "cell_type": "code",
   "execution_count": 16,
   "id": "3b61aeeb",
   "metadata": {},
   "outputs": [
    {
     "data": {
      "text/plain": [
       "array([['MSN', 'YYYYMM', 'Value', 'Column_Order', 'Description', 'Unit'],\n",
       "       ['CLETPUS', '194913', '135451.32', '1',\n",
       "        'Electricity Net Generation From Coal, All Sectors',\n",
       "        'Million Kilowatthours'],\n",
       "       ['CLETPUS', '195013', '154519.994', '1',\n",
       "        'Electricity Net Generation From Coal, All Sectors',\n",
       "        'Million Kilowatthours'],\n",
       "       ...,\n",
       "       ['ELETPUS', '201908', '401363.186', '13',\n",
       "        'Electricity Net Generation Total (including from sources not shown), All Sectors',\n",
       "        'Million Kilowatthours'],\n",
       "       ['ELETPUS', '201909', '359300.603', '13',\n",
       "        'Electricity Net Generation Total (including from sources not shown), All Sectors',\n",
       "        'Million Kilowatthours'],\n",
       "       ['ELETPUS', '201910', '321921.812', '13',\n",
       "        'Electricity Net Generation Total (including from sources not shown), All Sectors',\n",
       "        'Million Kilowatthours']], dtype='<U80')"
      ]
     },
     "execution_count": 16,
     "metadata": {},
     "output_type": "execute_result"
    }
   ],
   "source": [
    "data"
   ]
  },
  {
   "cell_type": "markdown",
   "id": "53312855",
   "metadata": {},
   "source": [
    "# 3"
   ]
  },
  {
   "cell_type": "code",
   "execution_count": 17,
   "id": "bc1d4608",
   "metadata": {},
   "outputs": [],
   "source": [
    "#Which row serves as the headers/titles for all the columns.\n",
    "#0 index row"
   ]
  },
  {
   "cell_type": "markdown",
   "id": "06d93188",
   "metadata": {},
   "source": [
    "# 4"
   ]
  },
  {
   "cell_type": "code",
   "execution_count": 18,
   "id": "466b1b32",
   "metadata": {},
   "outputs": [],
   "source": [
    "#Print the data contained in column 2 and 3 from row 1 till row 20"
   ]
  },
  {
   "cell_type": "code",
   "execution_count": 19,
   "id": "cf141d07",
   "metadata": {},
   "outputs": [
    {
     "name": "stdout",
     "output_type": "stream",
     "text": [
      "[['194913' '135451.32']\n",
      " ['195013' '154519.994']\n",
      " ['195113' '185203.657']\n",
      " ['195213' '195436.666']\n",
      " ['195313' '218846.325']\n",
      " ['195413' '239145.966']\n",
      " ['195513' '301362.698']\n",
      " ['195613' '338503.484']\n",
      " ['195713' '346386.207']\n",
      " ['195813' '344365.781']\n",
      " ['195913' '378424.21']\n",
      " ['196013' '403067.357']\n",
      " ['196113' '421870.669']\n",
      " ['196213' '450249.238']\n",
      " ['196313' '493926.719']\n",
      " ['196413' '526230.019']\n",
      " ['196513' '570925.951']\n",
      " ['196613' '613474.8']\n",
      " ['196713' '630483.363']]\n"
     ]
    }
   ],
   "source": [
    "print(data[1:20, 1:3])"
   ]
  },
  {
   "cell_type": "markdown",
   "id": "f00ab6a9",
   "metadata": {},
   "source": [
    "# 5"
   ]
  },
  {
   "cell_type": "code",
   "execution_count": 20,
   "id": "d1383d94",
   "metadata": {},
   "outputs": [],
   "source": [
    "#Print the data present in only the first three and the last three rows of all the columns in a single output."
   ]
  },
  {
   "cell_type": "code",
   "execution_count": 21,
   "id": "1c838fb3",
   "metadata": {},
   "outputs": [],
   "source": [
    "top = data[0:3]"
   ]
  },
  {
   "cell_type": "code",
   "execution_count": 22,
   "id": "5f3cd03b",
   "metadata": {},
   "outputs": [],
   "source": [
    "bottom = data[-3:]"
   ]
  },
  {
   "cell_type": "code",
   "execution_count": 23,
   "id": "7e41e274",
   "metadata": {},
   "outputs": [
    {
     "data": {
      "text/plain": [
       "array([['MSN', 'YYYYMM', 'Value', 'Column_Order', 'Description', 'Unit'],\n",
       "       ['CLETPUS', '194913', '135451.32', '1',\n",
       "        'Electricity Net Generation From Coal, All Sectors',\n",
       "        'Million Kilowatthours'],\n",
       "       ['CLETPUS', '195013', '154519.994', '1',\n",
       "        'Electricity Net Generation From Coal, All Sectors',\n",
       "        'Million Kilowatthours'],\n",
       "       ['ELETPUS', '201908', '401363.186', '13',\n",
       "        'Electricity Net Generation Total (including from sources not shown), All Sectors',\n",
       "        'Million Kilowatthours'],\n",
       "       ['ELETPUS', '201909', '359300.603', '13',\n",
       "        'Electricity Net Generation Total (including from sources not shown), All Sectors',\n",
       "        'Million Kilowatthours'],\n",
       "       ['ELETPUS', '201910', '321921.812', '13',\n",
       "        'Electricity Net Generation Total (including from sources not shown), All Sectors',\n",
       "        'Million Kilowatthours']], dtype='<U80')"
      ]
     },
     "execution_count": 23,
     "metadata": {},
     "output_type": "execute_result"
    }
   ],
   "source": [
    "np.vstack((top,bottom))"
   ]
  },
  {
   "cell_type": "markdown",
   "id": "a1c6d904",
   "metadata": {},
   "source": [
    "# 6"
   ]
  },
  {
   "cell_type": "code",
   "execution_count": 24,
   "id": "8085338d",
   "metadata": {},
   "outputs": [],
   "source": [
    "#Sort the data on the basis of net amount of electricity generated irrespective of the source."
   ]
  },
  {
   "cell_type": "code",
   "execution_count": 25,
   "id": "72e766ac",
   "metadata": {},
   "outputs": [
    {
     "data": {
      "text/plain": [
       "array(['Value', '135451.32', '154519.994', ..., '401363.186',\n",
       "       '359300.603', '321921.812'], dtype='<U80')"
      ]
     },
     "execution_count": 25,
     "metadata": {},
     "output_type": "execute_result"
    }
   ],
   "source": [
    "data[0:,2]"
   ]
  },
  {
   "cell_type": "code",
   "execution_count": 26,
   "id": "271c4c55",
   "metadata": {},
   "outputs": [],
   "source": [
    "cnd_of_slec = data[0:,2]!= 'Not Available'"
   ]
  },
  {
   "cell_type": "code",
   "execution_count": 27,
   "id": "d138eaff",
   "metadata": {},
   "outputs": [
    {
     "data": {
      "text/plain": [
       "array([ True,  True,  True, ...,  True,  True,  True])"
      ]
     },
     "execution_count": 27,
     "metadata": {},
     "output_type": "execute_result"
    }
   ],
   "source": [
    "cnd_of_slec"
   ]
  },
  {
   "cell_type": "code",
   "execution_count": 28,
   "id": "b5d6f32b",
   "metadata": {},
   "outputs": [
    {
     "data": {
      "text/plain": [
       "(8217,)"
      ]
     },
     "execution_count": 28,
     "metadata": {},
     "output_type": "execute_result"
    }
   ],
   "source": [
    "cnd_of_slec.shape"
   ]
  },
  {
   "cell_type": "code",
   "execution_count": 29,
   "id": "0f2c34c1",
   "metadata": {},
   "outputs": [],
   "source": [
    "x = data[cnd_of_slec]"
   ]
  },
  {
   "cell_type": "code",
   "execution_count": 30,
   "id": "4872261e",
   "metadata": {},
   "outputs": [
    {
     "data": {
      "text/plain": [
       "(7387, 6)"
      ]
     },
     "execution_count": 30,
     "metadata": {},
     "output_type": "execute_result"
    }
   ],
   "source": [
    "x.shape"
   ]
  },
  {
   "cell_type": "code",
   "execution_count": 31,
   "id": "bab17471",
   "metadata": {},
   "outputs": [
    {
     "data": {
      "text/plain": [
       "array([  -8823.445,   -8742.928,   -8535.065, ..., 4125059.9  ,\n",
       "       4156744.724, 4174397.655])"
      ]
     },
     "execution_count": 31,
     "metadata": {},
     "output_type": "execute_result"
    }
   ],
   "source": [
    "np.sort(x[1:,2].astype(float))"
   ]
  },
  {
   "cell_type": "code",
   "execution_count": 32,
   "id": "a2638126",
   "metadata": {},
   "outputs": [],
   "source": [
    "r = x[1:,2].astype(float)"
   ]
  },
  {
   "cell_type": "code",
   "execution_count": 33,
   "id": "524aba16",
   "metadata": {},
   "outputs": [
    {
     "data": {
      "text/plain": [
       "(7386,)"
      ]
     },
     "execution_count": 33,
     "metadata": {},
     "output_type": "execute_result"
    }
   ],
   "source": [
    "r.shape"
   ]
  },
  {
   "cell_type": "markdown",
   "id": "47a5ddd2",
   "metadata": {},
   "source": [
    "### 10\n",
    "#Print the Total Energy generated in the USA till date."
   ]
  },
  {
   "cell_type": "code",
   "execution_count": 34,
   "id": "1b2756d7",
   "metadata": {},
   "outputs": [
    {
     "data": {
      "text/plain": [
       "array([135451.32 , 154519.994, 185203.657, ..., 401363.186, 359300.603,\n",
       "       321921.812])"
      ]
     },
     "execution_count": 34,
     "metadata": {},
     "output_type": "execute_result"
    }
   ],
   "source": [
    "r"
   ]
  },
  {
   "cell_type": "code",
   "execution_count": 35,
   "id": "fed7d6dc",
   "metadata": {},
   "outputs": [
    {
     "data": {
      "text/plain": [
       "642969289.517"
      ]
     },
     "execution_count": 35,
     "metadata": {},
     "output_type": "execute_result"
    }
   ],
   "source": [
    "np.sum(r)"
   ]
  },
  {
   "cell_type": "code",
   "execution_count": 36,
   "id": "03cd4131",
   "metadata": {},
   "outputs": [],
   "source": [
    "a= data[0:,2]"
   ]
  },
  {
   "cell_type": "code",
   "execution_count": 37,
   "id": "7ea1b904",
   "metadata": {},
   "outputs": [
    {
     "data": {
      "text/plain": [
       "array(['-0.001', '-0.004', '-0.009', ..., 'Not Available',\n",
       "       'Not Available', 'Value'], dtype='<U80')"
      ]
     },
     "execution_count": 37,
     "metadata": {},
     "output_type": "execute_result"
    }
   ],
   "source": [
    "np.sort(a) #desending sort"
   ]
  },
  {
   "cell_type": "markdown",
   "id": "615feb4d",
   "metadata": {},
   "source": [
    "# 8"
   ]
  },
  {
   "cell_type": "code",
   "execution_count": 38,
   "id": "ddb771d4",
   "metadata": {},
   "outputs": [],
   "source": [
    "#Print all the unique sources of Energy generation present in the dataset."
   ]
  },
  {
   "cell_type": "code",
   "execution_count": 39,
   "id": "6acd108b",
   "metadata": {},
   "outputs": [
    {
     "data": {
      "text/plain": [
       "array(['Description', 'Electricity Net Generation From Coal, All Sectors',\n",
       "       'Electricity Net Generation From Coal, All Sectors', ...,\n",
       "       'Electricity Net Generation Total (including from sources not shown), All Sectors',\n",
       "       'Electricity Net Generation Total (including from sources not shown), All Sectors',\n",
       "       'Electricity Net Generation Total (including from sources not shown), All Sectors'],\n",
       "      dtype='<U80')"
      ]
     },
     "execution_count": 39,
     "metadata": {},
     "output_type": "execute_result"
    }
   ],
   "source": [
    "data[0:,4]"
   ]
  },
  {
   "cell_type": "code",
   "execution_count": 40,
   "id": "b828c4b3",
   "metadata": {},
   "outputs": [],
   "source": [
    "a = data[0:,4]"
   ]
  },
  {
   "cell_type": "code",
   "execution_count": 41,
   "id": "b8af09ce",
   "metadata": {},
   "outputs": [
    {
     "data": {
      "text/plain": [
       "(14,)"
      ]
     },
     "execution_count": 41,
     "metadata": {},
     "output_type": "execute_result"
    }
   ],
   "source": [
    "np.unique(a).shape"
   ]
  },
  {
   "cell_type": "code",
   "execution_count": 42,
   "id": "7af862d3",
   "metadata": {},
   "outputs": [
    {
     "data": {
      "text/plain": [
       "array(['Description', 'Electricity Net Generation From Coal, All Sectors',\n",
       "       'Electricity Net Generation From Conventional Hydroelectric Power, All Sectors',\n",
       "       'Electricity Net Generation From Geothermal, All Sectors',\n",
       "       'Electricity Net Generation From Hydroelectric Pumped Storage, All Sectors',\n",
       "       'Electricity Net Generation From Natural Gas, All Sectors',\n",
       "       'Electricity Net Generation From Nuclear Electric Power, All Sectors',\n",
       "       'Electricity Net Generation From Other Gases, All Sectors',\n",
       "       'Electricity Net Generation From Petroleum, All Sectors',\n",
       "       'Electricity Net Generation From Solar, All Sectors',\n",
       "       'Electricity Net Generation From Waste, All Sectors',\n",
       "       'Electricity Net Generation From Wind, All Sectors',\n",
       "       'Electricity Net Generation From Wood, All Sectors',\n",
       "       'Electricity Net Generation Total (including from sources not shown), All Sectors'],\n",
       "      dtype='<U80')"
      ]
     },
     "execution_count": 42,
     "metadata": {},
     "output_type": "execute_result"
    }
   ],
   "source": [
    "np.unique(a)"
   ]
  },
  {
   "cell_type": "markdown",
   "id": "1e2dccb0",
   "metadata": {},
   "source": [
    "# 9  \n",
    "#Print all the details(annual) where the energy source is Wind Energy."
   ]
  },
  {
   "cell_type": "code",
   "execution_count": 43,
   "id": "0e1794a1",
   "metadata": {},
   "outputs": [
    {
     "data": {
      "text/plain": [
       "(7387, 6)"
      ]
     },
     "execution_count": 43,
     "metadata": {},
     "output_type": "execute_result"
    }
   ],
   "source": [
    "x.shape"
   ]
  },
  {
   "cell_type": "code",
   "execution_count": 44,
   "id": "eb3f3a41",
   "metadata": {},
   "outputs": [],
   "source": [
    "h =x[1:]"
   ]
  },
  {
   "cell_type": "code",
   "execution_count": 45,
   "id": "24f028cb",
   "metadata": {},
   "outputs": [],
   "source": [
    "y = x[1:,1]"
   ]
  },
  {
   "cell_type": "code",
   "execution_count": 46,
   "id": "b414d524",
   "metadata": {},
   "outputs": [
    {
     "data": {
      "text/plain": [
       "array([194913, 195013, 195113, ..., 201908, 201909, 201910])"
      ]
     },
     "execution_count": 46,
     "metadata": {},
     "output_type": "execute_result"
    }
   ],
   "source": [
    "y.astype(int)"
   ]
  },
  {
   "cell_type": "code",
   "execution_count": 47,
   "id": "8007f06a",
   "metadata": {},
   "outputs": [],
   "source": [
    "time = np.mod(y.astype(int),100)==13"
   ]
  },
  {
   "cell_type": "code",
   "execution_count": 48,
   "id": "7209876e",
   "metadata": {},
   "outputs": [
    {
     "data": {
      "text/plain": [
       "(7386,)"
      ]
     },
     "execution_count": 48,
     "metadata": {},
     "output_type": "execute_result"
    }
   ],
   "source": [
    "time.shape"
   ]
  },
  {
   "cell_type": "code",
   "execution_count": 49,
   "id": "fd6f75a3",
   "metadata": {},
   "outputs": [],
   "source": [
    "u = h[time]"
   ]
  },
  {
   "cell_type": "code",
   "execution_count": 50,
   "id": "337cfc39",
   "metadata": {},
   "outputs": [
    {
     "data": {
      "text/plain": [
       "(728, 6)"
      ]
     },
     "execution_count": 50,
     "metadata": {},
     "output_type": "execute_result"
    }
   ],
   "source": [
    "u.shape"
   ]
  },
  {
   "cell_type": "code",
   "execution_count": 51,
   "id": "e9db0e84",
   "metadata": {},
   "outputs": [
    {
     "data": {
      "text/plain": [
       "array([['CLETPUS', '194913', '135451.32', '1',\n",
       "        'Electricity Net Generation From Coal, All Sectors',\n",
       "        'Million Kilowatthours'],\n",
       "       ['CLETPUS', '195013', '154519.994', '1',\n",
       "        'Electricity Net Generation From Coal, All Sectors',\n",
       "        'Million Kilowatthours'],\n",
       "       ['CLETPUS', '195113', '185203.657', '1',\n",
       "        'Electricity Net Generation From Coal, All Sectors',\n",
       "        'Million Kilowatthours'],\n",
       "       ...,\n",
       "       ['ELETPUS', '201613', '4076674.984', '13',\n",
       "        'Electricity Net Generation Total (including from sources not shown), All Sectors',\n",
       "        'Million Kilowatthours'],\n",
       "       ['ELETPUS', '201713', '4034270.522', '13',\n",
       "        'Electricity Net Generation Total (including from sources not shown), All Sectors',\n",
       "        'Million Kilowatthours'],\n",
       "       ['ELETPUS', '201813', '4174397.655', '13',\n",
       "        'Electricity Net Generation Total (including from sources not shown), All Sectors',\n",
       "        'Million Kilowatthours']], dtype='<U80')"
      ]
     },
     "execution_count": 51,
     "metadata": {},
     "output_type": "execute_result"
    }
   ],
   "source": [
    "u"
   ]
  },
  {
   "cell_type": "code",
   "execution_count": 52,
   "id": "9dee68cf",
   "metadata": {},
   "outputs": [],
   "source": [
    "wind_enr = u[:,4]=='Electricity Net Generation From Wind, All Sectors'"
   ]
  },
  {
   "cell_type": "code",
   "execution_count": 53,
   "id": "5c0fc753",
   "metadata": {},
   "outputs": [
    {
     "data": {
      "text/plain": [
       "(728,)"
      ]
     },
     "execution_count": 53,
     "metadata": {},
     "output_type": "execute_result"
    }
   ],
   "source": [
    "wind_enr.shape"
   ]
  },
  {
   "cell_type": "code",
   "execution_count": 54,
   "id": "d06c9711",
   "metadata": {},
   "outputs": [],
   "source": [
    "WE = u[wind_enr]"
   ]
  },
  {
   "cell_type": "code",
   "execution_count": 55,
   "id": "60508ced",
   "metadata": {},
   "outputs": [
    {
     "data": {
      "text/plain": [
       "array([['WYETPUS', '198313', '2.668', '12',\n",
       "        'Electricity Net Generation From Wind, All Sectors',\n",
       "        'Million Kilowatthours'],\n",
       "       ['WYETPUS', '198413', '6.49', '12',\n",
       "        'Electricity Net Generation From Wind, All Sectors',\n",
       "        'Million Kilowatthours'],\n",
       "       ['WYETPUS', '198513', '5.762', '12',\n",
       "        'Electricity Net Generation From Wind, All Sectors',\n",
       "        'Million Kilowatthours'],\n",
       "       ['WYETPUS', '198613', '4.189', '12',\n",
       "        'Electricity Net Generation From Wind, All Sectors',\n",
       "        'Million Kilowatthours'],\n",
       "       ['WYETPUS', '198713', '3.541', '12',\n",
       "        'Electricity Net Generation From Wind, All Sectors',\n",
       "        'Million Kilowatthours'],\n",
       "       ['WYETPUS', '198813', '0.871', '12',\n",
       "        'Electricity Net Generation From Wind, All Sectors',\n",
       "        'Million Kilowatthours'],\n",
       "       ['WYETPUS', '198913', '2112.043', '12',\n",
       "        'Electricity Net Generation From Wind, All Sectors',\n",
       "        'Million Kilowatthours'],\n",
       "       ['WYETPUS', '199013', '2788.6', '12',\n",
       "        'Electricity Net Generation From Wind, All Sectors',\n",
       "        'Million Kilowatthours'],\n",
       "       ['WYETPUS', '199113', '2950.951', '12',\n",
       "        'Electricity Net Generation From Wind, All Sectors',\n",
       "        'Million Kilowatthours'],\n",
       "       ['WYETPUS', '199213', '2887.523', '12',\n",
       "        'Electricity Net Generation From Wind, All Sectors',\n",
       "        'Million Kilowatthours'],\n",
       "       ['WYETPUS', '199313', '3005.827', '12',\n",
       "        'Electricity Net Generation From Wind, All Sectors',\n",
       "        'Million Kilowatthours'],\n",
       "       ['WYETPUS', '199413', '3447.109', '12',\n",
       "        'Electricity Net Generation From Wind, All Sectors',\n",
       "        'Million Kilowatthours'],\n",
       "       ['WYETPUS', '199513', '3164.253', '12',\n",
       "        'Electricity Net Generation From Wind, All Sectors',\n",
       "        'Million Kilowatthours'],\n",
       "       ['WYETPUS', '199613', '3234.069', '12',\n",
       "        'Electricity Net Generation From Wind, All Sectors',\n",
       "        'Million Kilowatthours'],\n",
       "       ['WYETPUS', '199713', '3288.035', '12',\n",
       "        'Electricity Net Generation From Wind, All Sectors',\n",
       "        'Million Kilowatthours'],\n",
       "       ['WYETPUS', '199813', '3025.696', '12',\n",
       "        'Electricity Net Generation From Wind, All Sectors',\n",
       "        'Million Kilowatthours'],\n",
       "       ['WYETPUS', '199913', '4487.998', '12',\n",
       "        'Electricity Net Generation From Wind, All Sectors',\n",
       "        'Million Kilowatthours'],\n",
       "       ['WYETPUS', '200013', '5593.261', '12',\n",
       "        'Electricity Net Generation From Wind, All Sectors',\n",
       "        'Million Kilowatthours'],\n",
       "       ['WYETPUS', '200113', '6737.331', '12',\n",
       "        'Electricity Net Generation From Wind, All Sectors',\n",
       "        'Million Kilowatthours'],\n",
       "       ['WYETPUS', '200213', '10354.28', '12',\n",
       "        'Electricity Net Generation From Wind, All Sectors',\n",
       "        'Million Kilowatthours'],\n",
       "       ['WYETPUS', '200313', '11187.466', '12',\n",
       "        'Electricity Net Generation From Wind, All Sectors',\n",
       "        'Million Kilowatthours'],\n",
       "       ['WYETPUS', '200413', '14143.741', '12',\n",
       "        'Electricity Net Generation From Wind, All Sectors',\n",
       "        'Million Kilowatthours'],\n",
       "       ['WYETPUS', '200513', '17810.549', '12',\n",
       "        'Electricity Net Generation From Wind, All Sectors',\n",
       "        'Million Kilowatthours'],\n",
       "       ['WYETPUS', '200613', '26589.137', '12',\n",
       "        'Electricity Net Generation From Wind, All Sectors',\n",
       "        'Million Kilowatthours'],\n",
       "       ['WYETPUS', '200713', '34449.927', '12',\n",
       "        'Electricity Net Generation From Wind, All Sectors',\n",
       "        'Million Kilowatthours'],\n",
       "       ['WYETPUS', '200813', '55363.1', '12',\n",
       "        'Electricity Net Generation From Wind, All Sectors',\n",
       "        'Million Kilowatthours'],\n",
       "       ['WYETPUS', '200913', '73886.132', '12',\n",
       "        'Electricity Net Generation From Wind, All Sectors',\n",
       "        'Million Kilowatthours'],\n",
       "       ['WYETPUS', '201013', '94652.246', '12',\n",
       "        'Electricity Net Generation From Wind, All Sectors',\n",
       "        'Million Kilowatthours'],\n",
       "       ['WYETPUS', '201113', '120176.599', '12',\n",
       "        'Electricity Net Generation From Wind, All Sectors',\n",
       "        'Million Kilowatthours'],\n",
       "       ['WYETPUS', '201213', '140821.703', '12',\n",
       "        'Electricity Net Generation From Wind, All Sectors',\n",
       "        'Million Kilowatthours'],\n",
       "       ['WYETPUS', '201313', '167839.745', '12',\n",
       "        'Electricity Net Generation From Wind, All Sectors',\n",
       "        'Million Kilowatthours'],\n",
       "       ['WYETPUS', '201413', '181655.282', '12',\n",
       "        'Electricity Net Generation From Wind, All Sectors',\n",
       "        'Million Kilowatthours'],\n",
       "       ['WYETPUS', '201513', '190718.548', '12',\n",
       "        'Electricity Net Generation From Wind, All Sectors',\n",
       "        'Million Kilowatthours'],\n",
       "       ['WYETPUS', '201613', '226992.562', '12',\n",
       "        'Electricity Net Generation From Wind, All Sectors',\n",
       "        'Million Kilowatthours'],\n",
       "       ['WYETPUS', '201713', '254302.662', '12',\n",
       "        'Electricity Net Generation From Wind, All Sectors',\n",
       "        'Million Kilowatthours'],\n",
       "       ['WYETPUS', '201813', '272649.789', '12',\n",
       "        'Electricity Net Generation From Wind, All Sectors',\n",
       "        'Million Kilowatthours']], dtype='<U80')"
      ]
     },
     "execution_count": 55,
     "metadata": {},
     "output_type": "execute_result"
    }
   ],
   "source": [
    "WE"
   ]
  },
  {
   "cell_type": "code",
   "execution_count": 56,
   "id": "d74810b8",
   "metadata": {},
   "outputs": [],
   "source": [
    "n = WE[0:,2].astype(float)"
   ]
  },
  {
   "cell_type": "code",
   "execution_count": 57,
   "id": "5028c659",
   "metadata": {},
   "outputs": [
    {
     "data": {
      "text/plain": [
       "(36,)"
      ]
     },
     "execution_count": 57,
     "metadata": {},
     "output_type": "execute_result"
    }
   ],
   "source": [
    "n.shape"
   ]
  },
  {
   "cell_type": "code",
   "execution_count": 58,
   "id": "7996514f",
   "metadata": {},
   "outputs": [
    {
     "data": {
      "text/plain": [
       "1940339.685"
      ]
     },
     "execution_count": 58,
     "metadata": {},
     "output_type": "execute_result"
    }
   ],
   "source": [
    "np.sum(n) #Sum of wind energy source"
   ]
  },
  {
   "cell_type": "markdown",
   "id": "ec2819cd",
   "metadata": {},
   "source": [
    "### 11 \n",
    "#Print the average annual energy generated from wind in the USA and also the standard\n",
    "deviation present in the energy generation."
   ]
  },
  {
   "cell_type": "code",
   "execution_count": 59,
   "id": "b1372105",
   "metadata": {},
   "outputs": [
    {
     "data": {
      "text/plain": [
       "1940339.685"
      ]
     },
     "execution_count": 59,
     "metadata": {},
     "output_type": "execute_result"
    }
   ],
   "source": [
    "np.sum(n) #Sum of wind energy source"
   ]
  },
  {
   "cell_type": "code",
   "execution_count": 60,
   "id": "bc609034",
   "metadata": {},
   "outputs": [
    {
     "data": {
      "text/plain": [
       "81322.74833843806"
      ]
     },
     "execution_count": 60,
     "metadata": {},
     "output_type": "execute_result"
    }
   ],
   "source": [
    "np.std(n)"
   ]
  }
 ],
 "metadata": {
  "kernelspec": {
   "display_name": "Python 3",
   "language": "python",
   "name": "python3"
  },
  "language_info": {
   "codemirror_mode": {
    "name": "ipython",
    "version": 3
   },
   "file_extension": ".py",
   "mimetype": "text/x-python",
   "name": "python",
   "nbconvert_exporter": "python",
   "pygments_lexer": "ipython3",
   "version": "3.8.8"
  }
 },
 "nbformat": 4,
 "nbformat_minor": 5
}
