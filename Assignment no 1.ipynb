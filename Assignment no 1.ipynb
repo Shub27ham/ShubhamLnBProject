{
 "cells": [
  {
   "cell_type": "markdown",
   "id": "9789b22b",
   "metadata": {},
   "source": [
    "# Calculator"
   ]
  },
  {
   "cell_type": "code",
   "execution_count": 1,
   "id": "0fa175e2",
   "metadata": {},
   "outputs": [
    {
     "name": "stdout",
     "output_type": "stream",
     "text": [
      "the first number is: 52\n"
     ]
    }
   ],
   "source": [
    "p =int(input(\"the first number is: \"))"
   ]
  },
  {
   "cell_type": "code",
   "execution_count": 2,
   "id": "acf43717",
   "metadata": {},
   "outputs": [
    {
     "name": "stdout",
     "output_type": "stream",
     "text": [
      "second no is:4\n"
     ]
    }
   ],
   "source": [
    "q =int(input(\"second no is:\"))"
   ]
  },
  {
   "cell_type": "code",
   "execution_count": 3,
   "id": "15873cb4",
   "metadata": {},
   "outputs": [
    {
     "name": "stdout",
     "output_type": "stream",
     "text": [
      "third no is:15.6\n"
     ]
    }
   ],
   "source": [
    "r = float(input(\"third no is:\"))"
   ]
  },
  {
   "cell_type": "markdown",
   "id": "c250235b",
   "metadata": {},
   "source": [
    "### 1. Summation"
   ]
  },
  {
   "cell_type": "code",
   "execution_count": 4,
   "id": "b466ce00",
   "metadata": {},
   "outputs": [
    {
     "name": "stdout",
     "output_type": "stream",
     "text": [
      "sum of the number is: 56\n"
     ]
    }
   ],
   "source": [
    "print(\"sum of the number is:\", p+q)"
   ]
  },
  {
   "cell_type": "code",
   "execution_count": 5,
   "id": "a172b820",
   "metadata": {},
   "outputs": [
    {
     "name": "stdout",
     "output_type": "stream",
     "text": [
      "sum of the number is: 67.6\n"
     ]
    }
   ],
   "source": [
    "print(\"sum of the number is:\", p+r)"
   ]
  },
  {
   "cell_type": "code",
   "execution_count": 6,
   "id": "48ff4248",
   "metadata": {},
   "outputs": [
    {
     "name": "stdout",
     "output_type": "stream",
     "text": [
      "sum of the number is: 19.6\n"
     ]
    }
   ],
   "source": [
    "print(\"sum of the number is:\", r+q)"
   ]
  },
  {
   "cell_type": "code",
   "execution_count": 7,
   "id": "eaae21ac",
   "metadata": {},
   "outputs": [
    {
     "name": "stdout",
     "output_type": "stream",
     "text": [
      "sum of all the number is: 71.6\n"
     ]
    }
   ],
   "source": [
    "print(\"sum of all the number is:\", p+r+q)"
   ]
  },
  {
   "cell_type": "markdown",
   "id": "6365d5b3",
   "metadata": {},
   "source": [
    "### 2. Subtraction"
   ]
  },
  {
   "cell_type": "code",
   "execution_count": 8,
   "id": "2baac022",
   "metadata": {},
   "outputs": [
    {
     "name": "stdout",
     "output_type": "stream",
     "text": [
      "subtraction of the number is: 48\n"
     ]
    }
   ],
   "source": [
    "print(\"subtraction of the number is:\", p-q)"
   ]
  },
  {
   "cell_type": "code",
   "execution_count": 9,
   "id": "15690191",
   "metadata": {},
   "outputs": [
    {
     "name": "stdout",
     "output_type": "stream",
     "text": [
      "subtraction of the number is: 36.4\n"
     ]
    }
   ],
   "source": [
    "print(\"subtraction of the number is:\", p-r)"
   ]
  },
  {
   "cell_type": "code",
   "execution_count": 10,
   "id": "5882ecba",
   "metadata": {},
   "outputs": [
    {
     "name": "stdout",
     "output_type": "stream",
     "text": [
      "subtraction of the number is: -11.6\n"
     ]
    }
   ],
   "source": [
    "print(\"subtraction of the number is:\", q-r)"
   ]
  },
  {
   "cell_type": "markdown",
   "id": "79392ad1",
   "metadata": {},
   "source": [
    "### 3. Multiplication"
   ]
  },
  {
   "cell_type": "code",
   "execution_count": 11,
   "id": "dfb5877a",
   "metadata": {},
   "outputs": [
    {
     "name": "stdout",
     "output_type": "stream",
     "text": [
      "multiplication of the number is: 208\n"
     ]
    }
   ],
   "source": [
    "print(\"multiplication of the number is:\", p*q)"
   ]
  },
  {
   "cell_type": "code",
   "execution_count": 12,
   "id": "43a695a4",
   "metadata": {},
   "outputs": [
    {
     "name": "stdout",
     "output_type": "stream",
     "text": [
      "multiplication of the number is: 811.1999999999999\n"
     ]
    }
   ],
   "source": [
    "print(\"multiplication of the number is:\", p*r)"
   ]
  },
  {
   "cell_type": "code",
   "execution_count": 13,
   "id": "d4265e97",
   "metadata": {},
   "outputs": [
    {
     "name": "stdout",
     "output_type": "stream",
     "text": [
      "multiplication of the number is: 62.4\n"
     ]
    }
   ],
   "source": [
    "print(\"multiplication of the number is:\", r*q)"
   ]
  },
  {
   "cell_type": "code",
   "execution_count": 14,
   "id": "17ddd2fa",
   "metadata": {},
   "outputs": [
    {
     "name": "stdout",
     "output_type": "stream",
     "text": [
      "multiplication of all the number is: 3244.7999999999997\n"
     ]
    }
   ],
   "source": [
    "print(\"multiplication of all the number is:\", p*r*q)"
   ]
  },
  {
   "cell_type": "markdown",
   "id": "edaf9d95",
   "metadata": {},
   "source": [
    "### 4. Division"
   ]
  },
  {
   "cell_type": "code",
   "execution_count": 15,
   "id": "a8b1a2a2",
   "metadata": {},
   "outputs": [
    {
     "name": "stdout",
     "output_type": "stream",
     "text": [
      "devision of the number is: 13.0\n"
     ]
    }
   ],
   "source": [
    "print(\"devision of the number is:\", p/q)"
   ]
  },
  {
   "cell_type": "code",
   "execution_count": 16,
   "id": "444d2c87",
   "metadata": {},
   "outputs": [
    {
     "name": "stdout",
     "output_type": "stream",
     "text": [
      "devision of the number is: 0.25641025641025644\n"
     ]
    }
   ],
   "source": [
    "print(\"devision of the number is:\", q/r)"
   ]
  },
  {
   "cell_type": "code",
   "execution_count": 17,
   "id": "9ea03fe4",
   "metadata": {},
   "outputs": [
    {
     "name": "stdout",
     "output_type": "stream",
     "text": [
      "devision of the number is: 3.3333333333333335\n"
     ]
    }
   ],
   "source": [
    "print(\"devision of the number is:\", p/r)"
   ]
  },
  {
   "cell_type": "markdown",
   "id": "43ec231a",
   "metadata": {},
   "source": [
    "### 5. Average"
   ]
  },
  {
   "cell_type": "code",
   "execution_count": 18,
   "id": "d4958246",
   "metadata": {},
   "outputs": [
    {
     "name": "stdout",
     "output_type": "stream",
     "text": [
      "average of three number is: 23.866666666666664\n"
     ]
    }
   ],
   "source": [
    "print(\"average of three number is:\", (p+q+r)/3)"
   ]
  },
  {
   "cell_type": "code",
   "execution_count": 19,
   "id": "5e64620a",
   "metadata": {},
   "outputs": [
    {
     "name": "stdout",
     "output_type": "stream",
     "text": [
      "average of three number is: 24\n"
     ]
    }
   ],
   "source": [
    "print(\"average of three number is:\", round((p+q+r)/3))"
   ]
  },
  {
   "cell_type": "markdown",
   "id": "baca054c",
   "metadata": {},
   "source": [
    "### 6. Remainder"
   ]
  },
  {
   "cell_type": "code",
   "execution_count": 20,
   "id": "16cea294",
   "metadata": {},
   "outputs": [
    {
     "name": "stdout",
     "output_type": "stream",
     "text": [
      "remainder of the number is: 0\n"
     ]
    }
   ],
   "source": [
    "print(\"remainder of the number is:\", p%q)"
   ]
  },
  {
   "cell_type": "code",
   "execution_count": 21,
   "id": "77e393b1",
   "metadata": {},
   "outputs": [
    {
     "name": "stdout",
     "output_type": "stream",
     "text": [
      "remainder of the number is: 5.200000000000001\n"
     ]
    }
   ],
   "source": [
    "print(\"remainder of the number is:\", p%r)"
   ]
  },
  {
   "cell_type": "code",
   "execution_count": 22,
   "id": "4b037a06",
   "metadata": {},
   "outputs": [
    {
     "name": "stdout",
     "output_type": "stream",
     "text": [
      "remainder of the number is: 4.0\n"
     ]
    }
   ],
   "source": [
    "print(\"remainder of the number is:\", q%r)"
   ]
  },
  {
   "cell_type": "markdown",
   "id": "2f035db6",
   "metadata": {},
   "source": [
    "### 7. Ceil calculation"
   ]
  },
  {
   "cell_type": "code",
   "execution_count": 23,
   "id": "894e1d4b",
   "metadata": {},
   "outputs": [
    {
     "name": "stdout",
     "output_type": "stream",
     "text": [
      "ceil value of the number is: 13\n"
     ]
    }
   ],
   "source": [
    "print(\"ceil value of the number is:\", -(-p//q))"
   ]
  },
  {
   "cell_type": "code",
   "execution_count": 24,
   "id": "190e6bcc",
   "metadata": {},
   "outputs": [
    {
     "name": "stdout",
     "output_type": "stream",
     "text": [
      "ceil value of the number is: 4.0\n"
     ]
    }
   ],
   "source": [
    "print(\"ceil value of the number is:\", -(-p//r))"
   ]
  },
  {
   "cell_type": "code",
   "execution_count": 25,
   "id": "e5594933",
   "metadata": {},
   "outputs": [
    {
     "name": "stdout",
     "output_type": "stream",
     "text": [
      "ceil value of the number is: 1.0\n"
     ]
    }
   ],
   "source": [
    "print(\"ceil value of the number is:\", -(-q//r))"
   ]
  },
  {
   "cell_type": "code",
   "execution_count": 26,
   "id": "f50bf150",
   "metadata": {},
   "outputs": [
    {
     "name": "stdout",
     "output_type": "stream",
     "text": [
      "ceil value of the number is: 1.0\n"
     ]
    }
   ],
   "source": [
    "print(\"ceil value of the number is:\", -(-r//p))"
   ]
  },
  {
   "cell_type": "code",
   "execution_count": 27,
   "id": "e52726e6",
   "metadata": {},
   "outputs": [
    {
     "name": "stdout",
     "output_type": "stream",
     "text": [
      "ceil value of the number is: 1\n"
     ]
    }
   ],
   "source": [
    "print(\"ceil value of the number is:\", -(-q//p))"
   ]
  },
  {
   "cell_type": "markdown",
   "id": "9e4bdf80",
   "metadata": {},
   "source": [
    "### Floor Calculation"
   ]
  },
  {
   "cell_type": "code",
   "execution_count": 28,
   "id": "46e30601",
   "metadata": {},
   "outputs": [
    {
     "name": "stdout",
     "output_type": "stream",
     "text": [
      "Floor value of the number is: 13\n"
     ]
    }
   ],
   "source": [
    "print(\"Floor value of the number is:\", p//q)"
   ]
  },
  {
   "cell_type": "code",
   "execution_count": 29,
   "id": "a505be7c",
   "metadata": {},
   "outputs": [
    {
     "name": "stdout",
     "output_type": "stream",
     "text": [
      "Floor value of the number is: 3.0\n"
     ]
    }
   ],
   "source": [
    "print(\"Floor value of the number is:\", p//r)"
   ]
  },
  {
   "cell_type": "code",
   "execution_count": 30,
   "id": "70220254",
   "metadata": {},
   "outputs": [
    {
     "name": "stdout",
     "output_type": "stream",
     "text": [
      "Floor value of the number is: 0.0\n"
     ]
    }
   ],
   "source": [
    "print(\"Floor value of the number is:\", q//r)"
   ]
  },
  {
   "cell_type": "code",
   "execution_count": 31,
   "id": "f0f23531",
   "metadata": {},
   "outputs": [
    {
     "name": "stdout",
     "output_type": "stream",
     "text": [
      "Floor value of the number is: 0.0\n"
     ]
    }
   ],
   "source": [
    "print(\"Floor value of the number is:\", r//p)"
   ]
  },
  {
   "cell_type": "code",
   "execution_count": 32,
   "id": "dd98e71f",
   "metadata": {},
   "outputs": [
    {
     "name": "stdout",
     "output_type": "stream",
     "text": [
      "Floor value of the number is: 0\n"
     ]
    }
   ],
   "source": [
    "print(\"Floor value of the number is:\", q//p)"
   ]
  },
  {
   "cell_type": "code",
   "execution_count": null,
   "id": "49306cf6",
   "metadata": {},
   "outputs": [],
   "source": []
  }
 ],
 "metadata": {
  "kernelspec": {
   "display_name": "Python 3",
   "language": "python",
   "name": "python3"
  },
  "language_info": {
   "codemirror_mode": {
    "name": "ipython",
    "version": 3
   },
   "file_extension": ".py",
   "mimetype": "text/x-python",
   "name": "python",
   "nbconvert_exporter": "python",
   "pygments_lexer": "ipython3",
   "version": "3.8.8"
  }
 },
 "nbformat": 4,
 "nbformat_minor": 5
}
